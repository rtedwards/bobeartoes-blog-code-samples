{
 "cells": [
  {
   "cell_type": "code",
   "execution_count": 1,
   "id": "6052b9ac-72e8-45aa-a8ff-0a178ce2b03e",
   "metadata": {},
   "outputs": [],
   "source": [
    "using VegaLite, VegaDatasets"
   ]
  },
  {
   "cell_type": "code",
   "execution_count": 22,
   "id": "6968f139-40a8-4fbc-9ac7-9236ca02b53c",
   "metadata": {},
   "outputs": [
    {
     "data": {
      "application/vnd.vega.v5+json": {
       "$schema": "https://vega.github.io/schema/vega/v5.json",
       "axes": [
        {
         "aria": false,
         "domain": false,
         "grid": true,
         "gridScale": "y",
         "labels": false,
         "maxExtent": 0,
         "minExtent": 0,
         "orient": "bottom",
         "scale": "x",
         "tickCount": {
          "signal": "ceil(width/40)"
         },
         "ticks": false,
         "zindex": 0
        },
        {
         "aria": false,
         "domain": false,
         "grid": true,
         "gridScale": "x",
         "labels": false,
         "maxExtent": 0,
         "minExtent": 0,
         "orient": "left",
         "scale": "y",
         "tickCount": {
          "signal": "ceil(height/40)"
         },
         "ticks": false,
         "zindex": 0
        },
        {
         "grid": false,
         "labelFlush": true,
         "labelOverlap": true,
         "orient": "bottom",
         "scale": "x",
         "tickCount": {
          "signal": "ceil(width/40)"
         },
         "title": "Horsepower",
         "zindex": 0
        },
        {
         "grid": false,
         "labelOverlap": true,
         "orient": "left",
         "scale": "y",
         "tickCount": {
          "signal": "ceil(height/40)"
         },
         "title": "Miles_per_Gallon",
         "zindex": 0
        }
       ],
       "background": "white",
       "data": [
        {
         "name": "source_0",
         "values": [
          {
           "Acceleration": 12,
           "Cylinders": 8,
           "Displacement": 307,
           "Horsepower": 130,
           "Miles_per_Gallon": 18,
           "Name": "chevrolet chevelle malibu",
           "Origin": "USA",
           "Weight_in_lbs": 3504,
           "Year": "1970-01-01"
          },
          {
           "Acceleration": 11.5,
           "Cylinders": 8,
           "Displacement": 350,
           "Horsepower": 165,
           "Miles_per_Gallon": 15,
           "Name": "buick skylark 320",
           "Origin": "USA",
           "Weight_in_lbs": 3693,
           "Year": "1970-01-01"
          },
          {
           "Acceleration": 11,
           "Cylinders": 8,
           "Displacement": 318,
           "Horsepower": 150,
           "Miles_per_Gallon": 18,
           "Name": "plymouth satellite",
           "Origin": "USA",
           "Weight_in_lbs": 3436,
           "Year": "1970-01-01"
          },
          {
           "Acceleration": 12,
           "Cylinders": 8,
           "Displacement": 304,
           "Horsepower": 150,
           "Miles_per_Gallon": 16,
           "Name": "amc rebel sst",
           "Origin": "USA",
           "Weight_in_lbs": 3433,
           "Year": "1970-01-01"
          },
          {
           "Acceleration": 10.5,
           "Cylinders": 8,
           "Displacement": 302,
           "Horsepower": 140,
           "Miles_per_Gallon": 17,
           "Name": "ford torino",
           "Origin": "USA",
           "Weight_in_lbs": 3449,
           "Year": "1970-01-01"
          },
          {
           "Acceleration": 10,
           "Cylinders": 8,
           "Displacement": 429,
           "Horsepower": 198,
           "Miles_per_Gallon": 15,
           "Name": "ford galaxie 500",
           "Origin": "USA",
           "Weight_in_lbs": 4341,
           "Year": "1970-01-01"
          },
          {
           "Acceleration": 9,
           "Cylinders": 8,
           "Displacement": 454,
           "Horsepower": 220,
           "Miles_per_Gallon": 14,
           "Name": "chevrolet impala",
           "Origin": "USA",
           "Weight_in_lbs": 4354,
           "Year": "1970-01-01"
          },
          {
           "Acceleration": 8.5,
           "Cylinders": 8,
           "Displacement": 440,
           "Horsepower": 215,
           "Miles_per_Gallon": 14,
           "Name": "plymouth fury iii",
           "Origin": "USA",
           "Weight_in_lbs": 4312,
           "Year": "1970-01-01"
          },
          {
           "Acceleration": 10,
           "Cylinders": 8,
           "Displacement": 455,
           "Horsepower": 225,
           "Miles_per_Gallon": 14,
           "Name": "pontiac catalina",
           "Origin": "USA",
           "Weight_in_lbs": 4425,
           "Year": "1970-01-01"
          },
          {
           "Acceleration": 8.5,
           "Cylinders": 8,
           "Displacement": 390,
           "Horsepower": 190,
           "Miles_per_Gallon": 15,
           "Name": "amc ambassador dpl",
           "Origin": "USA",
           "Weight_in_lbs": 3850,
           "Year": "1970-01-01"
          },
          {
           "Acceleration": 17.5,
           "Cylinders": 4,
           "Displacement": 133,
           "Horsepower": 115,
           "Miles_per_Gallon": null,
           "Name": "citroen ds-21 pallas",
           "Origin": "Europe",
           "Weight_in_lbs": 3090,
           "Year": "1970-01-01"
          },
          {
           "Acceleration": 11.5,
           "Cylinders": 8,
           "Displacement": 350,
           "Horsepower": 165,
           "Miles_per_Gallon": null,
           "Name": "chevrolet chevelle concours (sw)",
           "Origin": "USA",
           "Weight_in_lbs": 4142,
           "Year": "1970-01-01"
          },
          {
           "Acceleration": 11,
           "Cylinders": 8,
           "Displacement": 351,
           "Horsepower": 153,
           "Miles_per_Gallon": null,
           "Name": "ford torino (sw)",
           "Origin": "USA",
           "Weight_in_lbs": 4034,
           "Year": "1970-01-01"
          },
          {
           "Acceleration": 10.5,
           "Cylinders": 8,
           "Displacement": 383,
           "Horsepower": 175,
           "Miles_per_Gallon": null,
           "Name": "plymouth satellite (sw)",
           "Origin": "USA",
           "Weight_in_lbs": 4166,
           "Year": "1970-01-01"
          },
          {
           "Acceleration": 11,
           "Cylinders": 8,
           "Displacement": 360,
           "Horsepower": 175,
           "Miles_per_Gallon": null,
           "Name": "amc rebel sst (sw)",
           "Origin": "USA",
           "Weight_in_lbs": 3850,
           "Year": "1970-01-01"
          },
          {
           "Acceleration": 10,
           "Cylinders": 8,
           "Displacement": 383,
           "Horsepower": 170,
           "Miles_per_Gallon": 15,
           "Name": "dodge challenger se",
           "Origin": "USA",
           "Weight_in_lbs": 3563,
           "Year": "1970-01-01"
          },
          {
           "Acceleration": 8,
           "Cylinders": 8,
           "Displacement": 340,
           "Horsepower": 160,
           "Miles_per_Gallon": 14,
           "Name": "plymouth 'cuda 340",
           "Origin": "USA",
           "Weight_in_lbs": 3609,
           "Year": "1970-01-01"
          },
          {
           "Acceleration": 8,
           "Cylinders": 8,
           "Displacement": 302,
           "Horsepower": 140,
           "Miles_per_Gallon": null,
           "Name": "ford mustang boss 302",
           "Origin": "USA",
           "Weight_in_lbs": 3353,
           "Year": "1970-01-01"
          },
          {
           "Acceleration": 9.5,
           "Cylinders": 8,
           "Displacement": 400,
           "Horsepower": 150,
           "Miles_per_Gallon": 15,
           "Name": "chevrolet monte carlo",
           "Origin": "USA",
           "Weight_in_lbs": 3761,
           "Year": "1970-01-01"
          },
          {
           "Acceleration": 10,
           "Cylinders": 8,
           "Displacement": 455,
           "Horsepower": 225,
           "Miles_per_Gallon": 14,
           "Name": "buick estate wagon (sw)",
           "Origin": "USA",
           "Weight_in_lbs": 3086,
           "Year": "1970-01-01"
          },
          {
           "Acceleration": 15,
           "Cylinders": 4,
           "Displacement": 113,
           "Horsepower": 95,
           "Miles_per_Gallon": 24,
           "Name": "toyota corona mark ii",
           "Origin": "Japan",
           "Weight_in_lbs": 2372,
           "Year": "1970-01-01"
          },
          {
           "Acceleration": 15.5,
           "Cylinders": 6,
           "Displacement": 198,
           "Horsepower": 95,
           "Miles_per_Gallon": 22,
           "Name": "plymouth duster",
           "Origin": "USA",
           "Weight_in_lbs": 2833,
           "Year": "1970-01-01"
          },
          {
           "Acceleration": 15.5,
           "Cylinders": 6,
           "Displacement": 199,
           "Horsepower": 97,
           "Miles_per_Gallon": 18,
           "Name": "amc hornet",
           "Origin": "USA",
           "Weight_in_lbs": 2774,
           "Year": "1970-01-01"
          },
          {
           "Acceleration": 16,
           "Cylinders": 6,
           "Displacement": 200,
           "Horsepower": 85,
           "Miles_per_Gallon": 21,
           "Name": "ford maverick",
           "Origin": "USA",
           "Weight_in_lbs": 2587,
           "Year": "1970-01-01"
          },
          {
           "Acceleration": 14.5,
           "Cylinders": 4,
           "Displacement": 97,
           "Horsepower": 88,
           "Miles_per_Gallon": 27,
           "Name": "datsun pl510",
           "Origin": "Japan",
           "Weight_in_lbs": 2130,
           "Year": "1970-01-01"
          },
          {
           "Acceleration": 20.5,
           "Cylinders": 4,
           "Displacement": 97,
           "Horsepower": 46,
           "Miles_per_Gallon": 26,
           "Name": "volkswagen 1131 deluxe sedan",
           "Origin": "Europe",
           "Weight_in_lbs": 1835,
           "Year": "1970-01-01"
          },
          {
           "Acceleration": 17.5,
           "Cylinders": 4,
           "Displacement": 110,
           "Horsepower": 87,
           "Miles_per_Gallon": 25,
           "Name": "peugeot 504",
           "Origin": "Europe",
           "Weight_in_lbs": 2672,
           "Year": "1970-01-01"
          },
          {
           "Acceleration": 14.5,
           "Cylinders": 4,
           "Displacement": 107,
           "Horsepower": 90,
           "Miles_per_Gallon": 24,
           "Name": "audi 100 ls",
           "Origin": "Europe",
           "Weight_in_lbs": 2430,
           "Year": "1970-01-01"
          },
          {
           "Acceleration": 17.5,
           "Cylinders": 4,
           "Displacement": 104,
           "Horsepower": 95,
           "Miles_per_Gallon": 25,
           "Name": "saab 99e",
           "Origin": "Europe",
           "Weight_in_lbs": 2375,
           "Year": "1970-01-01"
          },
          {
           "Acceleration": 12.5,
           "Cylinders": 4,
           "Displacement": 121,
           "Horsepower": 113,
           "Miles_per_Gallon": 26,
           "Name": "bmw 2002",
           "Origin": "Europe",
           "Weight_in_lbs": 2234,
           "Year": "1970-01-01"
          },
          {
           "Acceleration": 15,
           "Cylinders": 6,
           "Displacement": 199,
           "Horsepower": 90,
           "Miles_per_Gallon": 21,
           "Name": "amc gremlin",
           "Origin": "USA",
           "Weight_in_lbs": 2648,
           "Year": "1970-01-01"
          },
          {
           "Acceleration": 14,
           "Cylinders": 8,
           "Displacement": 360,
           "Horsepower": 215,
           "Miles_per_Gallon": 10,
           "Name": "ford f250",
           "Origin": "USA",
           "Weight_in_lbs": 4615,
           "Year": "1970-01-01"
          },
          {
           "Acceleration": 15,
           "Cylinders": 8,
           "Displacement": 307,
           "Horsepower": 200,
           "Miles_per_Gallon": 10,
           "Name": "chevy c20",
           "Origin": "USA",
           "Weight_in_lbs": 4376,
           "Year": "1970-01-01"
          },
          {
           "Acceleration": 13.5,
           "Cylinders": 8,
           "Displacement": 318,
           "Horsepower": 210,
           "Miles_per_Gallon": 11,
           "Name": "dodge d200",
           "Origin": "USA",
           "Weight_in_lbs": 4382,
           "Year": "1970-01-01"
          },
          {
           "Acceleration": 18.5,
           "Cylinders": 8,
           "Displacement": 304,
           "Horsepower": 193,
           "Miles_per_Gallon": 9,
           "Name": "hi 1200d",
           "Origin": "USA",
           "Weight_in_lbs": 4732,
           "Year": "1970-01-01"
          },
          {
           "Acceleration": 14.5,
           "Cylinders": 4,
           "Displacement": 97,
           "Horsepower": 88,
           "Miles_per_Gallon": 27,
           "Name": "datsun pl510",
           "Origin": "Japan",
           "Weight_in_lbs": 2130,
           "Year": "1971-01-01"
          },
          {
           "Acceleration": 15.5,
           "Cylinders": 4,
           "Displacement": 140,
           "Horsepower": 90,
           "Miles_per_Gallon": 28,
           "Name": "chevrolet vega 2300",
           "Origin": "USA",
           "Weight_in_lbs": 2264,
           "Year": "1971-01-01"
          },
          {
           "Acceleration": 14,
           "Cylinders": 4,
           "Displacement": 113,
           "Horsepower": 95,
           "Miles_per_Gallon": 25,
           "Name": "toyota corona",
           "Origin": "Japan",
           "Weight_in_lbs": 2228,
           "Year": "1971-01-01"
          },
          {
           "Acceleration": 19,
           "Cylinders": 4,
           "Displacement": 98,
           "Horsepower": null,
           "Miles_per_Gallon": 25,
           "Name": "ford pinto",
           "Origin": "USA",
           "Weight_in_lbs": 2046,
           "Year": "1971-01-01"
          },
          {
           "Acceleration": 20,
           "Cylinders": 4,
           "Displacement": 97,
           "Horsepower": 48,
           "Miles_per_Gallon": null,
           "Name": "volkswagen super beetle 117",
           "Origin": "Europe",
           "Weight_in_lbs": 1978,
           "Year": "1971-01-01"
          },
          {
           "Acceleration": 13,
           "Cylinders": 6,
           "Displacement": 232,
           "Horsepower": 100,
           "Miles_per_Gallon": 19,
           "Name": "amc gremlin",
           "Origin": "USA",
           "Weight_in_lbs": 2634,
           "Year": "1971-01-01"
          },
          {
           "Acceleration": 15.5,
           "Cylinders": 6,
           "Displacement": 225,
           "Horsepower": 105,
           "Miles_per_Gallon": 16,
           "Name": "plymouth satellite custom",
           "Origin": "USA",
           "Weight_in_lbs": 3439,
           "Year": "1971-01-01"
          },
          {
           "Acceleration": 15.5,
           "Cylinders": 6,
           "Displacement": 250,
           "Horsepower": 100,
           "Miles_per_Gallon": 17,
           "Name": "chevrolet chevelle malibu",
           "Origin": "USA",
           "Weight_in_lbs": 3329,
           "Year": "1971-01-01"
          },
          {
           "Acceleration": 15.5,
           "Cylinders": 6,
           "Displacement": 250,
           "Horsepower": 88,
           "Miles_per_Gallon": 19,
           "Name": "ford torino 500",
           "Origin": "USA",
           "Weight_in_lbs": 3302,
           "Year": "1971-01-01"
          },
          {
           "Acceleration": 15.5,
           "Cylinders": 6,
           "Displacement": 232,
           "Horsepower": 100,
           "Miles_per_Gallon": 18,
           "Name": "amc matador",
           "Origin": "USA",
           "Weight_in_lbs": 3288,
           "Year": "1971-01-01"
          },
          {
           "Acceleration": 12,
           "Cylinders": 8,
           "Displacement": 350,
           "Horsepower": 165,
           "Miles_per_Gallon": 14,
           "Name": "chevrolet impala",
           "Origin": "USA",
           "Weight_in_lbs": 4209,
           "Year": "1971-01-01"
          },
          {
           "Acceleration": 11.5,
           "Cylinders": 8,
           "Displacement": 400,
           "Horsepower": 175,
           "Miles_per_Gallon": 14,
           "Name": "pontiac catalina brougham",
           "Origin": "USA",
           "Weight_in_lbs": 4464,
           "Year": "1971-01-01"
          },
          {
           "Acceleration": 13.5,
           "Cylinders": 8,
           "Displacement": 351,
           "Horsepower": 153,
           "Miles_per_Gallon": 14,
           "Name": "ford galaxie 500",
           "Origin": "USA",
           "Weight_in_lbs": 4154,
           "Year": "1971-01-01"
          },
          {
           "Acceleration": 13,
           "Cylinders": 8,
           "Displacement": 318,
           "Horsepower": 150,
           "Miles_per_Gallon": 14,
           "Name": "plymouth fury iii",
           "Origin": "USA",
           "Weight_in_lbs": 4096,
           "Year": "1971-01-01"
          },
          {
           "Acceleration": 11.5,
           "Cylinders": 8,
           "Displacement": 383,
           "Horsepower": 180,
           "Miles_per_Gallon": 12,
           "Name": "dodge monaco (sw)",
           "Origin": "USA",
           "Weight_in_lbs": 4955,
           "Year": "1971-01-01"
          },
          {
           "Acceleration": 12,
           "Cylinders": 8,
           "Displacement": 400,
           "Horsepower": 170,
           "Miles_per_Gallon": 13,
           "Name": "ford country squire (sw)",
           "Origin": "USA",
           "Weight_in_lbs": 4746,
           "Year": "1971-01-01"
          },
          {
           "Acceleration": 12,
           "Cylinders": 8,
           "Displacement": 400,
           "Horsepower": 175,
           "Miles_per_Gallon": 13,
           "Name": "pontiac safari (sw)",
           "Origin": "USA",
           "Weight_in_lbs": 5140,
           "Year": "1971-01-01"
          },
          {
           "Acceleration": 13.5,
           "Cylinders": 6,
           "Displacement": 258,
           "Horsepower": 110,
           "Miles_per_Gallon": 18,
           "Name": "amc hornet sportabout (sw)",
           "Origin": "USA",
           "Weight_in_lbs": 2962,
           "Year": "1971-01-01"
          },
          {
           "Acceleration": 19,
           "Cylinders": 4,
           "Displacement": 140,
           "Horsepower": 72,
           "Miles_per_Gallon": 22,
           "Name": "chevrolet vega (sw)",
           "Origin": "USA",
           "Weight_in_lbs": 2408,
           "Year": "1971-01-01"
          },
          {
           "Acceleration": 15,
           "Cylinders": 6,
           "Displacement": 250,
           "Horsepower": 100,
           "Miles_per_Gallon": 19,
           "Name": "pontiac firebird",
           "Origin": "USA",
           "Weight_in_lbs": 3282,
           "Year": "1971-01-01"
          },
          {
           "Acceleration": 14.5,
           "Cylinders": 6,
           "Displacement": 250,
           "Horsepower": 88,
           "Miles_per_Gallon": 18,
           "Name": "ford mustang",
           "Origin": "USA",
           "Weight_in_lbs": 3139,
           "Year": "1971-01-01"
          },
          {
           "Acceleration": 14,
           "Cylinders": 4,
           "Displacement": 122,
           "Horsepower": 86,
           "Miles_per_Gallon": 23,
           "Name": "mercury capri 2000",
           "Origin": "USA",
           "Weight_in_lbs": 2220,
           "Year": "1971-01-01"
          },
          {
           "Acceleration": 14,
           "Cylinders": 4,
           "Displacement": 116,
           "Horsepower": 90,
           "Miles_per_Gallon": 28,
           "Name": "opel 1900",
           "Origin": "Europe",
           "Weight_in_lbs": 2123,
           "Year": "1971-01-01"
          },
          {
           "Acceleration": 19.5,
           "Cylinders": 4,
           "Displacement": 79,
           "Horsepower": 70,
           "Miles_per_Gallon": 30,
           "Name": "peugeot 304",
           "Origin": "Europe",
           "Weight_in_lbs": 2074,
           "Year": "1971-01-01"
          },
          {
           "Acceleration": 14.5,
           "Cylinders": 4,
           "Displacement": 88,
           "Horsepower": 76,
           "Miles_per_Gallon": 30,
           "Name": "fiat 124b",
           "Origin": "Europe",
           "Weight_in_lbs": 2065,
           "Year": "1971-01-01"
          },
          {
           "Acceleration": 19,
           "Cylinders": 4,
           "Displacement": 71,
           "Horsepower": 65,
           "Miles_per_Gallon": 31,
           "Name": "toyota corolla 1200",
           "Origin": "Japan",
           "Weight_in_lbs": 1773,
           "Year": "1971-01-01"
          },
          {
           "Acceleration": 18,
           "Cylinders": 4,
           "Displacement": 72,
           "Horsepower": 69,
           "Miles_per_Gallon": 35,
           "Name": "datsun 1200",
           "Origin": "Japan",
           "Weight_in_lbs": 1613,
           "Year": "1971-01-01"
          },
          {
           "Acceleration": 19,
           "Cylinders": 4,
           "Displacement": 97,
           "Horsepower": 60,
           "Miles_per_Gallon": 27,
           "Name": "volkswagen model 111",
           "Origin": "Europe",
           "Weight_in_lbs": 1834,
           "Year": "1971-01-01"
          },
          {
           "Acceleration": 20.5,
           "Cylinders": 4,
           "Displacement": 91,
           "Horsepower": 70,
           "Miles_per_Gallon": 26,
           "Name": "plymouth cricket",
           "Origin": "USA",
           "Weight_in_lbs": 1955,
           "Year": "1971-01-01"
          },
          {
           "Acceleration": 15.5,
           "Cylinders": 4,
           "Displacement": 113,
           "Horsepower": 95,
           "Miles_per_Gallon": 24,
           "Name": "toyota corona hardtop",
           "Origin": "Japan",
           "Weight_in_lbs": 2278,
           "Year": "1972-01-01"
          },
          {
           "Acceleration": 17,
           "Cylinders": 4,
           "Displacement": 97.5,
           "Horsepower": 80,
           "Miles_per_Gallon": 25,
           "Name": "dodge colt hardtop",
           "Origin": "USA",
           "Weight_in_lbs": 2126,
           "Year": "1972-01-01"
          },
          {
           "Acceleration": 23.5,
           "Cylinders": 4,
           "Displacement": 97,
           "Horsepower": 54,
           "Miles_per_Gallon": 23,
           "Name": "volkswagen type 3",
           "Origin": "Europe",
           "Weight_in_lbs": 2254,
           "Year": "1972-01-01"
          },
          {
           "Acceleration": 19.5,
           "Cylinders": 4,
           "Displacement": 140,
           "Horsepower": 90,
           "Miles_per_Gallon": 20,
           "Name": "chevrolet vega",
           "Origin": "USA",
           "Weight_in_lbs": 2408,
           "Year": "1972-01-01"
          },
          {
           "Acceleration": 16.5,
           "Cylinders": 4,
           "Displacement": 122,
           "Horsepower": 86,
           "Miles_per_Gallon": 21,
           "Name": "ford pinto runabout",
           "Origin": "USA",
           "Weight_in_lbs": 2226,
           "Year": "1972-01-01"
          },
          {
           "Acceleration": 12,
           "Cylinders": 8,
           "Displacement": 350,
           "Horsepower": 165,
           "Miles_per_Gallon": 13,
           "Name": "chevrolet impala",
           "Origin": "USA",
           "Weight_in_lbs": 4274,
           "Year": "1972-01-01"
          },
          {
           "Acceleration": 12,
           "Cylinders": 8,
           "Displacement": 400,
           "Horsepower": 175,
           "Miles_per_Gallon": 14,
           "Name": "pontiac catalina",
           "Origin": "USA",
           "Weight_in_lbs": 4385,
           "Year": "1972-01-01"
          },
          {
           "Acceleration": 13.5,
           "Cylinders": 8,
           "Displacement": 318,
           "Horsepower": 150,
           "Miles_per_Gallon": 15,
           "Name": "plymouth fury iii",
           "Origin": "USA",
           "Weight_in_lbs": 4135,
           "Year": "1972-01-01"
          },
          {
           "Acceleration": 13,
           "Cylinders": 8,
           "Displacement": 351,
           "Horsepower": 153,
           "Miles_per_Gallon": 14,
           "Name": "ford galaxie 500",
           "Origin": "USA",
           "Weight_in_lbs": 4129,
           "Year": "1972-01-01"
          },
          {
           "Acceleration": 11.5,
           "Cylinders": 8,
           "Displacement": 304,
           "Horsepower": 150,
           "Miles_per_Gallon": 17,
           "Name": "amc ambassador sst",
           "Origin": "USA",
           "Weight_in_lbs": 3672,
           "Year": "1972-01-01"
          },
          {
           "Acceleration": 11,
           "Cylinders": 8,
           "Displacement": 429,
           "Horsepower": 208,
           "Miles_per_Gallon": 11,
           "Name": "mercury marquis",
           "Origin": "USA",
           "Weight_in_lbs": 4633,
           "Year": "1972-01-01"
          },
          {
           "Acceleration": 13.5,
           "Cylinders": 8,
           "Displacement": 350,
           "Horsepower": 155,
           "Miles_per_Gallon": 13,
           "Name": "buick lesabre custom",
           "Origin": "USA",
           "Weight_in_lbs": 4502,
           "Year": "1972-01-01"
          },
          {
           "Acceleration": 13.5,
           "Cylinders": 8,
           "Displacement": 350,
           "Horsepower": 160,
           "Miles_per_Gallon": 12,
           "Name": "oldsmobile delta 88 royale",
           "Origin": "USA",
           "Weight_in_lbs": 4456,
           "Year": "1972-01-01"
          },
          {
           "Acceleration": 12.5,
           "Cylinders": 8,
           "Displacement": 400,
           "Horsepower": 190,
           "Miles_per_Gallon": 13,
           "Name": "chrysler newport royal",
           "Origin": "USA",
           "Weight_in_lbs": 4422,
           "Year": "1972-01-01"
          },
          {
           "Acceleration": 13.5,
           "Cylinders": 3,
           "Displacement": 70,
           "Horsepower": 97,
           "Miles_per_Gallon": 19,
           "Name": "mazda rx2 coupe",
           "Origin": "Japan",
           "Weight_in_lbs": 2330,
           "Year": "1972-01-01"
          },
          {
           "Acceleration": 12.5,
           "Cylinders": 8,
           "Displacement": 304,
           "Horsepower": 150,
           "Miles_per_Gallon": 15,
           "Name": "amc matador (sw)",
           "Origin": "USA",
           "Weight_in_lbs": 3892,
           "Year": "1972-01-01"
          },
          {
           "Acceleration": 14,
           "Cylinders": 8,
           "Displacement": 307,
           "Horsepower": 130,
           "Miles_per_Gallon": 13,
           "Name": "chevrolet chevelle concours (sw)",
           "Origin": "USA",
           "Weight_in_lbs": 4098,
           "Year": "1972-01-01"
          },
          {
           "Acceleration": 16,
           "Cylinders": 8,
           "Displacement": 302,
           "Horsepower": 140,
           "Miles_per_Gallon": 13,
           "Name": "ford gran torino (sw)",
           "Origin": "USA",
           "Weight_in_lbs": 4294,
           "Year": "1972-01-01"
          },
          {
           "Acceleration": 14,
           "Cylinders": 8,
           "Displacement": 318,
           "Horsepower": 150,
           "Miles_per_Gallon": 14,
           "Name": "plymouth satellite custom (sw)",
           "Origin": "USA",
           "Weight_in_lbs": 4077,
           "Year": "1972-01-01"
          },
          {
           "Acceleration": 14.5,
           "Cylinders": 4,
           "Displacement": 121,
           "Horsepower": 112,
           "Miles_per_Gallon": 18,
           "Name": "volvo 145e (sw)",
           "Origin": "Europe",
           "Weight_in_lbs": 2933,
           "Year": "1972-01-01"
          },
          {
           "Acceleration": 18,
           "Cylinders": 4,
           "Displacement": 121,
           "Horsepower": 76,
           "Miles_per_Gallon": 22,
           "Name": "volkswagen 411 (sw)",
           "Origin": "Europe",
           "Weight_in_lbs": 2511,
           "Year": "1972-01-01"
          },
          {
           "Acceleration": 19.5,
           "Cylinders": 4,
           "Displacement": 120,
           "Horsepower": 87,
           "Miles_per_Gallon": 21,
           "Name": "peugeot 504 (sw)",
           "Origin": "Europe",
           "Weight_in_lbs": 2979,
           "Year": "1972-01-01"
          },
          {
           "Acceleration": 18,
           "Cylinders": 4,
           "Displacement": 96,
           "Horsepower": 69,
           "Miles_per_Gallon": 26,
           "Name": "renault 12 (sw)",
           "Origin": "Europe",
           "Weight_in_lbs": 2189,
           "Year": "1972-01-01"
          },
          {
           "Acceleration": 16,
           "Cylinders": 4,
           "Displacement": 122,
           "Horsepower": 86,
           "Miles_per_Gallon": 22,
           "Name": "ford pinto (sw)",
           "Origin": "USA",
           "Weight_in_lbs": 2395,
           "Year": "1972-01-01"
          },
          {
           "Acceleration": 17,
           "Cylinders": 4,
           "Displacement": 97,
           "Horsepower": 92,
           "Miles_per_Gallon": 28,
           "Name": "datsun 510 (sw)",
           "Origin": "Japan",
           "Weight_in_lbs": 2288,
           "Year": "1972-01-01"
          },
          {
           "Acceleration": 14.5,
           "Cylinders": 4,
           "Displacement": 120,
           "Horsepower": 97,
           "Miles_per_Gallon": 23,
           "Name": "toyouta corona mark ii (sw)",
           "Origin": "Japan",
           "Weight_in_lbs": 2506,
           "Year": "1972-01-01"
          },
          {
           "Acceleration": 15,
           "Cylinders": 4,
           "Displacement": 98,
           "Horsepower": 80,
           "Miles_per_Gallon": 28,
           "Name": "dodge colt (sw)",
           "Origin": "USA",
           "Weight_in_lbs": 2164,
           "Year": "1972-01-01"
          },
          {
           "Acceleration": 16.5,
           "Cylinders": 4,
           "Displacement": 97,
           "Horsepower": 88,
           "Miles_per_Gallon": 27,
           "Name": "toyota corolla 1600 (sw)",
           "Origin": "Japan",
           "Weight_in_lbs": 2100,
           "Year": "1972-01-01"
          },
          {
           "Acceleration": 13,
           "Cylinders": 8,
           "Displacement": 350,
           "Horsepower": 175,
           "Miles_per_Gallon": 13,
           "Name": "buick century 350",
           "Origin": "USA",
           "Weight_in_lbs": 4100,
           "Year": "1973-01-01"
          },
          {
           "Acceleration": 11.5,
           "Cylinders": 8,
           "Displacement": 304,
           "Horsepower": 150,
           "Miles_per_Gallon": 14,
           "Name": "amc matador",
           "Origin": "USA",
           "Weight_in_lbs": 3672,
           "Year": "1973-01-01"
          },
          {
           "Acceleration": 13,
           "Cylinders": 8,
           "Displacement": 350,
           "Horsepower": 145,
           "Miles_per_Gallon": 13,
           "Name": "chevrolet malibu",
           "Origin": "USA",
           "Weight_in_lbs": 3988,
           "Year": "1973-01-01"
          },
          {
           "Acceleration": 14.5,
           "Cylinders": 8,
           "Displacement": 302,
           "Horsepower": 137,
           "Miles_per_Gallon": 14,
           "Name": "ford gran torino",
           "Origin": "USA",
           "Weight_in_lbs": 4042,
           "Year": "1973-01-01"
          },
          {
           "Acceleration": 12.5,
           "Cylinders": 8,
           "Displacement": 318,
           "Horsepower": 150,
           "Miles_per_Gallon": 15,
           "Name": "dodge coronet custom",
           "Origin": "USA",
           "Weight_in_lbs": 3777,
           "Year": "1973-01-01"
          },
          {
           "Acceleration": 11.5,
           "Cylinders": 8,
           "Displacement": 429,
           "Horsepower": 198,
           "Miles_per_Gallon": 12,
           "Name": "mercury marquis brougham",
           "Origin": "USA",
           "Weight_in_lbs": 4952,
           "Year": "1973-01-01"
          },
          {
           "Acceleration": 12,
           "Cylinders": 8,
           "Displacement": 400,
           "Horsepower": 150,
           "Miles_per_Gallon": 13,
           "Name": "chevrolet caprice classic",
           "Origin": "USA",
           "Weight_in_lbs": 4464,
           "Year": "1973-01-01"
          },
          {
           "Acceleration": 13,
           "Cylinders": 8,
           "Displacement": 351,
           "Horsepower": 158,
           "Miles_per_Gallon": 13,
           "Name": "ford ltd",
           "Origin": "USA",
           "Weight_in_lbs": 4363,
           "Year": "1973-01-01"
          },
          {
           "Acceleration": 14.5,
           "Cylinders": 8,
           "Displacement": 318,
           "Horsepower": 150,
           "Miles_per_Gallon": 14,
           "Name": "plymouth fury gran sedan",
           "Origin": "USA",
           "Weight_in_lbs": 4237,
           "Year": "1973-01-01"
          },
          {
           "Acceleration": 11,
           "Cylinders": 8,
           "Displacement": 440,
           "Horsepower": 215,
           "Miles_per_Gallon": 13,
           "Name": "chrysler new yorker brougham",
           "Origin": "USA",
           "Weight_in_lbs": 4735,
           "Year": "1973-01-01"
          },
          {
           "Acceleration": 11,
           "Cylinders": 8,
           "Displacement": 455,
           "Horsepower": 225,
           "Miles_per_Gallon": 12,
           "Name": "buick electra 225 custom",
           "Origin": "USA",
           "Weight_in_lbs": 4951,
           "Year": "1973-01-01"
          },
          {
           "Acceleration": 11,
           "Cylinders": 8,
           "Displacement": 360,
           "Horsepower": 175,
           "Miles_per_Gallon": 13,
           "Name": "amc ambassador brougham",
           "Origin": "USA",
           "Weight_in_lbs": 3821,
           "Year": "1973-01-01"
          },
          {
           "Acceleration": 16.5,
           "Cylinders": 6,
           "Displacement": 225,
           "Horsepower": 105,
           "Miles_per_Gallon": 18,
           "Name": "plymouth valiant",
           "Origin": "USA",
           "Weight_in_lbs": 3121,
           "Year": "1973-01-01"
          },
          {
           "Acceleration": 18,
           "Cylinders": 6,
           "Displacement": 250,
           "Horsepower": 100,
           "Miles_per_Gallon": 16,
           "Name": "chevrolet nova custom",
           "Origin": "USA",
           "Weight_in_lbs": 3278,
           "Year": "1973-01-01"
          },
          {
           "Acceleration": 16,
           "Cylinders": 6,
           "Displacement": 232,
           "Horsepower": 100,
           "Miles_per_Gallon": 18,
           "Name": "amc hornet",
           "Origin": "USA",
           "Weight_in_lbs": 2945,
           "Year": "1973-01-01"
          },
          {
           "Acceleration": 16.5,
           "Cylinders": 6,
           "Displacement": 250,
           "Horsepower": 88,
           "Miles_per_Gallon": 18,
           "Name": "ford maverick",
           "Origin": "USA",
           "Weight_in_lbs": 3021,
           "Year": "1973-01-01"
          },
          {
           "Acceleration": 16,
           "Cylinders": 6,
           "Displacement": 198,
           "Horsepower": 95,
           "Miles_per_Gallon": 23,
           "Name": "plymouth duster",
           "Origin": "USA",
           "Weight_in_lbs": 2904,
           "Year": "1973-01-01"
          },
          {
           "Acceleration": 21,
           "Cylinders": 4,
           "Displacement": 97,
           "Horsepower": 46,
           "Miles_per_Gallon": 26,
           "Name": "volkswagen super beetle",
           "Origin": "Europe",
           "Weight_in_lbs": 1950,
           "Year": "1973-01-01"
          },
          {
           "Acceleration": 14,
           "Cylinders": 8,
           "Displacement": 400,
           "Horsepower": 150,
           "Miles_per_Gallon": 11,
           "Name": "chevrolet impala",
           "Origin": "USA",
           "Weight_in_lbs": 4997,
           "Year": "1973-01-01"
          },
          {
           "Acceleration": 12.5,
           "Cylinders": 8,
           "Displacement": 400,
           "Horsepower": 167,
           "Miles_per_Gallon": 12,
           "Name": "ford country",
           "Origin": "USA",
           "Weight_in_lbs": 4906,
           "Year": "1973-01-01"
          },
          {
           "Acceleration": 13,
           "Cylinders": 8,
           "Displacement": 360,
           "Horsepower": 170,
           "Miles_per_Gallon": 13,
           "Name": "plymouth custom suburb",
           "Origin": "USA",
           "Weight_in_lbs": 4654,
           "Year": "1973-01-01"
          },
          {
           "Acceleration": 12.5,
           "Cylinders": 8,
           "Displacement": 350,
           "Horsepower": 180,
           "Miles_per_Gallon": 12,
           "Name": "oldsmobile vista cruiser",
           "Origin": "USA",
           "Weight_in_lbs": 4499,
           "Year": "1973-01-01"
          },
          {
           "Acceleration": 15,
           "Cylinders": 6,
           "Displacement": 232,
           "Horsepower": 100,
           "Miles_per_Gallon": 18,
           "Name": "amc gremlin",
           "Origin": "USA",
           "Weight_in_lbs": 2789,
           "Year": "1973-01-01"
          },
          {
           "Acceleration": 19,
           "Cylinders": 4,
           "Displacement": 97,
           "Horsepower": 88,
           "Miles_per_Gallon": 20,
           "Name": "toyota carina",
           "Origin": "Japan",
           "Weight_in_lbs": 2279,
           "Year": "1973-01-01"
          },
          {
           "Acceleration": 19.5,
           "Cylinders": 4,
           "Displacement": 140,
           "Horsepower": 72,
           "Miles_per_Gallon": 21,
           "Name": "chevrolet vega",
           "Origin": "USA",
           "Weight_in_lbs": 2401,
           "Year": "1973-01-01"
          },
          {
           "Acceleration": 16.5,
           "Cylinders": 4,
           "Displacement": 108,
           "Horsepower": 94,
           "Miles_per_Gallon": 22,
           "Name": "datsun 610",
           "Origin": "Japan",
           "Weight_in_lbs": 2379,
           "Year": "1973-01-01"
          },
          {
           "Acceleration": 13.5,
           "Cylinders": 3,
           "Displacement": 70,
           "Horsepower": 90,
           "Miles_per_Gallon": 18,
           "Name": "maxda rx3",
           "Origin": "Japan",
           "Weight_in_lbs": 2124,
           "Year": "1973-01-01"
          },
          {
           "Acceleration": 18.5,
           "Cylinders": 4,
           "Displacement": 122,
           "Horsepower": 85,
           "Miles_per_Gallon": 19,
           "Name": "ford pinto",
           "Origin": "USA",
           "Weight_in_lbs": 2310,
           "Year": "1973-01-01"
          },
          {
           "Acceleration": 14,
           "Cylinders": 6,
           "Displacement": 155,
           "Horsepower": 107,
           "Miles_per_Gallon": 21,
           "Name": "mercury capri v6",
           "Origin": "USA",
           "Weight_in_lbs": 2472,
           "Year": "1973-01-01"
          },
          {
           "Acceleration": 15.5,
           "Cylinders": 4,
           "Displacement": 98,
           "Horsepower": 90,
           "Miles_per_Gallon": 26,
           "Name": "fiat 124 sport coupe",
           "Origin": "Europe",
           "Weight_in_lbs": 2265,
           "Year": "1973-01-01"
          },
          {
           "Acceleration": 13,
           "Cylinders": 8,
           "Displacement": 350,
           "Horsepower": 145,
           "Miles_per_Gallon": 15,
           "Name": "chevrolet monte carlo s",
           "Origin": "USA",
           "Weight_in_lbs": 4082,
           "Year": "1973-01-01"
          },
          {
           "Acceleration": 9.5,
           "Cylinders": 8,
           "Displacement": 400,
           "Horsepower": 230,
           "Miles_per_Gallon": 16,
           "Name": "pontiac grand prix",
           "Origin": "USA",
           "Weight_in_lbs": 4278,
           "Year": "1973-01-01"
          },
          {
           "Acceleration": 19.5,
           "Cylinders": 4,
           "Displacement": 68,
           "Horsepower": 49,
           "Miles_per_Gallon": 29,
           "Name": "fiat 128",
           "Origin": "Europe",
           "Weight_in_lbs": 1867,
           "Year": "1973-01-01"
          },
          {
           "Acceleration": 15.5,
           "Cylinders": 4,
           "Displacement": 116,
           "Horsepower": 75,
           "Miles_per_Gallon": 24,
           "Name": "opel manta",
           "Origin": "Europe",
           "Weight_in_lbs": 2158,
           "Year": "1973-01-01"
          },
          {
           "Acceleration": 14,
           "Cylinders": 4,
           "Displacement": 114,
           "Horsepower": 91,
           "Miles_per_Gallon": 20,
           "Name": "audi 100ls",
           "Origin": "Europe",
           "Weight_in_lbs": 2582,
           "Year": "1973-01-01"
          },
          {
           "Acceleration": 15.5,
           "Cylinders": 4,
           "Displacement": 121,
           "Horsepower": 112,
           "Miles_per_Gallon": 19,
           "Name": "volvo 144ea",
           "Origin": "Europe",
           "Weight_in_lbs": 2868,
           "Year": "1973-01-01"
          },
          {
           "Acceleration": 11,
           "Cylinders": 8,
           "Displacement": 318,
           "Horsepower": 150,
           "Miles_per_Gallon": 15,
           "Name": "dodge dart custom",
           "Origin": "USA",
           "Weight_in_lbs": 3399,
           "Year": "1973-01-01"
          },
          {
           "Acceleration": 14,
           "Cylinders": 4,
           "Displacement": 121,
           "Horsepower": 110,
           "Miles_per_Gallon": 24,
           "Name": "saab 99le",
           "Origin": "Europe",
           "Weight_in_lbs": 2660,
           "Year": "1973-01-01"
          },
          {
           "Acceleration": 13.5,
           "Cylinders": 6,
           "Displacement": 156,
           "Horsepower": 122,
           "Miles_per_Gallon": 20,
           "Name": "toyota mark ii",
           "Origin": "Japan",
           "Weight_in_lbs": 2807,
           "Year": "1973-01-01"
          },
          {
           "Acceleration": 11,
           "Cylinders": 8,
           "Displacement": 350,
           "Horsepower": 180,
           "Miles_per_Gallon": 11,
           "Name": "oldsmobile omega",
           "Origin": "USA",
           "Weight_in_lbs": 3664,
           "Year": "1973-01-01"
          },
          {
           "Acceleration": 16.5,
           "Cylinders": 6,
           "Displacement": 198,
           "Horsepower": 95,
           "Miles_per_Gallon": 20,
           "Name": "plymouth duster",
           "Origin": "USA",
           "Weight_in_lbs": 3102,
           "Year": "1974-01-01"
          },
          {
           "Acceleration": 17,
           "Cylinders": 6,
           "Displacement": 200,
           "Horsepower": null,
           "Miles_per_Gallon": 21,
           "Name": "ford maverick",
           "Origin": "USA",
           "Weight_in_lbs": 2875,
           "Year": "1974-01-01"
          },
          {
           "Acceleration": 16,
           "Cylinders": 6,
           "Displacement": 232,
           "Horsepower": 100,
           "Miles_per_Gallon": 19,
           "Name": "amc hornet",
           "Origin": "USA",
           "Weight_in_lbs": 2901,
           "Year": "1974-01-01"
          },
          {
           "Acceleration": 17,
           "Cylinders": 6,
           "Displacement": 250,
           "Horsepower": 100,
           "Miles_per_Gallon": 15,
           "Name": "chevrolet nova",
           "Origin": "USA",
           "Weight_in_lbs": 3336,
           "Year": "1974-01-01"
          },
          {
           "Acceleration": 19,
           "Cylinders": 4,
           "Displacement": 79,
           "Horsepower": 67,
           "Miles_per_Gallon": 31,
           "Name": "datsun b210",
           "Origin": "Japan",
           "Weight_in_lbs": 1950,
           "Year": "1974-01-01"
          },
          {
           "Acceleration": 16.5,
           "Cylinders": 4,
           "Displacement": 122,
           "Horsepower": 80,
           "Miles_per_Gallon": 26,
           "Name": "ford pinto",
           "Origin": "USA",
           "Weight_in_lbs": 2451,
           "Year": "1974-01-01"
          },
          {
           "Acceleration": 21,
           "Cylinders": 4,
           "Displacement": 71,
           "Horsepower": 65,
           "Miles_per_Gallon": 32,
           "Name": "toyota corolla 1200",
           "Origin": "Japan",
           "Weight_in_lbs": 1836,
           "Year": "1974-01-01"
          },
          {
           "Acceleration": 17,
           "Cylinders": 4,
           "Displacement": 140,
           "Horsepower": 75,
           "Miles_per_Gallon": 25,
           "Name": "chevrolet vega",
           "Origin": "USA",
           "Weight_in_lbs": 2542,
           "Year": "1974-01-01"
          },
          {
           "Acceleration": 17,
           "Cylinders": 6,
           "Displacement": 250,
           "Horsepower": 100,
           "Miles_per_Gallon": 16,
           "Name": "chevrolet chevelle malibu classic",
           "Origin": "USA",
           "Weight_in_lbs": 3781,
           "Year": "1974-01-01"
          },
          {
           "Acceleration": 18,
           "Cylinders": 6,
           "Displacement": 258,
           "Horsepower": 110,
           "Miles_per_Gallon": 16,
           "Name": "amc matador",
           "Origin": "USA",
           "Weight_in_lbs": 3632,
           "Year": "1974-01-01"
          },
          {
           "Acceleration": 16.5,
           "Cylinders": 6,
           "Displacement": 225,
           "Horsepower": 105,
           "Miles_per_Gallon": 18,
           "Name": "plymouth satellite sebring",
           "Origin": "USA",
           "Weight_in_lbs": 3613,
           "Year": "1974-01-01"
          },
          {
           "Acceleration": 14,
           "Cylinders": 8,
           "Displacement": 302,
           "Horsepower": 140,
           "Miles_per_Gallon": 16,
           "Name": "ford gran torino",
           "Origin": "USA",
           "Weight_in_lbs": 4141,
           "Year": "1974-01-01"
          },
          {
           "Acceleration": 14.5,
           "Cylinders": 8,
           "Displacement": 350,
           "Horsepower": 150,
           "Miles_per_Gallon": 13,
           "Name": "buick century luxus (sw)",
           "Origin": "USA",
           "Weight_in_lbs": 4699,
           "Year": "1974-01-01"
          },
          {
           "Acceleration": 13.5,
           "Cylinders": 8,
           "Displacement": 318,
           "Horsepower": 150,
           "Miles_per_Gallon": 14,
           "Name": "dodge coronet custom (sw)",
           "Origin": "USA",
           "Weight_in_lbs": 4457,
           "Year": "1974-01-01"
          },
          {
           "Acceleration": 16,
           "Cylinders": 8,
           "Displacement": 302,
           "Horsepower": 140,
           "Miles_per_Gallon": 14,
           "Name": "ford gran torino (sw)",
           "Origin": "USA",
           "Weight_in_lbs": 4638,
           "Year": "1974-01-01"
          },
          {
           "Acceleration": 15.5,
           "Cylinders": 8,
           "Displacement": 304,
           "Horsepower": 150,
           "Miles_per_Gallon": 14,
           "Name": "amc matador (sw)",
           "Origin": "USA",
           "Weight_in_lbs": 4257,
           "Year": "1974-01-01"
          },
          {
           "Acceleration": 16.5,
           "Cylinders": 4,
           "Displacement": 98,
           "Horsepower": 83,
           "Miles_per_Gallon": 29,
           "Name": "audi fox",
           "Origin": "Europe",
           "Weight_in_lbs": 2219,
           "Year": "1974-01-01"
          },
          {
           "Acceleration": 15.5,
           "Cylinders": 4,
           "Displacement": 79,
           "Horsepower": 67,
           "Miles_per_Gallon": 26,
           "Name": "volkswagen dasher",
           "Origin": "Europe",
           "Weight_in_lbs": 1963,
           "Year": "1974-01-01"
          },
          {
           "Acceleration": 14.5,
           "Cylinders": 4,
           "Displacement": 97,
           "Horsepower": 78,
           "Miles_per_Gallon": 26,
           "Name": "opel manta",
           "Origin": "Europe",
           "Weight_in_lbs": 2300,
           "Year": "1974-01-01"
          },
          {
           "Acceleration": 16.5,
           "Cylinders": 4,
           "Displacement": 76,
           "Horsepower": 52,
           "Miles_per_Gallon": 31,
           "Name": "toyota corona",
           "Origin": "Japan",
           "Weight_in_lbs": 1649,
           "Year": "1974-01-01"
          },
          {
           "Acceleration": 19,
           "Cylinders": 4,
           "Displacement": 83,
           "Horsepower": 61,
           "Miles_per_Gallon": 32,
           "Name": "datsun 710",
           "Origin": "Japan",
           "Weight_in_lbs": 2003,
           "Year": "1974-01-01"
          },
          {
           "Acceleration": 14.5,
           "Cylinders": 4,
           "Displacement": 90,
           "Horsepower": 75,
           "Miles_per_Gallon": 28,
           "Name": "dodge colt",
           "Origin": "USA",
           "Weight_in_lbs": 2125,
           "Year": "1974-01-01"
          },
          {
           "Acceleration": 15.5,
           "Cylinders": 4,
           "Displacement": 90,
           "Horsepower": 75,
           "Miles_per_Gallon": 24,
           "Name": "fiat 128",
           "Origin": "Europe",
           "Weight_in_lbs": 2108,
           "Year": "1974-01-01"
          },
          {
           "Acceleration": 14,
           "Cylinders": 4,
           "Displacement": 116,
           "Horsepower": 75,
           "Miles_per_Gallon": 26,
           "Name": "fiat 124 tc",
           "Origin": "Europe",
           "Weight_in_lbs": 2246,
           "Year": "1974-01-01"
          },
          {
           "Acceleration": 15,
           "Cylinders": 4,
           "Displacement": 120,
           "Horsepower": 97,
           "Miles_per_Gallon": 24,
           "Name": "honda civic",
           "Origin": "Japan",
           "Weight_in_lbs": 2489,
           "Year": "1974-01-01"
          },
          {
           "Acceleration": 15.5,
           "Cylinders": 4,
           "Displacement": 108,
           "Horsepower": 93,
           "Miles_per_Gallon": 26,
           "Name": "subaru",
           "Origin": "Japan",
           "Weight_in_lbs": 2391,
           "Year": "1974-01-01"
          },
          {
           "Acceleration": 16,
           "Cylinders": 4,
           "Displacement": 79,
           "Horsepower": 67,
           "Miles_per_Gallon": 31,
           "Name": "fiat x1.9",
           "Origin": "Europe",
           "Weight_in_lbs": 2000,
           "Year": "1974-01-01"
          },
          {
           "Acceleration": 16,
           "Cylinders": 6,
           "Displacement": 225,
           "Horsepower": 95,
           "Miles_per_Gallon": 19,
           "Name": "plymouth valiant custom",
           "Origin": "USA",
           "Weight_in_lbs": 3264,
           "Year": "1975-01-01"
          },
          {
           "Acceleration": 16,
           "Cylinders": 6,
           "Displacement": 250,
           "Horsepower": 105,
           "Miles_per_Gallon": 18,
           "Name": "chevrolet nova",
           "Origin": "USA",
           "Weight_in_lbs": 3459,
           "Year": "1975-01-01"
          },
          {
           "Acceleration": 21,
           "Cylinders": 6,
           "Displacement": 250,
           "Horsepower": 72,
           "Miles_per_Gallon": 15,
           "Name": "mercury monarch",
           "Origin": "USA",
           "Weight_in_lbs": 3432,
           "Year": "1975-01-01"
          },
          {
           "Acceleration": 19.5,
           "Cylinders": 6,
           "Displacement": 250,
           "Horsepower": 72,
           "Miles_per_Gallon": 15,
           "Name": "ford maverick",
           "Origin": "USA",
           "Weight_in_lbs": 3158,
           "Year": "1975-01-01"
          },
          {
           "Acceleration": 11.5,
           "Cylinders": 8,
           "Displacement": 400,
           "Horsepower": 170,
           "Miles_per_Gallon": 16,
           "Name": "pontiac catalina",
           "Origin": "USA",
           "Weight_in_lbs": 4668,
           "Year": "1975-01-01"
          },
          {
           "Acceleration": 14,
           "Cylinders": 8,
           "Displacement": 350,
           "Horsepower": 145,
           "Miles_per_Gallon": 15,
           "Name": "chevrolet bel air",
           "Origin": "USA",
           "Weight_in_lbs": 4440,
           "Year": "1975-01-01"
          },
          {
           "Acceleration": 14.5,
           "Cylinders": 8,
           "Displacement": 318,
           "Horsepower": 150,
           "Miles_per_Gallon": 16,
           "Name": "plymouth grand fury",
           "Origin": "USA",
           "Weight_in_lbs": 4498,
           "Year": "1975-01-01"
          },
          {
           "Acceleration": 13.5,
           "Cylinders": 8,
           "Displacement": 351,
           "Horsepower": 148,
           "Miles_per_Gallon": 14,
           "Name": "ford ltd",
           "Origin": "USA",
           "Weight_in_lbs": 4657,
           "Year": "1975-01-01"
          },
          {
           "Acceleration": 21,
           "Cylinders": 6,
           "Displacement": 231,
           "Horsepower": 110,
           "Miles_per_Gallon": 17,
           "Name": "buick century",
           "Origin": "USA",
           "Weight_in_lbs": 3907,
           "Year": "1975-01-01"
          },
          {
           "Acceleration": 18.5,
           "Cylinders": 6,
           "Displacement": 250,
           "Horsepower": 105,
           "Miles_per_Gallon": 16,
           "Name": "chevroelt chevelle malibu",
           "Origin": "USA",
           "Weight_in_lbs": 3897,
           "Year": "1975-01-01"
          },
          {
           "Acceleration": 19,
           "Cylinders": 6,
           "Displacement": 258,
           "Horsepower": 110,
           "Miles_per_Gallon": 15,
           "Name": "amc matador",
           "Origin": "USA",
           "Weight_in_lbs": 3730,
           "Year": "1975-01-01"
          },
          {
           "Acceleration": 19,
           "Cylinders": 6,
           "Displacement": 225,
           "Horsepower": 95,
           "Miles_per_Gallon": 18,
           "Name": "plymouth fury",
           "Origin": "USA",
           "Weight_in_lbs": 3785,
           "Year": "1975-01-01"
          },
          {
           "Acceleration": 15,
           "Cylinders": 6,
           "Displacement": 231,
           "Horsepower": 110,
           "Miles_per_Gallon": 21,
           "Name": "buick skyhawk",
           "Origin": "USA",
           "Weight_in_lbs": 3039,
           "Year": "1975-01-01"
          },
          {
           "Acceleration": 13.5,
           "Cylinders": 8,
           "Displacement": 262,
           "Horsepower": 110,
           "Miles_per_Gallon": 20,
           "Name": "chevrolet monza 2+2",
           "Origin": "USA",
           "Weight_in_lbs": 3221,
           "Year": "1975-01-01"
          },
          {
           "Acceleration": 12,
           "Cylinders": 8,
           "Displacement": 302,
           "Horsepower": 129,
           "Miles_per_Gallon": 13,
           "Name": "ford mustang ii",
           "Origin": "USA",
           "Weight_in_lbs": 3169,
           "Year": "1975-01-01"
          },
          {
           "Acceleration": 16,
           "Cylinders": 4,
           "Displacement": 97,
           "Horsepower": 75,
           "Miles_per_Gallon": 29,
           "Name": "toyota corolla",
           "Origin": "Japan",
           "Weight_in_lbs": 2171,
           "Year": "1975-01-01"
          },
          {
           "Acceleration": 17,
           "Cylinders": 4,
           "Displacement": 140,
           "Horsepower": 83,
           "Miles_per_Gallon": 23,
           "Name": "ford pinto",
           "Origin": "USA",
           "Weight_in_lbs": 2639,
           "Year": "1975-01-01"
          },
          {
           "Acceleration": 16,
           "Cylinders": 6,
           "Displacement": 232,
           "Horsepower": 100,
           "Miles_per_Gallon": 20,
           "Name": "amc gremlin",
           "Origin": "USA",
           "Weight_in_lbs": 2914,
           "Year": "1975-01-01"
          },
          {
           "Acceleration": 18.5,
           "Cylinders": 4,
           "Displacement": 140,
           "Horsepower": 78,
           "Miles_per_Gallon": 23,
           "Name": "pontiac astro",
           "Origin": "USA",
           "Weight_in_lbs": 2592,
           "Year": "1975-01-01"
          },
          {
           "Acceleration": 13.5,
           "Cylinders": 4,
           "Displacement": 134,
           "Horsepower": 96,
           "Miles_per_Gallon": 24,
           "Name": "toyota corona",
           "Origin": "Japan",
           "Weight_in_lbs": 2702,
           "Year": "1975-01-01"
          },
          {
           "Acceleration": 16.5,
           "Cylinders": 4,
           "Displacement": 90,
           "Horsepower": 71,
           "Miles_per_Gallon": 25,
           "Name": "volkswagen dasher",
           "Origin": "Europe",
           "Weight_in_lbs": 2223,
           "Year": "1975-01-01"
          },
          {
           "Acceleration": 17,
           "Cylinders": 4,
           "Displacement": 119,
           "Horsepower": 97,
           "Miles_per_Gallon": 24,
           "Name": "datsun 710",
           "Origin": "Japan",
           "Weight_in_lbs": 2545,
           "Year": "1975-01-01"
          },
          {
           "Acceleration": 14.5,
           "Cylinders": 6,
           "Displacement": 171,
           "Horsepower": 97,
           "Miles_per_Gallon": 18,
           "Name": "ford pinto",
           "Origin": "USA",
           "Weight_in_lbs": 2984,
           "Year": "1975-01-01"
          },
          {
           "Acceleration": 14,
           "Cylinders": 4,
           "Displacement": 90,
           "Horsepower": 70,
           "Miles_per_Gallon": 29,
           "Name": "volkswagen rabbit",
           "Origin": "Europe",
           "Weight_in_lbs": 1937,
           "Year": "1975-01-01"
          },
          {
           "Acceleration": 17,
           "Cylinders": 6,
           "Displacement": 232,
           "Horsepower": 90,
           "Miles_per_Gallon": 19,
           "Name": "amc pacer",
           "Origin": "USA",
           "Weight_in_lbs": 3211,
           "Year": "1975-01-01"
          },
          {
           "Acceleration": 15,
           "Cylinders": 4,
           "Displacement": 115,
           "Horsepower": 95,
           "Miles_per_Gallon": 23,
           "Name": "audi 100ls",
           "Origin": "Europe",
           "Weight_in_lbs": 2694,
           "Year": "1975-01-01"
          },
          {
           "Acceleration": 17,
           "Cylinders": 4,
           "Displacement": 120,
           "Horsepower": 88,
           "Miles_per_Gallon": 23,
           "Name": "peugeot 504",
           "Origin": "Europe",
           "Weight_in_lbs": 2957,
           "Year": "1975-01-01"
          },
          {
           "Acceleration": 14.5,
           "Cylinders": 4,
           "Displacement": 121,
           "Horsepower": 98,
           "Miles_per_Gallon": 22,
           "Name": "volvo 244dl",
           "Origin": "Europe",
           "Weight_in_lbs": 2945,
           "Year": "1975-01-01"
          },
          {
           "Acceleration": 13.5,
           "Cylinders": 4,
           "Displacement": 121,
           "Horsepower": 115,
           "Miles_per_Gallon": 25,
           "Name": "saab 99le",
           "Origin": "Europe",
           "Weight_in_lbs": 2671,
           "Year": "1975-01-01"
          },
          {
           "Acceleration": 17.5,
           "Cylinders": 4,
           "Displacement": 91,
           "Horsepower": 53,
           "Miles_per_Gallon": 33,
           "Name": "honda civic cvcc",
           "Origin": "Japan",
           "Weight_in_lbs": 1795,
           "Year": "1975-01-01"
          },
          {
           "Acceleration": 15.5,
           "Cylinders": 4,
           "Displacement": 107,
           "Horsepower": 86,
           "Miles_per_Gallon": 28,
           "Name": "fiat 131",
           "Origin": "Europe",
           "Weight_in_lbs": 2464,
           "Year": "1976-01-01"
          },
          {
           "Acceleration": 16.9,
           "Cylinders": 4,
           "Displacement": 116,
           "Horsepower": 81,
           "Miles_per_Gallon": 25,
           "Name": "opel 1900",
           "Origin": "Europe",
           "Weight_in_lbs": 2220,
           "Year": "1976-01-01"
          },
          {
           "Acceleration": 14.9,
           "Cylinders": 4,
           "Displacement": 140,
           "Horsepower": 92,
           "Miles_per_Gallon": 25,
           "Name": "capri ii",
           "Origin": "USA",
           "Weight_in_lbs": 2572,
           "Year": "1976-01-01"
          },
          {
           "Acceleration": 17.7,
           "Cylinders": 4,
           "Displacement": 98,
           "Horsepower": 79,
           "Miles_per_Gallon": 26,
           "Name": "dodge colt",
           "Origin": "USA",
           "Weight_in_lbs": 2255,
           "Year": "1976-01-01"
          },
          {
           "Acceleration": 15.3,
           "Cylinders": 4,
           "Displacement": 101,
           "Horsepower": 83,
           "Miles_per_Gallon": 27,
           "Name": "renault 12tl",
           "Origin": "Europe",
           "Weight_in_lbs": 2202,
           "Year": "1976-01-01"
          },
          {
           "Acceleration": 13,
           "Cylinders": 8,
           "Displacement": 305,
           "Horsepower": 140,
           "Miles_per_Gallon": 17.5,
           "Name": "chevrolet chevelle malibu classic",
           "Origin": "USA",
           "Weight_in_lbs": 4215,
           "Year": "1976-01-01"
          },
          {
           "Acceleration": 13,
           "Cylinders": 8,
           "Displacement": 318,
           "Horsepower": 150,
           "Miles_per_Gallon": 16,
           "Name": "dodge coronet brougham",
           "Origin": "USA",
           "Weight_in_lbs": 4190,
           "Year": "1976-01-01"
          },
          {
           "Acceleration": 13.9,
           "Cylinders": 8,
           "Displacement": 304,
           "Horsepower": 120,
           "Miles_per_Gallon": 15.5,
           "Name": "amc matador",
           "Origin": "USA",
           "Weight_in_lbs": 3962,
           "Year": "1976-01-01"
          },
          {
           "Acceleration": 12.8,
           "Cylinders": 8,
           "Displacement": 351,
           "Horsepower": 152,
           "Miles_per_Gallon": 14.5,
           "Name": "ford gran torino",
           "Origin": "USA",
           "Weight_in_lbs": 4215,
           "Year": "1976-01-01"
          },
          {
           "Acceleration": 15.4,
           "Cylinders": 6,
           "Displacement": 225,
           "Horsepower": 100,
           "Miles_per_Gallon": 22,
           "Name": "plymouth valiant",
           "Origin": "USA",
           "Weight_in_lbs": 3233,
           "Year": "1976-01-01"
          },
          {
           "Acceleration": 14.5,
           "Cylinders": 6,
           "Displacement": 250,
           "Horsepower": 105,
           "Miles_per_Gallon": 22,
           "Name": "chevrolet nova",
           "Origin": "USA",
           "Weight_in_lbs": 3353,
           "Year": "1976-01-01"
          },
          {
           "Acceleration": 17.6,
           "Cylinders": 6,
           "Displacement": 200,
           "Horsepower": 81,
           "Miles_per_Gallon": 24,
           "Name": "ford maverick",
           "Origin": "USA",
           "Weight_in_lbs": 3012,
           "Year": "1976-01-01"
          },
          {
           "Acceleration": 17.6,
           "Cylinders": 6,
           "Displacement": 232,
           "Horsepower": 90,
           "Miles_per_Gallon": 22.5,
           "Name": "amc hornet",
           "Origin": "USA",
           "Weight_in_lbs": 3085,
           "Year": "1976-01-01"
          },
          {
           "Acceleration": 22.2,
           "Cylinders": 4,
           "Displacement": 85,
           "Horsepower": 52,
           "Miles_per_Gallon": 29,
           "Name": "chevrolet chevette",
           "Origin": "USA",
           "Weight_in_lbs": 2035,
           "Year": "1976-01-01"
          },
          {
           "Acceleration": 22.1,
           "Cylinders": 4,
           "Displacement": 98,
           "Horsepower": 60,
           "Miles_per_Gallon": 24.5,
           "Name": "chevrolet woody",
           "Origin": "USA",
           "Weight_in_lbs": 2164,
           "Year": "1976-01-01"
          },
          {
           "Acceleration": 14.2,
           "Cylinders": 4,
           "Displacement": 90,
           "Horsepower": 70,
           "Miles_per_Gallon": 29,
           "Name": "vw rabbit",
           "Origin": "Europe",
           "Weight_in_lbs": 1937,
           "Year": "1976-01-01"
          },
          {
           "Acceleration": 17.4,
           "Cylinders": 4,
           "Displacement": 91,
           "Horsepower": 53,
           "Miles_per_Gallon": 33,
           "Name": "honda civic",
           "Origin": "Japan",
           "Weight_in_lbs": 1795,
           "Year": "1976-01-01"
          },
          {
           "Acceleration": 17.7,
           "Cylinders": 6,
           "Displacement": 225,
           "Horsepower": 100,
           "Miles_per_Gallon": 20,
           "Name": "dodge aspen se",
           "Origin": "USA",
           "Weight_in_lbs": 3651,
           "Year": "1976-01-01"
          },
          {
           "Acceleration": 21,
           "Cylinders": 6,
           "Displacement": 250,
           "Horsepower": 78,
           "Miles_per_Gallon": 18,
           "Name": "ford granada ghia",
           "Origin": "USA",
           "Weight_in_lbs": 3574,
           "Year": "1976-01-01"
          },
          {
           "Acceleration": 16.2,
           "Cylinders": 6,
           "Displacement": 250,
           "Horsepower": 110,
           "Miles_per_Gallon": 18.5,
           "Name": "pontiac ventura sj",
           "Origin": "USA",
           "Weight_in_lbs": 3645,
           "Year": "1976-01-01"
          },
          {
           "Acceleration": 17.8,
           "Cylinders": 6,
           "Displacement": 258,
           "Horsepower": 95,
           "Miles_per_Gallon": 17.5,
           "Name": "amc pacer d/l",
           "Origin": "USA",
           "Weight_in_lbs": 3193,
           "Year": "1976-01-01"
          },
          {
           "Acceleration": 12.2,
           "Cylinders": 4,
           "Displacement": 97,
           "Horsepower": 71,
           "Miles_per_Gallon": 29.5,
           "Name": "volkswagen rabbit",
           "Origin": "Europe",
           "Weight_in_lbs": 1825,
           "Year": "1976-01-01"
          },
          {
           "Acceleration": 17,
           "Cylinders": 4,
           "Displacement": 85,
           "Horsepower": 70,
           "Miles_per_Gallon": 32,
           "Name": "datsun b-210",
           "Origin": "Japan",
           "Weight_in_lbs": 1990,
           "Year": "1976-01-01"
          },
          {
           "Acceleration": 16.4,
           "Cylinders": 4,
           "Displacement": 97,
           "Horsepower": 75,
           "Miles_per_Gallon": 28,
           "Name": "toyota corolla",
           "Origin": "Japan",
           "Weight_in_lbs": 2155,
           "Year": "1976-01-01"
          },
          {
           "Acceleration": 13.6,
           "Cylinders": 4,
           "Displacement": 140,
           "Horsepower": 72,
           "Miles_per_Gallon": 26.5,
           "Name": "ford pinto",
           "Origin": "USA",
           "Weight_in_lbs": 2565,
           "Year": "1976-01-01"
          },
          {
           "Acceleration": 15.7,
           "Cylinders": 4,
           "Displacement": 130,
           "Horsepower": 102,
           "Miles_per_Gallon": 20,
           "Name": "volvo 245",
           "Origin": "Europe",
           "Weight_in_lbs": 3150,
           "Year": "1976-01-01"
          },
          {
           "Acceleration": 13.2,
           "Cylinders": 8,
           "Displacement": 318,
           "Horsepower": 150,
           "Miles_per_Gallon": 13,
           "Name": "plymouth volare premier v8",
           "Origin": "USA",
           "Weight_in_lbs": 3940,
           "Year": "1976-01-01"
          },
          {
           "Acceleration": 21.9,
           "Cylinders": 4,
           "Displacement": 120,
           "Horsepower": 88,
           "Miles_per_Gallon": 19,
           "Name": "peugeot 504",
           "Origin": "Europe",
           "Weight_in_lbs": 3270,
           "Year": "1976-01-01"
          },
          {
           "Acceleration": 15.5,
           "Cylinders": 6,
           "Displacement": 156,
           "Horsepower": 108,
           "Miles_per_Gallon": 19,
           "Name": "toyota mark ii",
           "Origin": "Japan",
           "Weight_in_lbs": 2930,
           "Year": "1976-01-01"
          },
          {
           "Acceleration": 16.7,
           "Cylinders": 6,
           "Displacement": 168,
           "Horsepower": 120,
           "Miles_per_Gallon": 16.5,
           "Name": "mercedes-benz 280s",
           "Origin": "Europe",
           "Weight_in_lbs": 3820,
           "Year": "1976-01-01"
          },
          {
           "Acceleration": 12.1,
           "Cylinders": 8,
           "Displacement": 350,
           "Horsepower": 180,
           "Miles_per_Gallon": 16.5,
           "Name": "cadillac seville",
           "Origin": "USA",
           "Weight_in_lbs": 4380,
           "Year": "1976-01-01"
          },
          {
           "Acceleration": 12,
           "Cylinders": 8,
           "Displacement": 350,
           "Horsepower": 145,
           "Miles_per_Gallon": 13,
           "Name": "chevy c10",
           "Origin": "USA",
           "Weight_in_lbs": 4055,
           "Year": "1976-01-01"
          },
          {
           "Acceleration": 15,
           "Cylinders": 8,
           "Displacement": 302,
           "Horsepower": 130,
           "Miles_per_Gallon": 13,
           "Name": "ford f108",
           "Origin": "USA",
           "Weight_in_lbs": 3870,
           "Year": "1976-01-01"
          },
          {
           "Acceleration": 14,
           "Cylinders": 8,
           "Displacement": 318,
           "Horsepower": 150,
           "Miles_per_Gallon": 13,
           "Name": "dodge d100",
           "Origin": "USA",
           "Weight_in_lbs": 3755,
           "Year": "1976-01-01"
          },
          {
           "Acceleration": 18.5,
           "Cylinders": 4,
           "Displacement": 98,
           "Horsepower": 68,
           "Miles_per_Gallon": 31.5,
           "Name": "honda Accelerationord cvcc",
           "Origin": "Japan",
           "Weight_in_lbs": 2045,
           "Year": "1977-01-01"
          },
          {
           "Acceleration": 14.8,
           "Cylinders": 4,
           "Displacement": 111,
           "Horsepower": 80,
           "Miles_per_Gallon": 30,
           "Name": "buick opel isuzu deluxe",
           "Origin": "USA",
           "Weight_in_lbs": 2155,
           "Year": "1977-01-01"
          },
          {
           "Acceleration": 18.6,
           "Cylinders": 4,
           "Displacement": 79,
           "Horsepower": 58,
           "Miles_per_Gallon": 36,
           "Name": "renault 5 gtl",
           "Origin": "Europe",
           "Weight_in_lbs": 1825,
           "Year": "1977-01-01"
          },
          {
           "Acceleration": 15.5,
           "Cylinders": 4,
           "Displacement": 122,
           "Horsepower": 96,
           "Miles_per_Gallon": 25.5,
           "Name": "plymouth arrow gs",
           "Origin": "USA",
           "Weight_in_lbs": 2300,
           "Year": "1977-01-01"
          },
          {
           "Acceleration": 16.8,
           "Cylinders": 4,
           "Displacement": 85,
           "Horsepower": 70,
           "Miles_per_Gallon": 33.5,
           "Name": "datsun f-10 hatchback",
           "Origin": "Japan",
           "Weight_in_lbs": 1945,
           "Year": "1977-01-01"
          },
          {
           "Acceleration": 12.5,
           "Cylinders": 8,
           "Displacement": 305,
           "Horsepower": 145,
           "Miles_per_Gallon": 17.5,
           "Name": "chevrolet caprice classic",
           "Origin": "USA",
           "Weight_in_lbs": 3880,
           "Year": "1977-01-01"
          },
          {
           "Acceleration": 19,
           "Cylinders": 8,
           "Displacement": 260,
           "Horsepower": 110,
           "Miles_per_Gallon": 17,
           "Name": "oldsmobile cutlass supreme",
           "Origin": "USA",
           "Weight_in_lbs": 4060,
           "Year": "1977-01-01"
          },
          {
           "Acceleration": 13.7,
           "Cylinders": 8,
           "Displacement": 318,
           "Horsepower": 145,
           "Miles_per_Gallon": 15.5,
           "Name": "dodge monaco brougham",
           "Origin": "USA",
           "Weight_in_lbs": 4140,
           "Year": "1977-01-01"
          },
          {
           "Acceleration": 14.9,
           "Cylinders": 8,
           "Displacement": 302,
           "Horsepower": 130,
           "Miles_per_Gallon": 15,
           "Name": "mercury cougar brougham",
           "Origin": "USA",
           "Weight_in_lbs": 4295,
           "Year": "1977-01-01"
          },
          {
           "Acceleration": 16.4,
           "Cylinders": 6,
           "Displacement": 250,
           "Horsepower": 110,
           "Miles_per_Gallon": 17.5,
           "Name": "chevrolet concours",
           "Origin": "USA",
           "Weight_in_lbs": 3520,
           "Year": "1977-01-01"
          },
          {
           "Acceleration": 16.9,
           "Cylinders": 6,
           "Displacement": 231,
           "Horsepower": 105,
           "Miles_per_Gallon": 20.5,
           "Name": "buick skylark",
           "Origin": "USA",
           "Weight_in_lbs": 3425,
           "Year": "1977-01-01"
          },
          {
           "Acceleration": 17.7,
           "Cylinders": 6,
           "Displacement": 225,
           "Horsepower": 100,
           "Miles_per_Gallon": 19,
           "Name": "plymouth volare custom",
           "Origin": "USA",
           "Weight_in_lbs": 3630,
           "Year": "1977-01-01"
          },
          {
           "Acceleration": 19,
           "Cylinders": 6,
           "Displacement": 250,
           "Horsepower": 98,
           "Miles_per_Gallon": 18.5,
           "Name": "ford granada",
           "Origin": "USA",
           "Weight_in_lbs": 3525,
           "Year": "1977-01-01"
          },
          {
           "Acceleration": 11.1,
           "Cylinders": 8,
           "Displacement": 400,
           "Horsepower": 180,
           "Miles_per_Gallon": 16,
           "Name": "pontiac grand prix lj",
           "Origin": "USA",
           "Weight_in_lbs": 4220,
           "Year": "1977-01-01"
          },
          {
           "Acceleration": 11.4,
           "Cylinders": 8,
           "Displacement": 350,
           "Horsepower": 170,
           "Miles_per_Gallon": 15.5,
           "Name": "chevrolet monte carlo landau",
           "Origin": "USA",
           "Weight_in_lbs": 4165,
           "Year": "1977-01-01"
          },
          {
           "Acceleration": 12.2,
           "Cylinders": 8,
           "Displacement": 400,
           "Horsepower": 190,
           "Miles_per_Gallon": 15.5,
           "Name": "chrysler cordoba",
           "Origin": "USA",
           "Weight_in_lbs": 4325,
           "Year": "1977-01-01"
          },
          {
           "Acceleration": 14.5,
           "Cylinders": 8,
           "Displacement": 351,
           "Horsepower": 149,
           "Miles_per_Gallon": 16,
           "Name": "ford thunderbird",
           "Origin": "USA",
           "Weight_in_lbs": 4335,
           "Year": "1977-01-01"
          },
          {
           "Acceleration": 14.5,
           "Cylinders": 4,
           "Displacement": 97,
           "Horsepower": 78,
           "Miles_per_Gallon": 29,
           "Name": "volkswagen rabbit custom",
           "Origin": "Europe",
           "Weight_in_lbs": 1940,
           "Year": "1977-01-01"
          },
          {
           "Acceleration": 16,
           "Cylinders": 4,
           "Displacement": 151,
           "Horsepower": 88,
           "Miles_per_Gallon": 24.5,
           "Name": "pontiac sunbird coupe",
           "Origin": "USA",
           "Weight_in_lbs": 2740,
           "Year": "1977-01-01"
          },
          {
           "Acceleration": 18.2,
           "Cylinders": 4,
           "Displacement": 97,
           "Horsepower": 75,
           "Miles_per_Gallon": 26,
           "Name": "toyota corolla liftback",
           "Origin": "Japan",
           "Weight_in_lbs": 2265,
           "Year": "1977-01-01"
          },
          {
           "Acceleration": 15.8,
           "Cylinders": 4,
           "Displacement": 140,
           "Horsepower": 89,
           "Miles_per_Gallon": 25.5,
           "Name": "ford mustang ii 2+2",
           "Origin": "USA",
           "Weight_in_lbs": 2755,
           "Year": "1977-01-01"
          },
          {
           "Acceleration": 17,
           "Cylinders": 4,
           "Displacement": 98,
           "Horsepower": 63,
           "Miles_per_Gallon": 30.5,
           "Name": "chevrolet chevette",
           "Origin": "USA",
           "Weight_in_lbs": 2051,
           "Year": "1977-01-01"
          },
          {
           "Acceleration": 15.9,
           "Cylinders": 4,
           "Displacement": 98,
           "Horsepower": 83,
           "Miles_per_Gallon": 33.5,
           "Name": "dodge colt m/m",
           "Origin": "USA",
           "Weight_in_lbs": 2075,
           "Year": "1977-01-01"
          },
          {
           "Acceleration": 16.4,
           "Cylinders": 4,
           "Displacement": 97,
           "Horsepower": 67,
           "Miles_per_Gallon": 30,
           "Name": "subaru dl",
           "Origin": "Japan",
           "Weight_in_lbs": 1985,
           "Year": "1977-01-01"
          },
          {
           "Acceleration": 14.1,
           "Cylinders": 4,
           "Displacement": 97,
           "Horsepower": 78,
           "Miles_per_Gallon": 30.5,
           "Name": "volkswagen dasher",
           "Origin": "Europe",
           "Weight_in_lbs": 2190,
           "Year": "1977-01-01"
          },
          {
           "Acceleration": 14.5,
           "Cylinders": 6,
           "Displacement": 146,
           "Horsepower": 97,
           "Miles_per_Gallon": 22,
           "Name": "datsun 810",
           "Origin": "Japan",
           "Weight_in_lbs": 2815,
           "Year": "1977-01-01"
          },
          {
           "Acceleration": 12.8,
           "Cylinders": 4,
           "Displacement": 121,
           "Horsepower": 110,
           "Miles_per_Gallon": 21.5,
           "Name": "bmw 320i",
           "Origin": "Europe",
           "Weight_in_lbs": 2600,
           "Year": "1977-01-01"
          },
          {
           "Acceleration": 13.5,
           "Cylinders": 3,
           "Displacement": 80,
           "Horsepower": 110,
           "Miles_per_Gallon": 21.5,
           "Name": "mazda rx-4",
           "Origin": "Japan",
           "Weight_in_lbs": 2720,
           "Year": "1977-01-01"
          },
          {
           "Acceleration": 21.5,
           "Cylinders": 4,
           "Displacement": 90,
           "Horsepower": 48,
           "Miles_per_Gallon": 43.1,
           "Name": "volkswagen rabbit custom diesel",
           "Origin": "Europe",
           "Weight_in_lbs": 1985,
           "Year": "1978-01-01"
          },
          {
           "Acceleration": 14.4,
           "Cylinders": 4,
           "Displacement": 98,
           "Horsepower": 66,
           "Miles_per_Gallon": 36.1,
           "Name": "ford fiesta",
           "Origin": "USA",
           "Weight_in_lbs": 1800,
           "Year": "1978-01-01"
          },
          {
           "Acceleration": 19.4,
           "Cylinders": 4,
           "Displacement": 78,
           "Horsepower": 52,
           "Miles_per_Gallon": 32.8,
           "Name": "mazda glc deluxe",
           "Origin": "Japan",
           "Weight_in_lbs": 1985,
           "Year": "1978-01-01"
          },
          {
           "Acceleration": 18.6,
           "Cylinders": 4,
           "Displacement": 85,
           "Horsepower": 70,
           "Miles_per_Gallon": 39.4,
           "Name": "datsun b210 gx",
           "Origin": "Japan",
           "Weight_in_lbs": 2070,
           "Year": "1978-01-01"
          },
          {
           "Acceleration": 16.4,
           "Cylinders": 4,
           "Displacement": 91,
           "Horsepower": 60,
           "Miles_per_Gallon": 36.1,
           "Name": "honda civic cvcc",
           "Origin": "Japan",
           "Weight_in_lbs": 1800,
           "Year": "1978-01-01"
          },
          {
           "Acceleration": 15.5,
           "Cylinders": 8,
           "Displacement": 260,
           "Horsepower": 110,
           "Miles_per_Gallon": 19.9,
           "Name": "oldsmobile cutlass salon brougham",
           "Origin": "USA",
           "Weight_in_lbs": 3365,
           "Year": "1978-01-01"
          },
          {
           "Acceleration": 13.2,
           "Cylinders": 8,
           "Displacement": 318,
           "Horsepower": 140,
           "Miles_per_Gallon": 19.4,
           "Name": "dodge diplomat",
           "Origin": "USA",
           "Weight_in_lbs": 3735,
           "Year": "1978-01-01"
          },
          {
           "Acceleration": 12.8,
           "Cylinders": 8,
           "Displacement": 302,
           "Horsepower": 139,
           "Miles_per_Gallon": 20.2,
           "Name": "mercury monarch ghia",
           "Origin": "USA",
           "Weight_in_lbs": 3570,
           "Year": "1978-01-01"
          },
          {
           "Acceleration": 19.2,
           "Cylinders": 6,
           "Displacement": 231,
           "Horsepower": 105,
           "Miles_per_Gallon": 19.2,
           "Name": "pontiac phoenix lj",
           "Origin": "USA",
           "Weight_in_lbs": 3535,
           "Year": "1978-01-01"
          },
          {
           "Acceleration": 18.2,
           "Cylinders": 6,
           "Displacement": 200,
           "Horsepower": 95,
           "Miles_per_Gallon": 20.5,
           "Name": "chevrolet malibu",
           "Origin": "USA",
           "Weight_in_lbs": 3155,
           "Year": "1978-01-01"
          },
          {
           "Acceleration": 15.8,
           "Cylinders": 6,
           "Displacement": 200,
           "Horsepower": 85,
           "Miles_per_Gallon": 20.2,
           "Name": "ford fairmont (auto)",
           "Origin": "USA",
           "Weight_in_lbs": 2965,
           "Year": "1978-01-01"
          },
          {
           "Acceleration": 15.4,
           "Cylinders": 4,
           "Displacement": 140,
           "Horsepower": 88,
           "Miles_per_Gallon": 25.1,
           "Name": "ford fairmont (man)",
           "Origin": "USA",
           "Weight_in_lbs": 2720,
           "Year": "1978-01-01"
          },
          {
           "Acceleration": 17.2,
           "Cylinders": 6,
           "Displacement": 225,
           "Horsepower": 100,
           "Miles_per_Gallon": 20.5,
           "Name": "plymouth volare",
           "Origin": "USA",
           "Weight_in_lbs": 3430,
           "Year": "1978-01-01"
          },
          {
           "Acceleration": 17.2,
           "Cylinders": 6,
           "Displacement": 232,
           "Horsepower": 90,
           "Miles_per_Gallon": 19.4,
           "Name": "amc concord",
           "Origin": "USA",
           "Weight_in_lbs": 3210,
           "Year": "1978-01-01"
          },
          {
           "Acceleration": 15.8,
           "Cylinders": 6,
           "Displacement": 231,
           "Horsepower": 105,
           "Miles_per_Gallon": 20.6,
           "Name": "buick century special",
           "Origin": "USA",
           "Weight_in_lbs": 3380,
           "Year": "1978-01-01"
          },
          {
           "Acceleration": 16.7,
           "Cylinders": 6,
           "Displacement": 200,
           "Horsepower": 85,
           "Miles_per_Gallon": 20.8,
           "Name": "mercury zephyr",
           "Origin": "USA",
           "Weight_in_lbs": 3070,
           "Year": "1978-01-01"
          },
          {
           "Acceleration": 18.7,
           "Cylinders": 6,
           "Displacement": 225,
           "Horsepower": 110,
           "Miles_per_Gallon": 18.6,
           "Name": "dodge aspen",
           "Origin": "USA",
           "Weight_in_lbs": 3620,
           "Year": "1978-01-01"
          },
          {
           "Acceleration": 15.1,
           "Cylinders": 6,
           "Displacement": 258,
           "Horsepower": 120,
           "Miles_per_Gallon": 18.1,
           "Name": "amc concord d/l",
           "Origin": "USA",
           "Weight_in_lbs": 3410,
           "Year": "1978-01-01"
          },
          {
           "Acceleration": 13.2,
           "Cylinders": 8,
           "Displacement": 305,
           "Horsepower": 145,
           "Miles_per_Gallon": 19.2,
           "Name": "chevrolet monte carlo landau",
           "Origin": "USA",
           "Weight_in_lbs": 3425,
           "Year": "1978-01-01"
          },
          {
           "Acceleration": 13.4,
           "Cylinders": 6,
           "Displacement": 231,
           "Horsepower": 165,
           "Miles_per_Gallon": 17.7,
           "Name": "buick regal sport coupe (turbo)",
           "Origin": "USA",
           "Weight_in_lbs": 3445,
           "Year": "1978-01-01"
          },
          {
           "Acceleration": 11.2,
           "Cylinders": 8,
           "Displacement": 302,
           "Horsepower": 139,
           "Miles_per_Gallon": 18.1,
           "Name": "ford futura",
           "Origin": "USA",
           "Weight_in_lbs": 3205,
           "Year": "1978-01-01"
          },
          {
           "Acceleration": 13.7,
           "Cylinders": 8,
           "Displacement": 318,
           "Horsepower": 140,
           "Miles_per_Gallon": 17.5,
           "Name": "dodge magnum xe",
           "Origin": "USA",
           "Weight_in_lbs": 4080,
           "Year": "1978-01-01"
          },
          {
           "Acceleration": 16.5,
           "Cylinders": 4,
           "Displacement": 98,
           "Horsepower": 68,
           "Miles_per_Gallon": 30,
           "Name": "chevrolet chevette",
           "Origin": "USA",
           "Weight_in_lbs": 2155,
           "Year": "1978-01-01"
          },
          {
           "Acceleration": 14.2,
           "Cylinders": 4,
           "Displacement": 134,
           "Horsepower": 95,
           "Miles_per_Gallon": 27.5,
           "Name": "toyota corona",
           "Origin": "Japan",
           "Weight_in_lbs": 2560,
           "Year": "1978-01-01"
          },
          {
           "Acceleration": 14.7,
           "Cylinders": 4,
           "Displacement": 119,
           "Horsepower": 97,
           "Miles_per_Gallon": 27.2,
           "Name": "datsun 510",
           "Origin": "Japan",
           "Weight_in_lbs": 2300,
           "Year": "1978-01-01"
          },
          {
           "Acceleration": 14.5,
           "Cylinders": 4,
           "Displacement": 105,
           "Horsepower": 75,
           "Miles_per_Gallon": 30.9,
           "Name": "dodge omni",
           "Origin": "USA",
           "Weight_in_lbs": 2230,
           "Year": "1978-01-01"
          },
          {
           "Acceleration": 14.8,
           "Cylinders": 4,
           "Displacement": 134,
           "Horsepower": 95,
           "Miles_per_Gallon": 21.1,
           "Name": "toyota celica gt liftback",
           "Origin": "Japan",
           "Weight_in_lbs": 2515,
           "Year": "1978-01-01"
          },
          {
           "Acceleration": 16.7,
           "Cylinders": 4,
           "Displacement": 156,
           "Horsepower": 105,
           "Miles_per_Gallon": 23.2,
           "Name": "plymouth sapporo",
           "Origin": "USA",
           "Weight_in_lbs": 2745,
           "Year": "1978-01-01"
          },
          {
           "Acceleration": 17.6,
           "Cylinders": 4,
           "Displacement": 151,
           "Horsepower": 85,
           "Miles_per_Gallon": 23.8,
           "Name": "oldsmobile starfire sx",
           "Origin": "USA",
           "Weight_in_lbs": 2855,
           "Year": "1978-01-01"
          },
          {
           "Acceleration": 14.9,
           "Cylinders": 4,
           "Displacement": 119,
           "Horsepower": 97,
           "Miles_per_Gallon": 23.9,
           "Name": "datsun 200-sx",
           "Origin": "Japan",
           "Weight_in_lbs": 2405,
           "Year": "1978-01-01"
          },
          {
           "Acceleration": 15.9,
           "Cylinders": 5,
           "Displacement": 131,
           "Horsepower": 103,
           "Miles_per_Gallon": 20.3,
           "Name": "audi 5000",
           "Origin": "Europe",
           "Weight_in_lbs": 2830,
           "Year": "1978-01-01"
          },
          {
           "Acceleration": 13.6,
           "Cylinders": 6,
           "Displacement": 163,
           "Horsepower": 125,
           "Miles_per_Gallon": 17,
           "Name": "volvo 264gl",
           "Origin": "Europe",
           "Weight_in_lbs": 3140,
           "Year": "1978-01-01"
          },
          {
           "Acceleration": 15.7,
           "Cylinders": 4,
           "Displacement": 121,
           "Horsepower": 115,
           "Miles_per_Gallon": 21.6,
           "Name": "saab 99gle",
           "Origin": "Europe",
           "Weight_in_lbs": 2795,
           "Year": "1978-01-01"
          },
          {
           "Acceleration": 15.8,
           "Cylinders": 6,
           "Displacement": 163,
           "Horsepower": 133,
           "Miles_per_Gallon": 16.2,
           "Name": "peugeot 604sl",
           "Origin": "Europe",
           "Weight_in_lbs": 3410,
           "Year": "1978-01-01"
          },
          {
           "Acceleration": 14.9,
           "Cylinders": 4,
           "Displacement": 89,
           "Horsepower": 71,
           "Miles_per_Gallon": 31.5,
           "Name": "volkswagen scirocco",
           "Origin": "Europe",
           "Weight_in_lbs": 1990,
           "Year": "1978-01-01"
          },
          {
           "Acceleration": 16.6,
           "Cylinders": 4,
           "Displacement": 98,
           "Horsepower": 68,
           "Miles_per_Gallon": 29.5,
           "Name": "honda Accelerationord lx",
           "Origin": "Japan",
           "Weight_in_lbs": 2135,
           "Year": "1978-01-01"
          },
          {
           "Acceleration": 15.4,
           "Cylinders": 6,
           "Displacement": 231,
           "Horsepower": 115,
           "Miles_per_Gallon": 21.5,
           "Name": "pontiac lemans v6",
           "Origin": "USA",
           "Weight_in_lbs": 3245,
           "Year": "1979-01-01"
          },
          {
           "Acceleration": 18.2,
           "Cylinders": 6,
           "Displacement": 200,
           "Horsepower": 85,
           "Miles_per_Gallon": 19.8,
           "Name": "mercury zephyr 6",
           "Origin": "USA",
           "Weight_in_lbs": 2990,
           "Year": "1979-01-01"
          },
          {
           "Acceleration": 17.3,
           "Cylinders": 4,
           "Displacement": 140,
           "Horsepower": 88,
           "Miles_per_Gallon": 22.3,
           "Name": "ford fairmont 4",
           "Origin": "USA",
           "Weight_in_lbs": 2890,
           "Year": "1979-01-01"
          },
          {
           "Acceleration": 18.2,
           "Cylinders": 6,
           "Displacement": 232,
           "Horsepower": 90,
           "Miles_per_Gallon": 20.2,
           "Name": "amc concord dl 6",
           "Origin": "USA",
           "Weight_in_lbs": 3265,
           "Year": "1979-01-01"
          },
          {
           "Acceleration": 16.6,
           "Cylinders": 6,
           "Displacement": 225,
           "Horsepower": 110,
           "Miles_per_Gallon": 20.6,
           "Name": "dodge aspen 6",
           "Origin": "USA",
           "Weight_in_lbs": 3360,
           "Year": "1979-01-01"
          },
          {
           "Acceleration": 15.4,
           "Cylinders": 8,
           "Displacement": 305,
           "Horsepower": 130,
           "Miles_per_Gallon": 17,
           "Name": "chevrolet caprice classic",
           "Origin": "USA",
           "Weight_in_lbs": 3840,
           "Year": "1979-01-01"
          },
          {
           "Acceleration": 13.4,
           "Cylinders": 8,
           "Displacement": 302,
           "Horsepower": 129,
           "Miles_per_Gallon": 17.6,
           "Name": "ford ltd landau",
           "Origin": "USA",
           "Weight_in_lbs": 3725,
           "Year": "1979-01-01"
          },
          {
           "Acceleration": 13.2,
           "Cylinders": 8,
           "Displacement": 351,
           "Horsepower": 138,
           "Miles_per_Gallon": 16.5,
           "Name": "mercury grand marquis",
           "Origin": "USA",
           "Weight_in_lbs": 3955,
           "Year": "1979-01-01"
          },
          {
           "Acceleration": 15.2,
           "Cylinders": 8,
           "Displacement": 318,
           "Horsepower": 135,
           "Miles_per_Gallon": 18.2,
           "Name": "dodge st. regis",
           "Origin": "USA",
           "Weight_in_lbs": 3830,
           "Year": "1979-01-01"
          },
          {
           "Acceleration": 14.9,
           "Cylinders": 8,
           "Displacement": 350,
           "Horsepower": 155,
           "Miles_per_Gallon": 16.9,
           "Name": "buick estate wagon (sw)",
           "Origin": "USA",
           "Weight_in_lbs": 4360,
           "Year": "1979-01-01"
          },
          {
           "Acceleration": 14.3,
           "Cylinders": 8,
           "Displacement": 351,
           "Horsepower": 142,
           "Miles_per_Gallon": 15.5,
           "Name": "ford country squire (sw)",
           "Origin": "USA",
           "Weight_in_lbs": 4054,
           "Year": "1979-01-01"
          },
          {
           "Acceleration": 15,
           "Cylinders": 8,
           "Displacement": 267,
           "Horsepower": 125,
           "Miles_per_Gallon": 19.2,
           "Name": "chevrolet malibu classic (sw)",
           "Origin": "USA",
           "Weight_in_lbs": 3605,
           "Year": "1979-01-01"
          },
          {
           "Acceleration": 13,
           "Cylinders": 8,
           "Displacement": 360,
           "Horsepower": 150,
           "Miles_per_Gallon": 18.5,
           "Name": "chrysler lebaron town @ country (sw)",
           "Origin": "USA",
           "Weight_in_lbs": 3940,
           "Year": "1979-01-01"
          },
          {
           "Acceleration": 14,
           "Cylinders": 4,
           "Displacement": 89,
           "Horsepower": 71,
           "Miles_per_Gallon": 31.9,
           "Name": "vw rabbit custom",
           "Origin": "Europe",
           "Weight_in_lbs": 1925,
           "Year": "1979-01-01"
          },
          {
           "Acceleration": 15.2,
           "Cylinders": 4,
           "Displacement": 86,
           "Horsepower": 65,
           "Miles_per_Gallon": 34.1,
           "Name": "maxda glc deluxe",
           "Origin": "Japan",
           "Weight_in_lbs": 1975,
           "Year": "1979-01-01"
          },
          {
           "Acceleration": 14.4,
           "Cylinders": 4,
           "Displacement": 98,
           "Horsepower": 80,
           "Miles_per_Gallon": 35.7,
           "Name": "dodge colt hatchback custom",
           "Origin": "USA",
           "Weight_in_lbs": 1915,
           "Year": "1979-01-01"
          },
          {
           "Acceleration": 15,
           "Cylinders": 4,
           "Displacement": 121,
           "Horsepower": 80,
           "Miles_per_Gallon": 27.4,
           "Name": "amc spirit dl",
           "Origin": "USA",
           "Weight_in_lbs": 2670,
           "Year": "1979-01-01"
          },
          {
           "Acceleration": 20.1,
           "Cylinders": 5,
           "Displacement": 183,
           "Horsepower": 77,
           "Miles_per_Gallon": 25.4,
           "Name": "mercedes benz 300d",
           "Origin": "Europe",
           "Weight_in_lbs": 3530,
           "Year": "1979-01-01"
          },
          {
           "Acceleration": 17.4,
           "Cylinders": 8,
           "Displacement": 350,
           "Horsepower": 125,
           "Miles_per_Gallon": 23,
           "Name": "cadillac eldorado",
           "Origin": "USA",
           "Weight_in_lbs": 3900,
           "Year": "1979-01-01"
          },
          {
           "Acceleration": 24.8,
           "Cylinders": 4,
           "Displacement": 141,
           "Horsepower": 71,
           "Miles_per_Gallon": 27.2,
           "Name": "peugeot 504",
           "Origin": "Europe",
           "Weight_in_lbs": 3190,
           "Year": "1979-01-01"
          },
          {
           "Acceleration": 22.2,
           "Cylinders": 8,
           "Displacement": 260,
           "Horsepower": 90,
           "Miles_per_Gallon": 23.9,
           "Name": "oldsmobile cutlass salon brougham",
           "Origin": "USA",
           "Weight_in_lbs": 3420,
           "Year": "1979-01-01"
          },
          {
           "Acceleration": 13.2,
           "Cylinders": 4,
           "Displacement": 105,
           "Horsepower": 70,
           "Miles_per_Gallon": 34.2,
           "Name": "plymouth horizon",
           "Origin": "USA",
           "Weight_in_lbs": 2200,
           "Year": "1979-01-01"
          },
          {
           "Acceleration": 14.9,
           "Cylinders": 4,
           "Displacement": 105,
           "Horsepower": 70,
           "Miles_per_Gallon": 34.5,
           "Name": "plymouth horizon tc3",
           "Origin": "USA",
           "Weight_in_lbs": 2150,
           "Year": "1979-01-01"
          },
          {
           "Acceleration": 19.2,
           "Cylinders": 4,
           "Displacement": 85,
           "Horsepower": 65,
           "Miles_per_Gallon": 31.8,
           "Name": "datsun 210",
           "Origin": "Japan",
           "Weight_in_lbs": 2020,
           "Year": "1979-01-01"
          },
          {
           "Acceleration": 14.7,
           "Cylinders": 4,
           "Displacement": 91,
           "Horsepower": 69,
           "Miles_per_Gallon": 37.3,
           "Name": "fiat strada custom",
           "Origin": "Europe",
           "Weight_in_lbs": 2130,
           "Year": "1979-01-01"
          },
          {
           "Acceleration": 16,
           "Cylinders": 4,
           "Displacement": 151,
           "Horsepower": 90,
           "Miles_per_Gallon": 28.4,
           "Name": "buick skylark limited",
           "Origin": "USA",
           "Weight_in_lbs": 2670,
           "Year": "1979-01-01"
          },
          {
           "Acceleration": 11.3,
           "Cylinders": 6,
           "Displacement": 173,
           "Horsepower": 115,
           "Miles_per_Gallon": 28.8,
           "Name": "chevrolet citation",
           "Origin": "USA",
           "Weight_in_lbs": 2595,
           "Year": "1979-01-01"
          },
          {
           "Acceleration": 12.9,
           "Cylinders": 6,
           "Displacement": 173,
           "Horsepower": 115,
           "Miles_per_Gallon": 26.8,
           "Name": "oldsmobile omega brougham",
           "Origin": "USA",
           "Weight_in_lbs": 2700,
           "Year": "1979-01-01"
          },
          {
           "Acceleration": 13.2,
           "Cylinders": 4,
           "Displacement": 151,
           "Horsepower": 90,
           "Miles_per_Gallon": 33.5,
           "Name": "pontiac phoenix",
           "Origin": "USA",
           "Weight_in_lbs": 2556,
           "Year": "1979-01-01"
          },
          {
           "Acceleration": 14.7,
           "Cylinders": 4,
           "Displacement": 98,
           "Horsepower": 76,
           "Miles_per_Gallon": 41.5,
           "Name": "vw rabbit",
           "Origin": "Europe",
           "Weight_in_lbs": 2144,
           "Year": "1980-01-01"
          },
          {
           "Acceleration": 18.8,
           "Cylinders": 4,
           "Displacement": 89,
           "Horsepower": 60,
           "Miles_per_Gallon": 38.1,
           "Name": "toyota corolla tercel",
           "Origin": "Japan",
           "Weight_in_lbs": 1968,
           "Year": "1980-01-01"
          },
          {
           "Acceleration": 15.5,
           "Cylinders": 4,
           "Displacement": 98,
           "Horsepower": 70,
           "Miles_per_Gallon": 32.1,
           "Name": "chevrolet chevette",
           "Origin": "USA",
           "Weight_in_lbs": 2120,
           "Year": "1980-01-01"
          },
          {
           "Acceleration": 16.4,
           "Cylinders": 4,
           "Displacement": 86,
           "Horsepower": 65,
           "Miles_per_Gallon": 37.2,
           "Name": "datsun 310",
           "Origin": "Japan",
           "Weight_in_lbs": 2019,
           "Year": "1980-01-01"
          },
          {
           "Acceleration": 16.5,
           "Cylinders": 4,
           "Displacement": 151,
           "Horsepower": 90,
           "Miles_per_Gallon": 28,
           "Name": "chevrolet citation",
           "Origin": "USA",
           "Weight_in_lbs": 2678,
           "Year": "1980-01-01"
          },
          {
           "Acceleration": 18.1,
           "Cylinders": 4,
           "Displacement": 140,
           "Horsepower": 88,
           "Miles_per_Gallon": 26.4,
           "Name": "ford fairmont",
           "Origin": "USA",
           "Weight_in_lbs": 2870,
           "Year": "1980-01-01"
          },
          {
           "Acceleration": 20.1,
           "Cylinders": 4,
           "Displacement": 151,
           "Horsepower": 90,
           "Miles_per_Gallon": 24.3,
           "Name": "amc concord",
           "Origin": "USA",
           "Weight_in_lbs": 3003,
           "Year": "1980-01-01"
          },
          {
           "Acceleration": 18.7,
           "Cylinders": 6,
           "Displacement": 225,
           "Horsepower": 90,
           "Miles_per_Gallon": 19.1,
           "Name": "dodge aspen",
           "Origin": "USA",
           "Weight_in_lbs": 3381,
           "Year": "1980-01-01"
          },
          {
           "Acceleration": 15.8,
           "Cylinders": 4,
           "Displacement": 97,
           "Horsepower": 78,
           "Miles_per_Gallon": 34.3,
           "Name": "audi 4000",
           "Origin": "Europe",
           "Weight_in_lbs": 2188,
           "Year": "1980-01-01"
          },
          {
           "Acceleration": 15.5,
           "Cylinders": 4,
           "Displacement": 134,
           "Horsepower": 90,
           "Miles_per_Gallon": 29.8,
           "Name": "toyota corona liftback",
           "Origin": "Japan",
           "Weight_in_lbs": 2711,
           "Year": "1980-01-01"
          },
          {
           "Acceleration": 17.5,
           "Cylinders": 4,
           "Displacement": 120,
           "Horsepower": 75,
           "Miles_per_Gallon": 31.3,
           "Name": "mazda 626",
           "Origin": "Japan",
           "Weight_in_lbs": 2542,
           "Year": "1980-01-01"
          },
          {
           "Acceleration": 15,
           "Cylinders": 4,
           "Displacement": 119,
           "Horsepower": 92,
           "Miles_per_Gallon": 37,
           "Name": "datsun 510 hatchback",
           "Origin": "Japan",
           "Weight_in_lbs": 2434,
           "Year": "1980-01-01"
          },
          {
           "Acceleration": 15.2,
           "Cylinders": 4,
           "Displacement": 108,
           "Horsepower": 75,
           "Miles_per_Gallon": 32.2,
           "Name": "toyota corolla",
           "Origin": "Japan",
           "Weight_in_lbs": 2265,
           "Year": "1980-01-01"
          },
          {
           "Acceleration": 17.9,
           "Cylinders": 4,
           "Displacement": 86,
           "Horsepower": 65,
           "Miles_per_Gallon": 46.6,
           "Name": "mazda glc",
           "Origin": "Japan",
           "Weight_in_lbs": 2110,
           "Year": "1980-01-01"
          },
          {
           "Acceleration": 14.4,
           "Cylinders": 4,
           "Displacement": 156,
           "Horsepower": 105,
           "Miles_per_Gallon": 27.9,
           "Name": "dodge colt",
           "Origin": "USA",
           "Weight_in_lbs": 2800,
           "Year": "1980-01-01"
          },
          {
           "Acceleration": 19.2,
           "Cylinders": 4,
           "Displacement": 85,
           "Horsepower": 65,
           "Miles_per_Gallon": 40.8,
           "Name": "datsun 210",
           "Origin": "Japan",
           "Weight_in_lbs": 2110,
           "Year": "1980-01-01"
          },
          {
           "Acceleration": 21.7,
           "Cylinders": 4,
           "Displacement": 90,
           "Horsepower": 48,
           "Miles_per_Gallon": 44.3,
           "Name": "vw rabbit c (diesel)",
           "Origin": "Europe",
           "Weight_in_lbs": 2085,
           "Year": "1980-01-01"
          },
          {
           "Acceleration": 23.7,
           "Cylinders": 4,
           "Displacement": 90,
           "Horsepower": 48,
           "Miles_per_Gallon": 43.4,
           "Name": "vw dasher (diesel)",
           "Origin": "Europe",
           "Weight_in_lbs": 2335,
           "Year": "1980-01-01"
          },
          {
           "Acceleration": 19.9,
           "Cylinders": 5,
           "Displacement": 121,
           "Horsepower": 67,
           "Miles_per_Gallon": 36.4,
           "Name": "audi 5000s (diesel)",
           "Origin": "Europe",
           "Weight_in_lbs": 2950,
           "Year": "1980-01-01"
          },
          {
           "Acceleration": 21.8,
           "Cylinders": 4,
           "Displacement": 146,
           "Horsepower": 67,
           "Miles_per_Gallon": 30,
           "Name": "mercedes-benz 240d",
           "Origin": "Europe",
           "Weight_in_lbs": 3250,
           "Year": "1980-01-01"
          },
          {
           "Acceleration": 13.8,
           "Cylinders": 4,
           "Displacement": 91,
           "Horsepower": 67,
           "Miles_per_Gallon": 44.6,
           "Name": "honda civic 1500 gl",
           "Origin": "Japan",
           "Weight_in_lbs": 1850,
           "Year": "1980-01-01"
          },
          {
           "Acceleration": 17.3,
           "Cylinders": 4,
           "Displacement": 85,
           "Horsepower": null,
           "Miles_per_Gallon": 40.9,
           "Name": "renault lecar deluxe",
           "Origin": "Europe",
           "Weight_in_lbs": 1835,
           "Year": "1980-01-01"
          },
          {
           "Acceleration": 18,
           "Cylinders": 4,
           "Displacement": 97,
           "Horsepower": 67,
           "Miles_per_Gallon": 33.8,
           "Name": "subaru dl",
           "Origin": "Japan",
           "Weight_in_lbs": 2145,
           "Year": "1980-01-01"
          },
          {
           "Acceleration": 15.3,
           "Cylinders": 4,
           "Displacement": 89,
           "Horsepower": 62,
           "Miles_per_Gallon": 29.8,
           "Name": "vokswagen rabbit",
           "Origin": "Europe",
           "Weight_in_lbs": 1845,
           "Year": "1980-01-01"
          },
          {
           "Acceleration": 11.4,
           "Cylinders": 6,
           "Displacement": 168,
           "Horsepower": 132,
           "Miles_per_Gallon": 32.7,
           "Name": "datsun 280-zx",
           "Origin": "Japan",
           "Weight_in_lbs": 2910,
           "Year": "1980-01-01"
          },
          {
           "Acceleration": 12.5,
           "Cylinders": 3,
           "Displacement": 70,
           "Horsepower": 100,
           "Miles_per_Gallon": 23.7,
           "Name": "mazda rx-7 gs",
           "Origin": "Japan",
           "Weight_in_lbs": 2420,
           "Year": "1980-01-01"
          },
          {
           "Acceleration": 15.1,
           "Cylinders": 4,
           "Displacement": 122,
           "Horsepower": 88,
           "Miles_per_Gallon": 35,
           "Name": "triumph tr7 coupe",
           "Origin": "Europe",
           "Weight_in_lbs": 2500,
           "Year": "1980-01-01"
          },
          {
           "Acceleration": 14.3,
           "Cylinders": 4,
           "Displacement": 140,
           "Horsepower": null,
           "Miles_per_Gallon": 23.6,
           "Name": "ford mustang cobra",
           "Origin": "USA",
           "Weight_in_lbs": 2905,
           "Year": "1980-01-01"
          },
          {
           "Acceleration": 17,
           "Cylinders": 4,
           "Displacement": 107,
           "Horsepower": 72,
           "Miles_per_Gallon": 32.4,
           "Name": "honda Accelerationord",
           "Origin": "Japan",
           "Weight_in_lbs": 2290,
           "Year": "1980-01-01"
          },
          {
           "Acceleration": 15.7,
           "Cylinders": 4,
           "Displacement": 135,
           "Horsepower": 84,
           "Miles_per_Gallon": 27.2,
           "Name": "plymouth reliant",
           "Origin": "USA",
           "Weight_in_lbs": 2490,
           "Year": "1982-01-01"
          },
          {
           "Acceleration": 16.4,
           "Cylinders": 4,
           "Displacement": 151,
           "Horsepower": 84,
           "Miles_per_Gallon": 26.6,
           "Name": "buick skylark",
           "Origin": "USA",
           "Weight_in_lbs": 2635,
           "Year": "1982-01-01"
          },
          {
           "Acceleration": 14.4,
           "Cylinders": 4,
           "Displacement": 156,
           "Horsepower": 92,
           "Miles_per_Gallon": 25.8,
           "Name": "dodge aries wagon (sw)",
           "Origin": "USA",
           "Weight_in_lbs": 2620,
           "Year": "1982-01-01"
          },
          {
           "Acceleration": 12.6,
           "Cylinders": 6,
           "Displacement": 173,
           "Horsepower": 110,
           "Miles_per_Gallon": 23.5,
           "Name": "chevrolet citation",
           "Origin": "USA",
           "Weight_in_lbs": 2725,
           "Year": "1982-01-01"
          },
          {
           "Acceleration": 12.9,
           "Cylinders": 4,
           "Displacement": 135,
           "Horsepower": 84,
           "Miles_per_Gallon": 30,
           "Name": "plymouth reliant",
           "Origin": "USA",
           "Weight_in_lbs": 2385,
           "Year": "1982-01-01"
          },
          {
           "Acceleration": 16.9,
           "Cylinders": 4,
           "Displacement": 79,
           "Horsepower": 58,
           "Miles_per_Gallon": 39.1,
           "Name": "toyota starlet",
           "Origin": "Japan",
           "Weight_in_lbs": 1755,
           "Year": "1982-01-01"
          },
          {
           "Acceleration": 16.4,
           "Cylinders": 4,
           "Displacement": 86,
           "Horsepower": 64,
           "Miles_per_Gallon": 39,
           "Name": "plymouth champ",
           "Origin": "USA",
           "Weight_in_lbs": 1875,
           "Year": "1982-01-01"
          },
          {
           "Acceleration": 16.1,
           "Cylinders": 4,
           "Displacement": 81,
           "Horsepower": 60,
           "Miles_per_Gallon": 35.1,
           "Name": "honda civic 1300",
           "Origin": "Japan",
           "Weight_in_lbs": 1760,
           "Year": "1982-01-01"
          },
          {
           "Acceleration": 17.8,
           "Cylinders": 4,
           "Displacement": 97,
           "Horsepower": 67,
           "Miles_per_Gallon": 32.3,
           "Name": "subaru",
           "Origin": "Japan",
           "Weight_in_lbs": 2065,
           "Year": "1982-01-01"
          },
          {
           "Acceleration": 19.4,
           "Cylinders": 4,
           "Displacement": 85,
           "Horsepower": 65,
           "Miles_per_Gallon": 37,
           "Name": "datsun 210",
           "Origin": "Japan",
           "Weight_in_lbs": 1975,
           "Year": "1982-01-01"
          },
          {
           "Acceleration": 17.3,
           "Cylinders": 4,
           "Displacement": 89,
           "Horsepower": 62,
           "Miles_per_Gallon": 37.7,
           "Name": "toyota tercel",
           "Origin": "Japan",
           "Weight_in_lbs": 2050,
           "Year": "1982-01-01"
          },
          {
           "Acceleration": 16,
           "Cylinders": 4,
           "Displacement": 91,
           "Horsepower": 68,
           "Miles_per_Gallon": 34.1,
           "Name": "mazda glc 4",
           "Origin": "Japan",
           "Weight_in_lbs": 1985,
           "Year": "1982-01-01"
          },
          {
           "Acceleration": 14.9,
           "Cylinders": 4,
           "Displacement": 105,
           "Horsepower": 63,
           "Miles_per_Gallon": 34.7,
           "Name": "plymouth horizon 4",
           "Origin": "USA",
           "Weight_in_lbs": 2215,
           "Year": "1982-01-01"
          },
          {
           "Acceleration": 16.2,
           "Cylinders": 4,
           "Displacement": 98,
           "Horsepower": 65,
           "Miles_per_Gallon": 34.4,
           "Name": "ford escort 4w",
           "Origin": "USA",
           "Weight_in_lbs": 2045,
           "Year": "1982-01-01"
          },
          {
           "Acceleration": 20.7,
           "Cylinders": 4,
           "Displacement": 98,
           "Horsepower": 65,
           "Miles_per_Gallon": 29.9,
           "Name": "ford escort 2h",
           "Origin": "USA",
           "Weight_in_lbs": 2380,
           "Year": "1982-01-01"
          },
          {
           "Acceleration": 14.2,
           "Cylinders": 4,
           "Displacement": 105,
           "Horsepower": 74,
           "Miles_per_Gallon": 33,
           "Name": "volkswagen jetta",
           "Origin": "Europe",
           "Weight_in_lbs": 2190,
           "Year": "1982-01-01"
          },
          {
           "Acceleration": 15.8,
           "Cylinders": 4,
           "Displacement": 100,
           "Horsepower": null,
           "Miles_per_Gallon": 34.5,
           "Name": "renault 18i",
           "Origin": "Europe",
           "Weight_in_lbs": 2320,
           "Year": "1982-01-01"
          },
          {
           "Acceleration": 14.4,
           "Cylinders": 4,
           "Displacement": 107,
           "Horsepower": 75,
           "Miles_per_Gallon": 33.7,
           "Name": "honda prelude",
           "Origin": "Japan",
           "Weight_in_lbs": 2210,
           "Year": "1982-01-01"
          },
          {
           "Acceleration": 16.8,
           "Cylinders": 4,
           "Displacement": 108,
           "Horsepower": 75,
           "Miles_per_Gallon": 32.4,
           "Name": "toyota corolla",
           "Origin": "Japan",
           "Weight_in_lbs": 2350,
           "Year": "1982-01-01"
          },
          {
           "Acceleration": 14.8,
           "Cylinders": 4,
           "Displacement": 119,
           "Horsepower": 100,
           "Miles_per_Gallon": 32.9,
           "Name": "datsun 200sx",
           "Origin": "Japan",
           "Weight_in_lbs": 2615,
           "Year": "1982-01-01"
          },
          {
           "Acceleration": 18.3,
           "Cylinders": 4,
           "Displacement": 120,
           "Horsepower": 74,
           "Miles_per_Gallon": 31.6,
           "Name": "mazda 626",
           "Origin": "Japan",
           "Weight_in_lbs": 2635,
           "Year": "1982-01-01"
          },
          {
           "Acceleration": 20.4,
           "Cylinders": 4,
           "Displacement": 141,
           "Horsepower": 80,
           "Miles_per_Gallon": 28.1,
           "Name": "peugeot 505s turbo diesel",
           "Origin": "Europe",
           "Weight_in_lbs": 3230,
           "Year": "1982-01-01"
          },
          {
           "Acceleration": 15.4,
           "Cylinders": 4,
           "Displacement": 121,
           "Horsepower": 110,
           "Miles_per_Gallon": null,
           "Name": "saab 900s",
           "Origin": "Europe",
           "Weight_in_lbs": 2800,
           "Year": "1982-01-01"
          },
          {
           "Acceleration": 19.6,
           "Cylinders": 6,
           "Displacement": 145,
           "Horsepower": 76,
           "Miles_per_Gallon": 30.7,
           "Name": "volvo diesel",
           "Origin": "Europe",
           "Weight_in_lbs": 3160,
           "Year": "1982-01-01"
          },
          {
           "Acceleration": 12.6,
           "Cylinders": 6,
           "Displacement": 168,
           "Horsepower": 116,
           "Miles_per_Gallon": 25.4,
           "Name": "toyota cressida",
           "Origin": "Japan",
           "Weight_in_lbs": 2900,
           "Year": "1982-01-01"
          },
          {
           "Acceleration": 13.8,
           "Cylinders": 6,
           "Displacement": 146,
           "Horsepower": 120,
           "Miles_per_Gallon": 24.2,
           "Name": "datsun 810 maxima",
           "Origin": "Japan",
           "Weight_in_lbs": 2930,
           "Year": "1982-01-01"
          },
          {
           "Acceleration": 15.8,
           "Cylinders": 6,
           "Displacement": 231,
           "Horsepower": 110,
           "Miles_per_Gallon": 22.4,
           "Name": "buick century",
           "Origin": "USA",
           "Weight_in_lbs": 3415,
           "Year": "1982-01-01"
          },
          {
           "Acceleration": 19,
           "Cylinders": 8,
           "Displacement": 350,
           "Horsepower": 105,
           "Miles_per_Gallon": 26.6,
           "Name": "oldsmobile cutlass ls",
           "Origin": "USA",
           "Weight_in_lbs": 3725,
           "Year": "1982-01-01"
          },
          {
           "Acceleration": 17.1,
           "Cylinders": 6,
           "Displacement": 200,
           "Horsepower": 88,
           "Miles_per_Gallon": 20.2,
           "Name": "ford granada gl",
           "Origin": "USA",
           "Weight_in_lbs": 3060,
           "Year": "1982-01-01"
          },
          {
           "Acceleration": 16.6,
           "Cylinders": 6,
           "Displacement": 225,
           "Horsepower": 85,
           "Miles_per_Gallon": 17.6,
           "Name": "chrysler lebaron salon",
           "Origin": "USA",
           "Weight_in_lbs": 3465,
           "Year": "1982-01-01"
          },
          {
           "Acceleration": 19.6,
           "Cylinders": 4,
           "Displacement": 112,
           "Horsepower": 88,
           "Miles_per_Gallon": 28,
           "Name": "chevrolet cavalier",
           "Origin": "USA",
           "Weight_in_lbs": 2605,
           "Year": "1982-01-01"
          },
          {
           "Acceleration": 18.6,
           "Cylinders": 4,
           "Displacement": 112,
           "Horsepower": 88,
           "Miles_per_Gallon": 27,
           "Name": "chevrolet cavalier wagon",
           "Origin": "USA",
           "Weight_in_lbs": 2640,
           "Year": "1982-01-01"
          },
          {
           "Acceleration": 18,
           "Cylinders": 4,
           "Displacement": 112,
           "Horsepower": 88,
           "Miles_per_Gallon": 34,
           "Name": "chevrolet cavalier 2-door",
           "Origin": "USA",
           "Weight_in_lbs": 2395,
           "Year": "1982-01-01"
          },
          {
           "Acceleration": 16.2,
           "Cylinders": 4,
           "Displacement": 112,
           "Horsepower": 85,
           "Miles_per_Gallon": 31,
           "Name": "pontiac j2000 se hatchback",
           "Origin": "USA",
           "Weight_in_lbs": 2575,
           "Year": "1982-01-01"
          },
          {
           "Acceleration": 16,
           "Cylinders": 4,
           "Displacement": 135,
           "Horsepower": 84,
           "Miles_per_Gallon": 29,
           "Name": "dodge aries se",
           "Origin": "USA",
           "Weight_in_lbs": 2525,
           "Year": "1982-01-01"
          },
          {
           "Acceleration": 18,
           "Cylinders": 4,
           "Displacement": 151,
           "Horsepower": 90,
           "Miles_per_Gallon": 27,
           "Name": "pontiac phoenix",
           "Origin": "USA",
           "Weight_in_lbs": 2735,
           "Year": "1982-01-01"
          },
          {
           "Acceleration": 16.4,
           "Cylinders": 4,
           "Displacement": 140,
           "Horsepower": 92,
           "Miles_per_Gallon": 24,
           "Name": "ford fairmont futura",
           "Origin": "USA",
           "Weight_in_lbs": 2865,
           "Year": "1982-01-01"
          },
          {
           "Acceleration": 20.5,
           "Cylinders": 4,
           "Displacement": 151,
           "Horsepower": null,
           "Miles_per_Gallon": 23,
           "Name": "amc concord dl",
           "Origin": "USA",
           "Weight_in_lbs": 3035,
           "Year": "1982-01-01"
          },
          {
           "Acceleration": 15.3,
           "Cylinders": 4,
           "Displacement": 105,
           "Horsepower": 74,
           "Miles_per_Gallon": 36,
           "Name": "volkswagen rabbit l",
           "Origin": "Europe",
           "Weight_in_lbs": 1980,
           "Year": "1982-01-01"
          },
          {
           "Acceleration": 18.2,
           "Cylinders": 4,
           "Displacement": 91,
           "Horsepower": 68,
           "Miles_per_Gallon": 37,
           "Name": "mazda glc custom l",
           "Origin": "Japan",
           "Weight_in_lbs": 2025,
           "Year": "1982-01-01"
          },
          {
           "Acceleration": 17.6,
           "Cylinders": 4,
           "Displacement": 91,
           "Horsepower": 68,
           "Miles_per_Gallon": 31,
           "Name": "mazda glc custom",
           "Origin": "Japan",
           "Weight_in_lbs": 1970,
           "Year": "1982-01-01"
          },
          {
           "Acceleration": 14.7,
           "Cylinders": 4,
           "Displacement": 105,
           "Horsepower": 63,
           "Miles_per_Gallon": 38,
           "Name": "plymouth horizon miser",
           "Origin": "USA",
           "Weight_in_lbs": 2125,
           "Year": "1982-01-01"
          },
          {
           "Acceleration": 17.3,
           "Cylinders": 4,
           "Displacement": 98,
           "Horsepower": 70,
           "Miles_per_Gallon": 36,
           "Name": "mercury lynx l",
           "Origin": "USA",
           "Weight_in_lbs": 2125,
           "Year": "1982-01-01"
          },
          {
           "Acceleration": 14.5,
           "Cylinders": 4,
           "Displacement": 120,
           "Horsepower": 88,
           "Miles_per_Gallon": 36,
           "Name": "nissan stanza xe",
           "Origin": "Japan",
           "Weight_in_lbs": 2160,
           "Year": "1982-01-01"
          },
          {
           "Acceleration": 14.5,
           "Cylinders": 4,
           "Displacement": 107,
           "Horsepower": 75,
           "Miles_per_Gallon": 36,
           "Name": "honda Accelerationord",
           "Origin": "Japan",
           "Weight_in_lbs": 2205,
           "Year": "1982-01-01"
          },
          {
           "Acceleration": 16.9,
           "Cylinders": 4,
           "Displacement": 108,
           "Horsepower": 70,
           "Miles_per_Gallon": 34,
           "Name": "toyota corolla",
           "Origin": "Japan",
           "Weight_in_lbs": 2245,
           "Year": "1982-01-01"
          },
          {
           "Acceleration": 15,
           "Cylinders": 4,
           "Displacement": 91,
           "Horsepower": 67,
           "Miles_per_Gallon": 38,
           "Name": "honda civic",
           "Origin": "Japan",
           "Weight_in_lbs": 1965,
           "Year": "1982-01-01"
          },
          {
           "Acceleration": 15.7,
           "Cylinders": 4,
           "Displacement": 91,
           "Horsepower": 67,
           "Miles_per_Gallon": 32,
           "Name": "honda civic (auto)",
           "Origin": "Japan",
           "Weight_in_lbs": 1965,
           "Year": "1982-01-01"
          },
          {
           "Acceleration": 16.2,
           "Cylinders": 4,
           "Displacement": 91,
           "Horsepower": 67,
           "Miles_per_Gallon": 38,
           "Name": "datsun 310 gx",
           "Origin": "Japan",
           "Weight_in_lbs": 1995,
           "Year": "1982-01-01"
          },
          {
           "Acceleration": 16.4,
           "Cylinders": 6,
           "Displacement": 181,
           "Horsepower": 110,
           "Miles_per_Gallon": 25,
           "Name": "buick century limited",
           "Origin": "USA",
           "Weight_in_lbs": 2945,
           "Year": "1982-01-01"
          },
          {
           "Acceleration": 17,
           "Cylinders": 6,
           "Displacement": 262,
           "Horsepower": 85,
           "Miles_per_Gallon": 38,
           "Name": "oldsmobile cutlass ciera (diesel)",
           "Origin": "USA",
           "Weight_in_lbs": 3015,
           "Year": "1982-01-01"
          },
          {
           "Acceleration": 14.5,
           "Cylinders": 4,
           "Displacement": 156,
           "Horsepower": 92,
           "Miles_per_Gallon": 26,
           "Name": "chrysler lebaron medallion",
           "Origin": "USA",
           "Weight_in_lbs": 2585,
           "Year": "1982-01-01"
          },
          {
           "Acceleration": 14.7,
           "Cylinders": 6,
           "Displacement": 232,
           "Horsepower": 112,
           "Miles_per_Gallon": 22,
           "Name": "ford granada l",
           "Origin": "USA",
           "Weight_in_lbs": 2835,
           "Year": "1982-01-01"
          },
          {
           "Acceleration": 13.9,
           "Cylinders": 4,
           "Displacement": 144,
           "Horsepower": 96,
           "Miles_per_Gallon": 32,
           "Name": "toyota celica gt",
           "Origin": "Japan",
           "Weight_in_lbs": 2665,
           "Year": "1982-01-01"
          },
          {
           "Acceleration": 13,
           "Cylinders": 4,
           "Displacement": 135,
           "Horsepower": 84,
           "Miles_per_Gallon": 36,
           "Name": "dodge charger 2.2",
           "Origin": "USA",
           "Weight_in_lbs": 2370,
           "Year": "1982-01-01"
          },
          {
           "Acceleration": 17.3,
           "Cylinders": 4,
           "Displacement": 151,
           "Horsepower": 90,
           "Miles_per_Gallon": 27,
           "Name": "chevrolet camaro",
           "Origin": "USA",
           "Weight_in_lbs": 2950,
           "Year": "1982-01-01"
          },
          {
           "Acceleration": 15.6,
           "Cylinders": 4,
           "Displacement": 140,
           "Horsepower": 86,
           "Miles_per_Gallon": 27,
           "Name": "ford mustang gl",
           "Origin": "USA",
           "Weight_in_lbs": 2790,
           "Year": "1982-01-01"
          },
          {
           "Acceleration": 24.6,
           "Cylinders": 4,
           "Displacement": 97,
           "Horsepower": 52,
           "Miles_per_Gallon": 44,
           "Name": "vw pickup",
           "Origin": "Europe",
           "Weight_in_lbs": 2130,
           "Year": "1982-01-01"
          },
          {
           "Acceleration": 11.6,
           "Cylinders": 4,
           "Displacement": 135,
           "Horsepower": 84,
           "Miles_per_Gallon": 32,
           "Name": "dodge rampage",
           "Origin": "USA",
           "Weight_in_lbs": 2295,
           "Year": "1982-01-01"
          },
          {
           "Acceleration": 18.6,
           "Cylinders": 4,
           "Displacement": 120,
           "Horsepower": 79,
           "Miles_per_Gallon": 28,
           "Name": "ford ranger",
           "Origin": "USA",
           "Weight_in_lbs": 2625,
           "Year": "1982-01-01"
          },
          {
           "Acceleration": 19.4,
           "Cylinders": 4,
           "Displacement": 119,
           "Horsepower": 82,
           "Miles_per_Gallon": 31,
           "Name": "chevy s-10",
           "Origin": "USA",
           "Weight_in_lbs": 2720,
           "Year": "1982-01-01"
          }
         ]
        },
        {
         "name": "data_0",
         "source": "source_0",
         "transform": [
          {
           "expr": "isValid(datum[\"Horsepower\"]) && isFinite(+datum[\"Horsepower\"]) && isValid(datum[\"Miles_per_Gallon\"]) && isFinite(+datum[\"Miles_per_Gallon\"])",
           "type": "filter"
          }
         ]
        }
       ],
       "height": 400,
       "legends": [
        {
         "encode": {
          "symbols": {
           "update": {
            "opacity": {
             "value": 0.7
            }
           }
          }
         },
         "fill": "color",
         "symbolType": "circle",
         "title": "Origin"
        }
       ],
       "marks": [
        {
         "encode": {
          "update": {
           "ariaRoleDescription": {
            "value": "circle"
           },
           "description": {
            "signal": "\"Horsepower: \" + (format(datum[\"Horsepower\"], \"\")) + \"; Miles_per_Gallon: \" + (format(datum[\"Miles_per_Gallon\"], \"\")) + \"; Origin: \" + (isValid(datum[\"Origin\"]) ? datum[\"Origin\"] : \"\"+datum[\"Origin\"]) + \"; Name: \" + (isValid(datum[\"Name\"]) ? datum[\"Name\"] : \"\"+datum[\"Name\"])"
           },
           "fill": {
            "field": "Origin",
            "scale": "color"
           },
           "opacity": {
            "value": 0.7
           },
           "shape": {
            "value": "circle"
           },
           "tooltip": {
            "signal": "isValid(datum[\"Name\"]) ? datum[\"Name\"] : \"\"+datum[\"Name\"]"
           },
           "x": {
            "field": "Horsepower",
            "scale": "x"
           },
           "y": {
            "field": "Miles_per_Gallon",
            "scale": "y"
           }
          }
         },
         "from": {
          "data": "data_0"
         },
         "name": "marks",
         "style": [
          "circle"
         ],
         "type": "symbol"
        }
       ],
       "padding": 5,
       "scales": [
        {
         "domain": {
          "data": "data_0",
          "field": "Horsepower"
         },
         "name": "x",
         "nice": true,
         "range": [
          0,
          {
           "signal": "width"
          }
         ],
         "type": "linear",
         "zero": true
        },
        {
         "domain": {
          "data": "data_0",
          "field": "Miles_per_Gallon"
         },
         "name": "y",
         "nice": true,
         "range": [
          {
           "signal": "height"
          },
          0
         ],
         "type": "linear",
         "zero": true
        },
        {
         "domain": {
          "data": "data_0",
          "field": "Origin",
          "sort": true
         },
         "name": "color",
         "range": "category",
         "type": "ordinal"
        }
       ],
       "style": "cell",
       "width": 400
      },
      "image/png": "[encoded data removed]",
      "image/svg+xml": [
       "<svg xmlns=\"http://www.w3.org/2000/svg\" xmlns:xlink=\"http://www.w3.org/1999/xlink\" version=\"1.1\" class=\"marks\" width=\"511\" height=\"447\" viewBox=\"0 0 511 447\"><rect width=\"511\" height=\"447\" fill=\"white\"/><g fill=\"none\" stroke-miterlimit=\"10\" transform=\"translate(39,10)\"><g class=\"mark-group role-frame root\" role=\"graphics-object\" aria-roledescription=\"group mark container\"><g transform=\"translate(0,0)\"><path class=\"background\" aria-hidden=\"true\" d=\"M0.5,0.5h400v400h-400Z\" stroke=\"#ddd\"/><g><g class=\"mark-group role-axis\" aria-hidden=\"true\"><g transform=\"translate(0.5,400.5)\"><path class=\"background\" aria-hidden=\"true\" d=\"M0,0h0v0h0Z\" pointer-events=\"none\"/><g><g class=\"mark-rule role-axis-grid\" pointer-events=\"none\"><line transform=\"translate(0,-400)\" x2=\"0\" y2=\"400\" stroke=\"#ddd\" stroke-width=\"1\" opacity=\"1\"/><line transform=\"translate(33,-400)\" x2=\"0\" y2=\"400\" stroke=\"#ddd\" stroke-width=\"1\" opacity=\"1\"/><line transform=\"translate(67,-400)\" x2=\"0\" y2=\"400\" stroke=\"#ddd\" stroke-width=\"1\" opacity=\"1\"/><line transform=\"translate(100,-400)\" x2=\"0\" y2=\"400\" stroke=\"#ddd\" stroke-width=\"1\" opacity=\"1\"/><line transform=\"translate(133,-400)\" x2=\"0\" y2=\"400\" stroke=\"#ddd\" stroke-width=\"1\" opacity=\"1\"/><line transform=\"translate(167,-400)\" x2=\"0\" y2=\"400\" stroke=\"#ddd\" stroke-width=\"1\" opacity=\"1\"/><line transform=\"translate(200,-400)\" x2=\"0\" y2=\"400\" stroke=\"#ddd\" stroke-width=\"1\" opacity=\"1\"/><line transform=\"translate(233,-400)\" x2=\"0\" y2=\"400\" stroke=\"#ddd\" stroke-width=\"1\" opacity=\"1\"/><line transform=\"translate(267,-400)\" x2=\"0\" y2=\"400\" stroke=\"#ddd\" stroke-width=\"1\" opacity=\"1\"/><line transform=\"translate(300,-400)\" x2=\"0\" y2=\"400\" stroke=\"#ddd\" stroke-width=\"1\" opacity=\"1\"/><line transform=\"translate(333,-400)\" x2=\"0\" y2=\"400\" stroke=\"#ddd\" stroke-width=\"1\" opacity=\"1\"/><line transform=\"translate(367,-400)\" x2=\"0\" y2=\"400\" stroke=\"#ddd\" stroke-width=\"1\" opacity=\"1\"/><line transform=\"translate(400,-400)\" x2=\"0\" y2=\"400\" stroke=\"#ddd\" stroke-width=\"1\" opacity=\"1\"/></g></g><path class=\"foreground\" aria-hidden=\"true\" d=\"\" pointer-events=\"none\" display=\"none\"/></g></g><g class=\"mark-group role-axis\" aria-hidden=\"true\"><g transform=\"translate(0.5,0.5)\"><path class=\"background\" aria-hidden=\"true\" d=\"M0,0h0v0h0Z\" pointer-events=\"none\"/><g><g class=\"mark-rule role-axis-grid\" pointer-events=\"none\"><line transform=\"translate(0,400)\" x2=\"400\" y2=\"0\" stroke=\"#ddd\" stroke-width=\"1\" opacity=\"1\"/><line transform=\"translate(0,360)\" x2=\"400\" y2=\"0\" stroke=\"#ddd\" stroke-width=\"1\" opacity=\"1\"/><line transform=\"translate(0,320)\" x2=\"400\" y2=\"0\" stroke=\"#ddd\" stroke-width=\"1\" opacity=\"1\"/><line transform=\"translate(0,280)\" x2=\"400\" y2=\"0\" stroke=\"#ddd\" stroke-width=\"1\" opacity=\"1\"/><line transform=\"translate(0,240)\" x2=\"400\" y2=\"0\" stroke=\"#ddd\" stroke-width=\"1\" opacity=\"1\"/><line transform=\"translate(0,200)\" x2=\"400\" y2=\"0\" stroke=\"#ddd\" stroke-width=\"1\" opacity=\"1\"/><line transform=\"translate(0,160)\" x2=\"400\" y2=\"0\" stroke=\"#ddd\" stroke-width=\"1\" opacity=\"1\"/><line transform=\"translate(0,120)\" x2=\"400\" y2=\"0\" stroke=\"#ddd\" stroke-width=\"1\" opacity=\"1\"/><line transform=\"translate(0,80)\" x2=\"400\" y2=\"0\" stroke=\"#ddd\" stroke-width=\"1\" opacity=\"1\"/><line transform=\"translate(0,40)\" x2=\"400\" y2=\"0\" stroke=\"#ddd\" stroke-width=\"1\" opacity=\"1\"/><line transform=\"translate(0,0)\" x2=\"400\" y2=\"0\" stroke=\"#ddd\" stroke-width=\"1\" opacity=\"1\"/></g></g><path class=\"foreground\" aria-hidden=\"true\" d=\"\" pointer-events=\"none\" display=\"none\"/></g></g><g class=\"mark-group role-axis\" role=\"graphics-symbol\" aria-roledescription=\"axis\" aria-label=\"X-axis titled 'Horsepower' for a linear scale with values from 0 to 240\"><g transform=\"translate(0.5,400.5)\"><path class=\"background\" aria-hidden=\"true\" d=\"M0,0h0v0h0Z\" pointer-events=\"none\"/><g><g class=\"mark-rule role-axis-tick\" pointer-events=\"none\"><line transform=\"translate(0,0)\" x2=\"0\" y2=\"5\" stroke=\"#888\" stroke-width=\"1\" opacity=\"1\"/><line transform=\"translate(33,0)\" x2=\"0\" y2=\"5\" stroke=\"#888\" stroke-width=\"1\" opacity=\"1\"/><line transform=\"translate(67,0)\" x2=\"0\" y2=\"5\" stroke=\"#888\" stroke-width=\"1\" opacity=\"1\"/><line transform=\"translate(100,0)\" x2=\"0\" y2=\"5\" stroke=\"#888\" stroke-width=\"1\" opacity=\"1\"/><line transform=\"translate(133,0)\" x2=\"0\" y2=\"5\" stroke=\"#888\" stroke-width=\"1\" opacity=\"1\"/><line transform=\"translate(167,0)\" x2=\"0\" y2=\"5\" stroke=\"#888\" stroke-width=\"1\" opacity=\"1\"/><line transform=\"translate(200,0)\" x2=\"0\" y2=\"5\" stroke=\"#888\" stroke-width=\"1\" opacity=\"1\"/><line transform=\"translate(233,0)\" x2=\"0\" y2=\"5\" stroke=\"#888\" stroke-width=\"1\" opacity=\"1\"/><line transform=\"translate(267,0)\" x2=\"0\" y2=\"5\" stroke=\"#888\" stroke-width=\"1\" opacity=\"1\"/><line transform=\"translate(300,0)\" x2=\"0\" y2=\"5\" stroke=\"#888\" stroke-width=\"1\" opacity=\"1\"/><line transform=\"translate(333,0)\" x2=\"0\" y2=\"5\" stroke=\"#888\" stroke-width=\"1\" opacity=\"1\"/><line transform=\"translate(367,0)\" x2=\"0\" y2=\"5\" stroke=\"#888\" stroke-width=\"1\" opacity=\"1\"/><line transform=\"translate(400,0)\" x2=\"0\" y2=\"5\" stroke=\"#888\" stroke-width=\"1\" opacity=\"1\"/></g><g class=\"mark-text role-axis-label\" pointer-events=\"none\"><text text-anchor=\"start\" transform=\"translate(0,15)\" font-family=\"sans-serif\" font-size=\"10px\" fill=\"#000\" opacity=\"1\">0</text><text text-anchor=\"middle\" transform=\"translate(33.33333333333333,15)\" font-family=\"sans-serif\" font-size=\"10px\" fill=\"#000\" opacity=\"1\">20</text><text text-anchor=\"middle\" transform=\"translate(66.66666666666666,15)\" font-family=\"sans-serif\" font-size=\"10px\" fill=\"#000\" opacity=\"1\">40</text><text text-anchor=\"middle\" transform=\"translate(100,15)\" font-family=\"sans-serif\" font-size=\"10px\" fill=\"#000\" opacity=\"1\">60</text><text text-anchor=\"middle\" transform=\"translate(133.33333333333331,15)\" font-family=\"sans-serif\" font-size=\"10px\" fill=\"#000\" opacity=\"1\">80</text><text text-anchor=\"middle\" transform=\"translate(166.66666666666669,15)\" font-family=\"sans-serif\" font-size=\"10px\" fill=\"#000\" opacity=\"1\">100</text><text text-anchor=\"middle\" transform=\"translate(200,15)\" font-family=\"sans-serif\" font-size=\"10px\" fill=\"#000\" opacity=\"1\">120</text><text text-anchor=\"middle\" transform=\"translate(233.33333333333334,15)\" font-family=\"sans-serif\" font-size=\"10px\" fill=\"#000\" opacity=\"1\">140</text><text text-anchor=\"middle\" transform=\"translate(266.66666666666663,15)\" font-family=\"sans-serif\" font-size=\"10px\" fill=\"#000\" opacity=\"1\">160</text><text text-anchor=\"middle\" transform=\"translate(300,15)\" font-family=\"sans-serif\" font-size=\"10px\" fill=\"#000\" opacity=\"1\">180</text><text text-anchor=\"middle\" transform=\"translate(333.33333333333337,15)\" font-family=\"sans-serif\" font-size=\"10px\" fill=\"#000\" opacity=\"1\">200</text><text text-anchor=\"middle\" transform=\"translate(366.66666666666663,15)\" font-family=\"sans-serif\" font-size=\"10px\" fill=\"#000\" opacity=\"1\">220</text><text text-anchor=\"end\" transform=\"translate(400,15)\" font-family=\"sans-serif\" font-size=\"10px\" fill=\"#000\" opacity=\"1\">240</text></g><g class=\"mark-rule role-axis-domain\" pointer-events=\"none\"><line transform=\"translate(0,0)\" x2=\"400\" y2=\"0\" stroke=\"#888\" stroke-width=\"1\" opacity=\"1\"/></g><g class=\"mark-text role-axis-title\" pointer-events=\"none\"><text text-anchor=\"middle\" transform=\"translate(200,30)\" font-family=\"sans-serif\" font-size=\"11px\" font-weight=\"bold\" fill=\"#000\" opacity=\"1\">Horsepower</text></g></g><path class=\"foreground\" aria-hidden=\"true\" d=\"\" pointer-events=\"none\" display=\"none\"/></g></g><g class=\"mark-group role-axis\" role=\"graphics-symbol\" aria-roledescription=\"axis\" aria-label=\"Y-axis titled 'Miles_per_Gallon' for a linear scale with values from 0 to 50\"><g transform=\"translate(0.5,0.5)\"><path class=\"background\" aria-hidden=\"true\" d=\"M0,0h0v0h0Z\" pointer-events=\"none\"/><g><g class=\"mark-rule role-axis-tick\" pointer-events=\"none\"><line transform=\"translate(0,400)\" x2=\"-5\" y2=\"0\" stroke=\"#888\" stroke-width=\"1\" opacity=\"1\"/><line transform=\"translate(0,360)\" x2=\"-5\" y2=\"0\" stroke=\"#888\" stroke-width=\"1\" opacity=\"1\"/><line transform=\"translate(0,320)\" x2=\"-5\" y2=\"0\" stroke=\"#888\" stroke-width=\"1\" opacity=\"1\"/><line transform=\"translate(0,280)\" x2=\"-5\" y2=\"0\" stroke=\"#888\" stroke-width=\"1\" opacity=\"1\"/><line transform=\"translate(0,240)\" x2=\"-5\" y2=\"0\" stroke=\"#888\" stroke-width=\"1\" opacity=\"1\"/><line transform=\"translate(0,200)\" x2=\"-5\" y2=\"0\" stroke=\"#888\" stroke-width=\"1\" opacity=\"1\"/><line transform=\"translate(0,160)\" x2=\"-5\" y2=\"0\" stroke=\"#888\" stroke-width=\"1\" opacity=\"1\"/><line transform=\"translate(0,120)\" x2=\"-5\" y2=\"0\" stroke=\"#888\" stroke-width=\"1\" opacity=\"1\"/><line transform=\"translate(0,80)\" x2=\"-5\" y2=\"0\" stroke=\"#888\" stroke-width=\"1\" opacity=\"1\"/><line transform=\"translate(0,40)\" x2=\"-5\" y2=\"0\" stroke=\"#888\" stroke-width=\"1\" opacity=\"1\"/><line transform=\"translate(0,0)\" x2=\"-5\" y2=\"0\" stroke=\"#888\" stroke-width=\"1\" opacity=\"1\"/></g><g class=\"mark-text role-axis-label\" pointer-events=\"none\"><text text-anchor=\"end\" transform=\"translate(-7,403)\" font-family=\"sans-serif\" font-size=\"10px\" fill=\"#000\" opacity=\"1\">0</text><text text-anchor=\"end\" transform=\"translate(-7,363)\" font-family=\"sans-serif\" font-size=\"10px\" fill=\"#000\" opacity=\"1\">5</text><text text-anchor=\"end\" transform=\"translate(-7,323)\" font-family=\"sans-serif\" font-size=\"10px\" fill=\"#000\" opacity=\"1\">10</text><text text-anchor=\"end\" transform=\"translate(-7,283)\" font-family=\"sans-serif\" font-size=\"10px\" fill=\"#000\" opacity=\"1\">15</text><text text-anchor=\"end\" transform=\"translate(-7,243)\" font-family=\"sans-serif\" font-size=\"10px\" fill=\"#000\" opacity=\"1\">20</text><text text-anchor=\"end\" transform=\"translate(-7,203)\" font-family=\"sans-serif\" font-size=\"10px\" fill=\"#000\" opacity=\"1\">25</text><text text-anchor=\"end\" transform=\"translate(-7,163)\" font-family=\"sans-serif\" font-size=\"10px\" fill=\"#000\" opacity=\"1\">30</text><text text-anchor=\"end\" transform=\"translate(-7,123.00000000000001)\" font-family=\"sans-serif\" font-size=\"10px\" fill=\"#000\" opacity=\"1\">35</text><text text-anchor=\"end\" transform=\"translate(-7,82.99999999999999)\" font-family=\"sans-serif\" font-size=\"10px\" fill=\"#000\" opacity=\"1\">40</text><text text-anchor=\"end\" transform=\"translate(-7,42.99999999999999)\" font-family=\"sans-serif\" font-size=\"10px\" fill=\"#000\" opacity=\"1\">45</text><text text-anchor=\"end\" transform=\"translate(-7,3)\" font-family=\"sans-serif\" font-size=\"10px\" fill=\"#000\" opacity=\"1\">50</text></g><g class=\"mark-rule role-axis-domain\" pointer-events=\"none\"><line transform=\"translate(0,400)\" x2=\"0\" y2=\"-400\" stroke=\"#888\" stroke-width=\"1\" opacity=\"1\"/></g><g class=\"mark-text role-axis-title\" pointer-events=\"none\"><text text-anchor=\"middle\" transform=\"translate(-22.123046875,200) rotate(-90) translate(0,-2)\" font-family=\"sans-serif\" font-size=\"11px\" font-weight=\"bold\" fill=\"#000\" opacity=\"1\">Miles_per_Gallon</text></g></g><path class=\"foreground\" aria-hidden=\"true\" d=\"\" pointer-events=\"none\" display=\"none\"/></g></g><g class=\"mark-symbol role-mark marks\" role=\"graphics-object\" aria-roledescription=\"symbol mark container\"><path aria-label=\"Horsepower: 130; Miles_per_Gallon: 18; Origin: USA; Name: chevrolet chevelle malibu\" role=\"graphics-symbol\" aria-roledescription=\"circle\" transform=\"translate(216.66666666666666,256)\" d=\"M2.739,0A2.739,2.739,0,1,1,-2.739,0A2.739,2.739,0,1,1,2.739,0\" fill=\"#e45756\" stroke-width=\"2\" opacity=\"0.7\"/><path aria-label=\"Horsepower: 165; Miles_per_Gallon: 15; Origin: USA; Name: buick skylark 320\" role=\"graphics-symbol\" aria-roledescription=\"circle\" transform=\"translate(275,280)\" d=\"M2.739,0A2.739,2.739,0,1,1,-2.739,0A2.739,2.739,0,1,1,2.739,0\" fill=\"#e45756\" stroke-width=\"2\" opacity=\"0.7\"/><path aria-label=\"Horsepower: 150; Miles_per_Gallon: 18; Origin: USA; Name: plymouth satellite\" role=\"graphics-symbol\" aria-roledescription=\"circle\" transform=\"translate(250,256)\" d=\"M2.739,0A2.739,2.739,0,1,1,-2.739,0A2.739,2.739,0,1,1,2.739,0\" fill=\"#e45756\" stroke-width=\"2\" opacity=\"0.7\"/><path aria-label=\"Horsepower: 150; Miles_per_Gallon: 16; Origin: USA; Name: amc rebel sst\" role=\"graphics-symbol\" aria-roledescription=\"circle\" transform=\"translate(250,272)\" d=\"M2.739,0A2.739,2.739,0,1,1,-2.739,0A2.739,2.739,0,1,1,2.739,0\" fill=\"#e45756\" stroke-width=\"2\" opacity=\"0.7\"/><path aria-label=\"Horsepower: 140; Miles_per_Gallon: 17; Origin: USA; Name: ford torino\" role=\"graphics-symbol\" aria-roledescription=\"circle\" transform=\"translate(233.33333333333334,263.99999999999994)\" d=\"M2.739,0A2.739,2.739,0,1,1,-2.739,0A2.739,2.739,0,1,1,2.739,0\" fill=\"#e45756\" stroke-width=\"2\" opacity=\"0.7\"/><path aria-label=\"Horsepower: 198; Miles_per_Gallon: 15; Origin: USA; Name: ford galaxie 500\" role=\"graphics-symbol\" aria-roledescription=\"circle\" transform=\"translate(330,280)\" d=\"M2.739,0A2.739,2.739,0,1,1,-2.739,0A2.739,2.739,0,1,1,2.739,0\" fill=\"#e45756\" stroke-width=\"2\" opacity=\"0.7\"/><path aria-label=\"Horsepower: 220; Miles_per_Gallon: 14; Origin: USA; Name: chevrolet impala\" role=\"graphics-symbol\" aria-roledescription=\"circle\" transform=\"translate(366.66666666666663,288)\" d=\"M2.739,0A2.739,2.739,0,1,1,-2.739,0A2.739,2.739,0,1,1,2.739,0\" fill=\"#e45756\" stroke-width=\"2\" opacity=\"0.7\"/><path aria-label=\"Horsepower: 215; Miles_per_Gallon: 14; Origin: USA; Name: plymouth fury iii\" role=\"graphics-symbol\" aria-roledescription=\"circle\" transform=\"translate(358.33333333333337,288)\" d=\"M2.739,0A2.739,2.739,0,1,1,-2.739,0A2.739,2.739,0,1,1,2.739,0\" fill=\"#e45756\" stroke-width=\"2\" opacity=\"0.7\"/><path aria-label=\"Horsepower: 225; Miles_per_Gallon: 14; Origin: USA; Name: pontiac catalina\" role=\"graphics-symbol\" aria-roledescription=\"circle\" transform=\"translate(375,288)\" d=\"M2.739,0A2.739,2.739,0,1,1,-2.739,0A2.739,2.739,0,1,1,2.739,0\" fill=\"#e45756\" stroke-width=\"2\" opacity=\"0.7\"/><path aria-label=\"Horsepower: 190; Miles_per_Gallon: 15; Origin: USA; Name: amc ambassador dpl\" role=\"graphics-symbol\" aria-roledescription=\"circle\" transform=\"translate(316.66666666666663,280)\" d=\"M2.739,0A2.739,2.739,0,1,1,-2.739,0A2.739,2.739,0,1,1,2.739,0\" fill=\"#e45756\" stroke-width=\"2\" opacity=\"0.7\"/><path aria-label=\"Horsepower: 170; Miles_per_Gallon: 15; Origin: USA; Name: dodge challenger se\" role=\"graphics-symbol\" aria-roledescription=\"circle\" transform=\"translate(283.33333333333337,280)\" d=\"M2.739,0A2.739,2.739,0,1,1,-2.739,0A2.739,2.739,0,1,1,2.739,0\" fill=\"#e45756\" stroke-width=\"2\" opacity=\"0.7\"/><path aria-label=\"Horsepower: 160; Miles_per_Gallon: 14; Origin: USA; Name: plymouth 'cuda 340\" role=\"graphics-symbol\" aria-roledescription=\"circle\" transform=\"translate(266.66666666666663,288)\" d=\"M2.739,0A2.739,2.739,0,1,1,-2.739,0A2.739,2.739,0,1,1,2.739,0\" fill=\"#e45756\" stroke-width=\"2\" opacity=\"0.7\"/><path aria-label=\"Horsepower: 150; Miles_per_Gallon: 15; Origin: USA; Name: chevrolet monte carlo\" role=\"graphics-symbol\" aria-roledescription=\"circle\" transform=\"translate(250,280)\" d=\"M2.739,0A2.739,2.739,0,1,1,-2.739,0A2.739,2.739,0,1,1,2.739,0\" fill=\"#e45756\" stroke-width=\"2\" opacity=\"0.7\"/><path aria-label=\"Horsepower: 225; Miles_per_Gallon: 14; Origin: USA; Name: buick estate wagon (sw)\" role=\"graphics-symbol\" aria-roledescription=\"circle\" transform=\"translate(375,288)\" d=\"M2.739,0A2.739,2.739,0,1,1,-2.739,0A2.739,2.739,0,1,1,2.739,0\" fill=\"#e45756\" stroke-width=\"2\" opacity=\"0.7\"/><path aria-label=\"Horsepower: 95; Miles_per_Gallon: 24; Origin: Japan; Name: toyota corona mark ii\" role=\"graphics-symbol\" aria-roledescription=\"circle\" transform=\"translate(158.33333333333331,208)\" d=\"M2.739,0A2.739,2.739,0,1,1,-2.739,0A2.739,2.739,0,1,1,2.739,0\" fill=\"#f58518\" stroke-width=\"2\" opacity=\"0.7\"/><path aria-label=\"Horsepower: 95; Miles_per_Gallon: 22; Origin: USA; Name: plymouth duster\" role=\"graphics-symbol\" aria-roledescription=\"circle\" transform=\"translate(158.33333333333331,224.00000000000003)\" d=\"M2.739,0A2.739,2.739,0,1,1,-2.739,0A2.739,2.739,0,1,1,2.739,0\" fill=\"#e45756\" stroke-width=\"2\" opacity=\"0.7\"/><path aria-label=\"Horsepower: 97; Miles_per_Gallon: 18; Origin: USA; Name: amc hornet\" role=\"graphics-symbol\" aria-roledescription=\"circle\" transform=\"translate(161.66666666666666,256)\" d=\"M2.739,0A2.739,2.739,0,1,1,-2.739,0A2.739,2.739,0,1,1,2.739,0\" fill=\"#e45756\" stroke-width=\"2\" opacity=\"0.7\"/><path aria-label=\"Horsepower: 85; Miles_per_Gallon: 21; Origin: USA; Name: ford maverick\" role=\"graphics-symbol\" aria-roledescription=\"circle\" transform=\"translate(141.66666666666669,232.00000000000003)\" d=\"M2.739,0A2.739,2.739,0,1,1,-2.739,0A2.739,2.739,0,1,1,2.739,0\" fill=\"#e45756\" stroke-width=\"2\" opacity=\"0.7\"/><path aria-label=\"Horsepower: 88; Miles_per_Gallon: 27; Origin: Japan; Name: datsun pl510\" role=\"graphics-symbol\" aria-roledescription=\"circle\" transform=\"translate(146.66666666666666,184)\" d=\"M2.739,0A2.739,2.739,0,1,1,-2.739,0A2.739,2.739,0,1,1,2.739,0\" fill=\"#f58518\" stroke-width=\"2\" opacity=\"0.7\"/><path aria-label=\"Horsepower: 46; Miles_per_Gallon: 26; Origin: Europe; Name: volkswagen 1131 deluxe sedan\" role=\"graphics-symbol\" aria-roledescription=\"circle\" transform=\"translate(76.66666666666667,192)\" d=\"M2.739,0A2.739,2.739,0,1,1,-2.739,0A2.739,2.739,0,1,1,2.739,0\" fill=\"#4c78a8\" stroke-width=\"2\" opacity=\"0.7\"/><path aria-label=\"Horsepower: 87; Miles_per_Gallon: 25; Origin: Europe; Name: peugeot 504\" role=\"graphics-symbol\" aria-roledescription=\"circle\" transform=\"translate(145,200)\" d=\"M2.739,0A2.739,2.739,0,1,1,-2.739,0A2.739,2.739,0,1,1,2.739,0\" fill=\"#4c78a8\" stroke-width=\"2\" opacity=\"0.7\"/><path aria-label=\"Horsepower: 90; Miles_per_Gallon: 24; Origin: Europe; Name: audi 100 ls\" role=\"graphics-symbol\" aria-roledescription=\"circle\" transform=\"translate(150,208)\" d=\"M2.739,0A2.739,2.739,0,1,1,-2.739,0A2.739,2.739,0,1,1,2.739,0\" fill=\"#4c78a8\" stroke-width=\"2\" opacity=\"0.7\"/><path aria-label=\"Horsepower: 95; Miles_per_Gallon: 25; Origin: Europe; Name: saab 99e\" role=\"graphics-symbol\" aria-roledescription=\"circle\" transform=\"translate(158.33333333333331,200)\" d=\"M2.739,0A2.739,2.739,0,1,1,-2.739,0A2.739,2.739,0,1,1,2.739,0\" fill=\"#4c78a8\" stroke-width=\"2\" opacity=\"0.7\"/><path aria-label=\"Horsepower: 113; Miles_per_Gallon: 26; Origin: Europe; Name: bmw 2002\" role=\"graphics-symbol\" aria-roledescription=\"circle\" transform=\"translate(188.33333333333334,192)\" d=\"M2.739,0A2.739,2.739,0,1,1,-2.739,0A2.739,2.739,0,1,1,2.739,0\" fill=\"#4c78a8\" stroke-width=\"2\" opacity=\"0.7\"/><path aria-label=\"Horsepower: 90; Miles_per_Gallon: 21; Origin: USA; Name: amc gremlin\" role=\"graphics-symbol\" aria-roledescription=\"circle\" transform=\"translate(150,232.00000000000003)\" d=\"M2.739,0A2.739,2.739,0,1,1,-2.739,0A2.739,2.739,0,1,1,2.739,0\" fill=\"#e45756\" stroke-width=\"2\" opacity=\"0.7\"/><path aria-label=\"Horsepower: 215; Miles_per_Gallon: 10; Origin: USA; Name: ford f250\" role=\"graphics-symbol\" aria-roledescription=\"circle\" transform=\"translate(358.33333333333337,320)\" d=\"M2.739,0A2.739,2.739,0,1,1,-2.739,0A2.739,2.739,0,1,1,2.739,0\" fill=\"#e45756\" stroke-width=\"2\" opacity=\"0.7\"/><path aria-label=\"Horsepower: 200; Miles_per_Gallon: 10; Origin: USA; Name: chevy c20\" role=\"graphics-symbol\" aria-roledescription=\"circle\" transform=\"translate(333.33333333333337,320)\" d=\"M2.739,0A2.739,2.739,0,1,1,-2.739,0A2.739,2.739,0,1,1,2.739,0\" fill=\"#e45756\" stroke-width=\"2\" opacity=\"0.7\"/><path aria-label=\"Horsepower: 210; Miles_per_Gallon: 11; Origin: USA; Name: dodge d200\" role=\"graphics-symbol\" aria-roledescription=\"circle\" transform=\"translate(350,312)\" d=\"M2.739,0A2.739,2.739,0,1,1,-2.739,0A2.739,2.739,0,1,1,2.739,0\" fill=\"#e45756\" stroke-width=\"2\" opacity=\"0.7\"/><path aria-label=\"Horsepower: 193; Miles_per_Gallon: 9; Origin: USA; Name: hi 1200d\" role=\"graphics-symbol\" aria-roledescription=\"circle\" transform=\"translate(321.6666666666667,328)\" d=\"M2.739,0A2.739,2.739,0,1,1,-2.739,0A2.739,2.739,0,1,1,2.739,0\" fill=\"#e45756\" stroke-width=\"2\" opacity=\"0.7\"/><path aria-label=\"Horsepower: 88; Miles_per_Gallon: 27; Origin: Japan; Name: datsun pl510\" role=\"graphics-symbol\" aria-roledescription=\"circle\" transform=\"translate(146.66666666666666,184)\" d=\"M2.739,0A2.739,2.739,0,1,1,-2.739,0A2.739,2.739,0,1,1,2.739,0\" fill=\"#f58518\" stroke-width=\"2\" opacity=\"0.7\"/><path aria-label=\"Horsepower: 90; Miles_per_Gallon: 28; Origin: USA; Name: chevrolet vega 2300\" role=\"graphics-symbol\" aria-roledescription=\"circle\" transform=\"translate(150,175.99999999999997)\" d=\"M2.739,0A2.739,2.739,0,1,1,-2.739,0A2.739,2.739,0,1,1,2.739,0\" fill=\"#e45756\" stroke-width=\"2\" opacity=\"0.7\"/><path aria-label=\"Horsepower: 95; Miles_per_Gallon: 25; Origin: Japan; Name: toyota corona\" role=\"graphics-symbol\" aria-roledescription=\"circle\" transform=\"translate(158.33333333333331,200)\" d=\"M2.739,0A2.739,2.739,0,1,1,-2.739,0A2.739,2.739,0,1,1,2.739,0\" fill=\"#f58518\" stroke-width=\"2\" opacity=\"0.7\"/><path aria-label=\"Horsepower: 100; Miles_per_Gallon: 19; Origin: USA; Name: amc gremlin\" role=\"graphics-symbol\" aria-roledescription=\"circle\" transform=\"translate(166.66666666666669,248)\" d=\"M2.739,0A2.739,2.739,0,1,1,-2.739,0A2.739,2.739,0,1,1,2.739,0\" fill=\"#e45756\" stroke-width=\"2\" opacity=\"0.7\"/><path aria-label=\"Horsepower: 105; Miles_per_Gallon: 16; Origin: USA; Name: plymouth satellite custom\" role=\"graphics-symbol\" aria-roledescription=\"circle\" transform=\"translate(175,272)\" d=\"M2.739,0A2.739,2.739,0,1,1,-2.739,0A2.739,2.739,0,1,1,2.739,0\" fill=\"#e45756\" stroke-width=\"2\" opacity=\"0.7\"/><path aria-label=\"Horsepower: 100; Miles_per_Gallon: 17; Origin: USA; Name: chevrolet chevelle malibu\" role=\"graphics-symbol\" aria-roledescription=\"circle\" transform=\"translate(166.66666666666669,263.99999999999994)\" d=\"M2.739,0A2.739,2.739,0,1,1,-2.739,0A2.739,2.739,0,1,1,2.739,0\" fill=\"#e45756\" stroke-width=\"2\" opacity=\"0.7\"/><path aria-label=\"Horsepower: 88; Miles_per_Gallon: 19; Origin: USA; Name: ford torino 500\" role=\"graphics-symbol\" aria-roledescription=\"circle\" transform=\"translate(146.66666666666666,248)\" d=\"M2.739,0A2.739,2.739,0,1,1,-2.739,0A2.739,2.739,0,1,1,2.739,0\" fill=\"#e45756\" stroke-width=\"2\" opacity=\"0.7\"/><path aria-label=\"Horsepower: 100; Miles_per_Gallon: 18; Origin: USA; Name: amc matador\" role=\"graphics-symbol\" aria-roledescription=\"circle\" transform=\"translate(166.66666666666669,256)\" d=\"M2.739,0A2.739,2.739,0,1,1,-2.739,0A2.739,2.739,0,1,1,2.739,0\" fill=\"#e45756\" stroke-width=\"2\" opacity=\"0.7\"/><path aria-label=\"Horsepower: 165; Miles_per_Gallon: 14; Origin: USA; Name: chevrolet impala\" role=\"graphics-symbol\" aria-roledescription=\"circle\" transform=\"translate(275,288)\" d=\"M2.739,0A2.739,2.739,0,1,1,-2.739,0A2.739,2.739,0,1,1,2.739,0\" fill=\"#e45756\" stroke-width=\"2\" opacity=\"0.7\"/><path aria-label=\"Horsepower: 175; Miles_per_Gallon: 14; Origin: USA; Name: pontiac catalina brougham\" role=\"graphics-symbol\" aria-roledescription=\"circle\" transform=\"translate(291.66666666666663,288)\" d=\"M2.739,0A2.739,2.739,0,1,1,-2.739,0A2.739,2.739,0,1,1,2.739,0\" fill=\"#e45756\" stroke-width=\"2\" opacity=\"0.7\"/><path aria-label=\"Horsepower: 153; Miles_per_Gallon: 14; Origin: USA; Name: ford galaxie 500\" role=\"graphics-symbol\" aria-roledescription=\"circle\" transform=\"translate(254.99999999999997,288)\" d=\"M2.739,0A2.739,2.739,0,1,1,-2.739,0A2.739,2.739,0,1,1,2.739,0\" fill=\"#e45756\" stroke-width=\"2\" opacity=\"0.7\"/><path aria-label=\"Horsepower: 150; Miles_per_Gallon: 14; Origin: USA; Name: plymouth fury iii\" role=\"graphics-symbol\" aria-roledescription=\"circle\" transform=\"translate(250,288)\" d=\"M2.739,0A2.739,2.739,0,1,1,-2.739,0A2.739,2.739,0,1,1,2.739,0\" fill=\"#e45756\" stroke-width=\"2\" opacity=\"0.7\"/><path aria-label=\"Horsepower: 180; Miles_per_Gallon: 12; Origin: USA; Name: dodge monaco (sw)\" role=\"graphics-symbol\" aria-roledescription=\"circle\" transform=\"translate(300,304)\" d=\"M2.739,0A2.739,2.739,0,1,1,-2.739,0A2.739,2.739,0,1,1,2.739,0\" fill=\"#e45756\" stroke-width=\"2\" opacity=\"0.7\"/><path aria-label=\"Horsepower: 170; Miles_per_Gallon: 13; Origin: USA; Name: ford country squire (sw)\" role=\"graphics-symbol\" aria-roledescription=\"circle\" transform=\"translate(283.33333333333337,296)\" d=\"M2.739,0A2.739,2.739,0,1,1,-2.739,0A2.739,2.739,0,1,1,2.739,0\" fill=\"#e45756\" stroke-width=\"2\" opacity=\"0.7\"/><path aria-label=\"Horsepower: 175; Miles_per_Gallon: 13; Origin: USA; Name: pontiac safari (sw)\" role=\"graphics-symbol\" aria-roledescription=\"circle\" transform=\"translate(291.66666666666663,296)\" d=\"M2.739,0A2.739,2.739,0,1,1,-2.739,0A2.739,2.739,0,1,1,2.739,0\" fill=\"#e45756\" stroke-width=\"2\" opacity=\"0.7\"/><path aria-label=\"Horsepower: 110; Miles_per_Gallon: 18; Origin: USA; Name: amc hornet sportabout (sw)\" role=\"graphics-symbol\" aria-roledescription=\"circle\" transform=\"translate(183.33333333333331,256)\" d=\"M2.739,0A2.739,2.739,0,1,1,-2.739,0A2.739,2.739,0,1,1,2.739,0\" fill=\"#e45756\" stroke-width=\"2\" opacity=\"0.7\"/><path aria-label=\"Horsepower: 72; Miles_per_Gallon: 22; Origin: USA; Name: chevrolet vega (sw)\" role=\"graphics-symbol\" aria-roledescription=\"circle\" transform=\"translate(120,224.00000000000003)\" d=\"M2.739,0A2.739,2.739,0,1,1,-2.739,0A2.739,2.739,0,1,1,2.739,0\" fill=\"#e45756\" stroke-width=\"2\" opacity=\"0.7\"/><path aria-label=\"Horsepower: 100; Miles_per_Gallon: 19; Origin: USA; Name: pontiac firebird\" role=\"graphics-symbol\" aria-roledescription=\"circle\" transform=\"translate(166.66666666666669,248)\" d=\"M2.739,0A2.739,2.739,0,1,1,-2.739,0A2.739,2.739,0,1,1,2.739,0\" fill=\"#e45756\" stroke-width=\"2\" opacity=\"0.7\"/><path aria-label=\"Horsepower: 88; Miles_per_Gallon: 18; Origin: USA; Name: ford mustang\" role=\"graphics-symbol\" aria-roledescription=\"circle\" transform=\"translate(146.66666666666666,256)\" d=\"M2.739,0A2.739,2.739,0,1,1,-2.739,0A2.739,2.739,0,1,1,2.739,0\" fill=\"#e45756\" stroke-width=\"2\" opacity=\"0.7\"/><path aria-label=\"Horsepower: 86; Miles_per_Gallon: 23; Origin: USA; Name: mercury capri 2000\" role=\"graphics-symbol\" aria-roledescription=\"circle\" transform=\"translate(143.33333333333334,216)\" d=\"M2.739,0A2.739,2.739,0,1,1,-2.739,0A2.739,2.739,0,1,1,2.739,0\" fill=\"#e45756\" stroke-width=\"2\" opacity=\"0.7\"/><path aria-label=\"Horsepower: 90; Miles_per_Gallon: 28; Origin: Europe; Name: opel 1900\" role=\"graphics-symbol\" aria-roledescription=\"circle\" transform=\"translate(150,175.99999999999997)\" d=\"M2.739,0A2.739,2.739,0,1,1,-2.739,0A2.739,2.739,0,1,1,2.739,0\" fill=\"#4c78a8\" stroke-width=\"2\" opacity=\"0.7\"/><path aria-label=\"Horsepower: 70; Miles_per_Gallon: 30; Origin: Europe; Name: peugeot 304\" role=\"graphics-symbol\" aria-roledescription=\"circle\" transform=\"translate(116.66666666666667,160)\" d=\"M2.739,0A2.739,2.739,0,1,1,-2.739,0A2.739,2.739,0,1,1,2.739,0\" fill=\"#4c78a8\" stroke-width=\"2\" opacity=\"0.7\"/><path aria-label=\"Horsepower: 76; Miles_per_Gallon: 30; Origin: Europe; Name: fiat 124b\" role=\"graphics-symbol\" aria-roledescription=\"circle\" transform=\"translate(126.66666666666666,160)\" d=\"M2.739,0A2.739,2.739,0,1,1,-2.739,0A2.739,2.739,0,1,1,2.739,0\" fill=\"#4c78a8\" stroke-width=\"2\" opacity=\"0.7\"/><path aria-label=\"Horsepower: 65; Miles_per_Gallon: 31; Origin: Japan; Name: toyota corolla 1200\" role=\"graphics-symbol\" aria-roledescription=\"circle\" transform=\"translate(108.33333333333333,152)\" d=\"M2.739,0A2.739,2.739,0,1,1,-2.739,0A2.739,2.739,0,1,1,2.739,0\" fill=\"#f58518\" stroke-width=\"2\" opacity=\"0.7\"/><path aria-label=\"Horsepower: 69; Miles_per_Gallon: 35; Origin: Japan; Name: datsun 1200\" role=\"graphics-symbol\" aria-roledescription=\"circle\" transform=\"translate(114.99999999999999,120.00000000000001)\" d=\"M2.739,0A2.739,2.739,0,1,1,-2.739,0A2.739,2.739,0,1,1,2.739,0\" fill=\"#f58518\" stroke-width=\"2\" opacity=\"0.7\"/><path aria-label=\"Horsepower: 60; Miles_per_Gallon: 27; Origin: Europe; Name: volkswagen model 111\" role=\"graphics-symbol\" aria-roledescription=\"circle\" transform=\"translate(100,184)\" d=\"M2.739,0A2.739,2.739,0,1,1,-2.739,0A2.739,2.739,0,1,1,2.739,0\" fill=\"#4c78a8\" stroke-width=\"2\" opacity=\"0.7\"/><path aria-label=\"Horsepower: 70; Miles_per_Gallon: 26; Origin: USA; Name: plymouth cricket\" role=\"graphics-symbol\" aria-roledescription=\"circle\" transform=\"translate(116.66666666666667,192)\" d=\"M2.739,0A2.739,2.739,0,1,1,-2.739,0A2.739,2.739,0,1,1,2.739,0\" fill=\"#e45756\" stroke-width=\"2\" opacity=\"0.7\"/><path aria-label=\"Horsepower: 95; Miles_per_Gallon: 24; Origin: Japan; Name: toyota corona hardtop\" role=\"graphics-symbol\" aria-roledescription=\"circle\" transform=\"translate(158.33333333333331,208)\" d=\"M2.739,0A2.739,2.739,0,1,1,-2.739,0A2.739,2.739,0,1,1,2.739,0\" fill=\"#f58518\" stroke-width=\"2\" opacity=\"0.7\"/><path aria-label=\"Horsepower: 80; Miles_per_Gallon: 25; Origin: USA; Name: dodge colt hardtop\" role=\"graphics-symbol\" aria-roledescription=\"circle\" transform=\"translate(133.33333333333331,200)\" d=\"M2.739,0A2.739,2.739,0,1,1,-2.739,0A2.739,2.739,0,1,1,2.739,0\" fill=\"#e45756\" stroke-width=\"2\" opacity=\"0.7\"/><path aria-label=\"Horsepower: 54; Miles_per_Gallon: 23; Origin: Europe; Name: volkswagen type 3\" role=\"graphics-symbol\" aria-roledescription=\"circle\" transform=\"translate(90,216)\" d=\"M2.739,0A2.739,2.739,0,1,1,-2.739,0A2.739,2.739,0,1,1,2.739,0\" fill=\"#4c78a8\" stroke-width=\"2\" opacity=\"0.7\"/><path aria-label=\"Horsepower: 90; Miles_per_Gallon: 20; Origin: USA; Name: chevrolet vega\" role=\"graphics-symbol\" aria-roledescription=\"circle\" transform=\"translate(150,240)\" d=\"M2.739,0A2.739,2.739,0,1,1,-2.739,0A2.739,2.739,0,1,1,2.739,0\" fill=\"#e45756\" stroke-width=\"2\" opacity=\"0.7\"/><path aria-label=\"Horsepower: 86; Miles_per_Gallon: 21; Origin: USA; Name: ford pinto runabout\" role=\"graphics-symbol\" aria-roledescription=\"circle\" transform=\"translate(143.33333333333334,232.00000000000003)\" d=\"M2.739,0A2.739,2.739,0,1,1,-2.739,0A2.739,2.739,0,1,1,2.739,0\" fill=\"#e45756\" stroke-width=\"2\" opacity=\"0.7\"/><path aria-label=\"Horsepower: 165; Miles_per_Gallon: 13; Origin: USA; Name: chevrolet impala\" role=\"graphics-symbol\" aria-roledescription=\"circle\" transform=\"translate(275,296)\" d=\"M2.739,0A2.739,2.739,0,1,1,-2.739,0A2.739,2.739,0,1,1,2.739,0\" fill=\"#e45756\" stroke-width=\"2\" opacity=\"0.7\"/><path aria-label=\"Horsepower: 175; Miles_per_Gallon: 14; Origin: USA; Name: pontiac catalina\" role=\"graphics-symbol\" aria-roledescription=\"circle\" transform=\"translate(291.66666666666663,288)\" d=\"M2.739,0A2.739,2.739,0,1,1,-2.739,0A2.739,2.739,0,1,1,2.739,0\" fill=\"#e45756\" stroke-width=\"2\" opacity=\"0.7\"/><path aria-label=\"Horsepower: 150; Miles_per_Gallon: 15; Origin: USA; Name: plymouth fury iii\" role=\"graphics-symbol\" aria-roledescription=\"circle\" transform=\"translate(250,280)\" d=\"M2.739,0A2.739,2.739,0,1,1,-2.739,0A2.739,2.739,0,1,1,2.739,0\" fill=\"#e45756\" stroke-width=\"2\" opacity=\"0.7\"/><path aria-label=\"Horsepower: 153; Miles_per_Gallon: 14; Origin: USA; Name: ford galaxie 500\" role=\"graphics-symbol\" aria-roledescription=\"circle\" transform=\"translate(254.99999999999997,288)\" d=\"M2.739,0A2.739,2.739,0,1,1,-2.739,0A2.739,2.739,0,1,1,2.739,0\" fill=\"#e45756\" stroke-width=\"2\" opacity=\"0.7\"/><path aria-label=\"Horsepower: 150; Miles_per_Gallon: 17; Origin: USA; Name: amc ambassador sst\" role=\"graphics-symbol\" aria-roledescription=\"circle\" transform=\"translate(250,263.99999999999994)\" d=\"M2.739,0A2.739,2.739,0,1,1,-2.739,0A2.739,2.739,0,1,1,2.739,0\" fill=\"#e45756\" stroke-width=\"2\" opacity=\"0.7\"/><path aria-label=\"Horsepower: 208; Miles_per_Gallon: 11; Origin: USA; Name: mercury marquis\" role=\"graphics-symbol\" aria-roledescription=\"circle\" transform=\"translate(346.6666666666667,312)\" d=\"M2.739,0A2.739,2.739,0,1,1,-2.739,0A2.739,2.739,0,1,1,2.739,0\" fill=\"#e45756\" stroke-width=\"2\" opacity=\"0.7\"/><path aria-label=\"Horsepower: 155; Miles_per_Gallon: 13; Origin: USA; Name: buick lesabre custom\" role=\"graphics-symbol\" aria-roledescription=\"circle\" transform=\"translate(258.33333333333337,296)\" d=\"M2.739,0A2.739,2.739,0,1,1,-2.739,0A2.739,2.739,0,1,1,2.739,0\" fill=\"#e45756\" stroke-width=\"2\" opacity=\"0.7\"/><path aria-label=\"Horsepower: 160; Miles_per_Gallon: 12; Origin: USA; Name: oldsmobile delta 88 royale\" role=\"graphics-symbol\" aria-roledescription=\"circle\" transform=\"translate(266.66666666666663,304)\" d=\"M2.739,0A2.739,2.739,0,1,1,-2.739,0A2.739,2.739,0,1,1,2.739,0\" fill=\"#e45756\" stroke-width=\"2\" opacity=\"0.7\"/><path aria-label=\"Horsepower: 190; Miles_per_Gallon: 13; Origin: USA; Name: chrysler newport royal\" role=\"graphics-symbol\" aria-roledescription=\"circle\" transform=\"translate(316.66666666666663,296)\" d=\"M2.739,0A2.739,2.739,0,1,1,-2.739,0A2.739,2.739,0,1,1,2.739,0\" fill=\"#e45756\" stroke-width=\"2\" opacity=\"0.7\"/><path aria-label=\"Horsepower: 97; Miles_per_Gallon: 19; Origin: Japan; Name: mazda rx2 coupe\" role=\"graphics-symbol\" aria-roledescription=\"circle\" transform=\"translate(161.66666666666666,248)\" d=\"M2.739,0A2.739,2.739,0,1,1,-2.739,0A2.739,2.739,0,1,1,2.739,0\" fill=\"#f58518\" stroke-width=\"2\" opacity=\"0.7\"/><path aria-label=\"Horsepower: 150; Miles_per_Gallon: 15; Origin: USA; Name: amc matador (sw)\" role=\"graphics-symbol\" aria-roledescription=\"circle\" transform=\"translate(250,280)\" d=\"M2.739,0A2.739,2.739,0,1,1,-2.739,0A2.739,2.739,0,1,1,2.739,0\" fill=\"#e45756\" stroke-width=\"2\" opacity=\"0.7\"/><path aria-label=\"Horsepower: 130; Miles_per_Gallon: 13; Origin: USA; Name: chevrolet chevelle concours (sw)\" role=\"graphics-symbol\" aria-roledescription=\"circle\" transform=\"translate(216.66666666666666,296)\" d=\"M2.739,0A2.739,2.739,0,1,1,-2.739,0A2.739,2.739,0,1,1,2.739,0\" fill=\"#e45756\" stroke-width=\"2\" opacity=\"0.7\"/><path aria-label=\"Horsepower: 140; Miles_per_Gallon: 13; Origin: USA; Name: ford gran torino (sw)\" role=\"graphics-symbol\" aria-roledescription=\"circle\" transform=\"translate(233.33333333333334,296)\" d=\"M2.739,0A2.739,2.739,0,1,1,-2.739,0A2.739,2.739,0,1,1,2.739,0\" fill=\"#e45756\" stroke-width=\"2\" opacity=\"0.7\"/><path aria-label=\"Horsepower: 150; Miles_per_Gallon: 14; Origin: USA; Name: plymouth satellite custom (sw)\" role=\"graphics-symbol\" aria-roledescription=\"circle\" transform=\"translate(250,288)\" d=\"M2.739,0A2.739,2.739,0,1,1,-2.739,0A2.739,2.739,0,1,1,2.739,0\" fill=\"#e45756\" stroke-width=\"2\" opacity=\"0.7\"/><path aria-label=\"Horsepower: 112; Miles_per_Gallon: 18; Origin: Europe; Name: volvo 145e (sw)\" role=\"graphics-symbol\" aria-roledescription=\"circle\" transform=\"translate(186.66666666666666,256)\" d=\"M2.739,0A2.739,2.739,0,1,1,-2.739,0A2.739,2.739,0,1,1,2.739,0\" fill=\"#4c78a8\" stroke-width=\"2\" opacity=\"0.7\"/><path aria-label=\"Horsepower: 76; Miles_per_Gallon: 22; Origin: Europe; Name: volkswagen 411 (sw)\" role=\"graphics-symbol\" aria-roledescription=\"circle\" transform=\"translate(126.66666666666666,224.00000000000003)\" d=\"M2.739,0A2.739,2.739,0,1,1,-2.739,0A2.739,2.739,0,1,1,2.739,0\" fill=\"#4c78a8\" stroke-width=\"2\" opacity=\"0.7\"/><path aria-label=\"Horsepower: 87; Miles_per_Gallon: 21; Origin: Europe; Name: peugeot 504 (sw)\" role=\"graphics-symbol\" aria-roledescription=\"circle\" transform=\"translate(145,232.00000000000003)\" d=\"M2.739,0A2.739,2.739,0,1,1,-2.739,0A2.739,2.739,0,1,1,2.739,0\" fill=\"#4c78a8\" stroke-width=\"2\" opacity=\"0.7\"/><path aria-label=\"Horsepower: 69; Miles_per_Gallon: 26; Origin: Europe; Name: renault 12 (sw)\" role=\"graphics-symbol\" aria-roledescription=\"circle\" transform=\"translate(114.99999999999999,192)\" d=\"M2.739,0A2.739,2.739,0,1,1,-2.739,0A2.739,2.739,0,1,1,2.739,0\" fill=\"#4c78a8\" stroke-width=\"2\" opacity=\"0.7\"/><path aria-label=\"Horsepower: 86; Miles_per_Gallon: 22; Origin: USA; Name: ford pinto (sw)\" role=\"graphics-symbol\" aria-roledescription=\"circle\" transform=\"translate(143.33333333333334,224.00000000000003)\" d=\"M2.739,0A2.739,2.739,0,1,1,-2.739,0A2.739,2.739,0,1,1,2.739,0\" fill=\"#e45756\" stroke-width=\"2\" opacity=\"0.7\"/><path aria-label=\"Horsepower: 92; Miles_per_Gallon: 28; Origin: Japan; Name: datsun 510 (sw)\" role=\"graphics-symbol\" aria-roledescription=\"circle\" transform=\"translate(153.33333333333334,175.99999999999997)\" d=\"M2.739,0A2.739,2.739,0,1,1,-2.739,0A2.739,2.739,0,1,1,2.739,0\" fill=\"#f58518\" stroke-width=\"2\" opacity=\"0.7\"/><path aria-label=\"Horsepower: 97; Miles_per_Gallon: 23; Origin: Japan; Name: toyouta corona mark ii (sw)\" role=\"graphics-symbol\" aria-roledescription=\"circle\" transform=\"translate(161.66666666666666,216)\" d=\"M2.739,0A2.739,2.739,0,1,1,-2.739,0A2.739,2.739,0,1,1,2.739,0\" fill=\"#f58518\" stroke-width=\"2\" opacity=\"0.7\"/><path aria-label=\"Horsepower: 80; Miles_per_Gallon: 28; Origin: USA; Name: dodge colt (sw)\" role=\"graphics-symbol\" aria-roledescription=\"circle\" transform=\"translate(133.33333333333331,175.99999999999997)\" d=\"M2.739,0A2.739,2.739,0,1,1,-2.739,0A2.739,2.739,0,1,1,2.739,0\" fill=\"#e45756\" stroke-width=\"2\" opacity=\"0.7\"/><path aria-label=\"Horsepower: 88; Miles_per_Gallon: 27; Origin: Japan; Name: toyota corolla 1600 (sw)\" role=\"graphics-symbol\" aria-roledescription=\"circle\" transform=\"translate(146.66666666666666,184)\" d=\"M2.739,0A2.739,2.739,0,1,1,-2.739,0A2.739,2.739,0,1,1,2.739,0\" fill=\"#f58518\" stroke-width=\"2\" opacity=\"0.7\"/><path aria-label=\"Horsepower: 175; Miles_per_Gallon: 13; Origin: USA; Name: buick century 350\" role=\"graphics-symbol\" aria-roledescription=\"circle\" transform=\"translate(291.66666666666663,296)\" d=\"M2.739,0A2.739,2.739,0,1,1,-2.739,0A2.739,2.739,0,1,1,2.739,0\" fill=\"#e45756\" stroke-width=\"2\" opacity=\"0.7\"/><path aria-label=\"Horsepower: 150; Miles_per_Gallon: 14; Origin: USA; Name: amc matador\" role=\"graphics-symbol\" aria-roledescription=\"circle\" transform=\"translate(250,288)\" d=\"M2.739,0A2.739,2.739,0,1,1,-2.739,0A2.739,2.739,0,1,1,2.739,0\" fill=\"#e45756\" stroke-width=\"2\" opacity=\"0.7\"/><path aria-label=\"Horsepower: 145; Miles_per_Gallon: 13; Origin: USA; Name: chevrolet malibu\" role=\"graphics-symbol\" aria-roledescription=\"circle\" transform=\"translate(241.66666666666666,296)\" d=\"M2.739,0A2.739,2.739,0,1,1,-2.739,0A2.739,2.739,0,1,1,2.739,0\" fill=\"#e45756\" stroke-width=\"2\" opacity=\"0.7\"/><path aria-label=\"Horsepower: 137; Miles_per_Gallon: 14; Origin: USA; Name: ford gran torino\" role=\"graphics-symbol\" aria-roledescription=\"circle\" transform=\"translate(228.33333333333331,288)\" d=\"M2.739,0A2.739,2.739,0,1,1,-2.739,0A2.739,2.739,0,1,1,2.739,0\" fill=\"#e45756\" stroke-width=\"2\" opacity=\"0.7\"/><path aria-label=\"Horsepower: 150; Miles_per_Gallon: 15; Origin: USA; Name: dodge coronet custom\" role=\"graphics-symbol\" aria-roledescription=\"circle\" transform=\"translate(250,280)\" d=\"M2.739,0A2.739,2.739,0,1,1,-2.739,0A2.739,2.739,0,1,1,2.739,0\" fill=\"#e45756\" stroke-width=\"2\" opacity=\"0.7\"/><path aria-label=\"Horsepower: 198; Miles_per_Gallon: 12; Origin: USA; Name: mercury marquis brougham\" role=\"graphics-symbol\" aria-roledescription=\"circle\" transform=\"translate(330,304)\" d=\"M2.739,0A2.739,2.739,0,1,1,-2.739,0A2.739,2.739,0,1,1,2.739,0\" fill=\"#e45756\" stroke-width=\"2\" opacity=\"0.7\"/><path aria-label=\"Horsepower: 150; Miles_per_Gallon: 13; Origin: USA; Name: chevrolet caprice classic\" role=\"graphics-symbol\" aria-roledescription=\"circle\" transform=\"translate(250,296)\" d=\"M2.739,0A2.739,2.739,0,1,1,-2.739,0A2.739,2.739,0,1,1,2.739,0\" fill=\"#e45756\" stroke-width=\"2\" opacity=\"0.7\"/><path aria-label=\"Horsepower: 158; Miles_per_Gallon: 13; Origin: USA; Name: ford ltd\" role=\"graphics-symbol\" aria-roledescription=\"circle\" transform=\"translate(263.3333333333333,296)\" d=\"M2.739,0A2.739,2.739,0,1,1,-2.739,0A2.739,2.739,0,1,1,2.739,0\" fill=\"#e45756\" stroke-width=\"2\" opacity=\"0.7\"/><path aria-label=\"Horsepower: 150; Miles_per_Gallon: 14; Origin: USA; Name: plymouth fury gran sedan\" role=\"graphics-symbol\" aria-roledescription=\"circle\" transform=\"translate(250,288)\" d=\"M2.739,0A2.739,2.739,0,1,1,-2.739,0A2.739,2.739,0,1,1,2.739,0\" fill=\"#e45756\" stroke-width=\"2\" opacity=\"0.7\"/><path aria-label=\"Horsepower: 215; Miles_per_Gallon: 13; Origin: USA; Name: chrysler new yorker brougham\" role=\"graphics-symbol\" aria-roledescription=\"circle\" transform=\"translate(358.33333333333337,296)\" d=\"M2.739,0A2.739,2.739,0,1,1,-2.739,0A2.739,2.739,0,1,1,2.739,0\" fill=\"#e45756\" stroke-width=\"2\" opacity=\"0.7\"/><path aria-label=\"Horsepower: 225; Miles_per_Gallon: 12; Origin: USA; Name: buick electra 225 custom\" role=\"graphics-symbol\" aria-roledescription=\"circle\" transform=\"translate(375,304)\" d=\"M2.739,0A2.739,2.739,0,1,1,-2.739,0A2.739,2.739,0,1,1,2.739,0\" fill=\"#e45756\" stroke-width=\"2\" opacity=\"0.7\"/><path aria-label=\"Horsepower: 175; Miles_per_Gallon: 13; Origin: USA; Name: amc ambassador brougham\" role=\"graphics-symbol\" aria-roledescription=\"circle\" transform=\"translate(291.66666666666663,296)\" d=\"M2.739,0A2.739,2.739,0,1,1,-2.739,0A2.739,2.739,0,1,1,2.739,0\" fill=\"#e45756\" stroke-width=\"2\" opacity=\"0.7\"/><path aria-label=\"Horsepower: 105; Miles_per_Gallon: 18; Origin: USA; Name: plymouth valiant\" role=\"graphics-symbol\" aria-roledescription=\"circle\" transform=\"translate(175,256)\" d=\"M2.739,0A2.739,2.739,0,1,1,-2.739,0A2.739,2.739,0,1,1,2.739,0\" fill=\"#e45756\" stroke-width=\"2\" opacity=\"0.7\"/><path aria-label=\"Horsepower: 100; Miles_per_Gallon: 16; Origin: USA; Name: chevrolet nova custom\" role=\"graphics-symbol\" aria-roledescription=\"circle\" transform=\"translate(166.66666666666669,272)\" d=\"M2.739,0A2.739,2.739,0,1,1,-2.739,0A2.739,2.739,0,1,1,2.739,0\" fill=\"#e45756\" stroke-width=\"2\" opacity=\"0.7\"/><path aria-label=\"Horsepower: 100; Miles_per_Gallon: 18; Origin: USA; Name: amc hornet\" role=\"graphics-symbol\" aria-roledescription=\"circle\" transform=\"translate(166.66666666666669,256)\" d=\"M2.739,0A2.739,2.739,0,1,1,-2.739,0A2.739,2.739,0,1,1,2.739,0\" fill=\"#e45756\" stroke-width=\"2\" opacity=\"0.7\"/><path aria-label=\"Horsepower: 88; Miles_per_Gallon: 18; Origin: USA; Name: ford maverick\" role=\"graphics-symbol\" aria-roledescription=\"circle\" transform=\"translate(146.66666666666666,256)\" d=\"M2.739,0A2.739,2.739,0,1,1,-2.739,0A2.739,2.739,0,1,1,2.739,0\" fill=\"#e45756\" stroke-width=\"2\" opacity=\"0.7\"/><path aria-label=\"Horsepower: 95; Miles_per_Gallon: 23; Origin: USA; Name: plymouth duster\" role=\"graphics-symbol\" aria-roledescription=\"circle\" transform=\"translate(158.33333333333331,216)\" d=\"M2.739,0A2.739,2.739,0,1,1,-2.739,0A2.739,2.739,0,1,1,2.739,0\" fill=\"#e45756\" stroke-width=\"2\" opacity=\"0.7\"/><path aria-label=\"Horsepower: 46; Miles_per_Gallon: 26; Origin: Europe; Name: volkswagen super beetle\" role=\"graphics-symbol\" aria-roledescription=\"circle\" transform=\"translate(76.66666666666667,192)\" d=\"M2.739,0A2.739,2.739,0,1,1,-2.739,0A2.739,2.739,0,1,1,2.739,0\" fill=\"#4c78a8\" stroke-width=\"2\" opacity=\"0.7\"/><path aria-label=\"Horsepower: 150; Miles_per_Gallon: 11; Origin: USA; Name: chevrolet impala\" role=\"graphics-symbol\" aria-roledescription=\"circle\" transform=\"translate(250,312)\" d=\"M2.739,0A2.739,2.739,0,1,1,-2.739,0A2.739,2.739,0,1,1,2.739,0\" fill=\"#e45756\" stroke-width=\"2\" opacity=\"0.7\"/><path aria-label=\"Horsepower: 167; Miles_per_Gallon: 12; Origin: USA; Name: ford country\" role=\"graphics-symbol\" aria-roledescription=\"circle\" transform=\"translate(278.3333333333333,304)\" d=\"M2.739,0A2.739,2.739,0,1,1,-2.739,0A2.739,2.739,0,1,1,2.739,0\" fill=\"#e45756\" stroke-width=\"2\" opacity=\"0.7\"/><path aria-label=\"Horsepower: 170; Miles_per_Gallon: 13; Origin: USA; Name: plymouth custom suburb\" role=\"graphics-symbol\" aria-roledescription=\"circle\" transform=\"translate(283.33333333333337,296)\" d=\"M2.739,0A2.739,2.739,0,1,1,-2.739,0A2.739,2.739,0,1,1,2.739,0\" fill=\"#e45756\" stroke-width=\"2\" opacity=\"0.7\"/><path aria-label=\"Horsepower: 180; Miles_per_Gallon: 12; Origin: USA; Name: oldsmobile vista cruiser\" role=\"graphics-symbol\" aria-roledescription=\"circle\" transform=\"translate(300,304)\" d=\"M2.739,0A2.739,2.739,0,1,1,-2.739,0A2.739,2.739,0,1,1,2.739,0\" fill=\"#e45756\" stroke-width=\"2\" opacity=\"0.7\"/><path aria-label=\"Horsepower: 100; Miles_per_Gallon: 18; Origin: USA; Name: amc gremlin\" role=\"graphics-symbol\" aria-roledescription=\"circle\" transform=\"translate(166.66666666666669,256)\" d=\"M2.739,0A2.739,2.739,0,1,1,-2.739,0A2.739,2.739,0,1,1,2.739,0\" fill=\"#e45756\" stroke-width=\"2\" opacity=\"0.7\"/><path aria-label=\"Horsepower: 88; Miles_per_Gallon: 20; Origin: Japan; Name: toyota carina\" role=\"graphics-symbol\" aria-roledescription=\"circle\" transform=\"translate(146.66666666666666,240)\" d=\"M2.739,0A2.739,2.739,0,1,1,-2.739,0A2.739,2.739,0,1,1,2.739,0\" fill=\"#f58518\" stroke-width=\"2\" opacity=\"0.7\"/><path aria-label=\"Horsepower: 72; Miles_per_Gallon: 21; Origin: USA; Name: chevrolet vega\" role=\"graphics-symbol\" aria-roledescription=\"circle\" transform=\"translate(120,232.00000000000003)\" d=\"M2.739,0A2.739,2.739,0,1,1,-2.739,0A2.739,2.739,0,1,1,2.739,0\" fill=\"#e45756\" stroke-width=\"2\" opacity=\"0.7\"/><path aria-label=\"Horsepower: 94; Miles_per_Gallon: 22; Origin: Japan; Name: datsun 610\" role=\"graphics-symbol\" aria-roledescription=\"circle\" transform=\"translate(156.66666666666666,224.00000000000003)\" d=\"M2.739,0A2.739,2.739,0,1,1,-2.739,0A2.739,2.739,0,1,1,2.739,0\" fill=\"#f58518\" stroke-width=\"2\" opacity=\"0.7\"/><path aria-label=\"Horsepower: 90; Miles_per_Gallon: 18; Origin: Japan; Name: maxda rx3\" role=\"graphics-symbol\" aria-roledescription=\"circle\" transform=\"translate(150,256)\" d=\"M2.739,0A2.739,2.739,0,1,1,-2.739,0A2.739,2.739,0,1,1,2.739,0\" fill=\"#f58518\" stroke-width=\"2\" opacity=\"0.7\"/><path aria-label=\"Horsepower: 85; Miles_per_Gallon: 19; Origin: USA; Name: ford pinto\" role=\"graphics-symbol\" aria-roledescription=\"circle\" transform=\"translate(141.66666666666669,248)\" d=\"M2.739,0A2.739,2.739,0,1,1,-2.739,0A2.739,2.739,0,1,1,2.739,0\" fill=\"#e45756\" stroke-width=\"2\" opacity=\"0.7\"/><path aria-label=\"Horsepower: 107; Miles_per_Gallon: 21; Origin: USA; Name: mercury capri v6\" role=\"graphics-symbol\" aria-roledescription=\"circle\" transform=\"translate(178.33333333333334,232.00000000000003)\" d=\"M2.739,0A2.739,2.739,0,1,1,-2.739,0A2.739,2.739,0,1,1,2.739,0\" fill=\"#e45756\" stroke-width=\"2\" opacity=\"0.7\"/><path aria-label=\"Horsepower: 90; Miles_per_Gallon: 26; Origin: Europe; Name: fiat 124 sport coupe\" role=\"graphics-symbol\" aria-roledescription=\"circle\" transform=\"translate(150,192)\" d=\"M2.739,0A2.739,2.739,0,1,1,-2.739,0A2.739,2.739,0,1,1,2.739,0\" fill=\"#4c78a8\" stroke-width=\"2\" opacity=\"0.7\"/><path aria-label=\"Horsepower: 145; Miles_per_Gallon: 15; Origin: USA; Name: chevrolet monte carlo s\" role=\"graphics-symbol\" aria-roledescription=\"circle\" transform=\"translate(241.66666666666666,280)\" d=\"M2.739,0A2.739,2.739,0,1,1,-2.739,0A2.739,2.739,0,1,1,2.739,0\" fill=\"#e45756\" stroke-width=\"2\" opacity=\"0.7\"/><path aria-label=\"Horsepower: 230; Miles_per_Gallon: 16; Origin: USA; Name: pontiac grand prix\" role=\"graphics-symbol\" aria-roledescription=\"circle\" transform=\"translate(383.33333333333337,272)\" d=\"M2.739,0A2.739,2.739,0,1,1,-2.739,0A2.739,2.739,0,1,1,2.739,0\" fill=\"#e45756\" stroke-width=\"2\" opacity=\"0.7\"/><path aria-label=\"Horsepower: 49; Miles_per_Gallon: 29; Origin: Europe; Name: fiat 128\" role=\"graphics-symbol\" aria-roledescription=\"circle\" transform=\"translate(81.66666666666667,168.00000000000003)\" d=\"M2.739,0A2.739,2.739,0,1,1,-2.739,0A2.739,2.739,0,1,1,2.739,0\" fill=\"#4c78a8\" stroke-width=\"2\" opacity=\"0.7\"/><path aria-label=\"Horsepower: 75; Miles_per_Gallon: 24; Origin: Europe; Name: opel manta\" role=\"graphics-symbol\" aria-roledescription=\"circle\" transform=\"translate(125,208)\" d=\"M2.739,0A2.739,2.739,0,1,1,-2.739,0A2.739,2.739,0,1,1,2.739,0\" fill=\"#4c78a8\" stroke-width=\"2\" opacity=\"0.7\"/><path aria-label=\"Horsepower: 91; Miles_per_Gallon: 20; Origin: Europe; Name: audi 100ls\" role=\"graphics-symbol\" aria-roledescription=\"circle\" transform=\"translate(151.66666666666666,240)\" d=\"M2.739,0A2.739,2.739,0,1,1,-2.739,0A2.739,2.739,0,1,1,2.739,0\" fill=\"#4c78a8\" stroke-width=\"2\" opacity=\"0.7\"/><path aria-label=\"Horsepower: 112; Miles_per_Gallon: 19; Origin: Europe; Name: volvo 144ea\" role=\"graphics-symbol\" aria-roledescription=\"circle\" transform=\"translate(186.66666666666666,248)\" d=\"M2.739,0A2.739,2.739,0,1,1,-2.739,0A2.739,2.739,0,1,1,2.739,0\" fill=\"#4c78a8\" stroke-width=\"2\" opacity=\"0.7\"/><path aria-label=\"Horsepower: 150; Miles_per_Gallon: 15; Origin: USA; Name: dodge dart custom\" role=\"graphics-symbol\" aria-roledescription=\"circle\" transform=\"translate(250,280)\" d=\"M2.739,0A2.739,2.739,0,1,1,-2.739,0A2.739,2.739,0,1,1,2.739,0\" fill=\"#e45756\" stroke-width=\"2\" opacity=\"0.7\"/><path aria-label=\"Horsepower: 110; Miles_per_Gallon: 24; Origin: Europe; Name: saab 99le\" role=\"graphics-symbol\" aria-roledescription=\"circle\" transform=\"translate(183.33333333333331,208)\" d=\"M2.739,0A2.739,2.739,0,1,1,-2.739,0A2.739,2.739,0,1,1,2.739,0\" fill=\"#4c78a8\" stroke-width=\"2\" opacity=\"0.7\"/><path aria-label=\"Horsepower: 122; Miles_per_Gallon: 20; Origin: Japan; Name: toyota mark ii\" role=\"graphics-symbol\" aria-roledescription=\"circle\" transform=\"translate(203.33333333333331,240)\" d=\"M2.739,0A2.739,2.739,0,1,1,-2.739,0A2.739,2.739,0,1,1,2.739,0\" fill=\"#f58518\" stroke-width=\"2\" opacity=\"0.7\"/><path aria-label=\"Horsepower: 180; Miles_per_Gallon: 11; Origin: USA; Name: oldsmobile omega\" role=\"graphics-symbol\" aria-roledescription=\"circle\" transform=\"translate(300,312)\" d=\"M2.739,0A2.739,2.739,0,1,1,-2.739,0A2.739,2.739,0,1,1,2.739,0\" fill=\"#e45756\" stroke-width=\"2\" opacity=\"0.7\"/><path aria-label=\"Horsepower: 95; Miles_per_Gallon: 20; Origin: USA; Name: plymouth duster\" role=\"graphics-symbol\" aria-roledescription=\"circle\" transform=\"translate(158.33333333333331,240)\" d=\"M2.739,0A2.739,2.739,0,1,1,-2.739,0A2.739,2.739,0,1,1,2.739,0\" fill=\"#e45756\" stroke-width=\"2\" opacity=\"0.7\"/><path aria-label=\"Horsepower: 100; Miles_per_Gallon: 19; Origin: USA; Name: amc hornet\" role=\"graphics-symbol\" aria-roledescription=\"circle\" transform=\"translate(166.66666666666669,248)\" d=\"M2.739,0A2.739,2.739,0,1,1,-2.739,0A2.739,2.739,0,1,1,2.739,0\" fill=\"#e45756\" stroke-width=\"2\" opacity=\"0.7\"/><path aria-label=\"Horsepower: 100; Miles_per_Gallon: 15; Origin: USA; Name: chevrolet nova\" role=\"graphics-symbol\" aria-roledescription=\"circle\" transform=\"translate(166.66666666666669,280)\" d=\"M2.739,0A2.739,2.739,0,1,1,-2.739,0A2.739,2.739,0,1,1,2.739,0\" fill=\"#e45756\" stroke-width=\"2\" opacity=\"0.7\"/><path aria-label=\"Horsepower: 67; Miles_per_Gallon: 31; Origin: Japan; Name: datsun b210\" role=\"graphics-symbol\" aria-roledescription=\"circle\" transform=\"translate(111.66666666666667,152)\" d=\"M2.739,0A2.739,2.739,0,1,1,-2.739,0A2.739,2.739,0,1,1,2.739,0\" fill=\"#f58518\" stroke-width=\"2\" opacity=\"0.7\"/><path aria-label=\"Horsepower: 80; Miles_per_Gallon: 26; Origin: USA; Name: ford pinto\" role=\"graphics-symbol\" aria-roledescription=\"circle\" transform=\"translate(133.33333333333331,192)\" d=\"M2.739,0A2.739,2.739,0,1,1,-2.739,0A2.739,2.739,0,1,1,2.739,0\" fill=\"#e45756\" stroke-width=\"2\" opacity=\"0.7\"/><path aria-label=\"Horsepower: 65; Miles_per_Gallon: 32; Origin: Japan; Name: toyota corolla 1200\" role=\"graphics-symbol\" aria-roledescription=\"circle\" transform=\"translate(108.33333333333333,144)\" d=\"M2.739,0A2.739,2.739,0,1,1,-2.739,0A2.739,2.739,0,1,1,2.739,0\" fill=\"#f58518\" stroke-width=\"2\" opacity=\"0.7\"/><path aria-label=\"Horsepower: 75; Miles_per_Gallon: 25; Origin: USA; Name: chevrolet vega\" role=\"graphics-symbol\" aria-roledescription=\"circle\" transform=\"translate(125,200)\" d=\"M2.739,0A2.739,2.739,0,1,1,-2.739,0A2.739,2.739,0,1,1,2.739,0\" fill=\"#e45756\" stroke-width=\"2\" opacity=\"0.7\"/><path aria-label=\"Horsepower: 100; Miles_per_Gallon: 16; Origin: USA; Name: chevrolet chevelle malibu classic\" role=\"graphics-symbol\" aria-roledescription=\"circle\" transform=\"translate(166.66666666666669,272)\" d=\"M2.739,0A2.739,2.739,0,1,1,-2.739,0A2.739,2.739,0,1,1,2.739,0\" fill=\"#e45756\" stroke-width=\"2\" opacity=\"0.7\"/><path aria-label=\"Horsepower: 110; Miles_per_Gallon: 16; Origin: USA; Name: amc matador\" role=\"graphics-symbol\" aria-roledescription=\"circle\" transform=\"translate(183.33333333333331,272)\" d=\"M2.739,0A2.739,2.739,0,1,1,-2.739,0A2.739,2.739,0,1,1,2.739,0\" fill=\"#e45756\" stroke-width=\"2\" opacity=\"0.7\"/><path aria-label=\"Horsepower: 105; Miles_per_Gallon: 18; Origin: USA; Name: plymouth satellite sebring\" role=\"graphics-symbol\" aria-roledescription=\"circle\" transform=\"translate(175,256)\" d=\"M2.739,0A2.739,2.739,0,1,1,-2.739,0A2.739,2.739,0,1,1,2.739,0\" fill=\"#e45756\" stroke-width=\"2\" opacity=\"0.7\"/><path aria-label=\"Horsepower: 140; Miles_per_Gallon: 16; Origin: USA; Name: ford gran torino\" role=\"graphics-symbol\" aria-roledescription=\"circle\" transform=\"translate(233.33333333333334,272)\" d=\"M2.739,0A2.739,2.739,0,1,1,-2.739,0A2.739,2.739,0,1,1,2.739,0\" fill=\"#e45756\" stroke-width=\"2\" opacity=\"0.7\"/><path aria-label=\"Horsepower: 150; Miles_per_Gallon: 13; Origin: USA; Name: buick century luxus (sw)\" role=\"graphics-symbol\" aria-roledescription=\"circle\" transform=\"translate(250,296)\" d=\"M2.739,0A2.739,2.739,0,1,1,-2.739,0A2.739,2.739,0,1,1,2.739,0\" fill=\"#e45756\" stroke-width=\"2\" opacity=\"0.7\"/><path aria-label=\"Horsepower: 150; Miles_per_Gallon: 14; Origin: USA; Name: dodge coronet custom (sw)\" role=\"graphics-symbol\" aria-roledescription=\"circle\" transform=\"translate(250,288)\" d=\"M2.739,0A2.739,2.739,0,1,1,-2.739,0A2.739,2.739,0,1,1,2.739,0\" fill=\"#e45756\" stroke-width=\"2\" opacity=\"0.7\"/><path aria-label=\"Horsepower: 140; Miles_per_Gallon: 14; Origin: USA; Name: ford gran torino (sw)\" role=\"graphics-symbol\" aria-roledescription=\"circle\" transform=\"translate(233.33333333333334,288)\" d=\"M2.739,0A2.739,2.739,0,1,1,-2.739,0A2.739,2.739,0,1,1,2.739,0\" fill=\"#e45756\" stroke-width=\"2\" opacity=\"0.7\"/><path aria-label=\"Horsepower: 150; Miles_per_Gallon: 14; Origin: USA; Name: amc matador (sw)\" role=\"graphics-symbol\" aria-roledescription=\"circle\" transform=\"translate(250,288)\" d=\"M2.739,0A2.739,2.739,0,1,1,-2.739,0A2.739,2.739,0,1,1,2.739,0\" fill=\"#e45756\" stroke-width=\"2\" opacity=\"0.7\"/><path aria-label=\"Horsepower: 83; Miles_per_Gallon: 29; Origin: Europe; Name: audi fox\" role=\"graphics-symbol\" aria-roledescription=\"circle\" transform=\"translate(138.33333333333334,168.00000000000003)\" d=\"M2.739,0A2.739,2.739,0,1,1,-2.739,0A2.739,2.739,0,1,1,2.739,0\" fill=\"#4c78a8\" stroke-width=\"2\" opacity=\"0.7\"/><path aria-label=\"Horsepower: 67; Miles_per_Gallon: 26; Origin: Europe; Name: volkswagen dasher\" role=\"graphics-symbol\" aria-roledescription=\"circle\" transform=\"translate(111.66666666666667,192)\" d=\"M2.739,0A2.739,2.739,0,1,1,-2.739,0A2.739,2.739,0,1,1,2.739,0\" fill=\"#4c78a8\" stroke-width=\"2\" opacity=\"0.7\"/><path aria-label=\"Horsepower: 78; Miles_per_Gallon: 26; Origin: Europe; Name: opel manta\" role=\"graphics-symbol\" aria-roledescription=\"circle\" transform=\"translate(130,192)\" d=\"M2.739,0A2.739,2.739,0,1,1,-2.739,0A2.739,2.739,0,1,1,2.739,0\" fill=\"#4c78a8\" stroke-width=\"2\" opacity=\"0.7\"/><path aria-label=\"Horsepower: 52; Miles_per_Gallon: 31; Origin: Japan; Name: toyota corona\" role=\"graphics-symbol\" aria-roledescription=\"circle\" transform=\"translate(86.66666666666667,152)\" d=\"M2.739,0A2.739,2.739,0,1,1,-2.739,0A2.739,2.739,0,1,1,2.739,0\" fill=\"#f58518\" stroke-width=\"2\" opacity=\"0.7\"/><path aria-label=\"Horsepower: 61; Miles_per_Gallon: 32; Origin: Japan; Name: datsun 710\" role=\"graphics-symbol\" aria-roledescription=\"circle\" transform=\"translate(101.66666666666666,144)\" d=\"M2.739,0A2.739,2.739,0,1,1,-2.739,0A2.739,2.739,0,1,1,2.739,0\" fill=\"#f58518\" stroke-width=\"2\" opacity=\"0.7\"/><path aria-label=\"Horsepower: 75; Miles_per_Gallon: 28; Origin: USA; Name: dodge colt\" role=\"graphics-symbol\" aria-roledescription=\"circle\" transform=\"translate(125,175.99999999999997)\" d=\"M2.739,0A2.739,2.739,0,1,1,-2.739,0A2.739,2.739,0,1,1,2.739,0\" fill=\"#e45756\" stroke-width=\"2\" opacity=\"0.7\"/><path aria-label=\"Horsepower: 75; Miles_per_Gallon: 24; Origin: Europe; Name: fiat 128\" role=\"graphics-symbol\" aria-roledescription=\"circle\" transform=\"translate(125,208)\" d=\"M2.739,0A2.739,2.739,0,1,1,-2.739,0A2.739,2.739,0,1,1,2.739,0\" fill=\"#4c78a8\" stroke-width=\"2\" opacity=\"0.7\"/><path aria-label=\"Horsepower: 75; Miles_per_Gallon: 26; Origin: Europe; Name: fiat 124 tc\" role=\"graphics-symbol\" aria-roledescription=\"circle\" transform=\"translate(125,192)\" d=\"M2.739,0A2.739,2.739,0,1,1,-2.739,0A2.739,2.739,0,1,1,2.739,0\" fill=\"#4c78a8\" stroke-width=\"2\" opacity=\"0.7\"/><path aria-label=\"Horsepower: 97; Miles_per_Gallon: 24; Origin: Japan; Name: honda civic\" role=\"graphics-symbol\" aria-roledescription=\"circle\" transform=\"translate(161.66666666666666,208)\" d=\"M2.739,0A2.739,2.739,0,1,1,-2.739,0A2.739,2.739,0,1,1,2.739,0\" fill=\"#f58518\" stroke-width=\"2\" opacity=\"0.7\"/><path aria-label=\"Horsepower: 93; Miles_per_Gallon: 26; Origin: Japan; Name: subaru\" role=\"graphics-symbol\" aria-roledescription=\"circle\" transform=\"translate(155,192)\" d=\"M2.739,0A2.739,2.739,0,1,1,-2.739,0A2.739,2.739,0,1,1,2.739,0\" fill=\"#f58518\" stroke-width=\"2\" opacity=\"0.7\"/><path aria-label=\"Horsepower: 67; Miles_per_Gallon: 31; Origin: Europe; Name: fiat x1.9\" role=\"graphics-symbol\" aria-roledescription=\"circle\" transform=\"translate(111.66666666666667,152)\" d=\"M2.739,0A2.739,2.739,0,1,1,-2.739,0A2.739,2.739,0,1,1,2.739,0\" fill=\"#4c78a8\" stroke-width=\"2\" opacity=\"0.7\"/><path aria-label=\"Horsepower: 95; Miles_per_Gallon: 19; Origin: USA; Name: plymouth valiant custom\" role=\"graphics-symbol\" aria-roledescription=\"circle\" transform=\"translate(158.33333333333331,248)\" d=\"M2.739,0A2.739,2.739,0,1,1,-2.739,0A2.739,2.739,0,1,1,2.739,0\" fill=\"#e45756\" stroke-width=\"2\" opacity=\"0.7\"/><path aria-label=\"Horsepower: 105; Miles_per_Gallon: 18; Origin: USA; Name: chevrolet nova\" role=\"graphics-symbol\" aria-roledescription=\"circle\" transform=\"translate(175,256)\" d=\"M2.739,0A2.739,2.739,0,1,1,-2.739,0A2.739,2.739,0,1,1,2.739,0\" fill=\"#e45756\" stroke-width=\"2\" opacity=\"0.7\"/><path aria-label=\"Horsepower: 72; Miles_per_Gallon: 15; Origin: USA; Name: mercury monarch\" role=\"graphics-symbol\" aria-roledescription=\"circle\" transform=\"translate(120,280)\" d=\"M2.739,0A2.739,2.739,0,1,1,-2.739,0A2.739,2.739,0,1,1,2.739,0\" fill=\"#e45756\" stroke-width=\"2\" opacity=\"0.7\"/><path aria-label=\"Horsepower: 72; Miles_per_Gallon: 15; Origin: USA; Name: ford maverick\" role=\"graphics-symbol\" aria-roledescription=\"circle\" transform=\"translate(120,280)\" d=\"M2.739,0A2.739,2.739,0,1,1,-2.739,0A2.739,2.739,0,1,1,2.739,0\" fill=\"#e45756\" stroke-width=\"2\" opacity=\"0.7\"/><path aria-label=\"Horsepower: 170; Miles_per_Gallon: 16; Origin: USA; Name: pontiac catalina\" role=\"graphics-symbol\" aria-roledescription=\"circle\" transform=\"translate(283.33333333333337,272)\" d=\"M2.739,0A2.739,2.739,0,1,1,-2.739,0A2.739,2.739,0,1,1,2.739,0\" fill=\"#e45756\" stroke-width=\"2\" opacity=\"0.7\"/><path aria-label=\"Horsepower: 145; Miles_per_Gallon: 15; Origin: USA; Name: chevrolet bel air\" role=\"graphics-symbol\" aria-roledescription=\"circle\" transform=\"translate(241.66666666666666,280)\" d=\"M2.739,0A2.739,2.739,0,1,1,-2.739,0A2.739,2.739,0,1,1,2.739,0\" fill=\"#e45756\" stroke-width=\"2\" opacity=\"0.7\"/><path aria-label=\"Horsepower: 150; Miles_per_Gallon: 16; Origin: USA; Name: plymouth grand fury\" role=\"graphics-symbol\" aria-roledescription=\"circle\" transform=\"translate(250,272)\" d=\"M2.739,0A2.739,2.739,0,1,1,-2.739,0A2.739,2.739,0,1,1,2.739,0\" fill=\"#e45756\" stroke-width=\"2\" opacity=\"0.7\"/><path aria-label=\"Horsepower: 148; Miles_per_Gallon: 14; Origin: USA; Name: ford ltd\" role=\"graphics-symbol\" aria-roledescription=\"circle\" transform=\"translate(246.66666666666669,288)\" d=\"M2.739,0A2.739,2.739,0,1,1,-2.739,0A2.739,2.739,0,1,1,2.739,0\" fill=\"#e45756\" stroke-width=\"2\" opacity=\"0.7\"/><path aria-label=\"Horsepower: 110; Miles_per_Gallon: 17; Origin: USA; Name: buick century\" role=\"graphics-symbol\" aria-roledescription=\"circle\" transform=\"translate(183.33333333333331,263.99999999999994)\" d=\"M2.739,0A2.739,2.739,0,1,1,-2.739,0A2.739,2.739,0,1,1,2.739,0\" fill=\"#e45756\" stroke-width=\"2\" opacity=\"0.7\"/><path aria-label=\"Horsepower: 105; Miles_per_Gallon: 16; Origin: USA; Name: chevroelt chevelle malibu\" role=\"graphics-symbol\" aria-roledescription=\"circle\" transform=\"translate(175,272)\" d=\"M2.739,0A2.739,2.739,0,1,1,-2.739,0A2.739,2.739,0,1,1,2.739,0\" fill=\"#e45756\" stroke-width=\"2\" opacity=\"0.7\"/><path aria-label=\"Horsepower: 110; Miles_per_Gallon: 15; Origin: USA; Name: amc matador\" role=\"graphics-symbol\" aria-roledescription=\"circle\" transform=\"translate(183.33333333333331,280)\" d=\"M2.739,0A2.739,2.739,0,1,1,-2.739,0A2.739,2.739,0,1,1,2.739,0\" fill=\"#e45756\" stroke-width=\"2\" opacity=\"0.7\"/><path aria-label=\"Horsepower: 95; Miles_per_Gallon: 18; Origin: USA; Name: plymouth fury\" role=\"graphics-symbol\" aria-roledescription=\"circle\" transform=\"translate(158.33333333333331,256)\" d=\"M2.739,0A2.739,2.739,0,1,1,-2.739,0A2.739,2.739,0,1,1,2.739,0\" fill=\"#e45756\" stroke-width=\"2\" opacity=\"0.7\"/><path aria-label=\"Horsepower: 110; Miles_per_Gallon: 21; Origin: USA; Name: buick skyhawk\" role=\"graphics-symbol\" aria-roledescription=\"circle\" transform=\"translate(183.33333333333331,232.00000000000003)\" d=\"M2.739,0A2.739,2.739,0,1,1,-2.739,0A2.739,2.739,0,1,1,2.739,0\" fill=\"#e45756\" stroke-width=\"2\" opacity=\"0.7\"/><path aria-label=\"Horsepower: 110; Miles_per_Gallon: 20; Origin: USA; Name: chevrolet monza 2+2\" role=\"graphics-symbol\" aria-roledescription=\"circle\" transform=\"translate(183.33333333333331,240)\" d=\"M2.739,0A2.739,2.739,0,1,1,-2.739,0A2.739,2.739,0,1,1,2.739,0\" fill=\"#e45756\" stroke-width=\"2\" opacity=\"0.7\"/><path aria-label=\"Horsepower: 129; Miles_per_Gallon: 13; Origin: USA; Name: ford mustang ii\" role=\"graphics-symbol\" aria-roledescription=\"circle\" transform=\"translate(215,296)\" d=\"M2.739,0A2.739,2.739,0,1,1,-2.739,0A2.739,2.739,0,1,1,2.739,0\" fill=\"#e45756\" stroke-width=\"2\" opacity=\"0.7\"/><path aria-label=\"Horsepower: 75; Miles_per_Gallon: 29; Origin: Japan; Name: toyota corolla\" role=\"graphics-symbol\" aria-roledescription=\"circle\" transform=\"translate(125,168.00000000000003)\" d=\"M2.739,0A2.739,2.739,0,1,1,-2.739,0A2.739,2.739,0,1,1,2.739,0\" fill=\"#f58518\" stroke-width=\"2\" opacity=\"0.7\"/><path aria-label=\"Horsepower: 83; Miles_per_Gallon: 23; Origin: USA; Name: ford pinto\" role=\"graphics-symbol\" aria-roledescription=\"circle\" transform=\"translate(138.33333333333334,216)\" d=\"M2.739,0A2.739,2.739,0,1,1,-2.739,0A2.739,2.739,0,1,1,2.739,0\" fill=\"#e45756\" stroke-width=\"2\" opacity=\"0.7\"/><path aria-label=\"Horsepower: 100; Miles_per_Gallon: 20; Origin: USA; Name: amc gremlin\" role=\"graphics-symbol\" aria-roledescription=\"circle\" transform=\"translate(166.66666666666669,240)\" d=\"M2.739,0A2.739,2.739,0,1,1,-2.739,0A2.739,2.739,0,1,1,2.739,0\" fill=\"#e45756\" stroke-width=\"2\" opacity=\"0.7\"/><path aria-label=\"Horsepower: 78; Miles_per_Gallon: 23; Origin: USA; Name: pontiac astro\" role=\"graphics-symbol\" aria-roledescription=\"circle\" transform=\"translate(130,216)\" d=\"M2.739,0A2.739,2.739,0,1,1,-2.739,0A2.739,2.739,0,1,1,2.739,0\" fill=\"#e45756\" stroke-width=\"2\" opacity=\"0.7\"/><path aria-label=\"Horsepower: 96; Miles_per_Gallon: 24; Origin: Japan; Name: toyota corona\" role=\"graphics-symbol\" aria-roledescription=\"circle\" transform=\"translate(160,208)\" d=\"M2.739,0A2.739,2.739,0,1,1,-2.739,0A2.739,2.739,0,1,1,2.739,0\" fill=\"#f58518\" stroke-width=\"2\" opacity=\"0.7\"/><path aria-label=\"Horsepower: 71; Miles_per_Gallon: 25; Origin: Europe; Name: volkswagen dasher\" role=\"graphics-symbol\" aria-roledescription=\"circle\" transform=\"translate(118.33333333333333,200)\" d=\"M2.739,0A2.739,2.739,0,1,1,-2.739,0A2.739,2.739,0,1,1,2.739,0\" fill=\"#4c78a8\" stroke-width=\"2\" opacity=\"0.7\"/><path aria-label=\"Horsepower: 97; Miles_per_Gallon: 24; Origin: Japan; Name: datsun 710\" role=\"graphics-symbol\" aria-roledescription=\"circle\" transform=\"translate(161.66666666666666,208)\" d=\"M2.739,0A2.739,2.739,0,1,1,-2.739,0A2.739,2.739,0,1,1,2.739,0\" fill=\"#f58518\" stroke-width=\"2\" opacity=\"0.7\"/><path aria-label=\"Horsepower: 97; Miles_per_Gallon: 18; Origin: USA; Name: ford pinto\" role=\"graphics-symbol\" aria-roledescription=\"circle\" transform=\"translate(161.66666666666666,256)\" d=\"M2.739,0A2.739,2.739,0,1,1,-2.739,0A2.739,2.739,0,1,1,2.739,0\" fill=\"#e45756\" stroke-width=\"2\" opacity=\"0.7\"/><path aria-label=\"Horsepower: 70; Miles_per_Gallon: 29; Origin: Europe; Name: volkswagen rabbit\" role=\"graphics-symbol\" aria-roledescription=\"circle\" transform=\"translate(116.66666666666667,168.00000000000003)\" d=\"M2.739,0A2.739,2.739,0,1,1,-2.739,0A2.739,2.739,0,1,1,2.739,0\" fill=\"#4c78a8\" stroke-width=\"2\" opacity=\"0.7\"/><path aria-label=\"Horsepower: 90; Miles_per_Gallon: 19; Origin: USA; Name: amc pacer\" role=\"graphics-symbol\" aria-roledescription=\"circle\" transform=\"translate(150,248)\" d=\"M2.739,0A2.739,2.739,0,1,1,-2.739,0A2.739,2.739,0,1,1,2.739,0\" fill=\"#e45756\" stroke-width=\"2\" opacity=\"0.7\"/><path aria-label=\"Horsepower: 95; Miles_per_Gallon: 23; Origin: Europe; Name: audi 100ls\" role=\"graphics-symbol\" aria-roledescription=\"circle\" transform=\"translate(158.33333333333331,216)\" d=\"M2.739,0A2.739,2.739,0,1,1,-2.739,0A2.739,2.739,0,1,1,2.739,0\" fill=\"#4c78a8\" stroke-width=\"2\" opacity=\"0.7\"/><path aria-label=\"Horsepower: 88; Miles_per_Gallon: 23; Origin: Europe; Name: peugeot 504\" role=\"graphics-symbol\" aria-roledescription=\"circle\" transform=\"translate(146.66666666666666,216)\" d=\"M2.739,0A2.739,2.739,0,1,1,-2.739,0A2.739,2.739,0,1,1,2.739,0\" fill=\"#4c78a8\" stroke-width=\"2\" opacity=\"0.7\"/><path aria-label=\"Horsepower: 98; Miles_per_Gallon: 22; Origin: Europe; Name: volvo 244dl\" role=\"graphics-symbol\" aria-roledescription=\"circle\" transform=\"translate(163.33333333333334,224.00000000000003)\" d=\"M2.739,0A2.739,2.739,0,1,1,-2.739,0A2.739,2.739,0,1,1,2.739,0\" fill=\"#4c78a8\" stroke-width=\"2\" opacity=\"0.7\"/><path aria-label=\"Horsepower: 115; Miles_per_Gallon: 25; Origin: Europe; Name: saab 99le\" role=\"graphics-symbol\" aria-roledescription=\"circle\" transform=\"translate(191.66666666666669,200)\" d=\"M2.739,0A2.739,2.739,0,1,1,-2.739,0A2.739,2.739,0,1,1,2.739,0\" fill=\"#4c78a8\" stroke-width=\"2\" opacity=\"0.7\"/><path aria-label=\"Horsepower: 53; Miles_per_Gallon: 33; Origin: Japan; Name: honda civic cvcc\" role=\"graphics-symbol\" aria-roledescription=\"circle\" transform=\"translate(88.33333333333333,136)\" d=\"M2.739,0A2.739,2.739,0,1,1,-2.739,0A2.739,2.739,0,1,1,2.739,0\" fill=\"#f58518\" stroke-width=\"2\" opacity=\"0.7\"/><path aria-label=\"Horsepower: 86; Miles_per_Gallon: 28; Origin: Europe; Name: fiat 131\" role=\"graphics-symbol\" aria-roledescription=\"circle\" transform=\"translate(143.33333333333334,175.99999999999997)\" d=\"M2.739,0A2.739,2.739,0,1,1,-2.739,0A2.739,2.739,0,1,1,2.739,0\" fill=\"#4c78a8\" stroke-width=\"2\" opacity=\"0.7\"/><path aria-label=\"Horsepower: 81; Miles_per_Gallon: 25; Origin: Europe; Name: opel 1900\" role=\"graphics-symbol\" aria-roledescription=\"circle\" transform=\"translate(135,200)\" d=\"M2.739,0A2.739,2.739,0,1,1,-2.739,0A2.739,2.739,0,1,1,2.739,0\" fill=\"#4c78a8\" stroke-width=\"2\" opacity=\"0.7\"/><path aria-label=\"Horsepower: 92; Miles_per_Gallon: 25; Origin: USA; Name: capri ii\" role=\"graphics-symbol\" aria-roledescription=\"circle\" transform=\"translate(153.33333333333334,200)\" d=\"M2.739,0A2.739,2.739,0,1,1,-2.739,0A2.739,2.739,0,1,1,2.739,0\" fill=\"#e45756\" stroke-width=\"2\" opacity=\"0.7\"/><path aria-label=\"Horsepower: 79; Miles_per_Gallon: 26; Origin: USA; Name: dodge colt\" role=\"graphics-symbol\" aria-roledescription=\"circle\" transform=\"translate(131.66666666666666,192)\" d=\"M2.739,0A2.739,2.739,0,1,1,-2.739,0A2.739,2.739,0,1,1,2.739,0\" fill=\"#e45756\" stroke-width=\"2\" opacity=\"0.7\"/><path aria-label=\"Horsepower: 83; Miles_per_Gallon: 27; Origin: Europe; Name: renault 12tl\" role=\"graphics-symbol\" aria-roledescription=\"circle\" transform=\"translate(138.33333333333334,184)\" d=\"M2.739,0A2.739,2.739,0,1,1,-2.739,0A2.739,2.739,0,1,1,2.739,0\" fill=\"#4c78a8\" stroke-width=\"2\" opacity=\"0.7\"/><path aria-label=\"Horsepower: 140; Miles_per_Gallon: 17.5; Origin: USA; Name: chevrolet chevelle malibu classic\" role=\"graphics-symbol\" aria-roledescription=\"circle\" transform=\"translate(233.33333333333334,260)\" d=\"M2.739,0A2.739,2.739,0,1,1,-2.739,0A2.739,2.739,0,1,1,2.739,0\" fill=\"#e45756\" stroke-width=\"2\" opacity=\"0.7\"/><path aria-label=\"Horsepower: 150; Miles_per_Gallon: 16; Origin: USA; Name: dodge coronet brougham\" role=\"graphics-symbol\" aria-roledescription=\"circle\" transform=\"translate(250,272)\" d=\"M2.739,0A2.739,2.739,0,1,1,-2.739,0A2.739,2.739,0,1,1,2.739,0\" fill=\"#e45756\" stroke-width=\"2\" opacity=\"0.7\"/><path aria-label=\"Horsepower: 120; Miles_per_Gallon: 15.5; Origin: USA; Name: amc matador\" role=\"graphics-symbol\" aria-roledescription=\"circle\" transform=\"translate(200,276)\" d=\"M2.739,0A2.739,2.739,0,1,1,-2.739,0A2.739,2.739,0,1,1,2.739,0\" fill=\"#e45756\" stroke-width=\"2\" opacity=\"0.7\"/><path aria-label=\"Horsepower: 152; Miles_per_Gallon: 14.5; Origin: USA; Name: ford gran torino\" role=\"graphics-symbol\" aria-roledescription=\"circle\" transform=\"translate(253.33333333333331,284)\" d=\"M2.739,0A2.739,2.739,0,1,1,-2.739,0A2.739,2.739,0,1,1,2.739,0\" fill=\"#e45756\" stroke-width=\"2\" opacity=\"0.7\"/><path aria-label=\"Horsepower: 100; Miles_per_Gallon: 22; Origin: USA; Name: plymouth valiant\" role=\"graphics-symbol\" aria-roledescription=\"circle\" transform=\"translate(166.66666666666669,224.00000000000003)\" d=\"M2.739,0A2.739,2.739,0,1,1,-2.739,0A2.739,2.739,0,1,1,2.739,0\" fill=\"#e45756\" stroke-width=\"2\" opacity=\"0.7\"/><path aria-label=\"Horsepower: 105; Miles_per_Gallon: 22; Origin: USA; Name: chevrolet nova\" role=\"graphics-symbol\" aria-roledescription=\"circle\" transform=\"translate(175,224.00000000000003)\" d=\"M2.739,0A2.739,2.739,0,1,1,-2.739,0A2.739,2.739,0,1,1,2.739,0\" fill=\"#e45756\" stroke-width=\"2\" opacity=\"0.7\"/><path aria-label=\"Horsepower: 81; Miles_per_Gallon: 24; Origin: USA; Name: ford maverick\" role=\"graphics-symbol\" aria-roledescription=\"circle\" transform=\"translate(135,208)\" d=\"M2.739,0A2.739,2.739,0,1,1,-2.739,0A2.739,2.739,0,1,1,2.739,0\" fill=\"#e45756\" stroke-width=\"2\" opacity=\"0.7\"/><path aria-label=\"Horsepower: 90; Miles_per_Gallon: 22.5; Origin: USA; Name: amc hornet\" role=\"graphics-symbol\" aria-roledescription=\"circle\" transform=\"translate(150,220.00000000000003)\" d=\"M2.739,0A2.739,2.739,0,1,1,-2.739,0A2.739,2.739,0,1,1,2.739,0\" fill=\"#e45756\" stroke-width=\"2\" opacity=\"0.7\"/><path aria-label=\"Horsepower: 52; Miles_per_Gallon: 29; Origin: USA; Name: chevrolet chevette\" role=\"graphics-symbol\" aria-roledescription=\"circle\" transform=\"translate(86.66666666666667,168.00000000000003)\" d=\"M2.739,0A2.739,2.739,0,1,1,-2.739,0A2.739,2.739,0,1,1,2.739,0\" fill=\"#e45756\" stroke-width=\"2\" opacity=\"0.7\"/><path aria-label=\"Horsepower: 60; Miles_per_Gallon: 24.5; Origin: USA; Name: chevrolet woody\" role=\"graphics-symbol\" aria-roledescription=\"circle\" transform=\"translate(100,204)\" d=\"M2.739,0A2.739,2.739,0,1,1,-2.739,0A2.739,2.739,0,1,1,2.739,0\" fill=\"#e45756\" stroke-width=\"2\" opacity=\"0.7\"/><path aria-label=\"Horsepower: 70; Miles_per_Gallon: 29; Origin: Europe; Name: vw rabbit\" role=\"graphics-symbol\" aria-roledescription=\"circle\" transform=\"translate(116.66666666666667,168.00000000000003)\" d=\"M2.739,0A2.739,2.739,0,1,1,-2.739,0A2.739,2.739,0,1,1,2.739,0\" fill=\"#4c78a8\" stroke-width=\"2\" opacity=\"0.7\"/><path aria-label=\"Horsepower: 53; Miles_per_Gallon: 33; Origin: Japan; Name: honda civic\" role=\"graphics-symbol\" aria-roledescription=\"circle\" transform=\"translate(88.33333333333333,136)\" d=\"M2.739,0A2.739,2.739,0,1,1,-2.739,0A2.739,2.739,0,1,1,2.739,0\" fill=\"#f58518\" stroke-width=\"2\" opacity=\"0.7\"/><path aria-label=\"Horsepower: 100; Miles_per_Gallon: 20; Origin: USA; Name: dodge aspen se\" role=\"graphics-symbol\" aria-roledescription=\"circle\" transform=\"translate(166.66666666666669,240)\" d=\"M2.739,0A2.739,2.739,0,1,1,-2.739,0A2.739,2.739,0,1,1,2.739,0\" fill=\"#e45756\" stroke-width=\"2\" opacity=\"0.7\"/><path aria-label=\"Horsepower: 78; Miles_per_Gallon: 18; Origin: USA; Name: ford granada ghia\" role=\"graphics-symbol\" aria-roledescription=\"circle\" transform=\"translate(130,256)\" d=\"M2.739,0A2.739,2.739,0,1,1,-2.739,0A2.739,2.739,0,1,1,2.739,0\" fill=\"#e45756\" stroke-width=\"2\" opacity=\"0.7\"/><path aria-label=\"Horsepower: 110; Miles_per_Gallon: 18.5; Origin: USA; Name: pontiac ventura sj\" role=\"graphics-symbol\" aria-roledescription=\"circle\" transform=\"translate(183.33333333333331,252)\" d=\"M2.739,0A2.739,2.739,0,1,1,-2.739,0A2.739,2.739,0,1,1,2.739,0\" fill=\"#e45756\" stroke-width=\"2\" opacity=\"0.7\"/><path aria-label=\"Horsepower: 95; Miles_per_Gallon: 17.5; Origin: USA; Name: amc pacer d/l\" role=\"graphics-symbol\" aria-roledescription=\"circle\" transform=\"translate(158.33333333333331,260)\" d=\"M2.739,0A2.739,2.739,0,1,1,-2.739,0A2.739,2.739,0,1,1,2.739,0\" fill=\"#e45756\" stroke-width=\"2\" opacity=\"0.7\"/><path aria-label=\"Horsepower: 71; Miles_per_Gallon: 29.5; Origin: Europe; Name: volkswagen rabbit\" role=\"graphics-symbol\" aria-roledescription=\"circle\" transform=\"translate(118.33333333333333,164)\" d=\"M2.739,0A2.739,2.739,0,1,1,-2.739,0A2.739,2.739,0,1,1,2.739,0\" fill=\"#4c78a8\" stroke-width=\"2\" opacity=\"0.7\"/><path aria-label=\"Horsepower: 70; Miles_per_Gallon: 32; Origin: Japan; Name: datsun b-210\" role=\"graphics-symbol\" aria-roledescription=\"circle\" transform=\"translate(116.66666666666667,144)\" d=\"M2.739,0A2.739,2.739,0,1,1,-2.739,0A2.739,2.739,0,1,1,2.739,0\" fill=\"#f58518\" stroke-width=\"2\" opacity=\"0.7\"/><path aria-label=\"Horsepower: 75; Miles_per_Gallon: 28; Origin: Japan; Name: toyota corolla\" role=\"graphics-symbol\" aria-roledescription=\"circle\" transform=\"translate(125,175.99999999999997)\" d=\"M2.739,0A2.739,2.739,0,1,1,-2.739,0A2.739,2.739,0,1,1,2.739,0\" fill=\"#f58518\" stroke-width=\"2\" opacity=\"0.7\"/><path aria-label=\"Horsepower: 72; Miles_per_Gallon: 26.5; Origin: USA; Name: ford pinto\" role=\"graphics-symbol\" aria-roledescription=\"circle\" transform=\"translate(120,188)\" d=\"M2.739,0A2.739,2.739,0,1,1,-2.739,0A2.739,2.739,0,1,1,2.739,0\" fill=\"#e45756\" stroke-width=\"2\" opacity=\"0.7\"/><path aria-label=\"Horsepower: 102; Miles_per_Gallon: 20; Origin: Europe; Name: volvo 245\" role=\"graphics-symbol\" aria-roledescription=\"circle\" transform=\"translate(170,240)\" d=\"M2.739,0A2.739,2.739,0,1,1,-2.739,0A2.739,2.739,0,1,1,2.739,0\" fill=\"#4c78a8\" stroke-width=\"2\" opacity=\"0.7\"/><path aria-label=\"Horsepower: 150; Miles_per_Gallon: 13; Origin: USA; Name: plymouth volare premier v8\" role=\"graphics-symbol\" aria-roledescription=\"circle\" transform=\"translate(250,296)\" d=\"M2.739,0A2.739,2.739,0,1,1,-2.739,0A2.739,2.739,0,1,1,2.739,0\" fill=\"#e45756\" stroke-width=\"2\" opacity=\"0.7\"/><path aria-label=\"Horsepower: 88; Miles_per_Gallon: 19; Origin: Europe; Name: peugeot 504\" role=\"graphics-symbol\" aria-roledescription=\"circle\" transform=\"translate(146.66666666666666,248)\" d=\"M2.739,0A2.739,2.739,0,1,1,-2.739,0A2.739,2.739,0,1,1,2.739,0\" fill=\"#4c78a8\" stroke-width=\"2\" opacity=\"0.7\"/><path aria-label=\"Horsepower: 108; Miles_per_Gallon: 19; Origin: Japan; Name: toyota mark ii\" role=\"graphics-symbol\" aria-roledescription=\"circle\" transform=\"translate(180,248)\" d=\"M2.739,0A2.739,2.739,0,1,1,-2.739,0A2.739,2.739,0,1,1,2.739,0\" fill=\"#f58518\" stroke-width=\"2\" opacity=\"0.7\"/><path aria-label=\"Horsepower: 120; Miles_per_Gallon: 16.5; Origin: Europe; Name: mercedes-benz 280s\" role=\"graphics-symbol\" aria-roledescription=\"circle\" transform=\"translate(200,268)\" d=\"M2.739,0A2.739,2.739,0,1,1,-2.739,0A2.739,2.739,0,1,1,2.739,0\" fill=\"#4c78a8\" stroke-width=\"2\" opacity=\"0.7\"/><path aria-label=\"Horsepower: 180; Miles_per_Gallon: 16.5; Origin: USA; Name: cadillac seville\" role=\"graphics-symbol\" aria-roledescription=\"circle\" transform=\"translate(300,268)\" d=\"M2.739,0A2.739,2.739,0,1,1,-2.739,0A2.739,2.739,0,1,1,2.739,0\" fill=\"#e45756\" stroke-width=\"2\" opacity=\"0.7\"/><path aria-label=\"Horsepower: 145; Miles_per_Gallon: 13; Origin: USA; Name: chevy c10\" role=\"graphics-symbol\" aria-roledescription=\"circle\" transform=\"translate(241.66666666666666,296)\" d=\"M2.739,0A2.739,2.739,0,1,1,-2.739,0A2.739,2.739,0,1,1,2.739,0\" fill=\"#e45756\" stroke-width=\"2\" opacity=\"0.7\"/><path aria-label=\"Horsepower: 130; Miles_per_Gallon: 13; Origin: USA; Name: ford f108\" role=\"graphics-symbol\" aria-roledescription=\"circle\" transform=\"translate(216.66666666666666,296)\" d=\"M2.739,0A2.739,2.739,0,1,1,-2.739,0A2.739,2.739,0,1,1,2.739,0\" fill=\"#e45756\" stroke-width=\"2\" opacity=\"0.7\"/><path aria-label=\"Horsepower: 150; Miles_per_Gallon: 13; Origin: USA; Name: dodge d100\" role=\"graphics-symbol\" aria-roledescription=\"circle\" transform=\"translate(250,296)\" d=\"M2.739,0A2.739,2.739,0,1,1,-2.739,0A2.739,2.739,0,1,1,2.739,0\" fill=\"#e45756\" stroke-width=\"2\" opacity=\"0.7\"/><path aria-label=\"Horsepower: 68; Miles_per_Gallon: 31.5; Origin: Japan; Name: honda Accelerationord cvcc\" role=\"graphics-symbol\" aria-roledescription=\"circle\" transform=\"translate(113.33333333333333,148)\" d=\"M2.739,0A2.739,2.739,0,1,1,-2.739,0A2.739,2.739,0,1,1,2.739,0\" fill=\"#f58518\" stroke-width=\"2\" opacity=\"0.7\"/><path aria-label=\"Horsepower: 80; Miles_per_Gallon: 30; Origin: USA; Name: buick opel isuzu deluxe\" role=\"graphics-symbol\" aria-roledescription=\"circle\" transform=\"translate(133.33333333333331,160)\" d=\"M2.739,0A2.739,2.739,0,1,1,-2.739,0A2.739,2.739,0,1,1,2.739,0\" fill=\"#e45756\" stroke-width=\"2\" opacity=\"0.7\"/><path aria-label=\"Horsepower: 58; Miles_per_Gallon: 36; Origin: Europe; Name: renault 5 gtl\" role=\"graphics-symbol\" aria-roledescription=\"circle\" transform=\"translate(96.66666666666667,112.00000000000001)\" d=\"M2.739,0A2.739,2.739,0,1,1,-2.739,0A2.739,2.739,0,1,1,2.739,0\" fill=\"#4c78a8\" stroke-width=\"2\" opacity=\"0.7\"/><path aria-label=\"Horsepower: 96; Miles_per_Gallon: 25.5; Origin: USA; Name: plymouth arrow gs\" role=\"graphics-symbol\" aria-roledescription=\"circle\" transform=\"translate(160,196)\" d=\"M2.739,0A2.739,2.739,0,1,1,-2.739,0A2.739,2.739,0,1,1,2.739,0\" fill=\"#e45756\" stroke-width=\"2\" opacity=\"0.7\"/><path aria-label=\"Horsepower: 70; Miles_per_Gallon: 33.5; Origin: Japan; Name: datsun f-10 hatchback\" role=\"graphics-symbol\" aria-roledescription=\"circle\" transform=\"translate(116.66666666666667,131.99999999999997)\" d=\"M2.739,0A2.739,2.739,0,1,1,-2.739,0A2.739,2.739,0,1,1,2.739,0\" fill=\"#f58518\" stroke-width=\"2\" opacity=\"0.7\"/><path aria-label=\"Horsepower: 145; Miles_per_Gallon: 17.5; Origin: USA; Name: chevrolet caprice classic\" role=\"graphics-symbol\" aria-roledescription=\"circle\" transform=\"translate(241.66666666666666,260)\" d=\"M2.739,0A2.739,2.739,0,1,1,-2.739,0A2.739,2.739,0,1,1,2.739,0\" fill=\"#e45756\" stroke-width=\"2\" opacity=\"0.7\"/><path aria-label=\"Horsepower: 110; Miles_per_Gallon: 17; Origin: USA; Name: oldsmobile cutlass supreme\" role=\"graphics-symbol\" aria-roledescription=\"circle\" transform=\"translate(183.33333333333331,263.99999999999994)\" d=\"M2.739,0A2.739,2.739,0,1,1,-2.739,0A2.739,2.739,0,1,1,2.739,0\" fill=\"#e45756\" stroke-width=\"2\" opacity=\"0.7\"/><path aria-label=\"Horsepower: 145; Miles_per_Gallon: 15.5; Origin: USA; Name: dodge monaco brougham\" role=\"graphics-symbol\" aria-roledescription=\"circle\" transform=\"translate(241.66666666666666,276)\" d=\"M2.739,0A2.739,2.739,0,1,1,-2.739,0A2.739,2.739,0,1,1,2.739,0\" fill=\"#e45756\" stroke-width=\"2\" opacity=\"0.7\"/><path aria-label=\"Horsepower: 130; Miles_per_Gallon: 15; Origin: USA; Name: mercury cougar brougham\" role=\"graphics-symbol\" aria-roledescription=\"circle\" transform=\"translate(216.66666666666666,280)\" d=\"M2.739,0A2.739,2.739,0,1,1,-2.739,0A2.739,2.739,0,1,1,2.739,0\" fill=\"#e45756\" stroke-width=\"2\" opacity=\"0.7\"/><path aria-label=\"Horsepower: 110; Miles_per_Gallon: 17.5; Origin: USA; Name: chevrolet concours\" role=\"graphics-symbol\" aria-roledescription=\"circle\" transform=\"translate(183.33333333333331,260)\" d=\"M2.739,0A2.739,2.739,0,1,1,-2.739,0A2.739,2.739,0,1,1,2.739,0\" fill=\"#e45756\" stroke-width=\"2\" opacity=\"0.7\"/><path aria-label=\"Horsepower: 105; Miles_per_Gallon: 20.5; Origin: USA; Name: buick skylark\" role=\"graphics-symbol\" aria-roledescription=\"circle\" transform=\"translate(175,236.00000000000003)\" d=\"M2.739,0A2.739,2.739,0,1,1,-2.739,0A2.739,2.739,0,1,1,2.739,0\" fill=\"#e45756\" stroke-width=\"2\" opacity=\"0.7\"/><path aria-label=\"Horsepower: 100; Miles_per_Gallon: 19; Origin: USA; Name: plymouth volare custom\" role=\"graphics-symbol\" aria-roledescription=\"circle\" transform=\"translate(166.66666666666669,248)\" d=\"M2.739,0A2.739,2.739,0,1,1,-2.739,0A2.739,2.739,0,1,1,2.739,0\" fill=\"#e45756\" stroke-width=\"2\" opacity=\"0.7\"/><path aria-label=\"Horsepower: 98; Miles_per_Gallon: 18.5; Origin: USA; Name: ford granada\" role=\"graphics-symbol\" aria-roledescription=\"circle\" transform=\"translate(163.33333333333334,252)\" d=\"M2.739,0A2.739,2.739,0,1,1,-2.739,0A2.739,2.739,0,1,1,2.739,0\" fill=\"#e45756\" stroke-width=\"2\" opacity=\"0.7\"/><path aria-label=\"Horsepower: 180; Miles_per_Gallon: 16; Origin: USA; Name: pontiac grand prix lj\" role=\"graphics-symbol\" aria-roledescription=\"circle\" transform=\"translate(300,272)\" d=\"M2.739,0A2.739,2.739,0,1,1,-2.739,0A2.739,2.739,0,1,1,2.739,0\" fill=\"#e45756\" stroke-width=\"2\" opacity=\"0.7\"/><path aria-label=\"Horsepower: 170; Miles_per_Gallon: 15.5; Origin: USA; Name: chevrolet monte carlo landau\" role=\"graphics-symbol\" aria-roledescription=\"circle\" transform=\"translate(283.33333333333337,276)\" d=\"M2.739,0A2.739,2.739,0,1,1,-2.739,0A2.739,2.739,0,1,1,2.739,0\" fill=\"#e45756\" stroke-width=\"2\" opacity=\"0.7\"/><path aria-label=\"Horsepower: 190; Miles_per_Gallon: 15.5; Origin: USA; Name: chrysler cordoba\" role=\"graphics-symbol\" aria-roledescription=\"circle\" transform=\"translate(316.66666666666663,276)\" d=\"M2.739,0A2.739,2.739,0,1,1,-2.739,0A2.739,2.739,0,1,1,2.739,0\" fill=\"#e45756\" stroke-width=\"2\" opacity=\"0.7\"/><path aria-label=\"Horsepower: 149; Miles_per_Gallon: 16; Origin: USA; Name: ford thunderbird\" role=\"graphics-symbol\" aria-roledescription=\"circle\" transform=\"translate(248.33333333333334,272)\" d=\"M2.739,0A2.739,2.739,0,1,1,-2.739,0A2.739,2.739,0,1,1,2.739,0\" fill=\"#e45756\" stroke-width=\"2\" opacity=\"0.7\"/><path aria-label=\"Horsepower: 78; Miles_per_Gallon: 29; Origin: Europe; Name: volkswagen rabbit custom\" role=\"graphics-symbol\" aria-roledescription=\"circle\" transform=\"translate(130,168.00000000000003)\" d=\"M2.739,0A2.739,2.739,0,1,1,-2.739,0A2.739,2.739,0,1,1,2.739,0\" fill=\"#4c78a8\" stroke-width=\"2\" opacity=\"0.7\"/><path aria-label=\"Horsepower: 88; Miles_per_Gallon: 24.5; Origin: USA; Name: pontiac sunbird coupe\" role=\"graphics-symbol\" aria-roledescription=\"circle\" transform=\"translate(146.66666666666666,204)\" d=\"M2.739,0A2.739,2.739,0,1,1,-2.739,0A2.739,2.739,0,1,1,2.739,0\" fill=\"#e45756\" stroke-width=\"2\" opacity=\"0.7\"/><path aria-label=\"Horsepower: 75; Miles_per_Gallon: 26; Origin: Japan; Name: toyota corolla liftback\" role=\"graphics-symbol\" aria-roledescription=\"circle\" transform=\"translate(125,192)\" d=\"M2.739,0A2.739,2.739,0,1,1,-2.739,0A2.739,2.739,0,1,1,2.739,0\" fill=\"#f58518\" stroke-width=\"2\" opacity=\"0.7\"/><path aria-label=\"Horsepower: 89; Miles_per_Gallon: 25.5; Origin: USA; Name: ford mustang ii 2+2\" role=\"graphics-symbol\" aria-roledescription=\"circle\" transform=\"translate(148.33333333333334,196)\" d=\"M2.739,0A2.739,2.739,0,1,1,-2.739,0A2.739,2.739,0,1,1,2.739,0\" fill=\"#e45756\" stroke-width=\"2\" opacity=\"0.7\"/><path aria-label=\"Horsepower: 63; Miles_per_Gallon: 30.5; Origin: USA; Name: chevrolet chevette\" role=\"graphics-symbol\" aria-roledescription=\"circle\" transform=\"translate(105,156)\" d=\"M2.739,0A2.739,2.739,0,1,1,-2.739,0A2.739,2.739,0,1,1,2.739,0\" fill=\"#e45756\" stroke-width=\"2\" opacity=\"0.7\"/><path aria-label=\"Horsepower: 83; Miles_per_Gallon: 33.5; Origin: USA; Name: dodge colt m/m\" role=\"graphics-symbol\" aria-roledescription=\"circle\" transform=\"translate(138.33333333333334,131.99999999999997)\" d=\"M2.739,0A2.739,2.739,0,1,1,-2.739,0A2.739,2.739,0,1,1,2.739,0\" fill=\"#e45756\" stroke-width=\"2\" opacity=\"0.7\"/><path aria-label=\"Horsepower: 67; Miles_per_Gallon: 30; Origin: Japan; Name: subaru dl\" role=\"graphics-symbol\" aria-roledescription=\"circle\" transform=\"translate(111.66666666666667,160)\" d=\"M2.739,0A2.739,2.739,0,1,1,-2.739,0A2.739,2.739,0,1,1,2.739,0\" fill=\"#f58518\" stroke-width=\"2\" opacity=\"0.7\"/><path aria-label=\"Horsepower: 78; Miles_per_Gallon: 30.5; Origin: Europe; Name: volkswagen dasher\" role=\"graphics-symbol\" aria-roledescription=\"circle\" transform=\"translate(130,156)\" d=\"M2.739,0A2.739,2.739,0,1,1,-2.739,0A2.739,2.739,0,1,1,2.739,0\" fill=\"#4c78a8\" stroke-width=\"2\" opacity=\"0.7\"/><path aria-label=\"Horsepower: 97; Miles_per_Gallon: 22; Origin: Japan; Name: datsun 810\" role=\"graphics-symbol\" aria-roledescription=\"circle\" transform=\"translate(161.66666666666666,224.00000000000003)\" d=\"M2.739,0A2.739,2.739,0,1,1,-2.739,0A2.739,2.739,0,1,1,2.739,0\" fill=\"#f58518\" stroke-width=\"2\" opacity=\"0.7\"/><path aria-label=\"Horsepower: 110; Miles_per_Gallon: 21.5; Origin: Europe; Name: bmw 320i\" role=\"graphics-symbol\" aria-roledescription=\"circle\" transform=\"translate(183.33333333333331,228.00000000000003)\" d=\"M2.739,0A2.739,2.739,0,1,1,-2.739,0A2.739,2.739,0,1,1,2.739,0\" fill=\"#4c78a8\" stroke-width=\"2\" opacity=\"0.7\"/><path aria-label=\"Horsepower: 110; Miles_per_Gallon: 21.5; Origin: Japan; Name: mazda rx-4\" role=\"graphics-symbol\" aria-roledescription=\"circle\" transform=\"translate(183.33333333333331,228.00000000000003)\" d=\"M2.739,0A2.739,2.739,0,1,1,-2.739,0A2.739,2.739,0,1,1,2.739,0\" fill=\"#f58518\" stroke-width=\"2\" opacity=\"0.7\"/><path aria-label=\"Horsepower: 48; Miles_per_Gallon: 43.1; Origin: Europe; Name: volkswagen rabbit custom diesel\" role=\"graphics-symbol\" aria-roledescription=\"circle\" transform=\"translate(80,55.2)\" d=\"M2.739,0A2.739,2.739,0,1,1,-2.739,0A2.739,2.739,0,1,1,2.739,0\" fill=\"#4c78a8\" stroke-width=\"2\" opacity=\"0.7\"/><path aria-label=\"Horsepower: 66; Miles_per_Gallon: 36.1; Origin: USA; Name: ford fiesta\" role=\"graphics-symbol\" aria-roledescription=\"circle\" transform=\"translate(110.00000000000001,111.20000000000002)\" d=\"M2.739,0A2.739,2.739,0,1,1,-2.739,0A2.739,2.739,0,1,1,2.739,0\" fill=\"#e45756\" stroke-width=\"2\" opacity=\"0.7\"/><path aria-label=\"Horsepower: 52; Miles_per_Gallon: 32.8; Origin: Japan; Name: mazda glc deluxe\" role=\"graphics-symbol\" aria-roledescription=\"circle\" transform=\"translate(86.66666666666667,137.60000000000002)\" d=\"M2.739,0A2.739,2.739,0,1,1,-2.739,0A2.739,2.739,0,1,1,2.739,0\" fill=\"#f58518\" stroke-width=\"2\" opacity=\"0.7\"/><path aria-label=\"Horsepower: 70; Miles_per_Gallon: 39.4; Origin: Japan; Name: datsun b210 gx\" role=\"graphics-symbol\" aria-roledescription=\"circle\" transform=\"translate(116.66666666666667,84.80000000000003)\" d=\"M2.739,0A2.739,2.739,0,1,1,-2.739,0A2.739,2.739,0,1,1,2.739,0\" fill=\"#f58518\" stroke-width=\"2\" opacity=\"0.7\"/><path aria-label=\"Horsepower: 60; Miles_per_Gallon: 36.1; Origin: Japan; Name: honda civic cvcc\" role=\"graphics-symbol\" aria-roledescription=\"circle\" transform=\"translate(100,111.20000000000002)\" d=\"M2.739,0A2.739,2.739,0,1,1,-2.739,0A2.739,2.739,0,1,1,2.739,0\" fill=\"#f58518\" stroke-width=\"2\" opacity=\"0.7\"/><path aria-label=\"Horsepower: 110; Miles_per_Gallon: 19.9; Origin: USA; Name: oldsmobile cutlass salon brougham\" role=\"graphics-symbol\" aria-roledescription=\"circle\" transform=\"translate(183.33333333333331,240.80000000000004)\" d=\"M2.739,0A2.739,2.739,0,1,1,-2.739,0A2.739,2.739,0,1,1,2.739,0\" fill=\"#e45756\" stroke-width=\"2\" opacity=\"0.7\"/><path aria-label=\"Horsepower: 140; Miles_per_Gallon: 19.4; Origin: USA; Name: dodge diplomat\" role=\"graphics-symbol\" aria-roledescription=\"circle\" transform=\"translate(233.33333333333334,244.80000000000004)\" d=\"M2.739,0A2.739,2.739,0,1,1,-2.739,0A2.739,2.739,0,1,1,2.739,0\" fill=\"#e45756\" stroke-width=\"2\" opacity=\"0.7\"/><path aria-label=\"Horsepower: 139; Miles_per_Gallon: 20.2; Origin: USA; Name: mercury monarch ghia\" role=\"graphics-symbol\" aria-roledescription=\"circle\" transform=\"translate(231.66666666666669,238.40000000000003)\" d=\"M2.739,0A2.739,2.739,0,1,1,-2.739,0A2.739,2.739,0,1,1,2.739,0\" fill=\"#e45756\" stroke-width=\"2\" opacity=\"0.7\"/><path aria-label=\"Horsepower: 105; Miles_per_Gallon: 19.2; Origin: USA; Name: pontiac phoenix lj\" role=\"graphics-symbol\" aria-roledescription=\"circle\" transform=\"translate(175,246.4)\" d=\"M2.739,0A2.739,2.739,0,1,1,-2.739,0A2.739,2.739,0,1,1,2.739,0\" fill=\"#e45756\" stroke-width=\"2\" opacity=\"0.7\"/><path aria-label=\"Horsepower: 95; Miles_per_Gallon: 20.5; Origin: USA; Name: chevrolet malibu\" role=\"graphics-symbol\" aria-roledescription=\"circle\" transform=\"translate(158.33333333333331,236.00000000000003)\" d=\"M2.739,0A2.739,2.739,0,1,1,-2.739,0A2.739,2.739,0,1,1,2.739,0\" fill=\"#e45756\" stroke-width=\"2\" opacity=\"0.7\"/><path aria-label=\"Horsepower: 85; Miles_per_Gallon: 20.2; Origin: USA; Name: ford fairmont (auto)\" role=\"graphics-symbol\" aria-roledescription=\"circle\" transform=\"translate(141.66666666666669,238.40000000000003)\" d=\"M2.739,0A2.739,2.739,0,1,1,-2.739,0A2.739,2.739,0,1,1,2.739,0\" fill=\"#e45756\" stroke-width=\"2\" opacity=\"0.7\"/><path aria-label=\"Horsepower: 88; Miles_per_Gallon: 25.1; Origin: USA; Name: ford fairmont (man)\" role=\"graphics-symbol\" aria-roledescription=\"circle\" transform=\"translate(146.66666666666666,199.2)\" d=\"M2.739,0A2.739,2.739,0,1,1,-2.739,0A2.739,2.739,0,1,1,2.739,0\" fill=\"#e45756\" stroke-width=\"2\" opacity=\"0.7\"/><path aria-label=\"Horsepower: 100; Miles_per_Gallon: 20.5; Origin: USA; Name: plymouth volare\" role=\"graphics-symbol\" aria-roledescription=\"circle\" transform=\"translate(166.66666666666669,236.00000000000003)\" d=\"M2.739,0A2.739,2.739,0,1,1,-2.739,0A2.739,2.739,0,1,1,2.739,0\" fill=\"#e45756\" stroke-width=\"2\" opacity=\"0.7\"/><path aria-label=\"Horsepower: 90; Miles_per_Gallon: 19.4; Origin: USA; Name: amc concord\" role=\"graphics-symbol\" aria-roledescription=\"circle\" transform=\"translate(150,244.80000000000004)\" d=\"M2.739,0A2.739,2.739,0,1,1,-2.739,0A2.739,2.739,0,1,1,2.739,0\" fill=\"#e45756\" stroke-width=\"2\" opacity=\"0.7\"/><path aria-label=\"Horsepower: 105; Miles_per_Gallon: 20.6; Origin: USA; Name: buick century special\" role=\"graphics-symbol\" aria-roledescription=\"circle\" transform=\"translate(175,235.2)\" d=\"M2.739,0A2.739,2.739,0,1,1,-2.739,0A2.739,2.739,0,1,1,2.739,0\" fill=\"#e45756\" stroke-width=\"2\" opacity=\"0.7\"/><path aria-label=\"Horsepower: 85; Miles_per_Gallon: 20.8; Origin: USA; Name: mercury zephyr\" role=\"graphics-symbol\" aria-roledescription=\"circle\" transform=\"translate(141.66666666666669,233.6)\" d=\"M2.739,0A2.739,2.739,0,1,1,-2.739,0A2.739,2.739,0,1,1,2.739,0\" fill=\"#e45756\" stroke-width=\"2\" opacity=\"0.7\"/><path aria-label=\"Horsepower: 110; Miles_per_Gallon: 18.6; Origin: USA; Name: dodge aspen\" role=\"graphics-symbol\" aria-roledescription=\"circle\" transform=\"translate(183.33333333333331,251.19999999999996)\" d=\"M2.739,0A2.739,2.739,0,1,1,-2.739,0A2.739,2.739,0,1,1,2.739,0\" fill=\"#e45756\" stroke-width=\"2\" opacity=\"0.7\"/><path aria-label=\"Horsepower: 120; Miles_per_Gallon: 18.1; Origin: USA; Name: amc concord d/l\" role=\"graphics-symbol\" aria-roledescription=\"circle\" transform=\"translate(200,255.19999999999996)\" d=\"M2.739,0A2.739,2.739,0,1,1,-2.739,0A2.739,2.739,0,1,1,2.739,0\" fill=\"#e45756\" stroke-width=\"2\" opacity=\"0.7\"/><path aria-label=\"Horsepower: 145; Miles_per_Gallon: 19.2; Origin: USA; Name: chevrolet monte carlo landau\" role=\"graphics-symbol\" aria-roledescription=\"circle\" transform=\"translate(241.66666666666666,246.4)\" d=\"M2.739,0A2.739,2.739,0,1,1,-2.739,0A2.739,2.739,0,1,1,2.739,0\" fill=\"#e45756\" stroke-width=\"2\" opacity=\"0.7\"/><path aria-label=\"Horsepower: 165; Miles_per_Gallon: 17.7; Origin: USA; Name: buick regal sport coupe (turbo)\" role=\"graphics-symbol\" aria-roledescription=\"circle\" transform=\"translate(275,258.40000000000003)\" d=\"M2.739,0A2.739,2.739,0,1,1,-2.739,0A2.739,2.739,0,1,1,2.739,0\" fill=\"#e45756\" stroke-width=\"2\" opacity=\"0.7\"/><path aria-label=\"Horsepower: 139; Miles_per_Gallon: 18.1; Origin: USA; Name: ford futura\" role=\"graphics-symbol\" aria-roledescription=\"circle\" transform=\"translate(231.66666666666669,255.19999999999996)\" d=\"M2.739,0A2.739,2.739,0,1,1,-2.739,0A2.739,2.739,0,1,1,2.739,0\" fill=\"#e45756\" stroke-width=\"2\" opacity=\"0.7\"/><path aria-label=\"Horsepower: 140; Miles_per_Gallon: 17.5; Origin: USA; Name: dodge magnum xe\" role=\"graphics-symbol\" aria-roledescription=\"circle\" transform=\"translate(233.33333333333334,260)\" d=\"M2.739,0A2.739,2.739,0,1,1,-2.739,0A2.739,2.739,0,1,1,2.739,0\" fill=\"#e45756\" stroke-width=\"2\" opacity=\"0.7\"/><path aria-label=\"Horsepower: 68; Miles_per_Gallon: 30; Origin: USA; Name: chevrolet chevette\" role=\"graphics-symbol\" aria-roledescription=\"circle\" transform=\"translate(113.33333333333333,160)\" d=\"M2.739,0A2.739,2.739,0,1,1,-2.739,0A2.739,2.739,0,1,1,2.739,0\" fill=\"#e45756\" stroke-width=\"2\" opacity=\"0.7\"/><path aria-label=\"Horsepower: 95; Miles_per_Gallon: 27.5; Origin: Japan; Name: toyota corona\" role=\"graphics-symbol\" aria-roledescription=\"circle\" transform=\"translate(158.33333333333331,179.99999999999997)\" d=\"M2.739,0A2.739,2.739,0,1,1,-2.739,0A2.739,2.739,0,1,1,2.739,0\" fill=\"#f58518\" stroke-width=\"2\" opacity=\"0.7\"/><path aria-label=\"Horsepower: 97; Miles_per_Gallon: 27.2; Origin: Japan; Name: datsun 510\" role=\"graphics-symbol\" aria-roledescription=\"circle\" transform=\"translate(161.66666666666666,182.39999999999998)\" d=\"M2.739,0A2.739,2.739,0,1,1,-2.739,0A2.739,2.739,0,1,1,2.739,0\" fill=\"#f58518\" stroke-width=\"2\" opacity=\"0.7\"/><path aria-label=\"Horsepower: 75; Miles_per_Gallon: 30.9; Origin: USA; Name: dodge omni\" role=\"graphics-symbol\" aria-roledescription=\"circle\" transform=\"translate(125,152.8)\" d=\"M2.739,0A2.739,2.739,0,1,1,-2.739,0A2.739,2.739,0,1,1,2.739,0\" fill=\"#e45756\" stroke-width=\"2\" opacity=\"0.7\"/><path aria-label=\"Horsepower: 95; Miles_per_Gallon: 21.1; Origin: Japan; Name: toyota celica gt liftback\" role=\"graphics-symbol\" aria-roledescription=\"circle\" transform=\"translate(158.33333333333331,231.2)\" d=\"M2.739,0A2.739,2.739,0,1,1,-2.739,0A2.739,2.739,0,1,1,2.739,0\" fill=\"#f58518\" stroke-width=\"2\" opacity=\"0.7\"/><path aria-label=\"Horsepower: 105; Miles_per_Gallon: 23.2; Origin: USA; Name: plymouth sapporo\" role=\"graphics-symbol\" aria-roledescription=\"circle\" transform=\"translate(175,214.4)\" d=\"M2.739,0A2.739,2.739,0,1,1,-2.739,0A2.739,2.739,0,1,1,2.739,0\" fill=\"#e45756\" stroke-width=\"2\" opacity=\"0.7\"/><path aria-label=\"Horsepower: 85; Miles_per_Gallon: 23.8; Origin: USA; Name: oldsmobile starfire sx\" role=\"graphics-symbol\" aria-roledescription=\"circle\" transform=\"translate(141.66666666666669,209.60000000000002)\" d=\"M2.739,0A2.739,2.739,0,1,1,-2.739,0A2.739,2.739,0,1,1,2.739,0\" fill=\"#e45756\" stroke-width=\"2\" opacity=\"0.7\"/><path aria-label=\"Horsepower: 97; Miles_per_Gallon: 23.9; Origin: Japan; Name: datsun 200-sx\" role=\"graphics-symbol\" aria-roledescription=\"circle\" transform=\"translate(161.66666666666666,208.8)\" d=\"M2.739,0A2.739,2.739,0,1,1,-2.739,0A2.739,2.739,0,1,1,2.739,0\" fill=\"#f58518\" stroke-width=\"2\" opacity=\"0.7\"/><path aria-label=\"Horsepower: 103; Miles_per_Gallon: 20.3; Origin: Europe; Name: audi 5000\" role=\"graphics-symbol\" aria-roledescription=\"circle\" transform=\"translate(171.66666666666666,237.6)\" d=\"M2.739,0A2.739,2.739,0,1,1,-2.739,0A2.739,2.739,0,1,1,2.739,0\" fill=\"#4c78a8\" stroke-width=\"2\" opacity=\"0.7\"/><path aria-label=\"Horsepower: 125; Miles_per_Gallon: 17; Origin: Europe; Name: volvo 264gl\" role=\"graphics-symbol\" aria-roledescription=\"circle\" transform=\"translate(208.33333333333334,263.99999999999994)\" d=\"M2.739,0A2.739,2.739,0,1,1,-2.739,0A2.739,2.739,0,1,1,2.739,0\" fill=\"#4c78a8\" stroke-width=\"2\" opacity=\"0.7\"/><path aria-label=\"Horsepower: 115; Miles_per_Gallon: 21.6; Origin: Europe; Name: saab 99gle\" role=\"graphics-symbol\" aria-roledescription=\"circle\" transform=\"translate(191.66666666666669,227.2)\" d=\"M2.739,0A2.739,2.739,0,1,1,-2.739,0A2.739,2.739,0,1,1,2.739,0\" fill=\"#4c78a8\" stroke-width=\"2\" opacity=\"0.7\"/><path aria-label=\"Horsepower: 133; Miles_per_Gallon: 16.2; Origin: Europe; Name: peugeot 604sl\" role=\"graphics-symbol\" aria-roledescription=\"circle\" transform=\"translate(221.66666666666669,270.4)\" d=\"M2.739,0A2.739,2.739,0,1,1,-2.739,0A2.739,2.739,0,1,1,2.739,0\" fill=\"#4c78a8\" stroke-width=\"2\" opacity=\"0.7\"/><path aria-label=\"Horsepower: 71; Miles_per_Gallon: 31.5; Origin: Europe; Name: volkswagen scirocco\" role=\"graphics-symbol\" aria-roledescription=\"circle\" transform=\"translate(118.33333333333333,148)\" d=\"M2.739,0A2.739,2.739,0,1,1,-2.739,0A2.739,2.739,0,1,1,2.739,0\" fill=\"#4c78a8\" stroke-width=\"2\" opacity=\"0.7\"/><path aria-label=\"Horsepower: 68; Miles_per_Gallon: 29.5; Origin: Japan; Name: honda Accelerationord lx\" role=\"graphics-symbol\" aria-roledescription=\"circle\" transform=\"translate(113.33333333333333,164)\" d=\"M2.739,0A2.739,2.739,0,1,1,-2.739,0A2.739,2.739,0,1,1,2.739,0\" fill=\"#f58518\" stroke-width=\"2\" opacity=\"0.7\"/><path aria-label=\"Horsepower: 115; Miles_per_Gallon: 21.5; Origin: USA; Name: pontiac lemans v6\" role=\"graphics-symbol\" aria-roledescription=\"circle\" transform=\"translate(191.66666666666669,228.00000000000003)\" d=\"M2.739,0A2.739,2.739,0,1,1,-2.739,0A2.739,2.739,0,1,1,2.739,0\" fill=\"#e45756\" stroke-width=\"2\" opacity=\"0.7\"/><path aria-label=\"Horsepower: 85; Miles_per_Gallon: 19.8; Origin: USA; Name: mercury zephyr 6\" role=\"graphics-symbol\" aria-roledescription=\"circle\" transform=\"translate(141.66666666666669,241.6)\" d=\"M2.739,0A2.739,2.739,0,1,1,-2.739,0A2.739,2.739,0,1,1,2.739,0\" fill=\"#e45756\" stroke-width=\"2\" opacity=\"0.7\"/><path aria-label=\"Horsepower: 88; Miles_per_Gallon: 22.3; Origin: USA; Name: ford fairmont 4\" role=\"graphics-symbol\" aria-roledescription=\"circle\" transform=\"translate(146.66666666666666,221.60000000000002)\" d=\"M2.739,0A2.739,2.739,0,1,1,-2.739,0A2.739,2.739,0,1,1,2.739,0\" fill=\"#e45756\" stroke-width=\"2\" opacity=\"0.7\"/><path aria-label=\"Horsepower: 90; Miles_per_Gallon: 20.2; Origin: USA; Name: amc concord dl 6\" role=\"graphics-symbol\" aria-roledescription=\"circle\" transform=\"translate(150,238.40000000000003)\" d=\"M2.739,0A2.739,2.739,0,1,1,-2.739,0A2.739,2.739,0,1,1,2.739,0\" fill=\"#e45756\" stroke-width=\"2\" opacity=\"0.7\"/><path aria-label=\"Horsepower: 110; Miles_per_Gallon: 20.6; Origin: USA; Name: dodge aspen 6\" role=\"graphics-symbol\" aria-roledescription=\"circle\" transform=\"translate(183.33333333333331,235.2)\" d=\"M2.739,0A2.739,2.739,0,1,1,-2.739,0A2.739,2.739,0,1,1,2.739,0\" fill=\"#e45756\" stroke-width=\"2\" opacity=\"0.7\"/><path aria-label=\"Horsepower: 130; Miles_per_Gallon: 17; Origin: USA; Name: chevrolet caprice classic\" role=\"graphics-symbol\" aria-roledescription=\"circle\" transform=\"translate(216.66666666666666,263.99999999999994)\" d=\"M2.739,0A2.739,2.739,0,1,1,-2.739,0A2.739,2.739,0,1,1,2.739,0\" fill=\"#e45756\" stroke-width=\"2\" opacity=\"0.7\"/><path aria-label=\"Horsepower: 129; Miles_per_Gallon: 17.6; Origin: USA; Name: ford ltd landau\" role=\"graphics-symbol\" aria-roledescription=\"circle\" transform=\"translate(215,259.2)\" d=\"M2.739,0A2.739,2.739,0,1,1,-2.739,0A2.739,2.739,0,1,1,2.739,0\" fill=\"#e45756\" stroke-width=\"2\" opacity=\"0.7\"/><path aria-label=\"Horsepower: 138; Miles_per_Gallon: 16.5; Origin: USA; Name: mercury grand marquis\" role=\"graphics-symbol\" aria-roledescription=\"circle\" transform=\"translate(229.99999999999997,268)\" d=\"M2.739,0A2.739,2.739,0,1,1,-2.739,0A2.739,2.739,0,1,1,2.739,0\" fill=\"#e45756\" stroke-width=\"2\" opacity=\"0.7\"/><path aria-label=\"Horsepower: 135; Miles_per_Gallon: 18.2; Origin: USA; Name: dodge st. regis\" role=\"graphics-symbol\" aria-roledescription=\"circle\" transform=\"translate(225,254.4)\" d=\"M2.739,0A2.739,2.739,0,1,1,-2.739,0A2.739,2.739,0,1,1,2.739,0\" fill=\"#e45756\" stroke-width=\"2\" opacity=\"0.7\"/><path aria-label=\"Horsepower: 155; Miles_per_Gallon: 16.9; Origin: USA; Name: buick estate wagon (sw)\" role=\"graphics-symbol\" aria-roledescription=\"circle\" transform=\"translate(258.33333333333337,264.8)\" d=\"M2.739,0A2.739,2.739,0,1,1,-2.739,0A2.739,2.739,0,1,1,2.739,0\" fill=\"#e45756\" stroke-width=\"2\" opacity=\"0.7\"/><path aria-label=\"Horsepower: 142; Miles_per_Gallon: 15.5; Origin: USA; Name: ford country squire (sw)\" role=\"graphics-symbol\" aria-roledescription=\"circle\" transform=\"translate(236.66666666666666,276)\" d=\"M2.739,0A2.739,2.739,0,1,1,-2.739,0A2.739,2.739,0,1,1,2.739,0\" fill=\"#e45756\" stroke-width=\"2\" opacity=\"0.7\"/><path aria-label=\"Horsepower: 125; Miles_per_Gallon: 19.2; Origin: USA; Name: chevrolet malibu classic (sw)\" role=\"graphics-symbol\" aria-roledescription=\"circle\" transform=\"translate(208.33333333333334,246.4)\" d=\"M2.739,0A2.739,2.739,0,1,1,-2.739,0A2.739,2.739,0,1,1,2.739,0\" fill=\"#e45756\" stroke-width=\"2\" opacity=\"0.7\"/><path aria-label=\"Horsepower: 150; Miles_per_Gallon: 18.5; Origin: USA; Name: chrysler lebaron town @ country (sw)\" role=\"graphics-symbol\" aria-roledescription=\"circle\" transform=\"translate(250,252)\" d=\"M2.739,0A2.739,2.739,0,1,1,-2.739,0A2.739,2.739,0,1,1,2.739,0\" fill=\"#e45756\" stroke-width=\"2\" opacity=\"0.7\"/><path aria-label=\"Horsepower: 71; Miles_per_Gallon: 31.9; Origin: Europe; Name: vw rabbit custom\" role=\"graphics-symbol\" aria-roledescription=\"circle\" transform=\"translate(118.33333333333333,144.79999999999998)\" d=\"M2.739,0A2.739,2.739,0,1,1,-2.739,0A2.739,2.739,0,1,1,2.739,0\" fill=\"#4c78a8\" stroke-width=\"2\" opacity=\"0.7\"/><path aria-label=\"Horsepower: 65; Miles_per_Gallon: 34.1; Origin: Japan; Name: maxda glc deluxe\" role=\"graphics-symbol\" aria-roledescription=\"circle\" transform=\"translate(108.33333333333333,127.19999999999997)\" d=\"M2.739,0A2.739,2.739,0,1,1,-2.739,0A2.739,2.739,0,1,1,2.739,0\" fill=\"#f58518\" stroke-width=\"2\" opacity=\"0.7\"/><path aria-label=\"Horsepower: 80; Miles_per_Gallon: 35.7; Origin: USA; Name: dodge colt hatchback custom\" role=\"graphics-symbol\" aria-roledescription=\"circle\" transform=\"translate(133.33333333333331,114.39999999999996)\" d=\"M2.739,0A2.739,2.739,0,1,1,-2.739,0A2.739,2.739,0,1,1,2.739,0\" fill=\"#e45756\" stroke-width=\"2\" opacity=\"0.7\"/><path aria-label=\"Horsepower: 80; Miles_per_Gallon: 27.4; Origin: USA; Name: amc spirit dl\" role=\"graphics-symbol\" aria-roledescription=\"circle\" transform=\"translate(133.33333333333331,180.80000000000004)\" d=\"M2.739,0A2.739,2.739,0,1,1,-2.739,0A2.739,2.739,0,1,1,2.739,0\" fill=\"#e45756\" stroke-width=\"2\" opacity=\"0.7\"/><path aria-label=\"Horsepower: 77; Miles_per_Gallon: 25.4; Origin: Europe; Name: mercedes benz 300d\" role=\"graphics-symbol\" aria-roledescription=\"circle\" transform=\"translate(128.33333333333334,196.8)\" d=\"M2.739,0A2.739,2.739,0,1,1,-2.739,0A2.739,2.739,0,1,1,2.739,0\" fill=\"#4c78a8\" stroke-width=\"2\" opacity=\"0.7\"/><path aria-label=\"Horsepower: 125; Miles_per_Gallon: 23; Origin: USA; Name: cadillac eldorado\" role=\"graphics-symbol\" aria-roledescription=\"circle\" transform=\"translate(208.33333333333334,216)\" d=\"M2.739,0A2.739,2.739,0,1,1,-2.739,0A2.739,2.739,0,1,1,2.739,0\" fill=\"#e45756\" stroke-width=\"2\" opacity=\"0.7\"/><path aria-label=\"Horsepower: 71; Miles_per_Gallon: 27.2; Origin: Europe; Name: peugeot 504\" role=\"graphics-symbol\" aria-roledescription=\"circle\" transform=\"translate(118.33333333333333,182.39999999999998)\" d=\"M2.739,0A2.739,2.739,0,1,1,-2.739,0A2.739,2.739,0,1,1,2.739,0\" fill=\"#4c78a8\" stroke-width=\"2\" opacity=\"0.7\"/><path aria-label=\"Horsepower: 90; Miles_per_Gallon: 23.9; Origin: USA; Name: oldsmobile cutlass salon brougham\" role=\"graphics-symbol\" aria-roledescription=\"circle\" transform=\"translate(150,208.8)\" d=\"M2.739,0A2.739,2.739,0,1,1,-2.739,0A2.739,2.739,0,1,1,2.739,0\" fill=\"#e45756\" stroke-width=\"2\" opacity=\"0.7\"/><path aria-label=\"Horsepower: 70; Miles_per_Gallon: 34.2; Origin: USA; Name: plymouth horizon\" role=\"graphics-symbol\" aria-roledescription=\"circle\" transform=\"translate(116.66666666666667,126.39999999999998)\" d=\"M2.739,0A2.739,2.739,0,1,1,-2.739,0A2.739,2.739,0,1,1,2.739,0\" fill=\"#e45756\" stroke-width=\"2\" opacity=\"0.7\"/><path aria-label=\"Horsepower: 70; Miles_per_Gallon: 34.5; Origin: USA; Name: plymouth horizon tc3\" role=\"graphics-symbol\" aria-roledescription=\"circle\" transform=\"translate(116.66666666666667,124.00000000000003)\" d=\"M2.739,0A2.739,2.739,0,1,1,-2.739,0A2.739,2.739,0,1,1,2.739,0\" fill=\"#e45756\" stroke-width=\"2\" opacity=\"0.7\"/><path aria-label=\"Horsepower: 65; Miles_per_Gallon: 31.8; Origin: Japan; Name: datsun 210\" role=\"graphics-symbol\" aria-roledescription=\"circle\" transform=\"translate(108.33333333333333,145.6)\" d=\"M2.739,0A2.739,2.739,0,1,1,-2.739,0A2.739,2.739,0,1,1,2.739,0\" fill=\"#f58518\" stroke-width=\"2\" opacity=\"0.7\"/><path aria-label=\"Horsepower: 69; Miles_per_Gallon: 37.3; Origin: Europe; Name: fiat strada custom\" role=\"graphics-symbol\" aria-roledescription=\"circle\" transform=\"translate(114.99999999999999,101.6)\" d=\"M2.739,0A2.739,2.739,0,1,1,-2.739,0A2.739,2.739,0,1,1,2.739,0\" fill=\"#4c78a8\" stroke-width=\"2\" opacity=\"0.7\"/><path aria-label=\"Horsepower: 90; Miles_per_Gallon: 28.4; Origin: USA; Name: buick skylark limited\" role=\"graphics-symbol\" aria-roledescription=\"circle\" transform=\"translate(150,172.8)\" d=\"M2.739,0A2.739,2.739,0,1,1,-2.739,0A2.739,2.739,0,1,1,2.739,0\" fill=\"#e45756\" stroke-width=\"2\" opacity=\"0.7\"/><path aria-label=\"Horsepower: 115; Miles_per_Gallon: 28.8; Origin: USA; Name: chevrolet citation\" role=\"graphics-symbol\" aria-roledescription=\"circle\" transform=\"translate(191.66666666666669,169.59999999999997)\" d=\"M2.739,0A2.739,2.739,0,1,1,-2.739,0A2.739,2.739,0,1,1,2.739,0\" fill=\"#e45756\" stroke-width=\"2\" opacity=\"0.7\"/><path aria-label=\"Horsepower: 115; Miles_per_Gallon: 26.8; Origin: USA; Name: oldsmobile omega brougham\" role=\"graphics-symbol\" aria-roledescription=\"circle\" transform=\"translate(191.66666666666669,185.6)\" d=\"M2.739,0A2.739,2.739,0,1,1,-2.739,0A2.739,2.739,0,1,1,2.739,0\" fill=\"#e45756\" stroke-width=\"2\" opacity=\"0.7\"/><path aria-label=\"Horsepower: 90; Miles_per_Gallon: 33.5; Origin: USA; Name: pontiac phoenix\" role=\"graphics-symbol\" aria-roledescription=\"circle\" transform=\"translate(150,131.99999999999997)\" d=\"M2.739,0A2.739,2.739,0,1,1,-2.739,0A2.739,2.739,0,1,1,2.739,0\" fill=\"#e45756\" stroke-width=\"2\" opacity=\"0.7\"/><path aria-label=\"Horsepower: 76; Miles_per_Gallon: 41.5; Origin: Europe; Name: vw rabbit\" role=\"graphics-symbol\" aria-roledescription=\"circle\" transform=\"translate(126.66666666666666,68.00000000000001)\" d=\"M2.739,0A2.739,2.739,0,1,1,-2.739,0A2.739,2.739,0,1,1,2.739,0\" fill=\"#4c78a8\" stroke-width=\"2\" opacity=\"0.7\"/><path aria-label=\"Horsepower: 60; Miles_per_Gallon: 38.1; Origin: Japan; Name: toyota corolla tercel\" role=\"graphics-symbol\" aria-roledescription=\"circle\" transform=\"translate(100,95.19999999999999)\" d=\"M2.739,0A2.739,2.739,0,1,1,-2.739,0A2.739,2.739,0,1,1,2.739,0\" fill=\"#f58518\" stroke-width=\"2\" opacity=\"0.7\"/><path aria-label=\"Horsepower: 70; Miles_per_Gallon: 32.1; Origin: USA; Name: chevrolet chevette\" role=\"graphics-symbol\" aria-roledescription=\"circle\" transform=\"translate(116.66666666666667,143.2)\" d=\"M2.739,0A2.739,2.739,0,1,1,-2.739,0A2.739,2.739,0,1,1,2.739,0\" fill=\"#e45756\" stroke-width=\"2\" opacity=\"0.7\"/><path aria-label=\"Horsepower: 65; Miles_per_Gallon: 37.2; Origin: Japan; Name: datsun 310\" role=\"graphics-symbol\" aria-roledescription=\"circle\" transform=\"translate(108.33333333333333,102.39999999999996)\" d=\"M2.739,0A2.739,2.739,0,1,1,-2.739,0A2.739,2.739,0,1,1,2.739,0\" fill=\"#f58518\" stroke-width=\"2\" opacity=\"0.7\"/><path aria-label=\"Horsepower: 90; Miles_per_Gallon: 28; Origin: USA; Name: chevrolet citation\" role=\"graphics-symbol\" aria-roledescription=\"circle\" transform=\"translate(150,175.99999999999997)\" d=\"M2.739,0A2.739,2.739,0,1,1,-2.739,0A2.739,2.739,0,1,1,2.739,0\" fill=\"#e45756\" stroke-width=\"2\" opacity=\"0.7\"/><path aria-label=\"Horsepower: 88; Miles_per_Gallon: 26.4; Origin: USA; Name: ford fairmont\" role=\"graphics-symbol\" aria-roledescription=\"circle\" transform=\"translate(146.66666666666666,188.79999999999998)\" d=\"M2.739,0A2.739,2.739,0,1,1,-2.739,0A2.739,2.739,0,1,1,2.739,0\" fill=\"#e45756\" stroke-width=\"2\" opacity=\"0.7\"/><path aria-label=\"Horsepower: 90; Miles_per_Gallon: 24.3; Origin: USA; Name: amc concord\" role=\"graphics-symbol\" aria-roledescription=\"circle\" transform=\"translate(150,205.6)\" d=\"M2.739,0A2.739,2.739,0,1,1,-2.739,0A2.739,2.739,0,1,1,2.739,0\" fill=\"#e45756\" stroke-width=\"2\" opacity=\"0.7\"/><path aria-label=\"Horsepower: 90; Miles_per_Gallon: 19.1; Origin: USA; Name: dodge aspen\" role=\"graphics-symbol\" aria-roledescription=\"circle\" transform=\"translate(150,247.2)\" d=\"M2.739,0A2.739,2.739,0,1,1,-2.739,0A2.739,2.739,0,1,1,2.739,0\" fill=\"#e45756\" stroke-width=\"2\" opacity=\"0.7\"/><path aria-label=\"Horsepower: 78; Miles_per_Gallon: 34.3; Origin: Europe; Name: audi 4000\" role=\"graphics-symbol\" aria-roledescription=\"circle\" transform=\"translate(130,125.60000000000002)\" d=\"M2.739,0A2.739,2.739,0,1,1,-2.739,0A2.739,2.739,0,1,1,2.739,0\" fill=\"#4c78a8\" stroke-width=\"2\" opacity=\"0.7\"/><path aria-label=\"Horsepower: 90; Miles_per_Gallon: 29.8; Origin: Japan; Name: toyota corona liftback\" role=\"graphics-symbol\" aria-roledescription=\"circle\" transform=\"translate(150,161.60000000000002)\" d=\"M2.739,0A2.739,2.739,0,1,1,-2.739,0A2.739,2.739,0,1,1,2.739,0\" fill=\"#f58518\" stroke-width=\"2\" opacity=\"0.7\"/><path aria-label=\"Horsepower: 75; Miles_per_Gallon: 31.3; Origin: Japan; Name: mazda 626\" role=\"graphics-symbol\" aria-roledescription=\"circle\" transform=\"translate(125,149.6)\" d=\"M2.739,0A2.739,2.739,0,1,1,-2.739,0A2.739,2.739,0,1,1,2.739,0\" fill=\"#f58518\" stroke-width=\"2\" opacity=\"0.7\"/><path aria-label=\"Horsepower: 92; Miles_per_Gallon: 37; Origin: Japan; Name: datsun 510 hatchback\" role=\"graphics-symbol\" aria-roledescription=\"circle\" transform=\"translate(153.33333333333334,104)\" d=\"M2.739,0A2.739,2.739,0,1,1,-2.739,0A2.739,2.739,0,1,1,2.739,0\" fill=\"#f58518\" stroke-width=\"2\" opacity=\"0.7\"/><path aria-label=\"Horsepower: 75; Miles_per_Gallon: 32.2; Origin: Japan; Name: toyota corolla\" role=\"graphics-symbol\" aria-roledescription=\"circle\" transform=\"translate(125,142.4)\" d=\"M2.739,0A2.739,2.739,0,1,1,-2.739,0A2.739,2.739,0,1,1,2.739,0\" fill=\"#f58518\" stroke-width=\"2\" opacity=\"0.7\"/><path aria-label=\"Horsepower: 65; Miles_per_Gallon: 46.6; Origin: Japan; Name: mazda glc\" role=\"graphics-symbol\" aria-roledescription=\"circle\" transform=\"translate(108.33333333333333,27.19999999999998)\" d=\"M2.739,0A2.739,2.739,0,1,1,-2.739,0A2.739,2.739,0,1,1,2.739,0\" fill=\"#f58518\" stroke-width=\"2\" opacity=\"0.7\"/><path aria-label=\"Horsepower: 105; Miles_per_Gallon: 27.9; Origin: USA; Name: dodge colt\" role=\"graphics-symbol\" aria-roledescription=\"circle\" transform=\"translate(175,176.8)\" d=\"M2.739,0A2.739,2.739,0,1,1,-2.739,0A2.739,2.739,0,1,1,2.739,0\" fill=\"#e45756\" stroke-width=\"2\" opacity=\"0.7\"/><path aria-label=\"Horsepower: 65; Miles_per_Gallon: 40.8; Origin: Japan; Name: datsun 210\" role=\"graphics-symbol\" aria-roledescription=\"circle\" transform=\"translate(108.33333333333333,73.60000000000002)\" d=\"M2.739,0A2.739,2.739,0,1,1,-2.739,0A2.739,2.739,0,1,1,2.739,0\" fill=\"#f58518\" stroke-width=\"2\" opacity=\"0.7\"/><path aria-label=\"Horsepower: 48; Miles_per_Gallon: 44.3; Origin: Europe; Name: vw rabbit c (diesel)\" role=\"graphics-symbol\" aria-roledescription=\"circle\" transform=\"translate(80,45.60000000000004)\" d=\"M2.739,0A2.739,2.739,0,1,1,-2.739,0A2.739,2.739,0,1,1,2.739,0\" fill=\"#4c78a8\" stroke-width=\"2\" opacity=\"0.7\"/><path aria-label=\"Horsepower: 48; Miles_per_Gallon: 43.4; Origin: Europe; Name: vw dasher (diesel)\" role=\"graphics-symbol\" aria-roledescription=\"circle\" transform=\"translate(80,52.800000000000004)\" d=\"M2.739,0A2.739,2.739,0,1,1,-2.739,0A2.739,2.739,0,1,1,2.739,0\" fill=\"#4c78a8\" stroke-width=\"2\" opacity=\"0.7\"/><path aria-label=\"Horsepower: 67; Miles_per_Gallon: 36.4; Origin: Europe; Name: audi 5000s (diesel)\" role=\"graphics-symbol\" aria-roledescription=\"circle\" transform=\"translate(111.66666666666667,108.80000000000001)\" d=\"M2.739,0A2.739,2.739,0,1,1,-2.739,0A2.739,2.739,0,1,1,2.739,0\" fill=\"#4c78a8\" stroke-width=\"2\" opacity=\"0.7\"/><path aria-label=\"Horsepower: 67; Miles_per_Gallon: 30; Origin: Europe; Name: mercedes-benz 240d\" role=\"graphics-symbol\" aria-roledescription=\"circle\" transform=\"translate(111.66666666666667,160)\" d=\"M2.739,0A2.739,2.739,0,1,1,-2.739,0A2.739,2.739,0,1,1,2.739,0\" fill=\"#4c78a8\" stroke-width=\"2\" opacity=\"0.7\"/><path aria-label=\"Horsepower: 67; Miles_per_Gallon: 44.6; Origin: Japan; Name: honda civic 1500 gl\" role=\"graphics-symbol\" aria-roledescription=\"circle\" transform=\"translate(111.66666666666667,43.199999999999996)\" d=\"M2.739,0A2.739,2.739,0,1,1,-2.739,0A2.739,2.739,0,1,1,2.739,0\" fill=\"#f58518\" stroke-width=\"2\" opacity=\"0.7\"/><path aria-label=\"Horsepower: 67; Miles_per_Gallon: 33.8; Origin: Japan; Name: subaru dl\" role=\"graphics-symbol\" aria-roledescription=\"circle\" transform=\"translate(111.66666666666667,129.60000000000002)\" d=\"M2.739,0A2.739,2.739,0,1,1,-2.739,0A2.739,2.739,0,1,1,2.739,0\" fill=\"#f58518\" stroke-width=\"2\" opacity=\"0.7\"/><path aria-label=\"Horsepower: 62; Miles_per_Gallon: 29.8; Origin: Europe; Name: vokswagen rabbit\" role=\"graphics-symbol\" aria-roledescription=\"circle\" transform=\"translate(103.33333333333334,161.60000000000002)\" d=\"M2.739,0A2.739,2.739,0,1,1,-2.739,0A2.739,2.739,0,1,1,2.739,0\" fill=\"#4c78a8\" stroke-width=\"2\" opacity=\"0.7\"/><path aria-label=\"Horsepower: 132; Miles_per_Gallon: 32.7; Origin: Japan; Name: datsun 280-zx\" role=\"graphics-symbol\" aria-roledescription=\"circle\" transform=\"translate(220.00000000000003,138.39999999999998)\" d=\"M2.739,0A2.739,2.739,0,1,1,-2.739,0A2.739,2.739,0,1,1,2.739,0\" fill=\"#f58518\" stroke-width=\"2\" opacity=\"0.7\"/><path aria-label=\"Horsepower: 100; Miles_per_Gallon: 23.7; Origin: Japan; Name: mazda rx-7 gs\" role=\"graphics-symbol\" aria-roledescription=\"circle\" transform=\"translate(166.66666666666669,210.4)\" d=\"M2.739,0A2.739,2.739,0,1,1,-2.739,0A2.739,2.739,0,1,1,2.739,0\" fill=\"#f58518\" stroke-width=\"2\" opacity=\"0.7\"/><path aria-label=\"Horsepower: 88; Miles_per_Gallon: 35; Origin: Europe; Name: triumph tr7 coupe\" role=\"graphics-symbol\" aria-roledescription=\"circle\" transform=\"translate(146.66666666666666,120.00000000000001)\" d=\"M2.739,0A2.739,2.739,0,1,1,-2.739,0A2.739,2.739,0,1,1,2.739,0\" fill=\"#4c78a8\" stroke-width=\"2\" opacity=\"0.7\"/><path aria-label=\"Horsepower: 72; Miles_per_Gallon: 32.4; Origin: Japan; Name: honda Accelerationord\" role=\"graphics-symbol\" aria-roledescription=\"circle\" transform=\"translate(120,140.79999999999998)\" d=\"M2.739,0A2.739,2.739,0,1,1,-2.739,0A2.739,2.739,0,1,1,2.739,0\" fill=\"#f58518\" stroke-width=\"2\" opacity=\"0.7\"/><path aria-label=\"Horsepower: 84; Miles_per_Gallon: 27.2; Origin: USA; Name: plymouth reliant\" role=\"graphics-symbol\" aria-roledescription=\"circle\" transform=\"translate(140,182.39999999999998)\" d=\"M2.739,0A2.739,2.739,0,1,1,-2.739,0A2.739,2.739,0,1,1,2.739,0\" fill=\"#e45756\" stroke-width=\"2\" opacity=\"0.7\"/><path aria-label=\"Horsepower: 84; Miles_per_Gallon: 26.6; Origin: USA; Name: buick skylark\" role=\"graphics-symbol\" aria-roledescription=\"circle\" transform=\"translate(140,187.2)\" d=\"M2.739,0A2.739,2.739,0,1,1,-2.739,0A2.739,2.739,0,1,1,2.739,0\" fill=\"#e45756\" stroke-width=\"2\" opacity=\"0.7\"/><path aria-label=\"Horsepower: 92; Miles_per_Gallon: 25.8; Origin: USA; Name: dodge aries wagon (sw)\" role=\"graphics-symbol\" aria-roledescription=\"circle\" transform=\"translate(153.33333333333334,193.6)\" d=\"M2.739,0A2.739,2.739,0,1,1,-2.739,0A2.739,2.739,0,1,1,2.739,0\" fill=\"#e45756\" stroke-width=\"2\" opacity=\"0.7\"/><path aria-label=\"Horsepower: 110; Miles_per_Gallon: 23.5; Origin: USA; Name: chevrolet citation\" role=\"graphics-symbol\" aria-roledescription=\"circle\" transform=\"translate(183.33333333333331,212)\" d=\"M2.739,0A2.739,2.739,0,1,1,-2.739,0A2.739,2.739,0,1,1,2.739,0\" fill=\"#e45756\" stroke-width=\"2\" opacity=\"0.7\"/><path aria-label=\"Horsepower: 84; Miles_per_Gallon: 30; Origin: USA; Name: plymouth reliant\" role=\"graphics-symbol\" aria-roledescription=\"circle\" transform=\"translate(140,160)\" d=\"M2.739,0A2.739,2.739,0,1,1,-2.739,0A2.739,2.739,0,1,1,2.739,0\" fill=\"#e45756\" stroke-width=\"2\" opacity=\"0.7\"/><path aria-label=\"Horsepower: 58; Miles_per_Gallon: 39.1; Origin: Japan; Name: toyota starlet\" role=\"graphics-symbol\" aria-roledescription=\"circle\" transform=\"translate(96.66666666666667,87.19999999999999)\" d=\"M2.739,0A2.739,2.739,0,1,1,-2.739,0A2.739,2.739,0,1,1,2.739,0\" fill=\"#f58518\" stroke-width=\"2\" opacity=\"0.7\"/><path aria-label=\"Horsepower: 64; Miles_per_Gallon: 39; Origin: USA; Name: plymouth champ\" role=\"graphics-symbol\" aria-roledescription=\"circle\" transform=\"translate(106.66666666666667,87.99999999999999)\" d=\"M2.739,0A2.739,2.739,0,1,1,-2.739,0A2.739,2.739,0,1,1,2.739,0\" fill=\"#e45756\" stroke-width=\"2\" opacity=\"0.7\"/><path aria-label=\"Horsepower: 60; Miles_per_Gallon: 35.1; Origin: Japan; Name: honda civic 1300\" role=\"graphics-symbol\" aria-roledescription=\"circle\" transform=\"translate(100,119.19999999999997)\" d=\"M2.739,0A2.739,2.739,0,1,1,-2.739,0A2.739,2.739,0,1,1,2.739,0\" fill=\"#f58518\" stroke-width=\"2\" opacity=\"0.7\"/><path aria-label=\"Horsepower: 67; Miles_per_Gallon: 32.3; Origin: Japan; Name: subaru\" role=\"graphics-symbol\" aria-roledescription=\"circle\" transform=\"translate(111.66666666666667,141.60000000000002)\" d=\"M2.739,0A2.739,2.739,0,1,1,-2.739,0A2.739,2.739,0,1,1,2.739,0\" fill=\"#f58518\" stroke-width=\"2\" opacity=\"0.7\"/><path aria-label=\"Horsepower: 65; Miles_per_Gallon: 37; Origin: Japan; Name: datsun 210\" role=\"graphics-symbol\" aria-roledescription=\"circle\" transform=\"translate(108.33333333333333,104)\" d=\"M2.739,0A2.739,2.739,0,1,1,-2.739,0A2.739,2.739,0,1,1,2.739,0\" fill=\"#f58518\" stroke-width=\"2\" opacity=\"0.7\"/><path aria-label=\"Horsepower: 62; Miles_per_Gallon: 37.7; Origin: Japan; Name: toyota tercel\" role=\"graphics-symbol\" aria-roledescription=\"circle\" transform=\"translate(103.33333333333334,98.4)\" d=\"M2.739,0A2.739,2.739,0,1,1,-2.739,0A2.739,2.739,0,1,1,2.739,0\" fill=\"#f58518\" stroke-width=\"2\" opacity=\"0.7\"/><path aria-label=\"Horsepower: 68; Miles_per_Gallon: 34.1; Origin: Japan; Name: mazda glc 4\" role=\"graphics-symbol\" aria-roledescription=\"circle\" transform=\"translate(113.33333333333333,127.19999999999997)\" d=\"M2.739,0A2.739,2.739,0,1,1,-2.739,0A2.739,2.739,0,1,1,2.739,0\" fill=\"#f58518\" stroke-width=\"2\" opacity=\"0.7\"/><path aria-label=\"Horsepower: 63; Miles_per_Gallon: 34.7; Origin: USA; Name: plymouth horizon 4\" role=\"graphics-symbol\" aria-roledescription=\"circle\" transform=\"translate(105,122.39999999999998)\" d=\"M2.739,0A2.739,2.739,0,1,1,-2.739,0A2.739,2.739,0,1,1,2.739,0\" fill=\"#e45756\" stroke-width=\"2\" opacity=\"0.7\"/><path aria-label=\"Horsepower: 65; Miles_per_Gallon: 34.4; Origin: USA; Name: ford escort 4w\" role=\"graphics-symbol\" aria-roledescription=\"circle\" transform=\"translate(108.33333333333333,124.80000000000003)\" d=\"M2.739,0A2.739,2.739,0,1,1,-2.739,0A2.739,2.739,0,1,1,2.739,0\" fill=\"#e45756\" stroke-width=\"2\" opacity=\"0.7\"/><path aria-label=\"Horsepower: 65; Miles_per_Gallon: 29.9; Origin: USA; Name: ford escort 2h\" role=\"graphics-symbol\" aria-roledescription=\"circle\" transform=\"translate(108.33333333333333,160.8)\" d=\"M2.739,0A2.739,2.739,0,1,1,-2.739,0A2.739,2.739,0,1,1,2.739,0\" fill=\"#e45756\" stroke-width=\"2\" opacity=\"0.7\"/><path aria-label=\"Horsepower: 74; Miles_per_Gallon: 33; Origin: Europe; Name: volkswagen jetta\" role=\"graphics-symbol\" aria-roledescription=\"circle\" transform=\"translate(123.33333333333334,136)\" d=\"M2.739,0A2.739,2.739,0,1,1,-2.739,0A2.739,2.739,0,1,1,2.739,0\" fill=\"#4c78a8\" stroke-width=\"2\" opacity=\"0.7\"/><path aria-label=\"Horsepower: 75; Miles_per_Gallon: 33.7; Origin: Japan; Name: honda prelude\" role=\"graphics-symbol\" aria-roledescription=\"circle\" transform=\"translate(125,130.39999999999998)\" d=\"M2.739,0A2.739,2.739,0,1,1,-2.739,0A2.739,2.739,0,1,1,2.739,0\" fill=\"#f58518\" stroke-width=\"2\" opacity=\"0.7\"/><path aria-label=\"Horsepower: 75; Miles_per_Gallon: 32.4; Origin: Japan; Name: toyota corolla\" role=\"graphics-symbol\" aria-roledescription=\"circle\" transform=\"translate(125,140.79999999999998)\" d=\"M2.739,0A2.739,2.739,0,1,1,-2.739,0A2.739,2.739,0,1,1,2.739,0\" fill=\"#f58518\" stroke-width=\"2\" opacity=\"0.7\"/><path aria-label=\"Horsepower: 100; Miles_per_Gallon: 32.9; Origin: Japan; Name: datsun 200sx\" role=\"graphics-symbol\" aria-roledescription=\"circle\" transform=\"translate(166.66666666666669,136.80000000000004)\" d=\"M2.739,0A2.739,2.739,0,1,1,-2.739,0A2.739,2.739,0,1,1,2.739,0\" fill=\"#f58518\" stroke-width=\"2\" opacity=\"0.7\"/><path aria-label=\"Horsepower: 74; Miles_per_Gallon: 31.6; Origin: Japan; Name: mazda 626\" role=\"graphics-symbol\" aria-roledescription=\"circle\" transform=\"translate(123.33333333333334,147.2)\" d=\"M2.739,0A2.739,2.739,0,1,1,-2.739,0A2.739,2.739,0,1,1,2.739,0\" fill=\"#f58518\" stroke-width=\"2\" opacity=\"0.7\"/><path aria-label=\"Horsepower: 80; Miles_per_Gallon: 28.1; Origin: Europe; Name: peugeot 505s turbo diesel\" role=\"graphics-symbol\" aria-roledescription=\"circle\" transform=\"translate(133.33333333333331,175.2)\" d=\"M2.739,0A2.739,2.739,0,1,1,-2.739,0A2.739,2.739,0,1,1,2.739,0\" fill=\"#4c78a8\" stroke-width=\"2\" opacity=\"0.7\"/><path aria-label=\"Horsepower: 76; Miles_per_Gallon: 30.7; Origin: Europe; Name: volvo diesel\" role=\"graphics-symbol\" aria-roledescription=\"circle\" transform=\"translate(126.66666666666666,154.4)\" d=\"M2.739,0A2.739,2.739,0,1,1,-2.739,0A2.739,2.739,0,1,1,2.739,0\" fill=\"#4c78a8\" stroke-width=\"2\" opacity=\"0.7\"/><path aria-label=\"Horsepower: 116; Miles_per_Gallon: 25.4; Origin: Japan; Name: toyota cressida\" role=\"graphics-symbol\" aria-roledescription=\"circle\" transform=\"translate(193.33333333333334,196.8)\" d=\"M2.739,0A2.739,2.739,0,1,1,-2.739,0A2.739,2.739,0,1,1,2.739,0\" fill=\"#f58518\" stroke-width=\"2\" opacity=\"0.7\"/><path aria-label=\"Horsepower: 120; Miles_per_Gallon: 24.2; Origin: Japan; Name: datsun 810 maxima\" role=\"graphics-symbol\" aria-roledescription=\"circle\" transform=\"translate(200,206.4)\" d=\"M2.739,0A2.739,2.739,0,1,1,-2.739,0A2.739,2.739,0,1,1,2.739,0\" fill=\"#f58518\" stroke-width=\"2\" opacity=\"0.7\"/><path aria-label=\"Horsepower: 110; Miles_per_Gallon: 22.4; Origin: USA; Name: buick century\" role=\"graphics-symbol\" aria-roledescription=\"circle\" transform=\"translate(183.33333333333331,220.8)\" d=\"M2.739,0A2.739,2.739,0,1,1,-2.739,0A2.739,2.739,0,1,1,2.739,0\" fill=\"#e45756\" stroke-width=\"2\" opacity=\"0.7\"/><path aria-label=\"Horsepower: 105; Miles_per_Gallon: 26.6; Origin: USA; Name: oldsmobile cutlass ls\" role=\"graphics-symbol\" aria-roledescription=\"circle\" transform=\"translate(175,187.2)\" d=\"M2.739,0A2.739,2.739,0,1,1,-2.739,0A2.739,2.739,0,1,1,2.739,0\" fill=\"#e45756\" stroke-width=\"2\" opacity=\"0.7\"/><path aria-label=\"Horsepower: 88; Miles_per_Gallon: 20.2; Origin: USA; Name: ford granada gl\" role=\"graphics-symbol\" aria-roledescription=\"circle\" transform=\"translate(146.66666666666666,238.40000000000003)\" d=\"M2.739,0A2.739,2.739,0,1,1,-2.739,0A2.739,2.739,0,1,1,2.739,0\" fill=\"#e45756\" stroke-width=\"2\" opacity=\"0.7\"/><path aria-label=\"Horsepower: 85; Miles_per_Gallon: 17.6; Origin: USA; Name: chrysler lebaron salon\" role=\"graphics-symbol\" aria-roledescription=\"circle\" transform=\"translate(141.66666666666669,259.2)\" d=\"M2.739,0A2.739,2.739,0,1,1,-2.739,0A2.739,2.739,0,1,1,2.739,0\" fill=\"#e45756\" stroke-width=\"2\" opacity=\"0.7\"/><path aria-label=\"Horsepower: 88; Miles_per_Gallon: 28; Origin: USA; Name: chevrolet cavalier\" role=\"graphics-symbol\" aria-roledescription=\"circle\" transform=\"translate(146.66666666666666,175.99999999999997)\" d=\"M2.739,0A2.739,2.739,0,1,1,-2.739,0A2.739,2.739,0,1,1,2.739,0\" fill=\"#e45756\" stroke-width=\"2\" opacity=\"0.7\"/><path aria-label=\"Horsepower: 88; Miles_per_Gallon: 27; Origin: USA; Name: chevrolet cavalier wagon\" role=\"graphics-symbol\" aria-roledescription=\"circle\" transform=\"translate(146.66666666666666,184)\" d=\"M2.739,0A2.739,2.739,0,1,1,-2.739,0A2.739,2.739,0,1,1,2.739,0\" fill=\"#e45756\" stroke-width=\"2\" opacity=\"0.7\"/><path aria-label=\"Horsepower: 88; Miles_per_Gallon: 34; Origin: USA; Name: chevrolet cavalier 2-door\" role=\"graphics-symbol\" aria-roledescription=\"circle\" transform=\"translate(146.66666666666666,127.99999999999999)\" d=\"M2.739,0A2.739,2.739,0,1,1,-2.739,0A2.739,2.739,0,1,1,2.739,0\" fill=\"#e45756\" stroke-width=\"2\" opacity=\"0.7\"/><path aria-label=\"Horsepower: 85; Miles_per_Gallon: 31; Origin: USA; Name: pontiac j2000 se hatchback\" role=\"graphics-symbol\" aria-roledescription=\"circle\" transform=\"translate(141.66666666666669,152)\" d=\"M2.739,0A2.739,2.739,0,1,1,-2.739,0A2.739,2.739,0,1,1,2.739,0\" fill=\"#e45756\" stroke-width=\"2\" opacity=\"0.7\"/><path aria-label=\"Horsepower: 84; Miles_per_Gallon: 29; Origin: USA; Name: dodge aries se\" role=\"graphics-symbol\" aria-roledescription=\"circle\" transform=\"translate(140,168.00000000000003)\" d=\"M2.739,0A2.739,2.739,0,1,1,-2.739,0A2.739,2.739,0,1,1,2.739,0\" fill=\"#e45756\" stroke-width=\"2\" opacity=\"0.7\"/><path aria-label=\"Horsepower: 90; Miles_per_Gallon: 27; Origin: USA; Name: pontiac phoenix\" role=\"graphics-symbol\" aria-roledescription=\"circle\" transform=\"translate(150,184)\" d=\"M2.739,0A2.739,2.739,0,1,1,-2.739,0A2.739,2.739,0,1,1,2.739,0\" fill=\"#e45756\" stroke-width=\"2\" opacity=\"0.7\"/><path aria-label=\"Horsepower: 92; Miles_per_Gallon: 24; Origin: USA; Name: ford fairmont futura\" role=\"graphics-symbol\" aria-roledescription=\"circle\" transform=\"translate(153.33333333333334,208)\" d=\"M2.739,0A2.739,2.739,0,1,1,-2.739,0A2.739,2.739,0,1,1,2.739,0\" fill=\"#e45756\" stroke-width=\"2\" opacity=\"0.7\"/><path aria-label=\"Horsepower: 74; Miles_per_Gallon: 36; Origin: Europe; Name: volkswagen rabbit l\" role=\"graphics-symbol\" aria-roledescription=\"circle\" transform=\"translate(123.33333333333334,112.00000000000001)\" d=\"M2.739,0A2.739,2.739,0,1,1,-2.739,0A2.739,2.739,0,1,1,2.739,0\" fill=\"#4c78a8\" stroke-width=\"2\" opacity=\"0.7\"/><path aria-label=\"Horsepower: 68; Miles_per_Gallon: 37; Origin: Japan; Name: mazda glc custom l\" role=\"graphics-symbol\" aria-roledescription=\"circle\" transform=\"translate(113.33333333333333,104)\" d=\"M2.739,0A2.739,2.739,0,1,1,-2.739,0A2.739,2.739,0,1,1,2.739,0\" fill=\"#f58518\" stroke-width=\"2\" opacity=\"0.7\"/><path aria-label=\"Horsepower: 68; Miles_per_Gallon: 31; Origin: Japan; Name: mazda glc custom\" role=\"graphics-symbol\" aria-roledescription=\"circle\" transform=\"translate(113.33333333333333,152)\" d=\"M2.739,0A2.739,2.739,0,1,1,-2.739,0A2.739,2.739,0,1,1,2.739,0\" fill=\"#f58518\" stroke-width=\"2\" opacity=\"0.7\"/><path aria-label=\"Horsepower: 63; Miles_per_Gallon: 38; Origin: USA; Name: plymouth horizon miser\" role=\"graphics-symbol\" aria-roledescription=\"circle\" transform=\"translate(105,96)\" d=\"M2.739,0A2.739,2.739,0,1,1,-2.739,0A2.739,2.739,0,1,1,2.739,0\" fill=\"#e45756\" stroke-width=\"2\" opacity=\"0.7\"/><path aria-label=\"Horsepower: 70; Miles_per_Gallon: 36; Origin: USA; Name: mercury lynx l\" role=\"graphics-symbol\" aria-roledescription=\"circle\" transform=\"translate(116.66666666666667,112.00000000000001)\" d=\"M2.739,0A2.739,2.739,0,1,1,-2.739,0A2.739,2.739,0,1,1,2.739,0\" fill=\"#e45756\" stroke-width=\"2\" opacity=\"0.7\"/><path aria-label=\"Horsepower: 88; Miles_per_Gallon: 36; Origin: Japan; Name: nissan stanza xe\" role=\"graphics-symbol\" aria-roledescription=\"circle\" transform=\"translate(146.66666666666666,112.00000000000001)\" d=\"M2.739,0A2.739,2.739,0,1,1,-2.739,0A2.739,2.739,0,1,1,2.739,0\" fill=\"#f58518\" stroke-width=\"2\" opacity=\"0.7\"/><path aria-label=\"Horsepower: 75; Miles_per_Gallon: 36; Origin: Japan; Name: honda Accelerationord\" role=\"graphics-symbol\" aria-roledescription=\"circle\" transform=\"translate(125,112.00000000000001)\" d=\"M2.739,0A2.739,2.739,0,1,1,-2.739,0A2.739,2.739,0,1,1,2.739,0\" fill=\"#f58518\" stroke-width=\"2\" opacity=\"0.7\"/><path aria-label=\"Horsepower: 70; Miles_per_Gallon: 34; Origin: Japan; Name: toyota corolla\" role=\"graphics-symbol\" aria-roledescription=\"circle\" transform=\"translate(116.66666666666667,127.99999999999999)\" d=\"M2.739,0A2.739,2.739,0,1,1,-2.739,0A2.739,2.739,0,1,1,2.739,0\" fill=\"#f58518\" stroke-width=\"2\" opacity=\"0.7\"/><path aria-label=\"Horsepower: 67; Miles_per_Gallon: 38; Origin: Japan; Name: honda civic\" role=\"graphics-symbol\" aria-roledescription=\"circle\" transform=\"translate(111.66666666666667,96)\" d=\"M2.739,0A2.739,2.739,0,1,1,-2.739,0A2.739,2.739,0,1,1,2.739,0\" fill=\"#f58518\" stroke-width=\"2\" opacity=\"0.7\"/><path aria-label=\"Horsepower: 67; Miles_per_Gallon: 32; Origin: Japan; Name: honda civic (auto)\" role=\"graphics-symbol\" aria-roledescription=\"circle\" transform=\"translate(111.66666666666667,144)\" d=\"M2.739,0A2.739,2.739,0,1,1,-2.739,0A2.739,2.739,0,1,1,2.739,0\" fill=\"#f58518\" stroke-width=\"2\" opacity=\"0.7\"/><path aria-label=\"Horsepower: 67; Miles_per_Gallon: 38; Origin: Japan; Name: datsun 310 gx\" role=\"graphics-symbol\" aria-roledescription=\"circle\" transform=\"translate(111.66666666666667,96)\" d=\"M2.739,0A2.739,2.739,0,1,1,-2.739,0A2.739,2.739,0,1,1,2.739,0\" fill=\"#f58518\" stroke-width=\"2\" opacity=\"0.7\"/><path aria-label=\"Horsepower: 110; Miles_per_Gallon: 25; Origin: USA; Name: buick century limited\" role=\"graphics-symbol\" aria-roledescription=\"circle\" transform=\"translate(183.33333333333331,200)\" d=\"M2.739,0A2.739,2.739,0,1,1,-2.739,0A2.739,2.739,0,1,1,2.739,0\" fill=\"#e45756\" stroke-width=\"2\" opacity=\"0.7\"/><path aria-label=\"Horsepower: 85; Miles_per_Gallon: 38; Origin: USA; Name: oldsmobile cutlass ciera (diesel)\" role=\"graphics-symbol\" aria-roledescription=\"circle\" transform=\"translate(141.66666666666669,96)\" d=\"M2.739,0A2.739,2.739,0,1,1,-2.739,0A2.739,2.739,0,1,1,2.739,0\" fill=\"#e45756\" stroke-width=\"2\" opacity=\"0.7\"/><path aria-label=\"Horsepower: 92; Miles_per_Gallon: 26; Origin: USA; Name: chrysler lebaron medallion\" role=\"graphics-symbol\" aria-roledescription=\"circle\" transform=\"translate(153.33333333333334,192)\" d=\"M2.739,0A2.739,2.739,0,1,1,-2.739,0A2.739,2.739,0,1,1,2.739,0\" fill=\"#e45756\" stroke-width=\"2\" opacity=\"0.7\"/><path aria-label=\"Horsepower: 112; Miles_per_Gallon: 22; Origin: USA; Name: ford granada l\" role=\"graphics-symbol\" aria-roledescription=\"circle\" transform=\"translate(186.66666666666666,224.00000000000003)\" d=\"M2.739,0A2.739,2.739,0,1,1,-2.739,0A2.739,2.739,0,1,1,2.739,0\" fill=\"#e45756\" stroke-width=\"2\" opacity=\"0.7\"/><path aria-label=\"Horsepower: 96; Miles_per_Gallon: 32; Origin: Japan; Name: toyota celica gt\" role=\"graphics-symbol\" aria-roledescription=\"circle\" transform=\"translate(160,144)\" d=\"M2.739,0A2.739,2.739,0,1,1,-2.739,0A2.739,2.739,0,1,1,2.739,0\" fill=\"#f58518\" stroke-width=\"2\" opacity=\"0.7\"/><path aria-label=\"Horsepower: 84; Miles_per_Gallon: 36; Origin: USA; Name: dodge charger 2.2\" role=\"graphics-symbol\" aria-roledescription=\"circle\" transform=\"translate(140,112.00000000000001)\" d=\"M2.739,0A2.739,2.739,0,1,1,-2.739,0A2.739,2.739,0,1,1,2.739,0\" fill=\"#e45756\" stroke-width=\"2\" opacity=\"0.7\"/><path aria-label=\"Horsepower: 90; Miles_per_Gallon: 27; Origin: USA; Name: chevrolet camaro\" role=\"graphics-symbol\" aria-roledescription=\"circle\" transform=\"translate(150,184)\" d=\"M2.739,0A2.739,2.739,0,1,1,-2.739,0A2.739,2.739,0,1,1,2.739,0\" fill=\"#e45756\" stroke-width=\"2\" opacity=\"0.7\"/><path aria-label=\"Horsepower: 86; Miles_per_Gallon: 27; Origin: USA; Name: ford mustang gl\" role=\"graphics-symbol\" aria-roledescription=\"circle\" transform=\"translate(143.33333333333334,184)\" d=\"M2.739,0A2.739,2.739,0,1,1,-2.739,0A2.739,2.739,0,1,1,2.739,0\" fill=\"#e45756\" stroke-width=\"2\" opacity=\"0.7\"/><path aria-label=\"Horsepower: 52; Miles_per_Gallon: 44; Origin: Europe; Name: vw pickup\" role=\"graphics-symbol\" aria-roledescription=\"circle\" transform=\"translate(86.66666666666667,48)\" d=\"M2.739,0A2.739,2.739,0,1,1,-2.739,0A2.739,2.739,0,1,1,2.739,0\" fill=\"#4c78a8\" stroke-width=\"2\" opacity=\"0.7\"/><path aria-label=\"Horsepower: 84; Miles_per_Gallon: 32; Origin: USA; Name: dodge rampage\" role=\"graphics-symbol\" aria-roledescription=\"circle\" transform=\"translate(140,144)\" d=\"M2.739,0A2.739,2.739,0,1,1,-2.739,0A2.739,2.739,0,1,1,2.739,0\" fill=\"#e45756\" stroke-width=\"2\" opacity=\"0.7\"/><path aria-label=\"Horsepower: 79; Miles_per_Gallon: 28; Origin: USA; Name: ford ranger\" role=\"graphics-symbol\" aria-roledescription=\"circle\" transform=\"translate(131.66666666666666,175.99999999999997)\" d=\"M2.739,0A2.739,2.739,0,1,1,-2.739,0A2.739,2.739,0,1,1,2.739,0\" fill=\"#e45756\" stroke-width=\"2\" opacity=\"0.7\"/><path aria-label=\"Horsepower: 82; Miles_per_Gallon: 31; Origin: USA; Name: chevy s-10\" role=\"graphics-symbol\" aria-roledescription=\"circle\" transform=\"translate(136.66666666666666,152)\" d=\"M2.739,0A2.739,2.739,0,1,1,-2.739,0A2.739,2.739,0,1,1,2.739,0\" fill=\"#e45756\" stroke-width=\"2\" opacity=\"0.7\"/></g><g class=\"mark-group role-legend\" role=\"graphics-symbol\" aria-roledescription=\"legend\" aria-label=\"Symbol legend titled 'Origin' for fill color with 3 values: Europe, Japan, USA\"><g transform=\"translate(418,0)\"><path class=\"background\" aria-hidden=\"true\" d=\"M0,0h49v53h-49Z\" pointer-events=\"none\"/><g><g class=\"mark-group role-legend-entry\"><g transform=\"translate(0,16)\"><path class=\"background\" aria-hidden=\"true\" d=\"M0,0h0v0h0Z\" pointer-events=\"none\"/><g><g class=\"mark-group role-scope\" role=\"graphics-object\" aria-roledescription=\"group mark container\"><g transform=\"translate(0,0)\"><path class=\"background\" aria-hidden=\"true\" d=\"M0,0h48.24609375v11h-48.24609375Z\" pointer-events=\"none\" opacity=\"1\"/><g><g class=\"mark-symbol role-legend-symbol\" pointer-events=\"none\"><path transform=\"translate(6,6)\" d=\"M5,0A5,5,0,1,1,-5,0A5,5,0,1,1,5,0\" fill=\"#4c78a8\" stroke-width=\"1.5\" opacity=\"0.7\"/></g><g class=\"mark-text role-legend-label\" pointer-events=\"none\"><text text-anchor=\"start\" transform=\"translate(16,9)\" font-family=\"sans-serif\" font-size=\"10px\" fill=\"#000\" opacity=\"1\">Europe</text></g></g><path class=\"foreground\" aria-hidden=\"true\" d=\"\" pointer-events=\"none\" display=\"none\"/></g><g transform=\"translate(0,13)\"><path class=\"background\" aria-hidden=\"true\" d=\"M0,0h48.24609375v11h-48.24609375Z\" pointer-events=\"none\" opacity=\"1\"/><g><g class=\"mark-symbol role-legend-symbol\" pointer-events=\"none\"><path transform=\"translate(6,6)\" d=\"M5,0A5,5,0,1,1,-5,0A5,5,0,1,1,5,0\" fill=\"#f58518\" stroke-width=\"1.5\" opacity=\"0.7\"/></g><g class=\"mark-text role-legend-label\" pointer-events=\"none\"><text text-anchor=\"start\" transform=\"translate(16,9)\" font-family=\"sans-serif\" font-size=\"10px\" fill=\"#000\" opacity=\"1\">Japan</text></g></g><path class=\"foreground\" aria-hidden=\"true\" d=\"\" pointer-events=\"none\" display=\"none\"/></g><g transform=\"translate(0,26)\"><path class=\"background\" aria-hidden=\"true\" d=\"M0,0h48.24609375v11h-48.24609375Z\" pointer-events=\"none\" opacity=\"1\"/><g><g class=\"mark-symbol role-legend-symbol\" pointer-events=\"none\"><path transform=\"translate(6,6)\" d=\"M5,0A5,5,0,1,1,-5,0A5,5,0,1,1,5,0\" fill=\"#e45756\" stroke-width=\"1.5\" opacity=\"0.7\"/></g><g class=\"mark-text role-legend-label\" pointer-events=\"none\"><text text-anchor=\"start\" transform=\"translate(16,9)\" font-family=\"sans-serif\" font-size=\"10px\" fill=\"#000\" opacity=\"1\">USA</text></g></g><path class=\"foreground\" aria-hidden=\"true\" d=\"\" pointer-events=\"none\" display=\"none\"/></g></g></g><path class=\"foreground\" aria-hidden=\"true\" d=\"\" pointer-events=\"none\" display=\"none\"/></g></g><g class=\"mark-text role-legend-title\" pointer-events=\"none\"><text text-anchor=\"start\" transform=\"translate(0,9)\" font-family=\"sans-serif\" font-size=\"11px\" font-weight=\"bold\" fill=\"#000\" opacity=\"1\">Origin</text></g></g><path class=\"foreground\" aria-hidden=\"true\" d=\"\" pointer-events=\"none\" display=\"none\"/></g></g></g><path class=\"foreground\" aria-hidden=\"true\" d=\"\" display=\"none\"/></g></g></g></svg>"
      ],
      "text/plain": [
       "@vlplot(\n",
       "    width=400,\n",
       "    height=400,\n",
       "    mark=\"circle\",\n",
       "    encoding={\n",
       "        x={\n",
       "            field=\"Horsepower\"\n",
       "        },\n",
       "        y={\n",
       "            field=\"Miles_per_Gallon\"\n",
       "        },\n",
       "        color={\n",
       "            field=\"Origin\"\n",
       "        },\n",
       "        tooltip={\n",
       "            field=\"Name\"\n",
       "        }\n",
       "    },\n",
       "    data={\n",
       "        values=...\n",
       "    }\n",
       ")"
      ]
     },
     "execution_count": 22,
     "metadata": {},
     "output_type": "execute_result"
    }
   ],
   "source": [
    "dataset(\"cars\") |>\n",
    "@vlplot(\n",
    "    :circle,\n",
    "    x=:Horsepower,\n",
    "    y=:Miles_per_Gallon,\n",
    "    color=:Origin,\n",
    "    width=400,\n",
    "    height=400,\n",
    "    tooltip={:Name} # single tooltip\n",
    ")"
   ]
  },
  {
   "cell_type": "code",
   "execution_count": 25,
   "id": "1dcef654-b2e4-4989-9560-dc0d00f8c6c9",
   "metadata": {},
   "outputs": [],
   "source": [
    "dataset(\"cars\") |>\n",
    "@vlplot(\n",
    "    mark={:circle, \"tooltip\" =(\"content\" => \"data\")}, # all tooltips\n",
    "    x=:Horsepower,\n",
    "    y=:Miles_per_Gallon,\n",
    "    color=:Origin,\n",
    "    width=400,\n",
    "    height=400,\n",
    ") |>\n",
    "save(\"figure.html\")"
   ]
  },
  {
   "cell_type": "markdown",
   "id": "6aad1cc1-2b4e-4f53-914d-04584dbfdd0f",
   "metadata": {},
   "source": [
    "## Selection"
   ]
  },
  {
   "cell_type": "code",
   "execution_count": 26,
   "id": "c4160f50-41a5-45b5-b6a2-e5cfe68799e3",
   "metadata": {},
   "outputs": [
    {
     "name": "stderr",
     "output_type": "stream",
     "text": [
      "WARN Can not resolve event source: window\n",
      "WARN Can not resolve event source: window\n",
      "WARN Can not resolve event source: window\n",
      "WARN Can not resolve event source: window\n"
     ]
    },
    {
     "data": {
      "application/vnd.vega.v5+json": {
       "$schema": "https://vega.github.io/schema/vega/v5.json",
       "axes": [
        {
         "aria": false,
         "domain": false,
         "grid": true,
         "gridScale": "y",
         "labels": false,
         "maxExtent": 0,
         "minExtent": 0,
         "orient": "bottom",
         "scale": "x",
         "ticks": false,
         "zindex": 0
        },
        {
         "aria": false,
         "domain": false,
         "grid": true,
         "gridScale": "x",
         "labels": false,
         "maxExtent": 0,
         "minExtent": 0,
         "orient": "left",
         "scale": "y",
         "tickCount": {
          "signal": "ceil(height/40)"
         },
         "ticks": false,
         "zindex": 0
        },
        {
         "grid": false,
         "labelFlush": true,
         "labelOverlap": "greedy",
         "orient": "bottom",
         "scale": "x",
         "title": "income",
         "zindex": 0
        },
        {
         "grid": false,
         "labelOverlap": true,
         "minExtent": 30,
         "orient": "left",
         "scale": "y",
         "tickCount": {
          "signal": "ceil(height/40)"
         },
         "title": "health",
         "zindex": 0
        }
       ],
       "background": "white",
       "data": [
        {
         "name": "view_store"
        },
        {
         "name": "source_0",
         "values": [
          {
           "country": "Afghanistan",
           "health": 57.63,
           "income": 1925,
           "population": 32526562
          },
          {
           "country": "Albania",
           "health": 76,
           "income": 10620,
           "population": 2896679
          },
          {
           "country": "Algeria",
           "health": 76.5,
           "income": 13434,
           "population": 39666519
          },
          {
           "country": "Andorra",
           "health": 84.1,
           "income": 46577,
           "population": 70473
          },
          {
           "country": "Angola",
           "health": 61,
           "income": 7615,
           "population": 25021974
          },
          {
           "country": "Antigua and Barbuda",
           "health": 75.2,
           "income": 21049,
           "population": 91818
          },
          {
           "country": "Argentina",
           "health": 76.2,
           "income": 17344,
           "population": 43416755
          },
          {
           "country": "Armenia",
           "health": 74.4,
           "income": 7763,
           "population": 3017712
          },
          {
           "country": "Australia",
           "health": 81.8,
           "income": 44056,
           "population": 23968973
          },
          {
           "country": "Austria",
           "health": 81,
           "income": 44401,
           "population": 8544586
          },
          {
           "country": "Azerbaijan",
           "health": 72.9,
           "income": 16986,
           "population": 9753968
          },
          {
           "country": "Bahamas",
           "health": 72.3,
           "income": 22818,
           "population": 388019
          },
          {
           "country": "Bahrain",
           "health": 79.2,
           "income": 44138,
           "population": 1377237
          },
          {
           "country": "Bangladesh",
           "health": 70.1,
           "income": 3161,
           "population": 160995642
          },
          {
           "country": "Barbados",
           "health": 75.8,
           "income": 12984,
           "population": 284215
          },
          {
           "country": "Belarus",
           "health": 70.4,
           "income": 17415,
           "population": 9495826
          },
          {
           "country": "Belgium",
           "health": 80.4,
           "income": 41240,
           "population": 11299192
          },
          {
           "country": "Belize",
           "health": 70,
           "income": 8501,
           "population": 359287
          },
          {
           "country": "Benin",
           "health": 65.5,
           "income": 1830,
           "population": 10879829
          },
          {
           "country": "Bhutan",
           "health": 70.2,
           "income": 7983,
           "population": 774830
          },
          {
           "country": "Bolivia",
           "health": 72.3,
           "income": 6295,
           "population": 10724705
          },
          {
           "country": "Bosnia and Herzegovina",
           "health": 77.9,
           "income": 9833,
           "population": 3810416
          },
          {
           "country": "Botswana",
           "health": 66.4,
           "income": 17196,
           "population": 2262485
          },
          {
           "country": "Brazil",
           "health": 75.6,
           "income": 15441,
           "population": 207847528
          },
          {
           "country": "Brunei",
           "health": 78.7,
           "income": 73003,
           "population": 423188
          },
          {
           "country": "Bulgaria",
           "health": 74.9,
           "income": 16371,
           "population": 7149787
          },
          {
           "country": "Burkina Faso",
           "health": 62.8,
           "income": 1654,
           "population": 18105570
          },
          {
           "country": "Burundi",
           "health": 60.4,
           "income": 777,
           "population": 11178921
          },
          {
           "country": "Cambodia",
           "health": 68.4,
           "income": 3267,
           "population": 15577899
          },
          {
           "country": "Cameroon",
           "health": 59.5,
           "income": 2897,
           "population": 23344179
          },
          {
           "country": "Canada",
           "health": 81.7,
           "income": 43294,
           "population": 35939927
          },
          {
           "country": "Cape Verde",
           "health": 74.6,
           "income": 6514,
           "population": 520502
          },
          {
           "country": "Central African Republic",
           "health": 53.8,
           "income": 599,
           "population": 4900274
          },
          {
           "country": "Chad",
           "health": 57.7,
           "income": 2191,
           "population": 14037472
          },
          {
           "country": "Chile",
           "health": 79.3,
           "income": 22465,
           "population": 17948141
          },
          {
           "country": "China",
           "health": 76.9,
           "income": 13334,
           "population": 1376048943
          },
          {
           "country": "Colombia",
           "health": 75.8,
           "income": 12761,
           "population": 48228704
          },
          {
           "country": "Comoros",
           "health": 64.1,
           "income": 1472,
           "population": 788474
          },
          {
           "country": "Congo, Dem. Rep.",
           "health": 58.3,
           "income": 809,
           "population": 77266814
          },
          {
           "country": "Congo, Rep.",
           "health": 61.9,
           "income": 6220,
           "population": 4620330
          },
          {
           "country": "Costa Rica",
           "health": 80,
           "income": 14132,
           "population": 4807850
          },
          {
           "country": "Cote d'Ivoire",
           "health": 60.33,
           "income": 3491,
           "population": 22701556
          },
          {
           "country": "Croatia",
           "health": 78,
           "income": 20260,
           "population": 4240317
          },
          {
           "country": "Cuba",
           "health": 78.5,
           "income": 21291,
           "population": 11389562
          },
          {
           "country": "Cyprus",
           "health": 82.6,
           "income": 29797,
           "population": 1165300
          },
          {
           "country": "Czech Republic",
           "health": 78.6,
           "income": 29437,
           "population": 10543186
          },
          {
           "country": "Denmark",
           "health": 80.1,
           "income": 43495,
           "population": 5669081
          },
          {
           "country": "Djibouti",
           "health": 64.63,
           "income": 3139,
           "population": 887861
          },
          {
           "country": "Dominica",
           "health": 74.6,
           "income": 10503,
           "population": 72680
          },
          {
           "country": "Dominican Republic",
           "health": 73.8,
           "income": 12837,
           "population": 10528391
          },
          {
           "country": "Ecuador",
           "health": 75.2,
           "income": 10996,
           "population": 16144363
          },
          {
           "country": "Egypt",
           "health": 71.3,
           "income": 11031,
           "population": 91508084
          },
          {
           "country": "El Salvador",
           "health": 74.1,
           "income": 7776,
           "population": 6126583
          },
          {
           "country": "Equatorial Guinea",
           "health": 60.63,
           "income": 31087,
           "population": 845060
          },
          {
           "country": "Eritrea",
           "health": 62.9,
           "income": 1129,
           "population": 5227791
          },
          {
           "country": "Estonia",
           "health": 76.8,
           "income": 26812,
           "population": 1312558
          },
          {
           "country": "Ethiopia",
           "health": 63.6,
           "income": 1520,
           "population": 99390750
          },
          {
           "country": "Fiji",
           "health": 66.3,
           "income": 7925,
           "population": 892145
          },
          {
           "country": "Finland",
           "health": 80.8,
           "income": 38923,
           "population": 5503457
          },
          {
           "country": "France",
           "health": 81.9,
           "income": 37599,
           "population": 64395345
          },
          {
           "country": "Gabon",
           "health": 60.53,
           "income": 18627,
           "population": 1725292
          },
          {
           "country": "Gambia",
           "health": 65.1,
           "income": 1644,
           "population": 1990924
          },
          {
           "country": "Georgia",
           "health": 73.3,
           "income": 7474,
           "population": 3999812
          },
          {
           "country": "Germany",
           "health": 81.1,
           "income": 44053,
           "population": 80688545
          },
          {
           "country": "Ghana",
           "health": 65.5,
           "income": 4099,
           "population": 27409893
          },
          {
           "country": "Greece",
           "health": 79.8,
           "income": 25430,
           "population": 10954617
          },
          {
           "country": "Grenada",
           "health": 71.7,
           "income": 11593,
           "population": 106825
          },
          {
           "country": "Guatemala",
           "health": 73.1,
           "income": 7279,
           "population": 16342897
          },
          {
           "country": "Guinea",
           "health": 60.8,
           "income": 1225,
           "population": 12608590
          },
          {
           "country": "Guinea-Bissau",
           "health": 53.4,
           "income": 1386,
           "population": 1844325
          },
          {
           "country": "Guyana",
           "health": 64.4,
           "income": 6816,
           "population": 767085
          },
          {
           "country": "Haiti",
           "health": 65.3,
           "income": 1710,
           "population": 10711067
          },
          {
           "country": "Honduras",
           "health": 72.4,
           "income": 4270,
           "population": 8075060
          },
          {
           "country": "Hungary",
           "health": 76.2,
           "income": 24200,
           "population": 9855023
          },
          {
           "country": "Iceland",
           "health": 82.8,
           "income": 42182,
           "population": 329425
          },
          {
           "country": "India",
           "health": 66.8,
           "income": 5903,
           "population": 1311050527
          },
          {
           "country": "Indonesia",
           "health": 70.9,
           "income": 10504,
           "population": 257563815
          },
          {
           "country": "Iran",
           "health": 78.5,
           "income": 15573,
           "population": 79109272
          },
          {
           "country": "Iraq",
           "health": 72.1,
           "income": 14646,
           "population": 36423395
          },
          {
           "country": "Ireland",
           "health": 80.4,
           "income": 47758,
           "population": 4688465
          },
          {
           "country": "Israel",
           "health": 82.4,
           "income": 31590,
           "population": 8064036
          },
          {
           "country": "Italy",
           "health": 82.1,
           "income": 33297,
           "population": 59797685
          },
          {
           "country": "Jamaica",
           "health": 75.5,
           "income": 8606,
           "population": 2793335
          },
          {
           "country": "Japan",
           "health": 83.5,
           "income": 36162,
           "population": 126573481
          },
          {
           "country": "Jordan",
           "health": 78.3,
           "income": 11752,
           "population": 7594547
          },
          {
           "country": "Kazakhstan",
           "health": 68.2,
           "income": 23468,
           "population": 17625226
          },
          {
           "country": "Kenya",
           "health": 66.63,
           "income": 2898,
           "population": 46050302
          },
          {
           "country": "Kiribati",
           "health": 62.4,
           "income": 1824,
           "population": 112423
          },
          {
           "country": "Kuwait",
           "health": 80.7,
           "income": 82633,
           "population": 3892115
          },
          {
           "country": "Kyrgyz Republic",
           "health": 69,
           "income": 3245,
           "population": 5939962
          },
          {
           "country": "Lao",
           "health": 66.4,
           "income": 5212,
           "population": 6802023
          },
          {
           "country": "Latvia",
           "health": 75.7,
           "income": 23282,
           "population": 1970503
          },
          {
           "country": "Lebanon",
           "health": 78.5,
           "income": 17050,
           "population": 5850743
          },
          {
           "country": "Lesotho",
           "health": 48.5,
           "income": 2598,
           "population": 2135022
          },
          {
           "country": "Liberia",
           "health": 63.9,
           "income": 958,
           "population": 4503438
          },
          {
           "country": "Libya",
           "health": 76.2,
           "income": 17261,
           "population": 6278438
          },
          {
           "country": "Lithuania",
           "health": 75.4,
           "income": 26665,
           "population": 2878405
          },
          {
           "country": "Luxembourg",
           "health": 81.1,
           "income": 88314,
           "population": 567110
          },
          {
           "country": "Macedonia, FYR",
           "health": 77,
           "income": 12547,
           "population": 2078453
          },
          {
           "country": "Madagascar",
           "health": 64.7,
           "income": 1400,
           "population": 24235390
          },
          {
           "country": "Malawi",
           "health": 60.22,
           "income": 799,
           "population": 17215232
          },
          {
           "country": "Malaysia",
           "health": 75.1,
           "income": 24320,
           "population": 30331007
          },
          {
           "country": "Maldives",
           "health": 79.5,
           "income": 14408,
           "population": 363657
          },
          {
           "country": "Mali",
           "health": 57.6,
           "income": 1684,
           "population": 17599694
          },
          {
           "country": "Malta",
           "health": 82.1,
           "income": 30265,
           "population": 418670
          },
          {
           "country": "Marshall Islands",
           "health": 65.1,
           "income": 3661,
           "population": 52993
          },
          {
           "country": "Mauritania",
           "health": 65.7,
           "income": 3877,
           "population": 4067564
          },
          {
           "country": "Mauritius",
           "health": 73.9,
           "income": 18350,
           "population": 1273212
          },
          {
           "country": "Mexico",
           "health": 74.5,
           "income": 16850,
           "population": 127017224
          },
          {
           "country": "Micronesia, Fed. Sts.",
           "health": 67,
           "income": 3510,
           "population": 104460
          },
          {
           "country": "Moldova",
           "health": 72.7,
           "income": 4896,
           "population": 4068897
          },
          {
           "country": "Mongolia",
           "health": 65.3,
           "income": 11819,
           "population": 2959134
          },
          {
           "country": "Montenegro",
           "health": 75.8,
           "income": 14833,
           "population": 625781
          },
          {
           "country": "Morocco",
           "health": 74.7,
           "income": 7319,
           "population": 34377511
          },
          {
           "country": "Mozambique",
           "health": 56.4,
           "income": 1176,
           "population": 27977863
          },
          {
           "country": "Myanmar",
           "health": 67.9,
           "income": 4012,
           "population": 53897154
          },
          {
           "country": "Namibia",
           "health": 61,
           "income": 10040,
           "population": 2458830
          },
          {
           "country": "Nepal",
           "health": 71.2,
           "income": 2352,
           "population": 28513700
          },
          {
           "country": "Netherlands",
           "health": 80.6,
           "income": 45784,
           "population": 16924929
          },
          {
           "country": "New Zealand",
           "health": 80.6,
           "income": 34186,
           "population": 4528526
          },
          {
           "country": "Nicaragua",
           "health": 76.8,
           "income": 4712,
           "population": 6082032
          },
          {
           "country": "Niger",
           "health": 62.2,
           "income": 943,
           "population": 19899120
          },
          {
           "country": "Nigeria",
           "health": 61.33,
           "income": 5727,
           "population": 182201962
          },
          {
           "country": "North Korea",
           "health": 71.4,
           "income": 1390,
           "population": 25155317
          },
          {
           "country": "Norway",
           "health": 81.6,
           "income": 64304,
           "population": 5210967
          },
          {
           "country": "Oman",
           "health": 75.7,
           "income": 48226,
           "population": 4490541
          },
          {
           "country": "Pakistan",
           "health": 66.5,
           "income": 4743,
           "population": 188924874
          },
          {
           "country": "Panama",
           "health": 78.2,
           "income": 20485,
           "population": 3929141
          },
          {
           "country": "Papua New Guinea",
           "health": 60.6,
           "income": 2529,
           "population": 7619321
          },
          {
           "country": "Paraguay",
           "health": 73.9,
           "income": 8219,
           "population": 6639123
          },
          {
           "country": "Peru",
           "health": 77.5,
           "income": 11903,
           "population": 31376670
          },
          {
           "country": "Philippines",
           "health": 70.2,
           "income": 6876,
           "population": 100699395
          },
          {
           "country": "Poland",
           "health": 77.3,
           "income": 24787,
           "population": 38611794
          },
          {
           "country": "Portugal",
           "health": 79.8,
           "income": 26437,
           "population": 10349803
          },
          {
           "country": "Qatar",
           "health": 82,
           "income": 132877,
           "population": 2235355
          },
          {
           "country": "Romania",
           "health": 76.8,
           "income": 19203,
           "population": 19511324
          },
          {
           "country": "Russia",
           "health": 73.13,
           "income": 23038,
           "population": 143456918
          },
          {
           "country": "Rwanda",
           "health": 66.53,
           "income": 1549,
           "population": 11609666
          },
          {
           "country": "Samoa",
           "health": 72.2,
           "income": 5558,
           "population": 193228
          },
          {
           "country": "Sao Tome and Principe",
           "health": 68.8,
           "income": 3003,
           "population": 190344
          },
          {
           "country": "Saudi Arabia",
           "health": 78.1,
           "income": 52469,
           "population": 31540372
          },
          {
           "country": "Senegal",
           "health": 66.1,
           "income": 2251,
           "population": 15129273
          },
          {
           "country": "Serbia",
           "health": 78.1,
           "income": 12908,
           "population": 8850975
          },
          {
           "country": "Seychelles",
           "health": 73.7,
           "income": 25684,
           "population": 96471
          },
          {
           "country": "Sierra Leone",
           "health": 58.5,
           "income": 2085,
           "population": 6453184
          },
          {
           "country": "Singapore",
           "health": 82.1,
           "income": 80794,
           "population": 5603740
          },
          {
           "country": "Slovak Republic",
           "health": 76.4,
           "income": 27204,
           "population": 5426258
          },
          {
           "country": "Slovenia",
           "health": 80.2,
           "income": 28550,
           "population": 2067526
          },
          {
           "country": "Solomon Islands",
           "health": 64.1,
           "income": 2047,
           "population": 583591
          },
          {
           "country": "Somalia",
           "health": 58.7,
           "income": 624,
           "population": 10787104
          },
          {
           "country": "South Africa",
           "health": 63.72,
           "income": 12509,
           "population": 54490406
          },
          {
           "country": "South Korea",
           "health": 80.7,
           "income": 34644,
           "population": 50293439
          },
          {
           "country": "South Sudan",
           "health": 58,
           "income": 3047,
           "population": 12339812
          },
          {
           "country": "Spain",
           "health": 81.7,
           "income": 32979,
           "population": 46121699
          },
          {
           "country": "Sri Lanka",
           "health": 76.5,
           "income": 10624,
           "population": 20715010
          },
          {
           "country": "St. Lucia",
           "health": 74.5,
           "income": 9997,
           "population": 184999
          },
          {
           "country": "St. Vincent and the Grenadines",
           "health": 72.9,
           "income": 10435,
           "population": 109462
          },
          {
           "country": "Sudan",
           "health": 69.5,
           "income": 3975,
           "population": 40234882
          },
          {
           "country": "Suriname",
           "health": 70.5,
           "income": 17125,
           "population": 542975
          },
          {
           "country": "Swaziland",
           "health": 51.5,
           "income": 6095,
           "population": 1286970
          },
          {
           "country": "Sweden",
           "health": 82,
           "income": 44892,
           "population": 9779426
          },
          {
           "country": "Switzerland",
           "health": 82.9,
           "income": 56118,
           "population": 8298663
          },
          {
           "country": "Syria",
           "health": 70.26,
           "income": 4637,
           "population": 18502413
          },
          {
           "country": "Tajikistan",
           "health": 71,
           "income": 2582,
           "population": 8481855
          },
          {
           "country": "Tanzania",
           "health": 63.43,
           "income": 2571,
           "population": 53470420
          },
          {
           "country": "Thailand",
           "health": 75.1,
           "income": 14512,
           "population": 67959359
          },
          {
           "country": "Timor-Leste",
           "health": 72.4,
           "income": 2086,
           "population": 1184765
          },
          {
           "country": "Togo",
           "health": 64.23,
           "income": 1433,
           "population": 7304578
          },
          {
           "country": "Tonga",
           "health": 70.5,
           "income": 5069,
           "population": 106170
          },
          {
           "country": "Trinidad and Tobago",
           "health": 71.4,
           "income": 30113,
           "population": 1360088
          },
          {
           "country": "Tunisia",
           "health": 77.3,
           "income": 11126,
           "population": 11253554
          },
          {
           "country": "Turkey",
           "health": 76.5,
           "income": 19360,
           "population": 78665830
          },
          {
           "country": "Turkmenistan",
           "health": 67.9,
           "income": 15865,
           "population": 5373502
          },
          {
           "country": "Uganda",
           "health": 60.8,
           "income": 1680,
           "population": 39032383
          },
          {
           "country": "Ukraine",
           "health": 72.1,
           "income": 8449,
           "population": 44823765
          },
          {
           "country": "United Arab Emirates",
           "health": 76.6,
           "income": 60749,
           "population": 9156963
          },
          {
           "country": "United Kingdom",
           "health": 81.4,
           "income": 38225,
           "population": 64715810
          },
          {
           "country": "United States",
           "health": 79.1,
           "income": 53354,
           "population": 321773631
          },
          {
           "country": "Uruguay",
           "health": 77.3,
           "income": 20438,
           "population": 3431555
          },
          {
           "country": "Uzbekistan",
           "health": 70.1,
           "income": 5598,
           "population": 29893488
          },
          {
           "country": "Vanuatu",
           "health": 65,
           "income": 2912,
           "population": 264652
          },
          {
           "country": "Venezuela",
           "health": 75.8,
           "income": 15753,
           "population": 31108083
          },
          {
           "country": "Vietnam",
           "health": 76.5,
           "income": 5623,
           "population": 93447601
          },
          {
           "country": "West Bank and Gaza",
           "health": 75.2,
           "income": 4319,
           "population": 4668466
          },
          {
           "country": "Yemen",
           "health": 67.6,
           "income": 3887,
           "population": 26832215
          },
          {
           "country": "Zambia",
           "health": 58.96,
           "income": 4034,
           "population": 16211767
          },
          {
           "country": "Zimbabwe",
           "health": 60.01,
           "income": 1801,
           "population": 15602751
          }
         ]
        },
        {
         "name": "data_0",
         "source": "source_0",
         "transform": [
          {
           "expr": "isValid(datum[\"income\"]) && isFinite(+datum[\"income\"]) && isValid(datum[\"health\"]) && isFinite(+datum[\"health\"]) && isValid(datum[\"population\"]) && isFinite(+datum[\"population\"])",
           "type": "filter"
          }
         ]
        }
       ],
       "height": 300,
       "legends": [
        {
         "encode": {
          "symbols": {
           "update": {
            "fill": {
             "value": "#000"
            },
            "opacity": {
             "value": 0.7
            },
            "stroke": {
             "value": "transparent"
            }
           }
          }
         },
         "size": "size",
         "symbolType": "circle",
         "title": "population"
        }
       ],
       "marks": [
        {
         "clip": true,
         "encode": {
          "update": {
           "ariaRoleDescription": {
            "value": "circle"
           },
           "description": {
            "signal": "\"income: \" + (format(datum[\"income\"], \"\")) + \"; health: \" + (format(datum[\"health\"], \"\")) + \"; population: \" + (format(datum[\"population\"], \"\"))"
           },
           "fill": {
            "value": "#000"
           },
           "opacity": {
            "value": 0.7
           },
           "shape": {
            "value": "circle"
           },
           "size": {
            "field": "population",
            "scale": "size"
           },
           "x": {
            "field": "income",
            "scale": "x"
           },
           "y": {
            "field": "health",
            "scale": "y"
           }
          }
         },
         "from": {
          "data": "data_0"
         },
         "interactive": true,
         "name": "marks",
         "style": [
          "circle"
         ],
         "type": "symbol"
        }
       ],
       "padding": 5,
       "scales": [
        {
         "domain": {
          "data": "data_0",
          "field": "income"
         },
         "domainRaw": {
          "signal": "view[\"income\"]"
         },
         "name": "x",
         "nice": true,
         "range": [
          0,
          {
           "signal": "width"
          }
         ],
         "type": "log"
        },
        {
         "domain": {
          "data": "data_0",
          "field": "health"
         },
         "domainRaw": {
          "signal": "view[\"health\"]"
         },
         "name": "y",
         "nice": true,
         "range": [
          {
           "signal": "height"
          },
          0
         ],
         "type": "linear",
         "zero": false
        },
        {
         "domain": {
          "data": "data_0",
          "field": "population"
         },
         "name": "size",
         "range": [
          0,
          361
         ],
         "type": "linear",
         "zero": true
        }
       ],
       "signals": [
        {
         "name": "unit",
         "on": [
          {
           "events": "mousemove",
           "update": "isTuple(group()) ? group() : unit"
          }
         ],
         "value": {}
        },
        {
         "name": "view",
         "update": "vlSelectionResolve(\"view_store\", \"union\")"
        },
        {
         "name": "view_income",
         "on": [
          {
           "events": [
            {
             "source": "view",
             "type": "dblclick"
            }
           ],
           "update": "null"
          },
          {
           "events": {
            "signal": "view_translate_delta"
           },
           "update": "panLog(view_translate_anchor.extent_x, -view_translate_delta.x / width)"
          },
          {
           "events": {
            "signal": "view_zoom_delta"
           },
           "update": "zoomLog(domain(\"x\"), view_zoom_anchor.x, view_zoom_delta)"
          }
         ]
        },
        {
         "name": "view_health",
         "on": [
          {
           "events": [
            {
             "source": "view",
             "type": "dblclick"
            }
           ],
           "update": "null"
          },
          {
           "events": {
            "signal": "view_translate_delta"
           },
           "update": "panLinear(view_translate_anchor.extent_y, view_translate_delta.y / height)"
          },
          {
           "events": {
            "signal": "view_zoom_delta"
           },
           "update": "zoomLinear(domain(\"y\"), view_zoom_anchor.y, view_zoom_delta)"
          }
         ]
        },
        {
         "name": "view_tuple",
         "on": [
          {
           "events": [
            {
             "signal": "view_income || view_health"
            }
           ],
           "update": "view_income && view_health ? {unit: \"\", fields: view_tuple_fields, values: [view_income,view_health]} : null"
          }
         ]
        },
        {
         "name": "view_tuple_fields",
         "value": [
          {
           "channel": "x",
           "field": "income",
           "type": "R"
          },
          {
           "channel": "y",
           "field": "health",
           "type": "R"
          }
         ]
        },
        {
         "name": "view_translate_anchor",
         "on": [
          {
           "events": [
            {
             "source": "scope",
             "type": "mousedown"
            }
           ],
           "update": "{x: x(unit), y: y(unit), extent_x: domain(\"x\"), extent_y: domain(\"y\")}"
          }
         ],
         "value": {}
        },
        {
         "name": "view_translate_delta",
         "on": [
          {
           "events": [
            {
             "between": [
              {
               "source": "scope",
               "type": "mousedown"
              },
              {
               "source": "window",
               "type": "mouseup"
              }
             ],
             "consume": true,
             "source": "window",
             "type": "mousemove"
            }
           ],
           "update": "{x: view_translate_anchor.x - x(unit), y: view_translate_anchor.y - y(unit)}"
          }
         ],
         "value": {}
        },
        {
         "name": "view_zoom_anchor",
         "on": [
          {
           "events": [
            {
             "consume": true,
             "source": "scope",
             "type": "wheel"
            }
           ],
           "update": "{x: invert(\"x\", x(unit)), y: invert(\"y\", y(unit))}"
          }
         ]
        },
        {
         "name": "view_zoom_delta",
         "on": [
          {
           "events": [
            {
             "consume": true,
             "source": "scope",
             "type": "wheel"
            }
           ],
           "force": true,
           "update": "pow(1.001, event.deltaY * pow(16, event.deltaMode))"
          }
         ]
        },
        {
         "name": "view_modify",
         "on": [
          {
           "events": {
            "signal": "view_tuple"
           },
           "update": "modify(\"view_store\", view_tuple, true)"
          }
         ]
        }
       ],
       "style": "cell",
       "width": 500
      },
      "image/png": "[encoded data removed]",
      "image/svg+xml": [
       "<svg xmlns=\"http://www.w3.org/2000/svg\" xmlns:xlink=\"http://www.w3.org/1999/xlink\" version=\"1.1\" class=\"marks\" width=\"661\" height=\"347\" viewBox=\"0 0 661 347\"><rect width=\"661\" height=\"347\" fill=\"white\"/><g fill=\"none\" stroke-miterlimit=\"10\" transform=\"translate(50,10)\"><g class=\"mark-group role-frame root\" role=\"graphics-object\" aria-roledescription=\"group mark container\"><g transform=\"translate(0,0)\"><path class=\"background\" aria-hidden=\"true\" d=\"M0.5,0.5h500v300h-500Z\" stroke=\"#ddd\"/><g><g class=\"mark-group role-axis\" aria-hidden=\"true\"><g transform=\"translate(0.5,300.5)\"><path class=\"background\" aria-hidden=\"true\" d=\"M0,0h0v0h0Z\" pointer-events=\"none\"/><g><g class=\"mark-rule role-axis-grid\" pointer-events=\"none\"><line transform=\"translate(0,-300)\" x2=\"0\" y2=\"300\" stroke=\"#ddd\" stroke-width=\"1\" opacity=\"1\"/><line transform=\"translate(38,-300)\" x2=\"0\" y2=\"300\" stroke=\"#ddd\" stroke-width=\"1\" opacity=\"1\"/><line transform=\"translate(60,-300)\" x2=\"0\" y2=\"300\" stroke=\"#ddd\" stroke-width=\"1\" opacity=\"1\"/><line transform=\"translate(75,-300)\" x2=\"0\" y2=\"300\" stroke=\"#ddd\" stroke-width=\"1\" opacity=\"1\"/><line transform=\"translate(87,-300)\" x2=\"0\" y2=\"300\" stroke=\"#ddd\" stroke-width=\"1\" opacity=\"1\"/><line transform=\"translate(97,-300)\" x2=\"0\" y2=\"300\" stroke=\"#ddd\" stroke-width=\"1\" opacity=\"1\"/><line transform=\"translate(106,-300)\" x2=\"0\" y2=\"300\" stroke=\"#ddd\" stroke-width=\"1\" opacity=\"1\"/><line transform=\"translate(113,-300)\" x2=\"0\" y2=\"300\" stroke=\"#ddd\" stroke-width=\"1\" opacity=\"1\"/><line transform=\"translate(119,-300)\" x2=\"0\" y2=\"300\" stroke=\"#ddd\" stroke-width=\"1\" opacity=\"1\"/><line transform=\"translate(125,-300)\" x2=\"0\" y2=\"300\" stroke=\"#ddd\" stroke-width=\"1\" opacity=\"1\"/><line transform=\"translate(163,-300)\" x2=\"0\" y2=\"300\" stroke=\"#ddd\" stroke-width=\"1\" opacity=\"1\"/><line transform=\"translate(185,-300)\" x2=\"0\" y2=\"300\" stroke=\"#ddd\" stroke-width=\"1\" opacity=\"1\"/><line transform=\"translate(200,-300)\" x2=\"0\" y2=\"300\" stroke=\"#ddd\" stroke-width=\"1\" opacity=\"1\"/><line transform=\"translate(212,-300)\" x2=\"0\" y2=\"300\" stroke=\"#ddd\" stroke-width=\"1\" opacity=\"1\"/><line transform=\"translate(222,-300)\" x2=\"0\" y2=\"300\" stroke=\"#ddd\" stroke-width=\"1\" opacity=\"1\"/><line transform=\"translate(231,-300)\" x2=\"0\" y2=\"300\" stroke=\"#ddd\" stroke-width=\"1\" opacity=\"1\"/><line transform=\"translate(238,-300)\" x2=\"0\" y2=\"300\" stroke=\"#ddd\" stroke-width=\"1\" opacity=\"1\"/><line transform=\"translate(244,-300)\" x2=\"0\" y2=\"300\" stroke=\"#ddd\" stroke-width=\"1\" opacity=\"1\"/><line transform=\"translate(250,-300)\" x2=\"0\" y2=\"300\" stroke=\"#ddd\" stroke-width=\"1\" opacity=\"1\"/><line transform=\"translate(288,-300)\" x2=\"0\" y2=\"300\" stroke=\"#ddd\" stroke-width=\"1\" opacity=\"1\"/><line transform=\"translate(310,-300)\" x2=\"0\" y2=\"300\" stroke=\"#ddd\" stroke-width=\"1\" opacity=\"1\"/><line transform=\"translate(325,-300)\" x2=\"0\" y2=\"300\" stroke=\"#ddd\" stroke-width=\"1\" opacity=\"1\"/><line transform=\"translate(337,-300)\" x2=\"0\" y2=\"300\" stroke=\"#ddd\" stroke-width=\"1\" opacity=\"1\"/><line transform=\"translate(347,-300)\" x2=\"0\" y2=\"300\" stroke=\"#ddd\" stroke-width=\"1\" opacity=\"1\"/><line transform=\"translate(356,-300)\" x2=\"0\" y2=\"300\" stroke=\"#ddd\" stroke-width=\"1\" opacity=\"1\"/><line transform=\"translate(363,-300)\" x2=\"0\" y2=\"300\" stroke=\"#ddd\" stroke-width=\"1\" opacity=\"1\"/><line transform=\"translate(369,-300)\" x2=\"0\" y2=\"300\" stroke=\"#ddd\" stroke-width=\"1\" opacity=\"1\"/><line transform=\"translate(375,-300)\" x2=\"0\" y2=\"300\" stroke=\"#ddd\" stroke-width=\"1\" opacity=\"1\"/><line transform=\"translate(413,-300)\" x2=\"0\" y2=\"300\" stroke=\"#ddd\" stroke-width=\"1\" opacity=\"1\"/><line transform=\"translate(435,-300)\" x2=\"0\" y2=\"300\" stroke=\"#ddd\" stroke-width=\"1\" opacity=\"1\"/><line transform=\"translate(450,-300)\" x2=\"0\" y2=\"300\" stroke=\"#ddd\" stroke-width=\"1\" opacity=\"1\"/><line transform=\"translate(462,-300)\" x2=\"0\" y2=\"300\" stroke=\"#ddd\" stroke-width=\"1\" opacity=\"1\"/><line transform=\"translate(472,-300)\" x2=\"0\" y2=\"300\" stroke=\"#ddd\" stroke-width=\"1\" opacity=\"1\"/><line transform=\"translate(481,-300)\" x2=\"0\" y2=\"300\" stroke=\"#ddd\" stroke-width=\"1\" opacity=\"1\"/><line transform=\"translate(488,-300)\" x2=\"0\" y2=\"300\" stroke=\"#ddd\" stroke-width=\"1\" opacity=\"1\"/><line transform=\"translate(494,-300)\" x2=\"0\" y2=\"300\" stroke=\"#ddd\" stroke-width=\"1\" opacity=\"1\"/><line transform=\"translate(500,-300)\" x2=\"0\" y2=\"300\" stroke=\"#ddd\" stroke-width=\"1\" opacity=\"1\"/></g></g><path class=\"foreground\" aria-hidden=\"true\" d=\"\" pointer-events=\"none\" display=\"none\"/></g></g><g class=\"mark-group role-axis\" aria-hidden=\"true\"><g transform=\"translate(0.5,0.5)\"><path class=\"background\" aria-hidden=\"true\" d=\"M0,0h0v0h0Z\" pointer-events=\"none\"/><g><g class=\"mark-rule role-axis-grid\" pointer-events=\"none\"><line transform=\"translate(0,300)\" x2=\"500\" y2=\"0\" stroke=\"#ddd\" stroke-width=\"1\" opacity=\"1\"/><line transform=\"translate(0,263)\" x2=\"500\" y2=\"0\" stroke=\"#ddd\" stroke-width=\"1\" opacity=\"1\"/><line transform=\"translate(0,225)\" x2=\"500\" y2=\"0\" stroke=\"#ddd\" stroke-width=\"1\" opacity=\"1\"/><line transform=\"translate(0,188)\" x2=\"500\" y2=\"0\" stroke=\"#ddd\" stroke-width=\"1\" opacity=\"1\"/><line transform=\"translate(0,150)\" x2=\"500\" y2=\"0\" stroke=\"#ddd\" stroke-width=\"1\" opacity=\"1\"/><line transform=\"translate(0,113)\" x2=\"500\" y2=\"0\" stroke=\"#ddd\" stroke-width=\"1\" opacity=\"1\"/><line transform=\"translate(0,75)\" x2=\"500\" y2=\"0\" stroke=\"#ddd\" stroke-width=\"1\" opacity=\"1\"/><line transform=\"translate(0,38)\" x2=\"500\" y2=\"0\" stroke=\"#ddd\" stroke-width=\"1\" opacity=\"1\"/><line transform=\"translate(0,0)\" x2=\"500\" y2=\"0\" stroke=\"#ddd\" stroke-width=\"1\" opacity=\"1\"/></g></g><path class=\"foreground\" aria-hidden=\"true\" d=\"\" pointer-events=\"none\" display=\"none\"/></g></g><g class=\"mark-group role-axis\" role=\"graphics-symbol\" aria-roledescription=\"axis\" aria-label=\"X-axis titled 'income' for a log scale with values from 100 to 1,000,000\"><g transform=\"translate(0.5,300.5)\"><path class=\"background\" aria-hidden=\"true\" d=\"M0,0h0v0h0Z\" pointer-events=\"none\"/><g><g class=\"mark-rule role-axis-tick\" pointer-events=\"none\"><line transform=\"translate(0,0)\" x2=\"0\" y2=\"5\" stroke=\"#888\" stroke-width=\"1\" opacity=\"1\"/><line transform=\"translate(38,0)\" x2=\"0\" y2=\"5\" stroke=\"#888\" stroke-width=\"1\" opacity=\"1\"/><line transform=\"translate(60,0)\" x2=\"0\" y2=\"5\" stroke=\"#888\" stroke-width=\"1\" opacity=\"1\"/><line transform=\"translate(75,0)\" x2=\"0\" y2=\"5\" stroke=\"#888\" stroke-width=\"1\" opacity=\"1\"/><line transform=\"translate(87,0)\" x2=\"0\" y2=\"5\" stroke=\"#888\" stroke-width=\"1\" opacity=\"1\"/><line transform=\"translate(97,0)\" x2=\"0\" y2=\"5\" stroke=\"#888\" stroke-width=\"1\" opacity=\"1\"/><line transform=\"translate(106,0)\" x2=\"0\" y2=\"5\" stroke=\"#888\" stroke-width=\"1\" opacity=\"1\"/><line transform=\"translate(113,0)\" x2=\"0\" y2=\"5\" stroke=\"#888\" stroke-width=\"1\" opacity=\"1\"/><line transform=\"translate(119,0)\" x2=\"0\" y2=\"5\" stroke=\"#888\" stroke-width=\"1\" opacity=\"1\"/><line transform=\"translate(125,0)\" x2=\"0\" y2=\"5\" stroke=\"#888\" stroke-width=\"1\" opacity=\"1\"/><line transform=\"translate(163,0)\" x2=\"0\" y2=\"5\" stroke=\"#888\" stroke-width=\"1\" opacity=\"1\"/><line transform=\"translate(185,0)\" x2=\"0\" y2=\"5\" stroke=\"#888\" stroke-width=\"1\" opacity=\"1\"/><line transform=\"translate(200,0)\" x2=\"0\" y2=\"5\" stroke=\"#888\" stroke-width=\"1\" opacity=\"1\"/><line transform=\"translate(212,0)\" x2=\"0\" y2=\"5\" stroke=\"#888\" stroke-width=\"1\" opacity=\"1\"/><line transform=\"translate(222,0)\" x2=\"0\" y2=\"5\" stroke=\"#888\" stroke-width=\"1\" opacity=\"1\"/><line transform=\"translate(231,0)\" x2=\"0\" y2=\"5\" stroke=\"#888\" stroke-width=\"1\" opacity=\"1\"/><line transform=\"translate(238,0)\" x2=\"0\" y2=\"5\" stroke=\"#888\" stroke-width=\"1\" opacity=\"1\"/><line transform=\"translate(244,0)\" x2=\"0\" y2=\"5\" stroke=\"#888\" stroke-width=\"1\" opacity=\"1\"/><line transform=\"translate(250,0)\" x2=\"0\" y2=\"5\" stroke=\"#888\" stroke-width=\"1\" opacity=\"1\"/><line transform=\"translate(288,0)\" x2=\"0\" y2=\"5\" stroke=\"#888\" stroke-width=\"1\" opacity=\"1\"/><line transform=\"translate(310,0)\" x2=\"0\" y2=\"5\" stroke=\"#888\" stroke-width=\"1\" opacity=\"1\"/><line transform=\"translate(325,0)\" x2=\"0\" y2=\"5\" stroke=\"#888\" stroke-width=\"1\" opacity=\"1\"/><line transform=\"translate(337,0)\" x2=\"0\" y2=\"5\" stroke=\"#888\" stroke-width=\"1\" opacity=\"1\"/><line transform=\"translate(347,0)\" x2=\"0\" y2=\"5\" stroke=\"#888\" stroke-width=\"1\" opacity=\"1\"/><line transform=\"translate(356,0)\" x2=\"0\" y2=\"5\" stroke=\"#888\" stroke-width=\"1\" opacity=\"1\"/><line transform=\"translate(363,0)\" x2=\"0\" y2=\"5\" stroke=\"#888\" stroke-width=\"1\" opacity=\"1\"/><line transform=\"translate(369,0)\" x2=\"0\" y2=\"5\" stroke=\"#888\" stroke-width=\"1\" opacity=\"1\"/><line transform=\"translate(375,0)\" x2=\"0\" y2=\"5\" stroke=\"#888\" stroke-width=\"1\" opacity=\"1\"/><line transform=\"translate(413,0)\" x2=\"0\" y2=\"5\" stroke=\"#888\" stroke-width=\"1\" opacity=\"1\"/><line transform=\"translate(435,0)\" x2=\"0\" y2=\"5\" stroke=\"#888\" stroke-width=\"1\" opacity=\"1\"/><line transform=\"translate(450,0)\" x2=\"0\" y2=\"5\" stroke=\"#888\" stroke-width=\"1\" opacity=\"1\"/><line transform=\"translate(462,0)\" x2=\"0\" y2=\"5\" stroke=\"#888\" stroke-width=\"1\" opacity=\"1\"/><line transform=\"translate(472,0)\" x2=\"0\" y2=\"5\" stroke=\"#888\" stroke-width=\"1\" opacity=\"1\"/><line transform=\"translate(481,0)\" x2=\"0\" y2=\"5\" stroke=\"#888\" stroke-width=\"1\" opacity=\"1\"/><line transform=\"translate(488,0)\" x2=\"0\" y2=\"5\" stroke=\"#888\" stroke-width=\"1\" opacity=\"1\"/><line transform=\"translate(494,0)\" x2=\"0\" y2=\"5\" stroke=\"#888\" stroke-width=\"1\" opacity=\"1\"/><line transform=\"translate(500,0)\" x2=\"0\" y2=\"5\" stroke=\"#888\" stroke-width=\"1\" opacity=\"1\"/></g><g class=\"mark-text role-axis-label\" pointer-events=\"none\"><text text-anchor=\"start\" transform=\"translate(0,15)\" font-family=\"sans-serif\" font-size=\"10px\" fill=\"#000\" opacity=\"1\">100</text><text text-anchor=\"middle\" transform=\"translate(37.62874945799761,15)\" font-family=\"sans-serif\" font-size=\"10px\" fill=\"#000\" opacity=\"1\">200</text><text text-anchor=\"middle\" transform=\"translate(59.640156839957776,15)\" font-family=\"sans-serif\" font-size=\"10px\" fill=\"#000\" opacity=\"1\"/><text text-anchor=\"middle\" transform=\"translate(75.25749891599527,15)\" font-family=\"sans-serif\" font-size=\"10px\" fill=\"#000\" opacity=\"1\"/><text text-anchor=\"middle\" transform=\"translate(87.37125054200231,15)\" font-family=\"sans-serif\" font-size=\"10px\" fill=\"#000\" opacity=\"1\"/><text text-anchor=\"middle\" transform=\"translate(97.26890629795544,15)\" font-family=\"sans-serif\" font-size=\"10px\" fill=\"#000\" opacity=\"1\"/><text text-anchor=\"middle\" transform=\"translate(105.63725500178208,15)\" font-family=\"sans-serif\" font-size=\"10px\" fill=\"#000\" opacity=\"1\"/><text text-anchor=\"middle\" transform=\"translate(112.88624837399293,15)\" font-family=\"sans-serif\" font-size=\"10px\" fill=\"#000\" opacity=\"1\"/><text text-anchor=\"middle\" transform=\"translate(119.28031367991561,15)\" font-family=\"sans-serif\" font-size=\"10px\" fill=\"#000\" opacity=\"1\"/><text text-anchor=\"middle\" transform=\"translate(124.99999999999997,15)\" font-family=\"sans-serif\" font-size=\"10px\" fill=\"#000\" opacity=\"1\">1,000</text><text text-anchor=\"middle\" transform=\"translate(162.62874945799763,15)\" font-family=\"sans-serif\" font-size=\"10px\" fill=\"#000\" opacity=\"1\">2,000</text><text text-anchor=\"middle\" transform=\"translate(184.64015683995774,15)\" font-family=\"sans-serif\" font-size=\"10px\" fill=\"#000\" opacity=\"1\"/><text text-anchor=\"middle\" transform=\"translate(200.25749891599528,15)\" font-family=\"sans-serif\" font-size=\"10px\" fill=\"#000\" opacity=\"1\"/><text text-anchor=\"middle\" transform=\"translate(212.3712505420024,15)\" font-family=\"sans-serif\" font-size=\"10px\" fill=\"#000\" opacity=\"1\"/><text text-anchor=\"middle\" transform=\"translate(222.26890629795543,15)\" font-family=\"sans-serif\" font-size=\"10px\" fill=\"#000\" opacity=\"1\"/><text text-anchor=\"middle\" transform=\"translate(230.63725500178208,15)\" font-family=\"sans-serif\" font-size=\"10px\" fill=\"#000\" opacity=\"1\"/><text text-anchor=\"middle\" transform=\"translate(237.88624837399294,15)\" font-family=\"sans-serif\" font-size=\"10px\" fill=\"#000\" opacity=\"1\"/><text text-anchor=\"middle\" transform=\"translate(244.28031367991562,15)\" font-family=\"sans-serif\" font-size=\"10px\" fill=\"#000\" opacity=\"1\"/><text text-anchor=\"middle\" transform=\"translate(250.00000000000006,15)\" font-family=\"sans-serif\" font-size=\"10px\" fill=\"#000\" opacity=\"1\">10,000</text><text text-anchor=\"middle\" transform=\"translate(287.6287494579976,15)\" font-family=\"sans-serif\" font-size=\"10px\" fill=\"#000\" opacity=\"1\">20,000</text><text text-anchor=\"middle\" transform=\"translate(309.64015683995785,15)\" font-family=\"sans-serif\" font-size=\"10px\" fill=\"#000\" opacity=\"1\"/><text text-anchor=\"middle\" transform=\"translate(325.25749891599526,15)\" font-family=\"sans-serif\" font-size=\"10px\" fill=\"#000\" opacity=\"1\"/><text text-anchor=\"middle\" transform=\"translate(337.3712505420024,15)\" font-family=\"sans-serif\" font-size=\"10px\" fill=\"#000\" opacity=\"1\"/><text text-anchor=\"middle\" transform=\"translate(347.2689062979555,15)\" font-family=\"sans-serif\" font-size=\"10px\" fill=\"#000\" opacity=\"1\"/><text text-anchor=\"middle\" transform=\"translate(355.6372550017821,15)\" font-family=\"sans-serif\" font-size=\"10px\" fill=\"#000\" opacity=\"1\"/><text text-anchor=\"middle\" transform=\"translate(362.88624837399294,15)\" font-family=\"sans-serif\" font-size=\"10px\" fill=\"#000\" opacity=\"1\"/><text text-anchor=\"middle\" transform=\"translate(369.2803136799156,15)\" font-family=\"sans-serif\" font-size=\"10px\" fill=\"#000\" opacity=\"1\"/><text text-anchor=\"middle\" transform=\"translate(375,15)\" font-family=\"sans-serif\" font-size=\"10px\" fill=\"#000\" opacity=\"1\">100,000</text><text text-anchor=\"middle\" transform=\"translate(412.6287494579976,15)\" font-family=\"sans-serif\" font-size=\"10px\" fill=\"#000\" opacity=\"1\">200,000</text><text text-anchor=\"middle\" transform=\"translate(434.64015683995785,15)\" font-family=\"sans-serif\" font-size=\"10px\" fill=\"#000\" opacity=\"1\"/><text text-anchor=\"middle\" transform=\"translate(450.2574989159953,15)\" font-family=\"sans-serif\" font-size=\"10px\" fill=\"#000\" opacity=\"1\"/><text text-anchor=\"middle\" transform=\"translate(462.3712505420024,15)\" font-family=\"sans-serif\" font-size=\"10px\" fill=\"#000\" opacity=\"1\"/><text text-anchor=\"middle\" transform=\"translate(472.2689062979555,15)\" font-family=\"sans-serif\" font-size=\"10px\" fill=\"#000\" opacity=\"1\"/><text text-anchor=\"middle\" transform=\"translate(480.6372550017822,15)\" font-family=\"sans-serif\" font-size=\"10px\" fill=\"#000\" opacity=\"1\"/><text text-anchor=\"middle\" transform=\"translate(487.886248373993,15)\" font-family=\"sans-serif\" font-size=\"10px\" fill=\"#000\" opacity=\"1\"/><text text-anchor=\"middle\" transform=\"translate(494.2803136799157,15)\" font-family=\"sans-serif\" font-size=\"10px\" fill=\"#000\" opacity=\"1\"/><text text-anchor=\"end\" transform=\"translate(500,15)\" font-family=\"sans-serif\" font-size=\"10px\" fill=\"#000\" opacity=\"1\">1,000,000</text></g><g class=\"mark-rule role-axis-domain\" pointer-events=\"none\"><line transform=\"translate(0,0)\" x2=\"500\" y2=\"0\" stroke=\"#888\" stroke-width=\"1\" opacity=\"1\"/></g><g class=\"mark-text role-axis-title\" pointer-events=\"none\"><text text-anchor=\"middle\" transform=\"translate(250,30)\" font-family=\"sans-serif\" font-size=\"11px\" font-weight=\"bold\" fill=\"#000\" opacity=\"1\">income</text></g></g><path class=\"foreground\" aria-hidden=\"true\" d=\"\" pointer-events=\"none\" display=\"none\"/></g></g><g class=\"mark-group role-axis\" role=\"graphics-symbol\" aria-roledescription=\"axis\" aria-label=\"Y-axis titled 'health' for a linear scale with values from 45 to 85\"><g transform=\"translate(0.5,0.5)\"><path class=\"background\" aria-hidden=\"true\" d=\"M0,0h0v0h0Z\" pointer-events=\"none\"/><g><g class=\"mark-rule role-axis-tick\" pointer-events=\"none\"><line transform=\"translate(0,300)\" x2=\"-5\" y2=\"0\" stroke=\"#888\" stroke-width=\"1\" opacity=\"1\"/><line transform=\"translate(0,263)\" x2=\"-5\" y2=\"0\" stroke=\"#888\" stroke-width=\"1\" opacity=\"1\"/><line transform=\"translate(0,225)\" x2=\"-5\" y2=\"0\" stroke=\"#888\" stroke-width=\"1\" opacity=\"1\"/><line transform=\"translate(0,188)\" x2=\"-5\" y2=\"0\" stroke=\"#888\" stroke-width=\"1\" opacity=\"1\"/><line transform=\"translate(0,150)\" x2=\"-5\" y2=\"0\" stroke=\"#888\" stroke-width=\"1\" opacity=\"1\"/><line transform=\"translate(0,113)\" x2=\"-5\" y2=\"0\" stroke=\"#888\" stroke-width=\"1\" opacity=\"1\"/><line transform=\"translate(0,75)\" x2=\"-5\" y2=\"0\" stroke=\"#888\" stroke-width=\"1\" opacity=\"1\"/><line transform=\"translate(0,38)\" x2=\"-5\" y2=\"0\" stroke=\"#888\" stroke-width=\"1\" opacity=\"1\"/><line transform=\"translate(0,0)\" x2=\"-5\" y2=\"0\" stroke=\"#888\" stroke-width=\"1\" opacity=\"1\"/></g><g class=\"mark-text role-axis-label\" pointer-events=\"none\"><text text-anchor=\"end\" transform=\"translate(-7,303)\" font-family=\"sans-serif\" font-size=\"10px\" fill=\"#000\" opacity=\"1\">45</text><text text-anchor=\"end\" transform=\"translate(-7,265.5)\" font-family=\"sans-serif\" font-size=\"10px\" fill=\"#000\" opacity=\"1\">50</text><text text-anchor=\"end\" transform=\"translate(-7,228)\" font-family=\"sans-serif\" font-size=\"10px\" fill=\"#000\" opacity=\"1\">55</text><text text-anchor=\"end\" transform=\"translate(-7,190.5)\" font-family=\"sans-serif\" font-size=\"10px\" fill=\"#000\" opacity=\"1\">60</text><text text-anchor=\"end\" transform=\"translate(-7,153)\" font-family=\"sans-serif\" font-size=\"10px\" fill=\"#000\" opacity=\"1\">65</text><text text-anchor=\"end\" transform=\"translate(-7,115.5)\" font-family=\"sans-serif\" font-size=\"10px\" fill=\"#000\" opacity=\"1\">70</text><text text-anchor=\"end\" transform=\"translate(-7,78)\" font-family=\"sans-serif\" font-size=\"10px\" fill=\"#000\" opacity=\"1\">75</text><text text-anchor=\"end\" transform=\"translate(-7,40.5)\" font-family=\"sans-serif\" font-size=\"10px\" fill=\"#000\" opacity=\"1\">80</text><text text-anchor=\"end\" transform=\"translate(-7,3)\" font-family=\"sans-serif\" font-size=\"10px\" fill=\"#000\" opacity=\"1\">85</text></g><g class=\"mark-rule role-axis-domain\" pointer-events=\"none\"><line transform=\"translate(0,300)\" x2=\"0\" y2=\"-300\" stroke=\"#888\" stroke-width=\"1\" opacity=\"1\"/></g><g class=\"mark-text role-axis-title\" pointer-events=\"none\"><text text-anchor=\"middle\" transform=\"translate(-34,150) rotate(-90) translate(0,-2)\" font-family=\"sans-serif\" font-size=\"11px\" font-weight=\"bold\" fill=\"#000\" opacity=\"1\">health</text></g></g><path class=\"foreground\" aria-hidden=\"true\" d=\"\" pointer-events=\"none\" display=\"none\"/></g></g><g class=\"mark-symbol role-mark marks\" clip-path=\"url(#clip1)\" role=\"graphics-object\" aria-roledescription=\"symbol mark container\"><path aria-label=\"income: 1925; health: 57.63; population: 32526562\" role=\"graphics-symbol\" aria-roledescription=\"circle\" transform=\"translate(160.55384173056493,205.27499999999998)\" d=\"M1.461,0A1.461,1.461,0,1,1,-1.461,0A1.461,1.461,0,1,1,1.461,0\" fill=\"#000\" stroke-width=\"2\" opacity=\"0.7\"/><path aria-label=\"income: 10620; health: 76; population: 2896679\" role=\"graphics-symbol\" aria-roledescription=\"circle\" transform=\"translate(253.26556459318124,67.5)\" d=\"M0.436,0A0.436,0.436,0,1,1,-0.436,0A0.436,0.436,0,1,1,0.436,0\" fill=\"#000\" stroke-width=\"2\" opacity=\"0.7\"/><path aria-label=\"income: 13434; health: 76.5; population: 39666519\" role=\"graphics-symbol\" aria-roledescription=\"circle\" transform=\"translate(266.02566799533423,63.75000000000001)\" d=\"M1.613,0A1.613,1.613,0,1,1,-1.613,0A1.613,1.613,0,1,1,1.613,0\" fill=\"#000\" stroke-width=\"2\" opacity=\"0.7\"/><path aria-label=\"income: 46577; health: 84.1; population: 70473\" role=\"graphics-symbol\" aria-roledescription=\"circle\" transform=\"translate(333.52143905262403,6.750000000000056)\" d=\"M0.068,0A0.068,0.068,0,1,1,-0.068,0A0.068,0.068,0,1,1,0.068,0\" fill=\"#000\" stroke-width=\"2\" opacity=\"0.7\"/><path aria-label=\"income: 7615; health: 61; population: 25021974\" role=\"graphics-symbol\" aria-roledescription=\"circle\" transform=\"translate(235.2087384590077,180)\" d=\"M1.281,0A1.281,1.281,0,1,1,-1.281,0A1.281,1.281,0,1,1,1.281,0\" fill=\"#000\" stroke-width=\"2\" opacity=\"0.7\"/><path aria-label=\"income: 21049; health: 75.2; population: 91818\" role=\"graphics-symbol\" aria-roledescription=\"circle\" transform=\"translate(290.40393351434676,73.49999999999997)\" d=\"M0.078,0A0.078,0.078,0,1,1,-0.078,0A0.078,0.078,0,1,1,0.078,0\" fill=\"#000\" stroke-width=\"2\" opacity=\"0.7\"/><path aria-label=\"income: 17344; health: 76.2; population: 43416755\" role=\"graphics-symbol\" aria-roledescription=\"circle\" transform=\"translate(279.8936581072867,65.99999999999999)\" d=\"M1.687,0A1.687,1.687,0,1,1,-1.687,0A1.687,1.687,0,1,1,1.687,0\" fill=\"#000\" stroke-width=\"2\" opacity=\"0.7\"/><path aria-label=\"income: 7763; health: 74.4; population: 3017712\" role=\"graphics-symbol\" aria-roledescription=\"circle\" transform=\"translate(236.2536982704271,79.49999999999997)\" d=\"M0.445,0A0.445,0.445,0,1,1,-0.445,0A0.445,0.445,0,1,1,0.445,0\" fill=\"#000\" stroke-width=\"2\" opacity=\"0.7\"/><path aria-label=\"income: 44056; health: 81.8; population: 23968973\" role=\"graphics-symbol\" aria-roledescription=\"circle\" transform=\"translate(330.50063293415326,24.00000000000002)\" d=\"M1.254,0A1.254,1.254,0,1,1,-1.254,0A1.254,1.254,0,1,1,1.254,0\" fill=\"#000\" stroke-width=\"2\" opacity=\"0.7\"/><path aria-label=\"income: 44401; health: 81; population: 8544586\" role=\"graphics-symbol\" aria-roledescription=\"circle\" transform=\"translate(330.92409392646505,29.999999999999993)\" d=\"M0.749,0A0.749,0.749,0,1,1,-0.749,0A0.749,0.749,0,1,1,0.749,0\" fill=\"#000\" stroke-width=\"2\" opacity=\"0.7\"/><path aria-label=\"income: 16986; health: 72.9; population: 9753968\" role=\"graphics-symbol\" aria-roledescription=\"circle\" transform=\"translate(278.76138996859333,90.74999999999996)\" d=\"M0.8,0A0.8,0.8,0,1,1,-0.8,0A0.8,0.8,0,1,1,0.8,0\" fill=\"#000\" stroke-width=\"2\" opacity=\"0.7\"/><path aria-label=\"income: 22818; health: 72.3; population: 388019\" role=\"graphics-symbol\" aria-roledescription=\"circle\" transform=\"translate(294.7846969744033,95.25000000000003)\" d=\"M0.16,0A0.16,0.16,0,1,1,-0.16,0A0.16,0.16,0,1,1,0.16,0\" fill=\"#000\" stroke-width=\"2\" opacity=\"0.7\"/><path aria-label=\"income: 44138; health: 79.2; population: 1377237\" role=\"graphics-symbol\" aria-roledescription=\"circle\" transform=\"translate(330.60158129168883,43.49999999999997)\" d=\"M0.301,0A0.301,0.301,0,1,1,-0.301,0A0.301,0.301,0,1,1,0.301,0\" fill=\"#000\" stroke-width=\"2\" opacity=\"0.7\"/><path aria-label=\"income: 3161; health: 70.1; population: 160995642\" role=\"graphics-symbol\" aria-roledescription=\"circle\" transform=\"translate(187.47806197994748,111.75000000000004)\" d=\"M3.249,0A3.249,3.249,0,1,1,-3.249,0A3.249,3.249,0,1,1,3.249,0\" fill=\"#000\" stroke-width=\"2\" opacity=\"0.7\"/><path aria-label=\"income: 12984; health: 75.8; population: 284215\" role=\"graphics-symbol\" aria-roledescription=\"circle\" transform=\"translate(264.17606335227197,69.00000000000003)\" d=\"M0.137,0A0.137,0.137,0,1,1,-0.137,0A0.137,0.137,0,1,1,0.137,0\" fill=\"#000\" stroke-width=\"2\" opacity=\"0.7\"/><path aria-label=\"income: 17415; health: 70.4; population: 9495826\" role=\"graphics-symbol\" aria-roledescription=\"circle\" transform=\"translate(280.1154348492819,109.49999999999996)\" d=\"M0.789,0A0.789,0.789,0,1,1,-0.789,0A0.789,0.789,0,1,1,0.789,0\" fill=\"#000\" stroke-width=\"2\" opacity=\"0.7\"/><path aria-label=\"income: 41240; health: 80.4; population: 11299192\" role=\"graphics-symbol\" aria-roledescription=\"circle\" transform=\"translate(326.9148320764349,34.499999999999964)\" d=\"M0.861,0A0.861,0.861,0,1,1,-0.861,0A0.861,0.861,0,1,1,0.861,0\" fill=\"#000\" stroke-width=\"2\" opacity=\"0.7\"/><path aria-label=\"income: 8501; health: 70; population: 359287\" role=\"graphics-symbol\" aria-roledescription=\"circle\" transform=\"translate(241.18375202218624,112.5)\" d=\"M0.154,0A0.154,0.154,0,1,1,-0.154,0A0.154,0.154,0,1,1,0.154,0\" fill=\"#000\" stroke-width=\"2\" opacity=\"0.7\"/><path aria-label=\"income: 1830; health: 65.5; population: 10879829\" role=\"graphics-symbol\" aria-roledescription=\"circle\" transform=\"translate(157.80638621630365,146.25)\" d=\"M0.845,0A0.845,0.845,0,1,1,-0.845,0A0.845,0.845,0,1,1,0.845,0\" fill=\"#000\" stroke-width=\"2\" opacity=\"0.7\"/><path aria-label=\"income: 7983; health: 70.2; population: 774830\" role=\"graphics-symbol\" aria-roledescription=\"circle\" transform=\"translate(237.77076615888143,110.99999999999997)\" d=\"M0.225,0A0.225,0.225,0,1,1,-0.225,0A0.225,0.225,0,1,1,0.225,0\" fill=\"#000\" stroke-width=\"2\" opacity=\"0.7\"/><path aria-label=\"income: 6295; health: 72.3; population: 10724705\" role=\"graphics-symbol\" aria-roledescription=\"circle\" transform=\"translate(224.87446680548518,95.25000000000003)\" d=\"M0.839,0A0.839,0.839,0,1,1,-0.839,0A0.839,0.839,0,1,1,0.839,0\" fill=\"#000\" stroke-width=\"2\" opacity=\"0.7\"/><path aria-label=\"income: 9833; health: 77.9; population: 3810416\" role=\"graphics-symbol\" aria-roledescription=\"circle\" transform=\"translate(249.085754895266,53.249999999999964)\" d=\"M0.5,0A0.5,0.5,0,1,1,-0.5,0A0.5,0.5,0,1,1,0.5,0\" fill=\"#000\" stroke-width=\"2\" opacity=\"0.7\"/><path aria-label=\"income: 17196; health: 66.4; population: 2262485\" role=\"graphics-symbol\" aria-roledescription=\"circle\" transform=\"translate(279.42842955562116,139.49999999999994)\" d=\"M0.385,0A0.385,0.385,0,1,1,-0.385,0A0.385,0.385,0,1,1,0.385,0\" fill=\"#000\" stroke-width=\"2\" opacity=\"0.7\"/><path aria-label=\"income: 15441; health: 75.6; population: 207847528\" role=\"graphics-symbol\" aria-roledescription=\"circle\" transform=\"translate(273.584427871229,70.50000000000003)\" d=\"M3.692,0A3.692,3.692,0,1,1,-3.692,0A3.692,3.692,0,1,1,3.692,0\" fill=\"#000\" stroke-width=\"2\" opacity=\"0.7\"/><path aria-label=\"income: 73003; health: 78.7; population: 423188\" role=\"graphics-symbol\" aria-roledescription=\"circle\" transform=\"translate(357.91758843402084,47.24999999999999)\" d=\"M0.167,0A0.167,0.167,0,1,1,-0.167,0A0.167,0.167,0,1,1,0.167,0\" fill=\"#000\" stroke-width=\"2\" opacity=\"0.7\"/><path aria-label=\"income: 16371; health: 74.9; population: 7149787\" role=\"graphics-symbol\" aria-roledescription=\"circle\" transform=\"translate(276.75940106285105,75.74999999999996)\" d=\"M0.685,0A0.685,0.685,0,1,1,-0.685,0A0.685,0.685,0,1,1,0.685,0\" fill=\"#000\" stroke-width=\"2\" opacity=\"0.7\"/><path aria-label=\"income: 1654; health: 62.8; population: 18105570\" role=\"graphics-symbol\" aria-roledescription=\"circle\" transform=\"translate(152.31693815206597,166.50000000000003)\" d=\"M1.09,0A1.09,1.09,0,1,1,-1.09,0A1.09,1.09,0,1,1,1.09,0\" fill=\"#000\" stroke-width=\"2\" opacity=\"0.7\"/><path aria-label=\"income: 777; health: 60.4; population: 11178921\" role=\"graphics-symbol\" aria-roledescription=\"circle\" transform=\"translate(111.30262735011428,184.5)\" d=\"M0.856,0A0.856,0.856,0,1,1,-0.856,0A0.856,0.856,0,1,1,0.856,0\" fill=\"#000\" stroke-width=\"2\" opacity=\"0.7\"/><path aria-label=\"income: 3267; health: 68.4; population: 15577899\" role=\"graphics-symbol\" aria-roledescription=\"circle\" transform=\"translate(189.26864180942968,124.49999999999994)\" d=\"M1.011,0A1.011,1.011,0,1,1,-1.011,0A1.011,1.011,0,1,1,1.011,0\" fill=\"#000\" stroke-width=\"2\" opacity=\"0.7\"/><path aria-label=\"income: 2897; health: 59.5; population: 23344179\" role=\"graphics-symbol\" aria-roledescription=\"circle\" transform=\"translate(182.7435619004702,191.25)\" d=\"M1.237,0A1.237,1.237,0,1,1,-1.237,0A1.237,1.237,0,1,1,1.237,0\" fill=\"#000\" stroke-width=\"2\" opacity=\"0.7\"/><path aria-label=\"income: 43294; health: 81.7; population: 35939927\" role=\"graphics-symbol\" aria-roledescription=\"circle\" transform=\"translate(329.55346410119665,24.74999999999997)\" d=\"M1.535,0A1.535,1.535,0,1,1,-1.535,0A1.535,1.535,0,1,1,1.535,0\" fill=\"#000\" stroke-width=\"2\" opacity=\"0.7\"/><path aria-label=\"income: 6514; health: 74.6; population: 520502\" role=\"graphics-symbol\" aria-roledescription=\"circle\" transform=\"translate(226.7309692786068,78.00000000000004)\" d=\"M0.185,0A0.185,0.185,0,1,1,-0.185,0A0.185,0.185,0,1,1,0.185,0\" fill=\"#000\" stroke-width=\"2\" opacity=\"0.7\"/><path aria-label=\"income: 599; health: 53.8; population: 4900274\" role=\"graphics-symbol\" aria-roledescription=\"circle\" transform=\"translate(97.17835279866391,234)\" d=\"M0.567,0A0.567,0.567,0,1,1,-0.567,0A0.567,0.567,0,1,1,0.567,0\" fill=\"#000\" stroke-width=\"2\" opacity=\"0.7\"/><path aria-label=\"income: 2191; health: 57.7; population: 14037472\" role=\"graphics-symbol\" aria-roledescription=\"circle\" transform=\"translate(167.58029719508815,204.74999999999997)\" d=\"M0.96,0A0.96,0.96,0,1,1,-0.96,0A0.96,0.96,0,1,1,0.96,0\" fill=\"#000\" stroke-width=\"2\" opacity=\"0.7\"/><path aria-label=\"income: 22465; health: 79.3; population: 17948141\" role=\"graphics-symbol\" aria-roledescription=\"circle\" transform=\"translate(293.93830286613047,42.75000000000002)\" d=\"M1.085,0A1.085,1.085,0,1,1,-1.085,0A1.085,1.085,0,1,1,1.085,0\" fill=\"#000\" stroke-width=\"2\" opacity=\"0.7\"/><path aria-label=\"income: 13334; health: 76.9; population: 1376048943\" role=\"graphics-symbol\" aria-roledescription=\"circle\" transform=\"translate(265.62005634869314,60.74999999999997)\" d=\"M9.5,0A9.5,9.5,0,1,1,-9.5,0A9.5,9.5,0,1,1,9.5,0\" fill=\"#000\" stroke-width=\"2\" opacity=\"0.7\"/><path aria-label=\"income: 12761; health: 75.8; population: 48228704\" role=\"graphics-symbol\" aria-roledescription=\"circle\" transform=\"translate(263.23558858365413,69.00000000000003)\" d=\"M1.779,0A1.779,1.779,0,1,1,-1.779,0A1.779,1.779,0,1,1,1.779,0\" fill=\"#000\" stroke-width=\"2\" opacity=\"0.7\"/><path aria-label=\"income: 1472; health: 64.1; population: 788474\" role=\"graphics-symbol\" aria-roledescription=\"circle\" transform=\"translate(145.988476250185,156.75000000000006)\" d=\"M0.227,0A0.227,0.227,0,1,1,-0.227,0A0.227,0.227,0,1,1,0.227,0\" fill=\"#000\" stroke-width=\"2\" opacity=\"0.7\"/><path aria-label=\"income: 809; health: 58.3; population: 77266814\" role=\"graphics-symbol\" aria-roledescription=\"circle\" transform=\"translate(113.493565201534,200.25000000000003)\" d=\"M2.251,0A2.251,2.251,0,1,1,-2.251,0A2.251,2.251,0,1,1,2.251,0\" fill=\"#000\" stroke-width=\"2\" opacity=\"0.7\"/><path aria-label=\"income: 6220; health: 61.9; population: 4620330\" role=\"graphics-symbol\" aria-roledescription=\"circle\" transform=\"translate(224.22379808635233,173.25)\" d=\"M0.55,0A0.55,0.55,0,1,1,-0.55,0A0.55,0.55,0,1,1,0.55,0\" fill=\"#000\" stroke-width=\"2\" opacity=\"0.7\"/><path aria-label=\"income: 14132; health: 80; population: 4807850\" role=\"graphics-symbol\" aria-roledescription=\"circle\" transform=\"translate(268.77545359535094,37.5)\" d=\"M0.562,0A0.562,0.562,0,1,1,-0.562,0A0.562,0.562,0,1,1,0.562,0\" fill=\"#000\" stroke-width=\"2\" opacity=\"0.7\"/><path aria-label=\"income: 3491; health: 60.33; population: 22701556\" role=\"graphics-symbol\" aria-roledescription=\"circle\" transform=\"translate(192.8687311017724,185.025)\" d=\"M1.22,0A1.22,1.22,0,1,1,-1.22,0A1.22,1.22,0,1,1,1.22,0\" fill=\"#000\" stroke-width=\"2\" opacity=\"0.7\"/><path aria-label=\"income: 20260; health: 78; population: 4240317\" role=\"graphics-symbol\" aria-roledescription=\"circle\" transform=\"translate(288.3299301280327,52.500000000000014)\" d=\"M0.527,0A0.527,0.527,0,1,1,-0.527,0A0.527,0.527,0,1,1,0.527,0\" fill=\"#000\" stroke-width=\"2\" opacity=\"0.7\"/><path aria-label=\"income: 21291; health: 78.5; population: 11389562\" role=\"graphics-symbol\" aria-roledescription=\"circle\" transform=\"translate(291.0245074935686,48.74999999999999)\" d=\"M0.864,0A0.864,0.864,0,1,1,-0.864,0A0.864,0.864,0,1,1,0.864,0\" fill=\"#000\" stroke-width=\"2\" opacity=\"0.7\"/><path aria-label=\"income: 29797; health: 82.6; population: 1165300\" role=\"graphics-symbol\" aria-roledescription=\"circle\" transform=\"translate(309.2715676192991,18.00000000000005)\" d=\"M0.276,0A0.276,0.276,0,1,1,-0.276,0A0.276,0.276,0,1,1,0.276,0\" fill=\"#000\" stroke-width=\"2\" opacity=\"0.7\"/><path aria-label=\"income: 29437; health: 78.6; population: 10543186\" role=\"graphics-symbol\" aria-roledescription=\"circle\" transform=\"translate(308.61169348232687,48.00000000000004)\" d=\"M0.832,0A0.832,0.832,0,1,1,-0.832,0A0.832,0.832,0,1,1,0.832,0\" fill=\"#000\" stroke-width=\"2\" opacity=\"0.7\"/><path aria-label=\"income: 43495; health: 80.1; population: 5669081\" role=\"graphics-symbol\" aria-roledescription=\"circle\" transform=\"translate(329.80491689744355,36.75000000000005)\" d=\"M0.61,0A0.61,0.61,0,1,1,-0.61,0A0.61,0.61,0,1,1,0.61,0\" fill=\"#000\" stroke-width=\"2\" opacity=\"0.7\"/><path aria-label=\"income: 3139; health: 64.63; population: 887861\" role=\"graphics-symbol\" aria-roledescription=\"circle\" transform=\"translate(187.09891446250526,152.77500000000003)\" d=\"M0.241,0A0.241,0.241,0,1,1,-0.241,0A0.241,0.241,0,1,1,0.241,0\" fill=\"#000\" stroke-width=\"2\" opacity=\"0.7\"/><path aria-label=\"income: 10503; health: 74.6; population: 72680\" role=\"graphics-symbol\" aria-roledescription=\"circle\" transform=\"translate(252.6641706855869,78.00000000000004)\" d=\"M0.069,0A0.069,0.069,0,1,1,-0.069,0A0.069,0.069,0,1,1,0.069,0\" fill=\"#000\" stroke-width=\"2\" opacity=\"0.7\"/><path aria-label=\"income: 12837; health: 73.8; population: 10528391\" role=\"graphics-symbol\" aria-roledescription=\"circle\" transform=\"translate(263.55794265044943,84.00000000000001)\" d=\"M0.831,0A0.831,0.831,0,1,1,-0.831,0A0.831,0.831,0,1,1,0.831,0\" fill=\"#000\" stroke-width=\"2\" opacity=\"0.7\"/><path aria-label=\"income: 10996; health: 75.2; population: 16144363\" role=\"graphics-symbol\" aria-roledescription=\"circle\" transform=\"translate(255.1543413964289,73.49999999999997)\" d=\"M1.029,0A1.029,1.029,0,1,1,-1.029,0A1.029,1.029,0,1,1,1.029,0\" fill=\"#000\" stroke-width=\"2\" opacity=\"0.7\"/><path aria-label=\"income: 11031; health: 71.3; population: 91508084\" role=\"graphics-symbol\" aria-roledescription=\"circle\" transform=\"translate(255.32686057356557,102.75000000000001)\" d=\"M2.45,0A2.45,2.45,0,1,1,-2.45,0A2.45,2.45,0,1,1,2.45,0\" fill=\"#000\" stroke-width=\"2\" opacity=\"0.7\"/><path aria-label=\"income: 7776; health: 74.1; population: 6126583\" role=\"graphics-symbol\" aria-roledescription=\"circle\" transform=\"translate(236.34453148977724,81.75000000000006)\" d=\"M0.634,0A0.634,0.634,0,1,1,-0.634,0A0.634,0.634,0,1,1,0.634,0\" fill=\"#000\" stroke-width=\"2\" opacity=\"0.7\"/><path aria-label=\"income: 31087; health: 60.63; population: 845060\" role=\"graphics-symbol\" aria-roledescription=\"circle\" transform=\"translate(311.5723516484916,182.77499999999998)\" d=\"M0.235,0A0.235,0.235,0,1,1,-0.235,0A0.235,0.235,0,1,1,0.235,0\" fill=\"#000\" stroke-width=\"2\" opacity=\"0.7\"/><path aria-label=\"income: 1129; health: 62.9; population: 5227791\" role=\"graphics-symbol\" aria-roledescription=\"circle\" transform=\"translate(131.58674274062096,165.75)\" d=\"M0.586,0A0.586,0.586,0,1,1,-0.586,0A0.586,0.586,0,1,1,0.586,0\" fill=\"#000\" stroke-width=\"2\" opacity=\"0.7\"/><path aria-label=\"income: 26812; health: 76.8; population: 1312558\" role=\"graphics-symbol\" aria-roledescription=\"circle\" transform=\"translate(303.5411513402111,61.50000000000002)\" d=\"M0.293,0A0.293,0.293,0,1,1,-0.293,0A0.293,0.293,0,1,1,0.293,0\" fill=\"#000\" stroke-width=\"2\" opacity=\"0.7\"/><path aria-label=\"income: 1520; health: 63.6; population: 99390750\" role=\"graphics-symbol\" aria-roledescription=\"circle\" transform=\"translate(147.7304484930966,160.49999999999997)\" d=\"M2.553,0A2.553,2.553,0,1,1,-2.553,0A2.553,2.553,0,1,1,2.553,0\" fill=\"#000\" stroke-width=\"2\" opacity=\"0.7\"/><path aria-label=\"income: 7925; health: 66.3; population: 892145\" role=\"graphics-symbol\" aria-roledescription=\"circle\" transform=\"translate(237.37490886122364,140.25)\" d=\"M0.242,0A0.242,0.242,0,1,1,-0.242,0A0.242,0.242,0,1,1,0.242,0\" fill=\"#000\" stroke-width=\"2\" opacity=\"0.7\"/><path aria-label=\"income: 38923; health: 80.8; population: 5503457\" role=\"graphics-symbol\" aria-roledescription=\"circle\" transform=\"translate(323.775788280328,31.50000000000003)\" d=\"M0.601,0A0.601,0.601,0,1,1,-0.601,0A0.601,0.601,0,1,1,0.601,0\" fill=\"#000\" stroke-width=\"2\" opacity=\"0.7\"/><path aria-label=\"income: 37599; health: 81.9; population: 64395345\" role=\"graphics-symbol\" aria-roledescription=\"circle\" transform=\"translate(321.89703679861327,23.24999999999997)\" d=\"M2.055,0A2.055,2.055,0,1,1,-2.055,0A2.055,2.055,0,1,1,2.055,0\" fill=\"#000\" stroke-width=\"2\" opacity=\"0.7\"/><path aria-label=\"income: 18627; health: 60.53; population: 1725292\" role=\"graphics-symbol\" aria-roledescription=\"circle\" transform=\"translate(283.76786432070566,183.525)\" d=\"M0.336,0A0.336,0.336,0,1,1,-0.336,0A0.336,0.336,0,1,1,0.336,0\" fill=\"#000\" stroke-width=\"2\" opacity=\"0.7\"/><path aria-label=\"income: 1644; health: 65.1; population: 1990924\" role=\"graphics-symbol\" aria-roledescription=\"circle\" transform=\"translate(151.98772665050393,149.25000000000006)\" d=\"M0.361,0A0.361,0.361,0,1,1,-0.361,0A0.361,0.361,0,1,1,0.361,0\" fill=\"#000\" stroke-width=\"2\" opacity=\"0.7\"/><path aria-label=\"income: 7474; health: 73.3; population: 3999812\" role=\"graphics-symbol\" aria-roledescription=\"circle\" transform=\"translate(234.1941366892024,87.75000000000003)\" d=\"M0.512,0A0.512,0.512,0,1,1,-0.512,0A0.512,0.512,0,1,1,0.512,0\" fill=\"#000\" stroke-width=\"2\" opacity=\"0.7\"/><path aria-label=\"income: 44053; health: 81.1; population: 80688545\" role=\"graphics-symbol\" aria-roledescription=\"circle\" transform=\"translate(330.49693613971056,29.250000000000043)\" d=\"M2.3,0A2.3,2.3,0,1,1,-2.3,0A2.3,2.3,0,1,1,2.3,0\" fill=\"#000\" stroke-width=\"2\" opacity=\"0.7\"/><path aria-label=\"income: 4099; health: 65.5; population: 27409893\" role=\"graphics-symbol\" aria-roledescription=\"circle\" transform=\"translate(201.58473978956275,146.25)\" d=\"M1.341,0A1.341,1.341,0,1,1,-1.341,0A1.341,1.341,0,1,1,1.341,0\" fill=\"#000\" stroke-width=\"2\" opacity=\"0.7\"/><path aria-label=\"income: 25430; health: 79.8; population: 10954617\" role=\"graphics-symbol\" aria-roledescription=\"circle\" transform=\"translate(300.6682950219636,39.000000000000036)\" d=\"M0.848,0A0.848,0.848,0,1,1,-0.848,0A0.848,0.848,0,1,1,0.848,0\" fill=\"#000\" stroke-width=\"2\" opacity=\"0.7\"/><path aria-label=\"income: 11593; health: 71.7; population: 106825\" role=\"graphics-symbol\" aria-roledescription=\"circle\" transform=\"translate(258.0244794830803,99.74999999999997)\" d=\"M0.084,0A0.084,0.084,0,1,1,-0.084,0A0.084,0.084,0,1,1,0.084,0\" fill=\"#000\" stroke-width=\"2\" opacity=\"0.7\"/><path aria-label=\"income: 7279; health: 73.1; population: 16342897\" role=\"graphics-symbol\" aria-roledescription=\"circle\" transform=\"translate(232.75896492249927,89.25000000000003)\" d=\"M1.035,0A1.035,1.035,0,1,1,-1.035,0A1.035,1.035,0,1,1,1.035,0\" fill=\"#000\" stroke-width=\"2\" opacity=\"0.7\"/><path aria-label=\"income: 1225; health: 60.8; population: 12608590\" role=\"graphics-symbol\" aria-roledescription=\"circle\" transform=\"translate(136.0170110875689,181.50000000000003)\" d=\"M0.909,0A0.909,0.909,0,1,1,-0.909,0A0.909,0.909,0,1,1,0.909,0\" fill=\"#000\" stroke-width=\"2\" opacity=\"0.7\"/><path aria-label=\"income: 1386; health: 53.4; population: 1844325\" role=\"graphics-symbol\" aria-roledescription=\"circle\" transform=\"translate(142.7204037844735,237)\" d=\"M0.348,0A0.348,0.348,0,1,1,-0.348,0A0.348,0.348,0,1,1,0.348,0\" fill=\"#000\" stroke-width=\"2\" opacity=\"0.7\"/><path aria-label=\"income: 6816; health: 64.4; population: 767085\" role=\"graphics-symbol\" aria-roledescription=\"circle\" transform=\"translate(229.1911977198305,154.49999999999997)\" d=\"M0.224,0A0.224,0.224,0,1,1,-0.224,0A0.224,0.224,0,1,1,0.224,0\" fill=\"#000\" stroke-width=\"2\" opacity=\"0.7\"/><path aria-label=\"income: 1710; health: 65.3; population: 10711067\" role=\"graphics-symbol\" aria-roledescription=\"circle\" transform=\"translate(154.1245137990192,147.75000000000003)\" d=\"M0.838,0A0.838,0.838,0,1,1,-0.838,0A0.838,0.838,0,1,1,0.838,0\" fill=\"#000\" stroke-width=\"2\" opacity=\"0.7\"/><path aria-label=\"income: 4270; health: 72.4; population: 8075060\" role=\"graphics-symbol\" aria-roledescription=\"circle\" transform=\"translate(203.80348437812802,94.49999999999996)\" d=\"M0.728,0A0.728,0.728,0,1,1,-0.728,0A0.728,0.728,0,1,1,0.728,0\" fill=\"#000\" stroke-width=\"2\" opacity=\"0.7\"/><path aria-label=\"income: 24200; health: 76.2; population: 9855023\" role=\"graphics-symbol\" aria-roledescription=\"circle\" transform=\"translate(297.97692074755395,65.99999999999999)\" d=\"M0.804,0A0.804,0.804,0,1,1,-0.804,0A0.804,0.804,0,1,1,0.804,0\" fill=\"#000\" stroke-width=\"2\" opacity=\"0.7\"/><path aria-label=\"income: 42182; health: 82.8; population: 329425\" role=\"graphics-symbol\" aria-roledescription=\"circle\" transform=\"translate(328.1408959189494,16.500000000000014)\" d=\"M0.147,0A0.147,0.147,0,1,1,-0.147,0A0.147,0.147,0,1,1,0.147,0\" fill=\"#000\" stroke-width=\"2\" opacity=\"0.7\"/><path aria-label=\"income: 5903; health: 66.8; population: 1311050527\" role=\"graphics-symbol\" aria-roledescription=\"circle\" transform=\"translate(221.38409790264933,136.50000000000003)\" d=\"M9.273,0A9.273,9.273,0,1,1,-9.273,0A9.273,9.273,0,1,1,9.273,0\" fill=\"#000\" stroke-width=\"2\" opacity=\"0.7\"/><path aria-label=\"income: 10504; health: 70.9; population: 257563815\" role=\"graphics-symbol\" aria-roledescription=\"circle\" transform=\"translate(252.6693391351778,105.74999999999994)\" d=\"M4.11,0A4.11,4.11,0,1,1,-4.11,0A4.11,4.11,0,1,1,4.11,0\" fill=\"#000\" stroke-width=\"2\" opacity=\"0.7\"/><path aria-label=\"income: 15573; health: 78.5; population: 79109272\" role=\"graphics-symbol\" aria-roledescription=\"circle\" transform=\"translate(274.0465354498139,48.74999999999999)\" d=\"M2.278,0A2.278,2.278,0,1,1,-2.278,0A2.278,2.278,0,1,1,2.278,0\" fill=\"#000\" stroke-width=\"2\" opacity=\"0.7\"/><path aria-label=\"income: 14646; health: 72.1; population: 36423395\" role=\"graphics-symbol\" aria-roledescription=\"circle\" transform=\"translate(270.71487872510403,96.75000000000004)\" d=\"M1.546,0A1.546,1.546,0,1,1,-1.546,0A1.546,1.546,0,1,1,1.546,0\" fill=\"#000\" stroke-width=\"2\" opacity=\"0.7\"/><path aria-label=\"income: 47758; health: 80.4; population: 4688465\" role=\"graphics-symbol\" aria-roledescription=\"circle\" transform=\"translate(334.8807664005524,34.499999999999964)\" d=\"M0.555,0A0.555,0.555,0,1,1,-0.555,0A0.555,0.555,0,1,1,0.555,0\" fill=\"#000\" stroke-width=\"2\" opacity=\"0.7\"/><path aria-label=\"income: 31590; health: 82.4; population: 8064036\" role=\"graphics-symbol\" aria-roledescription=\"circle\" transform=\"translate(312.4437032381436,19.49999999999995)\" d=\"M0.727,0A0.727,0.727,0,1,1,-0.727,0A0.727,0.727,0,1,1,0.727,0\" fill=\"#000\" stroke-width=\"2\" opacity=\"0.7\"/><path aria-label=\"income: 33297; health: 82.1; population: 59797685\" role=\"graphics-symbol\" aria-roledescription=\"circle\" transform=\"translate(315.30063826434974,21.750000000000036)\" d=\"M1.98,0A1.98,1.98,0,1,1,-1.98,0A1.98,1.98,0,1,1,1.98,0\" fill=\"#000\" stroke-width=\"2\" opacity=\"0.7\"/><path aria-label=\"income: 8606; health: 75.5; population: 2793335\" role=\"graphics-symbol\" aria-roledescription=\"circle\" transform=\"translate(241.85016771831707,71.25000000000001)\" d=\"M0.428,0A0.428,0.428,0,1,1,-0.428,0A0.428,0.428,0,1,1,0.428,0\" fill=\"#000\" stroke-width=\"2\" opacity=\"0.7\"/><path aria-label=\"income: 36162; health: 83.5; population: 126573481\" role=\"graphics-symbol\" aria-roledescription=\"circle\" transform=\"translate(319.78155523144443,11.249999999999993)\" d=\"M2.881,0A2.881,2.881,0,1,1,-2.881,0A2.881,2.881,0,1,1,2.881,0\" fill=\"#000\" stroke-width=\"2\" opacity=\"0.7\"/><path aria-label=\"income: 11752; health: 78.3; population: 7594547\" role=\"graphics-symbol\" aria-roledescription=\"circle\" transform=\"translate(258.76397284777505,50.25000000000003)\" d=\"M0.706,0A0.706,0.706,0,1,1,-0.706,0A0.706,0.706,0,1,1,0.706,0\" fill=\"#000\" stroke-width=\"2\" opacity=\"0.7\"/><path aria-label=\"income: 23468; health: 68.2; population: 17625226\" role=\"graphics-symbol\" aria-roledescription=\"circle\" transform=\"translate(296.30950994303674,125.99999999999997)\" d=\"M1.075,0A1.075,1.075,0,1,1,-1.075,0A1.075,1.075,0,1,1,1.075,0\" fill=\"#000\" stroke-width=\"2\" opacity=\"0.7\"/><path aria-label=\"income: 2898; health: 66.63; population: 46050302\" role=\"graphics-symbol\" aria-roledescription=\"circle\" transform=\"translate(182.76229764189446,137.77500000000003)\" d=\"M1.738,0A1.738,1.738,0,1,1,-1.738,0A1.738,1.738,0,1,1,1.738,0\" fill=\"#000\" stroke-width=\"2\" opacity=\"0.7\"/><path aria-label=\"income: 1824; health: 62.4; population: 112423\" role=\"graphics-symbol\" aria-roledescription=\"circle\" transform=\"translate(157.62810424904964,169.50000000000003)\" d=\"M0.086,0A0.086,0.086,0,1,1,-0.086,0A0.086,0.086,0,1,1,0.086,0\" fill=\"#000\" stroke-width=\"2\" opacity=\"0.7\"/><path aria-label=\"income: 82633; health: 80.7; population: 3892115\" role=\"graphics-symbol\" aria-roledescription=\"circle\" transform=\"translate(364.64419001884875,32.24999999999998)\" d=\"M0.505,0A0.505,0.505,0,1,1,-0.505,0A0.505,0.505,0,1,1,0.505,0\" fill=\"#000\" stroke-width=\"2\" opacity=\"0.7\"/><path aria-label=\"income: 3245; health: 69; population: 5939962\" role=\"graphics-symbol\" aria-roledescription=\"circle\" transform=\"translate(188.90183764204852,120)\" d=\"M0.624,0A0.624,0.624,0,1,1,-0.624,0A0.624,0.624,0,1,1,0.624,0\" fill=\"#000\" stroke-width=\"2\" opacity=\"0.7\"/><path aria-label=\"income: 5212; health: 66.4; population: 6802023\" role=\"graphics-symbol\" aria-roledescription=\"circle\" transform=\"translate(214.6255508800684,139.49999999999994)\" d=\"M0.668,0A0.668,0.668,0,1,1,-0.668,0A0.668,0.668,0,1,1,0.668,0\" fill=\"#000\" stroke-width=\"2\" opacity=\"0.7\"/><path aria-label=\"income: 23282; health: 75.7; population: 1970503\" role=\"graphics-symbol\" aria-roledescription=\"circle\" transform=\"translate(295.8775356122196,69.74999999999997)\" d=\"M0.359,0A0.359,0.359,0,1,1,-0.359,0A0.359,0.359,0,1,1,0.359,0\" fill=\"#000\" stroke-width=\"2\" opacity=\"0.7\"/><path aria-label=\"income: 17050; health: 78.5; population: 5850743\" role=\"graphics-symbol\" aria-roledescription=\"circle\" transform=\"translate(278.96554791606457,48.74999999999999)\" d=\"M0.619,0A0.619,0.619,0,1,1,-0.619,0A0.619,0.619,0,1,1,0.619,0\" fill=\"#000\" stroke-width=\"2\" opacity=\"0.7\"/><path aria-label=\"income: 2598; health: 48.5; population: 2135022\" role=\"graphics-symbol\" aria-roledescription=\"circle\" transform=\"translate(176.82989334212616,273.75)\" d=\"M0.374,0A0.374,0.374,0,1,1,-0.374,0A0.374,0.374,0,1,1,0.374,0\" fill=\"#000\" stroke-width=\"2\" opacity=\"0.7\"/><path aria-label=\"income: 958; health: 63.9; population: 4503438\" role=\"graphics-symbol\" aria-roledescription=\"circle\" transform=\"translate(122.67068863481803,158.25000000000003)\" d=\"M0.543,0A0.543,0.543,0,1,1,-0.543,0A0.543,0.543,0,1,1,0.543,0\" fill=\"#000\" stroke-width=\"2\" opacity=\"0.7\"/><path aria-label=\"income: 17261; health: 76.2; population: 6278438\" role=\"graphics-symbol\" aria-roledescription=\"circle\" transform=\"translate(279.63324406942553,65.99999999999999)\" d=\"M0.642,0A0.642,0.642,0,1,1,-0.642,0A0.642,0.642,0,1,1,0.642,0\" fill=\"#000\" stroke-width=\"2\" opacity=\"0.7\"/><path aria-label=\"income: 26665; health: 75.4; population: 2878405\" role=\"graphics-symbol\" aria-roledescription=\"circle\" transform=\"translate(303.242698502362,71.99999999999996)\" d=\"M0.434,0A0.434,0.434,0,1,1,-0.434,0A0.434,0.434,0,1,1,0.434,0\" fill=\"#000\" stroke-width=\"2\" opacity=\"0.7\"/><path aria-label=\"income: 88314; health: 81.1; population: 567110\" role=\"graphics-symbol\" aria-roledescription=\"circle\" transform=\"translate(368.2536944602123,29.250000000000043)\" d=\"M0.193,0A0.193,0.193,0,1,1,-0.193,0A0.193,0.193,0,1,1,0.193,0\" fill=\"#000\" stroke-width=\"2\" opacity=\"0.7\"/><path aria-label=\"income: 12547; health: 77; population: 2078453\" role=\"graphics-symbol\" aria-roledescription=\"circle\" transform=\"translate(262.31748724910767,59.999999999999986)\" d=\"M0.369,0A0.369,0.369,0,1,1,-0.369,0A0.369,0.369,0,1,1,0.369,0\" fill=\"#000\" stroke-width=\"2\" opacity=\"0.7\"/><path aria-label=\"income: 1400; health: 64.7; population: 24235390\" role=\"graphics-symbol\" aria-roledescription=\"circle\" transform=\"translate(143.26600445977974,152.24999999999997)\" d=\"M1.261,0A1.261,1.261,0,1,1,-1.261,0A1.261,1.261,0,1,1,1.261,0\" fill=\"#000\" stroke-width=\"2\" opacity=\"0.7\"/><path aria-label=\"income: 799; health: 60.22; population: 17215232\" role=\"graphics-symbol\" aria-roledescription=\"circle\" transform=\"translate(112.81834741424892,185.85000000000002)\" d=\"M1.063,0A1.063,1.063,0,1,1,-1.063,0A1.063,1.063,0,1,1,1.063,0\" fill=\"#000\" stroke-width=\"2\" opacity=\"0.7\"/><path aria-label=\"income: 24320; health: 75.1; population: 30331007\" role=\"graphics-symbol\" aria-roledescription=\"circle\" transform=\"translate(298.24544632508713,74.25000000000004)\" d=\"M1.41,0A1.41,1.41,0,1,1,-1.41,0A1.41,1.41,0,1,1,1.41,0\" fill=\"#000\" stroke-width=\"2\" opacity=\"0.7\"/><path aria-label=\"income: 14408; health: 79.5; population: 363657\" role=\"graphics-symbol\" aria-roledescription=\"circle\" transform=\"translate(269.8254624764346,41.249999999999986)\" d=\"M0.154,0A0.154,0.154,0,1,1,-0.154,0A0.154,0.154,0,1,1,0.154,0\" fill=\"#000\" stroke-width=\"2\" opacity=\"0.7\"/><path aria-label=\"income: 1684; health: 57.6; population: 17599694\" role=\"graphics-symbol\" aria-roledescription=\"circle\" transform=\"translate(153.29276089545382,205.49999999999997)\" d=\"M1.074,0A1.074,1.074,0,1,1,-1.074,0A1.074,1.074,0,1,1,1.074,0\" fill=\"#000\" stroke-width=\"2\" opacity=\"0.7\"/><path aria-label=\"income: 30265; health: 82.1; population: 418670\" role=\"graphics-symbol\" aria-roledescription=\"circle\" transform=\"translate(310.1175847810714,21.750000000000036)\" d=\"M0.166,0A0.166,0.166,0,1,1,-0.166,0A0.166,0.166,0,1,1,0.166,0\" fill=\"#000\" stroke-width=\"2\" opacity=\"0.7\"/><path aria-label=\"income: 3661; health: 65.1; population: 52993\" role=\"graphics-symbol\" aria-roledescription=\"circle\" transform=\"translate(195.44996611019135,149.25000000000006)\" d=\"M0.059,0A0.059,0.059,0,1,1,-0.059,0A0.059,0.059,0,1,1,0.059,0\" fill=\"#000\" stroke-width=\"2\" opacity=\"0.7\"/><path aria-label=\"income: 3877; health: 65.7; population: 4067564\" role=\"graphics-symbol\" aria-roledescription=\"circle\" transform=\"translate(198.5619751259012,144.74999999999997)\" d=\"M0.517,0A0.517,0.517,0,1,1,-0.517,0A0.517,0.517,0,1,1,0.517,0\" fill=\"#000\" stroke-width=\"2\" opacity=\"0.7\"/><path aria-label=\"income: 18350; health: 73.9; population: 1273212\" role=\"graphics-symbol\" aria-roledescription=\"circle\" transform=\"translate(282.9545085735135,83.24999999999996)\" d=\"M0.289,0A0.289,0.289,0,1,1,-0.289,0A0.289,0.289,0,1,1,0.289,0\" fill=\"#000\" stroke-width=\"2\" opacity=\"0.7\"/><path aria-label=\"income: 16850; health: 74.5; population: 127017224\" role=\"graphics-symbol\" aria-roledescription=\"circle\" transform=\"translate(278.3249881509197,78.74999999999999)\" d=\"M2.886,0A2.886,2.886,0,1,1,-2.886,0A2.886,2.886,0,1,1,2.886,0\" fill=\"#000\" stroke-width=\"2\" opacity=\"0.7\"/><path aria-label=\"income: 3510; health: 67; population: 104460\" role=\"graphics-symbol\" aria-roledescription=\"circle\" transform=\"translate(193.16338955822803,135)\" d=\"M0.083,0A0.083,0.083,0,1,1,-0.083,0A0.083,0.083,0,1,1,0.083,0\" fill=\"#000\" stroke-width=\"2\" opacity=\"0.7\"/><path aria-label=\"income: 4896; health: 72.7; population: 4068897\" role=\"graphics-symbol\" aria-roledescription=\"circle\" transform=\"translate(211.23017614218813,92.24999999999997)\" d=\"M0.517,0A0.517,0.517,0,1,1,-0.517,0A0.517,0.517,0,1,1,0.517,0\" fill=\"#000\" stroke-width=\"2\" opacity=\"0.7\"/><path aria-label=\"income: 11819; health: 65.3; population: 2959134\" role=\"graphics-symbol\" aria-roledescription=\"circle\" transform=\"translate(259.07259158111873,147.75000000000003)\" d=\"M0.441,0A0.441,0.441,0,1,1,-0.441,0A0.441,0.441,0,1,1,0.441,0\" fill=\"#000\" stroke-width=\"2\" opacity=\"0.7\"/><path aria-label=\"income: 14833; health: 75.8; population: 625781\" role=\"graphics-symbol\" aria-roledescription=\"circle\" transform=\"translate(271.40362459063147,69.00000000000003)\" d=\"M0.203,0A0.203,0.203,0,1,1,-0.203,0A0.203,0.203,0,1,1,0.203,0\" fill=\"#000\" stroke-width=\"2\" opacity=\"0.7\"/><path aria-label=\"income: 7319; health: 74.7; population: 34377511\" role=\"graphics-symbol\" aria-roledescription=\"circle\" transform=\"translate(233.05646839477288,77.24999999999999)\" d=\"M1.502,0A1.502,1.502,0,1,1,-1.502,0A1.502,1.502,0,1,1,1.502,0\" fill=\"#000\" stroke-width=\"2\" opacity=\"0.7\"/><path aria-label=\"income: 1176; health: 56.4; population: 27977863\" role=\"graphics-symbol\" aria-roledescription=\"circle\" transform=\"translate(133.80091521751496,214.50000000000003)\" d=\"M1.355,0A1.355,1.355,0,1,1,-1.355,0A1.355,1.355,0,1,1,1.355,0\" fill=\"#000\" stroke-width=\"2\" opacity=\"0.7\"/><path aria-label=\"income: 4012; health: 67.9; population: 53897154\" role=\"graphics-symbol\" aria-roledescription=\"circle\" transform=\"translate(200.42011554354758,128.24999999999997)\" d=\"M1.88,0A1.88,1.88,0,1,1,-1.88,0A1.88,1.88,0,1,1,1.88,0\" fill=\"#000\" stroke-width=\"2\" opacity=\"0.7\"/><path aria-label=\"income: 10040; health: 61; population: 2458830\" role=\"graphics-symbol\" aria-roledescription=\"circle\" transform=\"translate(250.216714101125,180)\" d=\"M0.402,0A0.402,0.402,0,1,1,-0.402,0A0.402,0.402,0,1,1,0.402,0\" fill=\"#000\" stroke-width=\"2\" opacity=\"0.7\"/><path aria-label=\"income: 2352; health: 71.2; population: 28513700\" role=\"graphics-symbol\" aria-roledescription=\"circle\" transform=\"translate(171.4296646755126,103.49999999999999)\" d=\"M1.368,0A1.368,1.368,0,1,1,-1.368,0A1.368,1.368,0,1,1,1.368,0\" fill=\"#000\" stroke-width=\"2\" opacity=\"0.7\"/><path aria-label=\"income: 45784; health: 80.6; population: 16924929\" role=\"graphics-symbol\" aria-roledescription=\"circle\" transform=\"translate(332.5892166125416,33.00000000000003)\" d=\"M1.054,0A1.054,1.054,0,1,1,-1.054,0A1.054,1.054,0,1,1,1.054,0\" fill=\"#000\" stroke-width=\"2\" opacity=\"0.7\"/><path aria-label=\"income: 34186; health: 80.6; population: 4528526\" role=\"graphics-symbol\" aria-roledescription=\"circle\" transform=\"translate(316.73103603641766,33.00000000000003)\" d=\"M0.545,0A0.545,0.545,0,1,1,-0.545,0A0.545,0.545,0,1,1,0.545,0\" fill=\"#000\" stroke-width=\"2\" opacity=\"0.7\"/><path aria-label=\"income: 4712; health: 76.8; population: 6082032\" role=\"graphics-symbol\" aria-roledescription=\"circle\" transform=\"translate(209.1506602223806,61.50000000000002)\" d=\"M0.632,0A0.632,0.632,0,1,1,-0.632,0A0.632,0.632,0,1,1,0.632,0\" fill=\"#000\" stroke-width=\"2\" opacity=\"0.7\"/><path aria-label=\"income: 943; health: 62.2; population: 19899120\" role=\"graphics-symbol\" aria-roledescription=\"circle\" transform=\"translate(121.81396159216604,170.99999999999997)\" d=\"M1.142,0A1.142,1.142,0,1,1,-1.142,0A1.142,1.142,0,1,1,1.142,0\" fill=\"#000\" stroke-width=\"2\" opacity=\"0.7\"/><path aria-label=\"income: 5727; health: 61.33; population: 182201962\" role=\"graphics-symbol\" aria-roledescription=\"circle\" transform=\"translate(219.74089788916615,177.525)\" d=\"M3.457,0A3.457,3.457,0,1,1,-3.457,0A3.457,3.457,0,1,1,3.457,0\" fill=\"#000\" stroke-width=\"2\" opacity=\"0.7\"/><path aria-label=\"income: 1390; health: 71.4; population: 25155317\" role=\"graphics-symbol\" aria-roledescription=\"circle\" transform=\"translate(142.87685003176188,101.99999999999996)\" d=\"M1.284,0A1.284,1.284,0,1,1,-1.284,0A1.284,1.284,0,1,1,1.284,0\" fill=\"#000\" stroke-width=\"2\" opacity=\"0.7\"/><path aria-label=\"income: 64304; health: 81.6; population: 5210967\" role=\"graphics-symbol\" aria-roledescription=\"circle\" transform=\"translate(351.02974860599494,25.500000000000057)\" d=\"M0.585,0A0.585,0.585,0,1,1,-0.585,0A0.585,0.585,0,1,1,0.585,0\" fill=\"#000\" stroke-width=\"2\" opacity=\"0.7\"/><path aria-label=\"income: 48226; health: 75.7; population: 4490541\" role=\"graphics-symbol\" aria-roledescription=\"circle\" transform=\"translate(335.4101552263207,69.74999999999997)\" d=\"M0.543,0A0.543,0.543,0,1,1,-0.543,0A0.543,0.543,0,1,1,0.543,0\" fill=\"#000\" stroke-width=\"2\" opacity=\"0.7\"/><path aria-label=\"income: 4743; health: 66.5; population: 188924874\" role=\"graphics-symbol\" aria-roledescription=\"circle\" transform=\"translate(209.50664058148396,138.75)\" d=\"M3.52,0A3.52,3.52,0,1,1,-3.52,0A3.52,3.52,0,1,1,3.52,0\" fill=\"#000\" stroke-width=\"2\" opacity=\"0.7\"/><path aria-label=\"income: 20485; health: 78.2; population: 3929141\" role=\"graphics-symbol\" aria-roledescription=\"circle\" transform=\"translate(288.92949603614517,50.99999999999998)\" d=\"M0.508,0A0.508,0.508,0,1,1,-0.508,0A0.508,0.508,0,1,1,0.508,0\" fill=\"#000\" stroke-width=\"2\" opacity=\"0.7\"/><path aria-label=\"income: 2529; health: 60.6; population: 7619321\" role=\"graphics-symbol\" aria-roledescription=\"circle\" transform=\"translate(175.3686036680506,183)\" d=\"M0.707,0A0.707,0.707,0,1,1,-0.707,0A0.707,0.707,0,1,1,0.707,0\" fill=\"#000\" stroke-width=\"2\" opacity=\"0.7\"/><path aria-label=\"income: 8219; health: 73.9; population: 6639123\" role=\"graphics-symbol\" aria-roledescription=\"circle\" transform=\"translate(239.3523725559341,83.24999999999996)\" d=\"M0.66,0A0.66,0.66,0,1,1,-0.66,0A0.66,0.66,0,1,1,0.66,0\" fill=\"#000\" stroke-width=\"2\" opacity=\"0.7\"/><path aria-label=\"income: 11903; health: 77.5; population: 31376670\" role=\"graphics-symbol\" aria-roledescription=\"circle\" transform=\"translate(259.4570541997418,56.25)\" d=\"M1.435,0A1.435,1.435,0,1,1,-1.435,0A1.435,1.435,0,1,1,1.435,0\" fill=\"#000\" stroke-width=\"2\" opacity=\"0.7\"/><path aria-label=\"income: 6876; health: 70.2; population: 100699395\" role=\"graphics-symbol\" aria-roledescription=\"circle\" transform=\"translate(229.6669835018769,110.99999999999997)\" d=\"M2.57,0A2.57,2.57,0,1,1,-2.57,0A2.57,2.57,0,1,1,2.57,0\" fill=\"#000\" stroke-width=\"2\" opacity=\"0.7\"/><path aria-label=\"income: 24787; health: 77.3; population: 38611794\" role=\"graphics-symbol\" aria-roledescription=\"circle\" transform=\"translate(299.277995846546,57.750000000000036)\" d=\"M1.591,0A1.591,1.591,0,1,1,-1.591,0A1.591,1.591,0,1,1,1.591,0\" fill=\"#000\" stroke-width=\"2\" opacity=\"0.7\"/><path aria-label=\"income: 26437; health: 79.8; population: 10349803\" role=\"graphics-symbol\" aria-roledescription=\"circle\" transform=\"translate(302.776521379278,39.000000000000036)\" d=\"M0.824,0A0.824,0.824,0,1,1,-0.824,0A0.824,0.824,0,1,1,0.824,0\" fill=\"#000\" stroke-width=\"2\" opacity=\"0.7\"/><path aria-label=\"income: 132877; health: 82; population: 2235355\" role=\"graphics-symbol\" aria-roledescription=\"circle\" transform=\"translate(390.4312267962423,22.499999999999986)\" d=\"M0.383,0A0.383,0.383,0,1,1,-0.383,0A0.383,0.383,0,1,1,0.383,0\" fill=\"#000\" stroke-width=\"2\" opacity=\"0.7\"/><path aria-label=\"income: 19203; health: 76.8; population: 19511324\" role=\"graphics-symbol\" aria-roledescription=\"circle\" transform=\"translate(285.42113523943164,61.50000000000002)\" d=\"M1.131,0A1.131,1.131,0,1,1,-1.131,0A1.131,1.131,0,1,1,1.131,0\" fill=\"#000\" stroke-width=\"2\" opacity=\"0.7\"/><path aria-label=\"income: 23038; health: 73.13; population: 143456918\" role=\"graphics-symbol\" aria-roledescription=\"circle\" transform=\"translate(295.30559674263185,89.02500000000002)\" d=\"M3.067,0A3.067,3.067,0,1,1,-3.067,0A3.067,3.067,0,1,1,3.067,0\" fill=\"#000\" stroke-width=\"2\" opacity=\"0.7\"/><path aria-label=\"income: 1549; health: 66.53; population: 11609666\" role=\"graphics-symbol\" aria-roledescription=\"circle\" transform=\"translate(148.75642721990073,138.525)\" d=\"M0.873,0A0.873,0.873,0,1,1,-0.873,0A0.873,0.873,0,1,1,0.873,0\" fill=\"#000\" stroke-width=\"2\" opacity=\"0.7\"/><path aria-label=\"income: 5558; health: 72.2; population: 193228\" role=\"graphics-symbol\" aria-roledescription=\"circle\" transform=\"translate(218.11481780516917,95.99999999999999)\" d=\"M0.113,0A0.113,0.113,0,1,1,-0.113,0A0.113,0.113,0,1,1,0.113,0\" fill=\"#000\" stroke-width=\"2\" opacity=\"0.7\"/><path aria-label=\"income: 3003; health: 68.8; population: 190344\" role=\"graphics-symbol\" aria-roledescription=\"circle\" transform=\"translate(184.6944165248726,121.50000000000001)\" d=\"M0.112,0A0.112,0.112,0,1,1,-0.112,0A0.112,0.112,0,1,1,0.112,0\" fill=\"#000\" stroke-width=\"2\" opacity=\"0.7\"/><path aria-label=\"income: 52469; health: 78.1; population: 31540372\" role=\"graphics-symbol\" aria-roledescription=\"circle\" transform=\"translate(339.9878483892377,51.75000000000003)\" d=\"M1.438,0A1.438,1.438,0,1,1,-1.438,0A1.438,1.438,0,1,1,1.438,0\" fill=\"#000\" stroke-width=\"2\" opacity=\"0.7\"/><path aria-label=\"income: 2251; health: 66.1; population: 15129273\" role=\"graphics-symbol\" aria-roledescription=\"circle\" transform=\"translate(169.046936875065,141.75000000000006)\" d=\"M0.996,0A0.996,0.996,0,1,1,-0.996,0A0.996,0.996,0,1,1,0.996,0\" fill=\"#000\" stroke-width=\"2\" opacity=\"0.7\"/><path aria-label=\"income: 12908; health: 78.1; population: 8850975\" role=\"graphics-symbol\" aria-roledescription=\"circle\" transform=\"translate(263.85736959148335,51.75000000000003)\" d=\"M0.762,0A0.762,0.762,0,1,1,-0.762,0A0.762,0.762,0,1,1,0.762,0\" fill=\"#000\" stroke-width=\"2\" opacity=\"0.7\"/><path aria-label=\"income: 25684; health: 73.7; population: 96471\" role=\"graphics-symbol\" aria-roledescription=\"circle\" transform=\"translate(301.20783265555707,84.74999999999999)\" d=\"M0.08,0A0.08,0.08,0,1,1,-0.08,0A0.08,0.08,0,1,1,0.08,0\" fill=\"#000\" stroke-width=\"2\" opacity=\"0.7\"/><path aria-label=\"income: 2085; health: 58.5; population: 6453184\" role=\"graphics-symbol\" aria-roledescription=\"circle\" transform=\"translate(164.88825741372204,198.75)\" d=\"M0.651,0A0.651,0.651,0,1,1,-0.651,0A0.651,0.651,0,1,1,0.651,0\" fill=\"#000\" stroke-width=\"2\" opacity=\"0.7\"/><path aria-label=\"income: 80794; health: 82.1; population: 5603740\" role=\"graphics-symbol\" aria-roledescription=\"circle\" transform=\"translate(363.4223887483626,21.750000000000036)\" d=\"M0.606,0A0.606,0.606,0,1,1,-0.606,0A0.606,0.606,0,1,1,0.606,0\" fill=\"#000\" stroke-width=\"2\" opacity=\"0.7\"/><path aria-label=\"income: 27204; health: 76.4; population: 5426258\" role=\"graphics-symbol\" aria-roledescription=\"circle\" transform=\"translate(304.32909577176775,64.49999999999996)\" d=\"M0.597,0A0.597,0.597,0,1,1,-0.597,0A0.597,0.597,0,1,1,0.597,0\" fill=\"#000\" stroke-width=\"2\" opacity=\"0.7\"/><path aria-label=\"income: 28550; health: 80.2; population: 2067526\" role=\"graphics-symbol\" aria-roledescription=\"circle\" transform=\"translate(306.95076407273336,35.999999999999964)\" d=\"M0.368,0A0.368,0.368,0,1,1,-0.368,0A0.368,0.368,0,1,1,0.368,0\" fill=\"#000\" stroke-width=\"2\" opacity=\"0.7\"/><path aria-label=\"income: 2047; health: 64.1; population: 583591\" role=\"graphics-symbol\" aria-roledescription=\"circle\" transform=\"translate(163.88973033281317,156.75000000000006)\" d=\"M0.196,0A0.196,0.196,0,1,1,-0.196,0A0.196,0.196,0,1,1,0.196,0\" fill=\"#000\" stroke-width=\"2\" opacity=\"0.7\"/><path aria-label=\"income: 624; health: 58.7; population: 10787104\" role=\"graphics-symbol\" aria-roledescription=\"circle\" transform=\"translate(99.398073710303,197.25)\" d=\"M0.841,0A0.841,0.841,0,1,1,-0.841,0A0.841,0.841,0,1,1,0.841,0\" fill=\"#000\" stroke-width=\"2\" opacity=\"0.7\"/><path aria-label=\"income: 12509; health: 63.72; population: 54490406\" role=\"graphics-symbol\" aria-roledescription=\"circle\" transform=\"translate(262.15282406498767,159.60000000000002)\" d=\"M1.89,0A1.89,1.89,0,1,1,-1.89,0A1.89,1.89,0,1,1,1.89,0\" fill=\"#000\" stroke-width=\"2\" opacity=\"0.7\"/><path aria-label=\"income: 34644; health: 80.7; population: 50293439\" role=\"graphics-symbol\" aria-roledescription=\"circle\" transform=\"translate(317.4535037410432,32.24999999999998)\" d=\"M1.816,0A1.816,1.816,0,1,1,-1.816,0A1.816,1.816,0,1,1,1.816,0\" fill=\"#000\" stroke-width=\"2\" opacity=\"0.7\"/><path aria-label=\"income: 3047; health: 58; population: 12339812\" role=\"graphics-symbol\" aria-roledescription=\"circle\" transform=\"translate(185.48405677783416,202.5)\" d=\"M0.9,0A0.9,0.9,0,1,1,-0.9,0A0.9,0.9,0,1,1,0.9,0\" fill=\"#000\" stroke-width=\"2\" opacity=\"0.7\"/><path aria-label=\"income: 32979; health: 81.7; population: 46121699\" role=\"graphics-symbol\" aria-roledescription=\"circle\" transform=\"translate(314.7796853361434,24.74999999999997)\" d=\"M1.739,0A1.739,1.739,0,1,1,-1.739,0A1.739,1.739,0,1,1,1.739,0\" fill=\"#000\" stroke-width=\"2\" opacity=\"0.7\"/><path aria-label=\"income: 10624; health: 76.5; population: 20715010\" role=\"graphics-symbol\" aria-roledescription=\"circle\" transform=\"translate(253.28600775299276,63.75000000000001)\" d=\"M1.166,0A1.166,1.166,0,1,1,-1.166,0A1.166,1.166,0,1,1,1.166,0\" fill=\"#000\" stroke-width=\"2\" opacity=\"0.7\"/><path aria-label=\"income: 9997; health: 74.5; population: 184999\" role=\"graphics-symbol\" aria-roledescription=\"circle\" transform=\"translate(249.9837115135335,78.74999999999999)\" d=\"M0.11,0A0.11,0.11,0,1,1,-0.11,0A0.11,0.11,0,1,1,0.11,0\" fill=\"#000\" stroke-width=\"2\" opacity=\"0.7\"/><path aria-label=\"income: 10435; health: 72.9; population: 109462\" role=\"graphics-symbol\" aria-roledescription=\"circle\" transform=\"translate(252.31155667518414,90.74999999999996)\" d=\"M0.085,0A0.085,0.085,0,1,1,-0.085,0A0.085,0.085,0,1,1,0.085,0\" fill=\"#000\" stroke-width=\"2\" opacity=\"0.7\"/><path aria-label=\"income: 3975; health: 69.5; population: 40234882\" role=\"graphics-symbol\" aria-roledescription=\"circle\" transform=\"translate(199.91714162406114,116.24999999999999)\" d=\"M1.624,0A1.624,1.624,0,1,1,-1.624,0A1.624,1.624,0,1,1,1.624,0\" fill=\"#000\" stroke-width=\"2\" opacity=\"0.7\"/><path aria-label=\"income: 17125; health: 70.5; population: 542975\" role=\"graphics-symbol\" aria-roledescription=\"circle\" transform=\"translate(279.20382252055794,108.75000000000001)\" d=\"M0.189,0A0.189,0.189,0,1,1,-0.189,0A0.189,0.189,0,1,1,0.189,0\" fill=\"#000\" stroke-width=\"2\" opacity=\"0.7\"/><path aria-label=\"income: 6095; health: 51.5; population: 1286970\" role=\"graphics-symbol\" aria-roledescription=\"circle\" transform=\"translate(223.12171374430005,251.25)\" d=\"M0.291,0A0.291,0.291,0,1,1,-0.291,0A0.291,0.291,0,1,1,0.291,0\" fill=\"#000\" stroke-width=\"2\" opacity=\"0.7\"/><path aria-label=\"income: 44892; health: 82; population: 9779426\" role=\"graphics-symbol\" aria-roledescription=\"circle\" transform=\"translate(331.52111928072867,22.499999999999986)\" d=\"M0.801,0A0.801,0.801,0,1,1,-0.801,0A0.801,0.801,0,1,1,0.801,0\" fill=\"#000\" stroke-width=\"2\" opacity=\"0.7\"/><path aria-label=\"income: 56118; health: 82.9; population: 8298663\" role=\"graphics-symbol\" aria-roledescription=\"circle\" transform=\"translate(343.63777309113345,15.749999999999964)\" d=\"M0.738,0A0.738,0.738,0,1,1,-0.738,0A0.738,0.738,0,1,1,0.738,0\" fill=\"#000\" stroke-width=\"2\" opacity=\"0.7\"/><path aria-label=\"income: 4637; health: 70.26; population: 18502413\" role=\"graphics-symbol\" aria-roledescription=\"circle\" transform=\"translate(208.2796369869756,110.54999999999995)\" d=\"M1.102,0A1.102,1.102,0,1,1,-1.102,0A1.102,1.102,0,1,1,1.102,0\" fill=\"#000\" stroke-width=\"2\" opacity=\"0.7\"/><path aria-label=\"income: 2582; health: 71; population: 8481855\" role=\"graphics-symbol\" aria-roledescription=\"circle\" transform=\"translate(176.4945297413002,105)\" d=\"M0.746,0A0.746,0.746,0,1,1,-0.746,0A0.746,0.746,0,1,1,0.746,0\" fill=\"#000\" stroke-width=\"2\" opacity=\"0.7\"/><path aria-label=\"income: 2571; health: 63.43; population: 53470420\" role=\"graphics-symbol\" aria-roledescription=\"circle\" transform=\"translate(176.26275958035757,161.775)\" d=\"M1.873,0A1.873,1.873,0,1,1,-1.873,0A1.873,1.873,0,1,1,1.873,0\" fill=\"#000\" stroke-width=\"2\" opacity=\"0.7\"/><path aria-label=\"income: 14512; health: 75.1; population: 67959359\" role=\"graphics-symbol\" aria-roledescription=\"circle\" transform=\"translate(270.2159087145026,74.25000000000004)\" d=\"M2.111,0A2.111,2.111,0,1,1,-2.111,0A2.111,2.111,0,1,1,2.111,0\" fill=\"#000\" stroke-width=\"2\" opacity=\"0.7\"/><path aria-label=\"income: 2086; health: 72.4; population: 1184765\" role=\"graphics-symbol\" aria-roledescription=\"circle\" transform=\"translate(164.91428801131403,94.49999999999996)\" d=\"M0.279,0A0.279,0.279,0,1,1,-0.279,0A0.279,0.279,0,1,1,0.279,0\" fill=\"#000\" stroke-width=\"2\" opacity=\"0.7\"/><path aria-label=\"income: 1433; health: 64.23; population: 7304578\" role=\"graphics-symbol\" aria-roledescription=\"circle\" transform=\"translate(144.53077379966805,155.77499999999998)\" d=\"M0.692,0A0.692,0.692,0,1,1,-0.692,0A0.692,0.692,0,1,1,0.692,0\" fill=\"#000\" stroke-width=\"2\" opacity=\"0.7\"/><path aria-label=\"income: 5069; health: 70.5; population: 106170\" role=\"graphics-symbol\" aria-roledescription=\"circle\" transform=\"translate(213.11528640292525,108.75000000000001)\" d=\"M0.083,0A0.083,0.083,0,1,1,-0.083,0A0.083,0.083,0,1,1,0.083,0\" fill=\"#000\" stroke-width=\"2\" opacity=\"0.7\"/><path aria-label=\"income: 30113; health: 71.4; population: 1360088\" role=\"graphics-symbol\" aria-roledescription=\"circle\" transform=\"translate(309.84425301823745,101.99999999999996)\" d=\"M0.299,0A0.299,0.299,0,1,1,-0.299,0A0.299,0.299,0,1,1,0.299,0\" fill=\"#000\" stroke-width=\"2\" opacity=\"0.7\"/><path aria-label=\"income: 11126; health: 77.3; population: 11253554\" role=\"graphics-symbol\" aria-roledescription=\"circle\" transform=\"translate(255.79238195060117,57.750000000000036)\" d=\"M0.859,0A0.859,0.859,0,1,1,-0.859,0A0.859,0.859,0,1,1,0.859,0\" fill=\"#000\" stroke-width=\"2\" opacity=\"0.7\"/><path aria-label=\"income: 19360; health: 76.5; population: 78665830\" role=\"graphics-symbol\" aria-roledescription=\"circle\" transform=\"translate(285.86316912154683,63.75000000000001)\" d=\"M2.271,0A2.271,2.271,0,1,1,-2.271,0A2.271,2.271,0,1,1,2.271,0\" fill=\"#000\" stroke-width=\"2\" opacity=\"0.7\"/><path aria-label=\"income: 15865; health: 67.9; population: 5373502\" role=\"graphics-symbol\" aria-roledescription=\"circle\" transform=\"translate(275.0550095545539,128.24999999999997)\" d=\"M0.594,0A0.594,0.594,0,1,1,-0.594,0A0.594,0.594,0,1,1,0.594,0\" fill=\"#000\" stroke-width=\"2\" opacity=\"0.7\"/><path aria-label=\"income: 1680; health: 60.8; population: 39032383\" role=\"graphics-symbol\" aria-roledescription=\"circle\" transform=\"translate(153.16366021573285,181.50000000000003)\" d=\"M1.6,0A1.6,1.6,0,1,1,-1.6,0A1.6,1.6,0,1,1,1.6,0\" fill=\"#000\" stroke-width=\"2\" opacity=\"0.7\"/><path aria-label=\"income: 8449; health: 72.1; population: 44823765\" role=\"graphics-symbol\" aria-roledescription=\"circle\" transform=\"translate(240.8506637639508,96.75000000000004)\" d=\"M1.715,0A1.715,1.715,0,1,1,-1.715,0A1.715,1.715,0,1,1,1.715,0\" fill=\"#000\" stroke-width=\"2\" opacity=\"0.7\"/><path aria-label=\"income: 60749; health: 76.6; population: 9156963\" role=\"graphics-symbol\" aria-roledescription=\"circle\" transform=\"translate(347.94239166639375,63.00000000000006)\" d=\"M0.775,0A0.775,0.775,0,1,1,-0.775,0A0.775,0.775,0,1,1,0.775,0\" fill=\"#000\" stroke-width=\"2\" opacity=\"0.7\"/><path aria-label=\"income: 38225; health: 81.4; population: 64715810\" role=\"graphics-symbol\" aria-roledescription=\"circle\" transform=\"translate(322.79343676054475,26.999999999999957)\" d=\"M2.06,0A2.06,2.06,0,1,1,-2.06,0A2.06,2.06,0,1,1,2.06,0\" fill=\"#000\" stroke-width=\"2\" opacity=\"0.7\"/><path aria-label=\"income: 53354; health: 79.1; population: 321773631\" role=\"graphics-symbol\" aria-roledescription=\"circle\" transform=\"translate(340.8958730563007,44.25000000000006)\" d=\"M4.594,0A4.594,4.594,0,1,1,-4.594,0A4.594,4.594,0,1,1,4.594,0\" fill=\"#000\" stroke-width=\"2\" opacity=\"0.7\"/><path aria-label=\"income: 20438; health: 77.3; population: 3431555\" role=\"graphics-symbol\" aria-roledescription=\"circle\" transform=\"translate(288.80479935198105,57.750000000000036)\" d=\"M0.474,0A0.474,0.474,0,1,1,-0.474,0A0.474,0.474,0,1,1,0.474,0\" fill=\"#000\" stroke-width=\"2\" opacity=\"0.7\"/><path aria-label=\"income: 5598; health: 70.1; population: 29893488\" role=\"graphics-symbol\" aria-roledescription=\"circle\" transform=\"translate(218.5041117662679,111.75000000000004)\" d=\"M1.4,0A1.4,1.4,0,1,1,-1.4,0A1.4,1.4,0,1,1,1.4,0\" fill=\"#000\" stroke-width=\"2\" opacity=\"0.7\"/><path aria-label=\"income: 2912; health: 65; population: 264652\" role=\"graphics-symbol\" aria-roledescription=\"circle\" transform=\"translate(183.02392133012495,150)\" d=\"M0.132,0A0.132,0.132,0,1,1,-0.132,0A0.132,0.132,0,1,1,0.132,0\" fill=\"#000\" stroke-width=\"2\" opacity=\"0.7\"/><path aria-label=\"income: 15753; health: 75.8; population: 31108083\" role=\"graphics-symbol\" aria-roledescription=\"circle\" transform=\"translate(274.67040912583997,69.00000000000003)\" d=\"M1.428,0A1.428,1.428,0,1,1,-1.428,0A1.428,1.428,0,1,1,1.428,0\" fill=\"#000\" stroke-width=\"2\" opacity=\"0.7\"/><path aria-label=\"income: 5623; health: 76.5; population: 93447601\" role=\"graphics-symbol\" aria-roledescription=\"circle\" transform=\"translate(218.7460104386754,63.75000000000001)\" d=\"M2.476,0A2.476,2.476,0,1,1,-2.476,0A2.476,2.476,0,1,1,2.476,0\" fill=\"#000\" stroke-width=\"2\" opacity=\"0.7\"/><path aria-label=\"income: 4319; health: 75.2; population: 4668466\" role=\"graphics-symbol\" aria-roledescription=\"circle\" transform=\"translate(204.4229005059373,73.49999999999997)\" d=\"M0.553,0A0.553,0.553,0,1,1,-0.553,0A0.553,0.553,0,1,1,0.553,0\" fill=\"#000\" stroke-width=\"2\" opacity=\"0.7\"/><path aria-label=\"income: 3887; health: 67.6; population: 26832215\" role=\"graphics-symbol\" aria-roledescription=\"circle\" transform=\"translate(198.70181757890833,130.50000000000006)\" d=\"M1.327,0A1.327,1.327,0,1,1,-1.327,0A1.327,1.327,0,1,1,1.327,0\" fill=\"#000\" stroke-width=\"2\" opacity=\"0.7\"/><path aria-label=\"income: 4034; health: 58.96; population: 16211767\" role=\"graphics-symbol\" aria-roledescription=\"circle\" transform=\"translate(200.71698673459338,195.3)\" d=\"M1.031,0A1.031,1.031,0,1,1,-1.031,0A1.031,1.031,0,1,1,1.031,0\" fill=\"#000\" stroke-width=\"2\" opacity=\"0.7\"/><path aria-label=\"income: 1801; health: 60.01; population: 15602751\" role=\"graphics-symbol\" aria-roledescription=\"circle\" transform=\"translate(156.93921410244167,187.425)\" d=\"M1.012,0A1.012,1.012,0,1,1,-1.012,0A1.012,1.012,0,1,1,1.012,0\" fill=\"#000\" stroke-width=\"2\" opacity=\"0.7\"/></g><g class=\"mark-group role-legend\" role=\"graphics-symbol\" aria-roledescription=\"legend\" aria-label=\"Symbol legend titled 'population' for size with values from 0 to 1,376,048,943\"><g transform=\"translate(518,0)\"><path class=\"background\" aria-hidden=\"true\" d=\"M0,0h88v128h-88Z\" pointer-events=\"none\"/><g><g class=\"mark-group role-legend-entry\"><g transform=\"translate(0,16)\"><path class=\"background\" aria-hidden=\"true\" d=\"M0,0h0v0h0Z\" pointer-events=\"none\"/><g><g class=\"mark-group role-scope\" role=\"graphics-object\" aria-roledescription=\"group mark container\"><g transform=\"translate(0,0)\"><path class=\"background\" aria-hidden=\"true\" d=\"M0,0h87.9501953125v10.121776634411862h-87.9501953125Z\" pointer-events=\"none\" opacity=\"1\"/><g><g class=\"mark-symbol role-legend-symbol\" pointer-events=\"none\"><path transform=\"translate(10,5)\" d=\"M3.622,0A3.622,3.622,0,1,1,-3.622,0A3.622,3.622,0,1,1,3.622,0\" fill=\"#000\" stroke-width=\"1.5\" opacity=\"0.7\"/></g><g class=\"mark-text role-legend-label\" pointer-events=\"none\"><text text-anchor=\"start\" transform=\"translate(24,8)\" font-family=\"sans-serif\" font-size=\"10px\" fill=\"#000\" opacity=\"1\">200,000,000</text></g></g><path class=\"foreground\" aria-hidden=\"true\" d=\"\" pointer-events=\"none\" display=\"none\"/></g><g transform=\"translate(0,14)\"><path class=\"background\" aria-hidden=\"true\" d=\"M0,0h87.9501953125v12.621965636271238h-87.9501953125Z\" pointer-events=\"none\" opacity=\"1\"/><g><g class=\"mark-symbol role-legend-symbol\" pointer-events=\"none\"><path transform=\"translate(10,6)\" d=\"M5.122,0A5.122,5.122,0,1,1,-5.122,0A5.122,5.122,0,1,1,5.122,0\" fill=\"#000\" stroke-width=\"1.5\" opacity=\"0.7\"/></g><g class=\"mark-text role-legend-label\" pointer-events=\"none\"><text text-anchor=\"start\" transform=\"translate(24,9)\" font-family=\"sans-serif\" font-size=\"10px\" fill=\"#000\" opacity=\"1\">400,000,000</text></g></g><path class=\"foreground\" aria-hidden=\"true\" d=\"\" pointer-events=\"none\" display=\"none\"/></g><g transform=\"translate(0,30)\"><path class=\"background\" aria-hidden=\"true\" d=\"M0,0h87.9501953125v15.273101144467155h-87.9501953125Z\" pointer-events=\"none\" opacity=\"1\"/><g><g class=\"mark-symbol role-legend-symbol\" pointer-events=\"none\"><path transform=\"translate(10,7.5)\" d=\"M6.273,0A6.273,6.273,0,1,1,-6.273,0A6.273,6.273,0,1,1,6.273,0\" fill=\"#000\" stroke-width=\"1.5\" opacity=\"0.7\"/></g><g class=\"mark-text role-legend-label\" pointer-events=\"none\"><text text-anchor=\"start\" transform=\"translate(24,10.5)\" font-family=\"sans-serif\" font-size=\"10px\" fill=\"#000\" opacity=\"1\">600,000,000</text></g></g><path class=\"foreground\" aria-hidden=\"true\" d=\"\" pointer-events=\"none\" display=\"none\"/></g><g transform=\"translate(0,49)\"><path class=\"background\" aria-hidden=\"true\" d=\"M0,0h87.9501953125v16.743553268823717h-87.9501953125Z\" pointer-events=\"none\" opacity=\"1\"/><g><g class=\"mark-symbol role-legend-symbol\" pointer-events=\"none\"><path transform=\"translate(10,8)\" d=\"M7.244,0A7.244,7.244,0,1,1,-7.244,0A7.244,7.244,0,1,1,7.244,0\" fill=\"#000\" stroke-width=\"1.5\" opacity=\"0.7\"/></g><g class=\"mark-text role-legend-label\" pointer-events=\"none\"><text text-anchor=\"start\" transform=\"translate(24,11)\" font-family=\"sans-serif\" font-size=\"10px\" fill=\"#000\" opacity=\"1\">800,000,000</text></g></g><path class=\"foreground\" aria-hidden=\"true\" d=\"\" pointer-events=\"none\" display=\"none\"/></g><g transform=\"translate(0,69)\"><path class=\"background\" aria-hidden=\"true\" d=\"M0,0h87.9501953125v18.598538753865327h-87.9501953125Z\" pointer-events=\"none\" opacity=\"1\"/><g><g class=\"mark-symbol role-legend-symbol\" pointer-events=\"none\"><path transform=\"translate(10,9)\" d=\"M8.099,0A8.099,8.099,0,1,1,-8.099,0A8.099,8.099,0,1,1,8.099,0\" fill=\"#000\" stroke-width=\"1.5\" opacity=\"0.7\"/></g><g class=\"mark-text role-legend-label\" pointer-events=\"none\"><text text-anchor=\"start\" transform=\"translate(24,12)\" font-family=\"sans-serif\" font-size=\"10px\" fill=\"#000\" opacity=\"1\">1,000,000,000</text></g></g><path class=\"foreground\" aria-hidden=\"true\" d=\"\" pointer-events=\"none\" display=\"none\"/></g><g transform=\"translate(0,91)\"><path class=\"background\" aria-hidden=\"true\" d=\"M0,0h87.9501953125v20.371504716643642h-87.9501953125Z\" pointer-events=\"none\" opacity=\"1\"/><g><g class=\"mark-symbol role-legend-symbol\" pointer-events=\"none\"><path transform=\"translate(10,10)\" d=\"M8.872,0A8.872,8.872,0,1,1,-8.872,0A8.872,8.872,0,1,1,8.872,0\" fill=\"#000\" stroke-width=\"1.5\" opacity=\"0.7\"/></g><g class=\"mark-text role-legend-label\" pointer-events=\"none\"><text text-anchor=\"start\" transform=\"translate(24,13)\" font-family=\"sans-serif\" font-size=\"10px\" fill=\"#000\" opacity=\"1\">1,200,000,000</text></g></g><path class=\"foreground\" aria-hidden=\"true\" d=\"\" pointer-events=\"none\" display=\"none\"/></g></g></g><path class=\"foreground\" aria-hidden=\"true\" d=\"\" pointer-events=\"none\" display=\"none\"/></g></g><g class=\"mark-text role-legend-title\" pointer-events=\"none\"><text text-anchor=\"start\" transform=\"translate(0,9)\" font-family=\"sans-serif\" font-size=\"11px\" font-weight=\"bold\" fill=\"#000\" opacity=\"1\">population</text></g></g><path class=\"foreground\" aria-hidden=\"true\" d=\"\" pointer-events=\"none\" display=\"none\"/></g></g></g><path class=\"foreground\" aria-hidden=\"true\" d=\"\" display=\"none\"/></g></g></g><defs><clipPath id=\"clip1\"><rect x=\"0\" y=\"0\" width=\"500\" height=\"300\"/></clipPath></defs></svg>"
      ],
      "text/plain": [
       "@vlplot(\n",
       "    width=500,\n",
       "    height=300,\n",
       "    selection={\n",
       "        view={\n",
       "            type=\"interval\",\n",
       "            bind=\"scales\"\n",
       "        }\n",
       "    },\n",
       "    mark=\"circle\",\n",
       "    encoding={\n",
       "        y={\n",
       "            scale={\n",
       "                zero=false\n",
       "            },\n",
       "            axis={\n",
       "                minExtent=30\n",
       "            },\n",
       "            field=\"health\"\n",
       "        },\n",
       "        x={\n",
       "            scale={\n",
       "                type=\"log\"\n",
       "            },\n",
       "            field=\"income\"\n",
       "        },\n",
       "        size={\n",
       "            field=\"population\"\n",
       "        },\n",
       "        color={\n",
       "            value=\"#000\"\n",
       "        }\n",
       "    },\n",
       "    data={\n",
       "        values=...\n",
       "    }\n",
       ")"
      ]
     },
     "execution_count": 26,
     "metadata": {},
     "output_type": "execute_result"
    }
   ],
   "source": [
    "using VegaLite, VegaDatasets\n",
    "\n",
    "dataset(\"gapminder-health-income\") |>\n",
    "@vlplot(\n",
    "    :circle,\n",
    "    width=500,height=300,\n",
    "    selection={\n",
    "        view={type=:interval, bind=:scales}\n",
    "    },\n",
    "    y={:health, scale={zero=false}, axis={minExtent=30}},\n",
    "    x={:income, scale={type=:log}},\n",
    "    size=:population,\n",
    "    color={value=\"#000\"}\n",
    ")"
   ]
  },
  {
   "cell_type": "code",
   "execution_count": 27,
   "id": "13942327-e70a-4d89-9ee1-f6b970b5e67b",
   "metadata": {},
   "outputs": [
    {
     "data": {
      "application/vnd.dataresource+json": {
       "data": [
        {
         "country": "Afghanistan",
         "health": 57.63,
         "income": 1925,
         "population": 32526562
        },
        {
         "country": "Albania",
         "health": 76,
         "income": 10620,
         "population": 2896679
        },
        {
         "country": "Algeria",
         "health": 76.5,
         "income": 13434,
         "population": 39666519
        },
        {
         "country": "Andorra",
         "health": 84.1,
         "income": 46577,
         "population": 70473
        },
        {
         "country": "Angola",
         "health": 61,
         "income": 7615,
         "population": 25021974
        },
        {
         "country": "Antigua and Barbuda",
         "health": 75.2,
         "income": 21049,
         "population": 91818
        },
        {
         "country": "Argentina",
         "health": 76.2,
         "income": 17344,
         "population": 43416755
        },
        {
         "country": "Armenia",
         "health": 74.4,
         "income": 7763,
         "population": 3017712
        },
        {
         "country": "Australia",
         "health": 81.8,
         "income": 44056,
         "population": 23968973
        },
        {
         "country": "Austria",
         "health": 81,
         "income": 44401,
         "population": 8544586
        },
        {
         "country": "Azerbaijan",
         "health": 72.9,
         "income": 16986,
         "population": 9753968
        },
        {
         "country": "Bahamas",
         "health": 72.3,
         "income": 22818,
         "population": 388019
        },
        {
         "country": "Bahrain",
         "health": 79.2,
         "income": 44138,
         "population": 1377237
        },
        {
         "country": "Bangladesh",
         "health": 70.1,
         "income": 3161,
         "population": 160995642
        },
        {
         "country": "Barbados",
         "health": 75.8,
         "income": 12984,
         "population": 284215
        },
        {
         "country": "Belarus",
         "health": 70.4,
         "income": 17415,
         "population": 9495826
        },
        {
         "country": "Belgium",
         "health": 80.4,
         "income": 41240,
         "population": 11299192
        },
        {
         "country": "Belize",
         "health": 70,
         "income": 8501,
         "population": 359287
        },
        {
         "country": "Benin",
         "health": 65.5,
         "income": 1830,
         "population": 10879829
        },
        {
         "country": "Bhutan",
         "health": 70.2,
         "income": 7983,
         "population": 774830
        },
        {
         "country": "Bolivia",
         "health": 72.3,
         "income": 6295,
         "population": 10724705
        },
        {
         "country": "Bosnia and Herzegovina",
         "health": 77.9,
         "income": 9833,
         "population": 3810416
        },
        {
         "country": "Botswana",
         "health": 66.4,
         "income": 17196,
         "population": 2262485
        },
        {
         "country": "Brazil",
         "health": 75.6,
         "income": 15441,
         "population": 207847528
        },
        {
         "country": "Brunei",
         "health": 78.7,
         "income": 73003,
         "population": 423188
        },
        {
         "country": "Bulgaria",
         "health": 74.9,
         "income": 16371,
         "population": 7149787
        },
        {
         "country": "Burkina Faso",
         "health": 62.8,
         "income": 1654,
         "population": 18105570
        },
        {
         "country": "Burundi",
         "health": 60.4,
         "income": 777,
         "population": 11178921
        },
        {
         "country": "Cambodia",
         "health": 68.4,
         "income": 3267,
         "population": 15577899
        },
        {
         "country": "Cameroon",
         "health": 59.5,
         "income": 2897,
         "population": 23344179
        },
        {
         "country": "Canada",
         "health": 81.7,
         "income": 43294,
         "population": 35939927
        },
        {
         "country": "Cape Verde",
         "health": 74.6,
         "income": 6514,
         "population": 520502
        },
        {
         "country": "Central African Republic",
         "health": 53.8,
         "income": 599,
         "population": 4900274
        },
        {
         "country": "Chad",
         "health": 57.7,
         "income": 2191,
         "population": 14037472
        },
        {
         "country": "Chile",
         "health": 79.3,
         "income": 22465,
         "population": 17948141
        },
        {
         "country": "China",
         "health": 76.9,
         "income": 13334,
         "population": 1376048943
        },
        {
         "country": "Colombia",
         "health": 75.8,
         "income": 12761,
         "population": 48228704
        },
        {
         "country": "Comoros",
         "health": 64.1,
         "income": 1472,
         "population": 788474
        },
        {
         "country": "Congo, Dem. Rep.",
         "health": 58.3,
         "income": 809,
         "population": 77266814
        },
        {
         "country": "Congo, Rep.",
         "health": 61.9,
         "income": 6220,
         "population": 4620330
        },
        {
         "country": "Costa Rica",
         "health": 80,
         "income": 14132,
         "population": 4807850
        },
        {
         "country": "Cote d'Ivoire",
         "health": 60.33,
         "income": 3491,
         "population": 22701556
        },
        {
         "country": "Croatia",
         "health": 78,
         "income": 20260,
         "population": 4240317
        },
        {
         "country": "Cuba",
         "health": 78.5,
         "income": 21291,
         "population": 11389562
        },
        {
         "country": "Cyprus",
         "health": 82.6,
         "income": 29797,
         "population": 1165300
        },
        {
         "country": "Czech Republic",
         "health": 78.6,
         "income": 29437,
         "population": 10543186
        },
        {
         "country": "Denmark",
         "health": 80.1,
         "income": 43495,
         "population": 5669081
        },
        {
         "country": "Djibouti",
         "health": 64.63,
         "income": 3139,
         "population": 887861
        },
        {
         "country": "Dominica",
         "health": 74.6,
         "income": 10503,
         "population": 72680
        },
        {
         "country": "Dominican Republic",
         "health": 73.8,
         "income": 12837,
         "population": 10528391
        },
        {
         "country": "Ecuador",
         "health": 75.2,
         "income": 10996,
         "population": 16144363
        },
        {
         "country": "Egypt",
         "health": 71.3,
         "income": 11031,
         "population": 91508084
        },
        {
         "country": "El Salvador",
         "health": 74.1,
         "income": 7776,
         "population": 6126583
        },
        {
         "country": "Equatorial Guinea",
         "health": 60.63,
         "income": 31087,
         "population": 845060
        },
        {
         "country": "Eritrea",
         "health": 62.9,
         "income": 1129,
         "population": 5227791
        },
        {
         "country": "Estonia",
         "health": 76.8,
         "income": 26812,
         "population": 1312558
        },
        {
         "country": "Ethiopia",
         "health": 63.6,
         "income": 1520,
         "population": 99390750
        },
        {
         "country": "Fiji",
         "health": 66.3,
         "income": 7925,
         "population": 892145
        },
        {
         "country": "Finland",
         "health": 80.8,
         "income": 38923,
         "population": 5503457
        },
        {
         "country": "France",
         "health": 81.9,
         "income": 37599,
         "population": 64395345
        },
        {
         "country": "Gabon",
         "health": 60.53,
         "income": 18627,
         "population": 1725292
        },
        {
         "country": "Gambia",
         "health": 65.1,
         "income": 1644,
         "population": 1990924
        },
        {
         "country": "Georgia",
         "health": 73.3,
         "income": 7474,
         "population": 3999812
        },
        {
         "country": "Germany",
         "health": 81.1,
         "income": 44053,
         "population": 80688545
        },
        {
         "country": "Ghana",
         "health": 65.5,
         "income": 4099,
         "population": 27409893
        },
        {
         "country": "Greece",
         "health": 79.8,
         "income": 25430,
         "population": 10954617
        },
        {
         "country": "Grenada",
         "health": 71.7,
         "income": 11593,
         "population": 106825
        },
        {
         "country": "Guatemala",
         "health": 73.1,
         "income": 7279,
         "population": 16342897
        },
        {
         "country": "Guinea",
         "health": 60.8,
         "income": 1225,
         "population": 12608590
        },
        {
         "country": "Guinea-Bissau",
         "health": 53.4,
         "income": 1386,
         "population": 1844325
        },
        {
         "country": "Guyana",
         "health": 64.4,
         "income": 6816,
         "population": 767085
        },
        {
         "country": "Haiti",
         "health": 65.3,
         "income": 1710,
         "population": 10711067
        },
        {
         "country": "Honduras",
         "health": 72.4,
         "income": 4270,
         "population": 8075060
        },
        {
         "country": "Hungary",
         "health": 76.2,
         "income": 24200,
         "population": 9855023
        },
        {
         "country": "Iceland",
         "health": 82.8,
         "income": 42182,
         "population": 329425
        },
        {
         "country": "India",
         "health": 66.8,
         "income": 5903,
         "population": 1311050527
        },
        {
         "country": "Indonesia",
         "health": 70.9,
         "income": 10504,
         "population": 257563815
        },
        {
         "country": "Iran",
         "health": 78.5,
         "income": 15573,
         "population": 79109272
        },
        {
         "country": "Iraq",
         "health": 72.1,
         "income": 14646,
         "population": 36423395
        },
        {
         "country": "Ireland",
         "health": 80.4,
         "income": 47758,
         "population": 4688465
        },
        {
         "country": "Israel",
         "health": 82.4,
         "income": 31590,
         "population": 8064036
        },
        {
         "country": "Italy",
         "health": 82.1,
         "income": 33297,
         "population": 59797685
        },
        {
         "country": "Jamaica",
         "health": 75.5,
         "income": 8606,
         "population": 2793335
        },
        {
         "country": "Japan",
         "health": 83.5,
         "income": 36162,
         "population": 126573481
        },
        {
         "country": "Jordan",
         "health": 78.3,
         "income": 11752,
         "population": 7594547
        },
        {
         "country": "Kazakhstan",
         "health": 68.2,
         "income": 23468,
         "population": 17625226
        },
        {
         "country": "Kenya",
         "health": 66.63,
         "income": 2898,
         "population": 46050302
        },
        {
         "country": "Kiribati",
         "health": 62.4,
         "income": 1824,
         "population": 112423
        },
        {
         "country": "Kuwait",
         "health": 80.7,
         "income": 82633,
         "population": 3892115
        },
        {
         "country": "Kyrgyz Republic",
         "health": 69,
         "income": 3245,
         "population": 5939962
        },
        {
         "country": "Lao",
         "health": 66.4,
         "income": 5212,
         "population": 6802023
        },
        {
         "country": "Latvia",
         "health": 75.7,
         "income": 23282,
         "population": 1970503
        },
        {
         "country": "Lebanon",
         "health": 78.5,
         "income": 17050,
         "population": 5850743
        },
        {
         "country": "Lesotho",
         "health": 48.5,
         "income": 2598,
         "population": 2135022
        },
        {
         "country": "Liberia",
         "health": 63.9,
         "income": 958,
         "population": 4503438
        },
        {
         "country": "Libya",
         "health": 76.2,
         "income": 17261,
         "population": 6278438
        },
        {
         "country": "Lithuania",
         "health": 75.4,
         "income": 26665,
         "population": 2878405
        },
        {
         "country": "Luxembourg",
         "health": 81.1,
         "income": 88314,
         "population": 567110
        },
        {
         "country": "Macedonia, FYR",
         "health": 77,
         "income": 12547,
         "population": 2078453
        },
        {
         "country": "Madagascar",
         "health": 64.7,
         "income": 1400,
         "population": 24235390
        },
        {
         "country": "Malawi",
         "health": 60.22,
         "income": 799,
         "population": 17215232
        },
        {
         "country": "Malaysia",
         "health": 75.1,
         "income": 24320,
         "population": 30331007
        },
        {
         "country": "Maldives",
         "health": 79.5,
         "income": 14408,
         "population": 363657
        },
        {
         "country": "Mali",
         "health": 57.6,
         "income": 1684,
         "population": 17599694
        },
        {
         "country": "Malta",
         "health": 82.1,
         "income": 30265,
         "population": 418670
        },
        {
         "country": "Marshall Islands",
         "health": 65.1,
         "income": 3661,
         "population": 52993
        },
        {
         "country": "Mauritania",
         "health": 65.7,
         "income": 3877,
         "population": 4067564
        },
        {
         "country": "Mauritius",
         "health": 73.9,
         "income": 18350,
         "population": 1273212
        },
        {
         "country": "Mexico",
         "health": 74.5,
         "income": 16850,
         "population": 127017224
        },
        {
         "country": "Micronesia, Fed. Sts.",
         "health": 67,
         "income": 3510,
         "population": 104460
        },
        {
         "country": "Moldova",
         "health": 72.7,
         "income": 4896,
         "population": 4068897
        },
        {
         "country": "Mongolia",
         "health": 65.3,
         "income": 11819,
         "population": 2959134
        },
        {
         "country": "Montenegro",
         "health": 75.8,
         "income": 14833,
         "population": 625781
        },
        {
         "country": "Morocco",
         "health": 74.7,
         "income": 7319,
         "population": 34377511
        },
        {
         "country": "Mozambique",
         "health": 56.4,
         "income": 1176,
         "population": 27977863
        },
        {
         "country": "Myanmar",
         "health": 67.9,
         "income": 4012,
         "population": 53897154
        },
        {
         "country": "Namibia",
         "health": 61,
         "income": 10040,
         "population": 2458830
        },
        {
         "country": "Nepal",
         "health": 71.2,
         "income": 2352,
         "population": 28513700
        },
        {
         "country": "Netherlands",
         "health": 80.6,
         "income": 45784,
         "population": 16924929
        },
        {
         "country": "New Zealand",
         "health": 80.6,
         "income": 34186,
         "population": 4528526
        },
        {
         "country": "Nicaragua",
         "health": 76.8,
         "income": 4712,
         "population": 6082032
        },
        {
         "country": "Niger",
         "health": 62.2,
         "income": 943,
         "population": 19899120
        },
        {
         "country": "Nigeria",
         "health": 61.33,
         "income": 5727,
         "population": 182201962
        },
        {
         "country": "North Korea",
         "health": 71.4,
         "income": 1390,
         "population": 25155317
        },
        {
         "country": "Norway",
         "health": 81.6,
         "income": 64304,
         "population": 5210967
        },
        {
         "country": "Oman",
         "health": 75.7,
         "income": 48226,
         "population": 4490541
        },
        {
         "country": "Pakistan",
         "health": 66.5,
         "income": 4743,
         "population": 188924874
        },
        {
         "country": "Panama",
         "health": 78.2,
         "income": 20485,
         "population": 3929141
        },
        {
         "country": "Papua New Guinea",
         "health": 60.6,
         "income": 2529,
         "population": 7619321
        },
        {
         "country": "Paraguay",
         "health": 73.9,
         "income": 8219,
         "population": 6639123
        },
        {
         "country": "Peru",
         "health": 77.5,
         "income": 11903,
         "population": 31376670
        },
        {
         "country": "Philippines",
         "health": 70.2,
         "income": 6876,
         "population": 100699395
        },
        {
         "country": "Poland",
         "health": 77.3,
         "income": 24787,
         "population": 38611794
        },
        {
         "country": "Portugal",
         "health": 79.8,
         "income": 26437,
         "population": 10349803
        },
        {
         "country": "Qatar",
         "health": 82,
         "income": 132877,
         "population": 2235355
        },
        {
         "country": "Romania",
         "health": 76.8,
         "income": 19203,
         "population": 19511324
        },
        {
         "country": "Russia",
         "health": 73.13,
         "income": 23038,
         "population": 143456918
        },
        {
         "country": "Rwanda",
         "health": 66.53,
         "income": 1549,
         "population": 11609666
        },
        {
         "country": "Samoa",
         "health": 72.2,
         "income": 5558,
         "population": 193228
        },
        {
         "country": "Sao Tome and Principe",
         "health": 68.8,
         "income": 3003,
         "population": 190344
        },
        {
         "country": "Saudi Arabia",
         "health": 78.1,
         "income": 52469,
         "population": 31540372
        },
        {
         "country": "Senegal",
         "health": 66.1,
         "income": 2251,
         "population": 15129273
        },
        {
         "country": "Serbia",
         "health": 78.1,
         "income": 12908,
         "population": 8850975
        },
        {
         "country": "Seychelles",
         "health": 73.7,
         "income": 25684,
         "population": 96471
        },
        {
         "country": "Sierra Leone",
         "health": 58.5,
         "income": 2085,
         "population": 6453184
        },
        {
         "country": "Singapore",
         "health": 82.1,
         "income": 80794,
         "population": 5603740
        },
        {
         "country": "Slovak Republic",
         "health": 76.4,
         "income": 27204,
         "population": 5426258
        },
        {
         "country": "Slovenia",
         "health": 80.2,
         "income": 28550,
         "population": 2067526
        },
        {
         "country": "Solomon Islands",
         "health": 64.1,
         "income": 2047,
         "population": 583591
        },
        {
         "country": "Somalia",
         "health": 58.7,
         "income": 624,
         "population": 10787104
        },
        {
         "country": "South Africa",
         "health": 63.72,
         "income": 12509,
         "population": 54490406
        },
        {
         "country": "South Korea",
         "health": 80.7,
         "income": 34644,
         "population": 50293439
        },
        {
         "country": "South Sudan",
         "health": 58,
         "income": 3047,
         "population": 12339812
        },
        {
         "country": "Spain",
         "health": 81.7,
         "income": 32979,
         "population": 46121699
        },
        {
         "country": "Sri Lanka",
         "health": 76.5,
         "income": 10624,
         "population": 20715010
        },
        {
         "country": "St. Lucia",
         "health": 74.5,
         "income": 9997,
         "population": 184999
        },
        {
         "country": "St. Vincent and the Grenadines",
         "health": 72.9,
         "income": 10435,
         "population": 109462
        },
        {
         "country": "Sudan",
         "health": 69.5,
         "income": 3975,
         "population": 40234882
        },
        {
         "country": "Suriname",
         "health": 70.5,
         "income": 17125,
         "population": 542975
        },
        {
         "country": "Swaziland",
         "health": 51.5,
         "income": 6095,
         "population": 1286970
        },
        {
         "country": "Sweden",
         "health": 82,
         "income": 44892,
         "population": 9779426
        },
        {
         "country": "Switzerland",
         "health": 82.9,
         "income": 56118,
         "population": 8298663
        },
        {
         "country": "Syria",
         "health": 70.26,
         "income": 4637,
         "population": 18502413
        },
        {
         "country": "Tajikistan",
         "health": 71,
         "income": 2582,
         "population": 8481855
        },
        {
         "country": "Tanzania",
         "health": 63.43,
         "income": 2571,
         "population": 53470420
        },
        {
         "country": "Thailand",
         "health": 75.1,
         "income": 14512,
         "population": 67959359
        },
        {
         "country": "Timor-Leste",
         "health": 72.4,
         "income": 2086,
         "population": 1184765
        },
        {
         "country": "Togo",
         "health": 64.23,
         "income": 1433,
         "population": 7304578
        },
        {
         "country": "Tonga",
         "health": 70.5,
         "income": 5069,
         "population": 106170
        },
        {
         "country": "Trinidad and Tobago",
         "health": 71.4,
         "income": 30113,
         "population": 1360088
        },
        {
         "country": "Tunisia",
         "health": 77.3,
         "income": 11126,
         "population": 11253554
        },
        {
         "country": "Turkey",
         "health": 76.5,
         "income": 19360,
         "population": 78665830
        },
        {
         "country": "Turkmenistan",
         "health": 67.9,
         "income": 15865,
         "population": 5373502
        },
        {
         "country": "Uganda",
         "health": 60.8,
         "income": 1680,
         "population": 39032383
        },
        {
         "country": "Ukraine",
         "health": 72.1,
         "income": 8449,
         "population": 44823765
        },
        {
         "country": "United Arab Emirates",
         "health": 76.6,
         "income": 60749,
         "population": 9156963
        },
        {
         "country": "United Kingdom",
         "health": 81.4,
         "income": 38225,
         "population": 64715810
        },
        {
         "country": "United States",
         "health": 79.1,
         "income": 53354,
         "population": 321773631
        },
        {
         "country": "Uruguay",
         "health": 77.3,
         "income": 20438,
         "population": 3431555
        },
        {
         "country": "Uzbekistan",
         "health": 70.1,
         "income": 5598,
         "population": 29893488
        },
        {
         "country": "Vanuatu",
         "health": 65,
         "income": 2912,
         "population": 264652
        },
        {
         "country": "Venezuela",
         "health": 75.8,
         "income": 15753,
         "population": 31108083
        },
        {
         "country": "Vietnam",
         "health": 76.5,
         "income": 5623,
         "population": 93447601
        },
        {
         "country": "West Bank and Gaza",
         "health": 75.2,
         "income": 4319,
         "population": 4668466
        },
        {
         "country": "Yemen",
         "health": 67.6,
         "income": 3887,
         "population": 26832215
        },
        {
         "country": "Zambia",
         "health": 58.96,
         "income": 4034,
         "population": 16211767
        },
        {
         "country": "Zimbabwe",
         "health": 60.01,
         "income": 1801,
         "population": 15602751
        }
       ],
       "schema": {
        "fields": [
         {
          "name": "country",
          "type": "string"
         },
         {
          "name": "income",
          "type": "integer"
         },
         {
          "name": "health",
          "type": "number"
         },
         {
          "name": "population",
          "type": "integer"
         }
        ]
       }
      },
      "text/html": [
       "<table><thead><tr><th>country</th><th>income</th><th>health</th><th>population</th></tr></thead><tbody><tr><td>&quot;Afghanistan&quot;</td><td>1925</td><td>57.63</td><td>32526562</td></tr><tr><td>&quot;Albania&quot;</td><td>10620</td><td>76.0</td><td>2896679</td></tr><tr><td>&quot;Algeria&quot;</td><td>13434</td><td>76.5</td><td>39666519</td></tr><tr><td>&quot;Andorra&quot;</td><td>46577</td><td>84.1</td><td>70473</td></tr><tr><td>&quot;Angola&quot;</td><td>7615</td><td>61.0</td><td>25021974</td></tr><tr><td>&quot;Antigua and Barbuda&quot;</td><td>21049</td><td>75.2</td><td>91818</td></tr><tr><td>&quot;Argentina&quot;</td><td>17344</td><td>76.2</td><td>43416755</td></tr><tr><td>&quot;Armenia&quot;</td><td>7763</td><td>74.4</td><td>3017712</td></tr><tr><td>&quot;Australia&quot;</td><td>44056</td><td>81.8</td><td>23968973</td></tr><tr><td>&quot;Austria&quot;</td><td>44401</td><td>81.0</td><td>8544586</td></tr><tr><td>&vellip;</td><td>&vellip;</td><td>&vellip;</td><td>&vellip;</td></tr></tbody></table><p>... with 177 more rows.</p>"
      ],
      "text/plain": [
       "187x4 Vega dataset\n",
       "country             │ income │ health │ population\n",
       "────────────────────┼────────┼────────┼───────────\n",
       "Afghanistan         │ 1925   │ 57.63  │ 32526562  \n",
       "Albania             │ 10620  │ 76.0   │ 2896679   \n",
       "Algeria             │ 13434  │ 76.5   │ 39666519  \n",
       "Andorra             │ 46577  │ 84.1   │ 70473     \n",
       "Angola              │ 7615   │ 61.0   │ 25021974  \n",
       "Antigua and Barbuda │ 21049  │ 75.2   │ 91818     \n",
       "Argentina           │ 17344  │ 76.2   │ 43416755  \n",
       "Armenia             │ 7763   │ 74.4   │ 3017712   \n",
       "Australia           │ 44056  │ 81.8   │ 23968973  \n",
       "Austria             │ 44401  │ 81.0   │ 8544586   \n",
       "... with 177 more rows"
      ]
     },
     "execution_count": 27,
     "metadata": {},
     "output_type": "execute_result"
    }
   ],
   "source": [
    "dataset(\"gapminder-health-income\")"
   ]
  },
  {
   "cell_type": "code",
   "execution_count": null,
   "id": "c3cbf8ea-3db9-4e25-8007-e01e70dd6ced",
   "metadata": {},
   "outputs": [],
   "source": []
  }
 ],
 "metadata": {
  "kernelspec": {
   "display_name": "Julia julia 1.9.2",
   "language": "julia",
   "name": "julia-julia-1.9"
  },
  "language_info": {
   "file_extension": ".jl",
   "mimetype": "application/julia",
   "name": "julia",
   "version": "1.9.2"
  }
 },
 "nbformat": 4,
 "nbformat_minor": 5
}
