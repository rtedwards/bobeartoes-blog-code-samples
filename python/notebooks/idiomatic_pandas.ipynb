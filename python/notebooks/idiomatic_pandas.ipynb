{
 "cells": [
  {
   "cell_type": "markdown",
   "id": "c5724f4d-a2e5-4d1b-a18a-cde8ba159bc5",
   "metadata": {},
   "source": [
    "# Idiomatic Pandas: There's a Method Chain to the Madness\n",
    "- https://tomaugspurger.net/posts/method-chaining/ - Pandas maintainer\n",
    "- https://datapythonista.me/blog/pandas-the-two-cultures - Pandas maintainer"
   ]
  },
  {
   "cell_type": "code",
   "execution_count": 1,
   "id": "76da2d48-38d7-44f6-aef0-b4402ae90fe5",
   "metadata": {},
   "outputs": [],
   "source": [
    "import pandas as pd"
   ]
  },
  {
   "cell_type": "markdown",
   "id": "21639a56-5b7b-4ea9-9eeb-6649b2ccb121",
   "metadata": {},
   "source": [
    "## I. Don't use `inplace`\n",
    "- using `inplace` doesn't mean a copy won't be made\n",
    "- `inplace` doesn't work with method chaining\n",
    "- maintainers don't recommend it's use\n",
    "- it's planned to be deprecated see [PDEP-8](https://github.com/pandas-dev/pandas/pull/51466)\n",
    "- There's no longer a benefit because with Copy-on-Write, all the methods already returns views if possible.  (Pandas >= 2.0)"
   ]
  },
  {
   "cell_type": "code",
   "execution_count": null,
   "id": "3697fb97-22ce-476b-82ea-7b6f6904c81d",
   "metadata": {},
   "outputs": [],
   "source": []
  },
  {
   "cell_type": "markdown",
   "id": "f0b99873-718a-4472-b12b-543414756afd",
   "metadata": {},
   "source": [
    "## II. Method Chaining"
   ]
  },
  {
   "cell_type": "markdown",
   "id": "cb050b9a-b3e9-4dcb-80e9-a9be4d30b0e1",
   "metadata": {},
   "source": [
    "### Old School"
   ]
  },
  {
   "cell_type": "code",
   "execution_count": 18,
   "id": "9e9b705d-67e5-4e1f-9f2f-a93b3eb33066",
   "metadata": {},
   "outputs": [
    {
     "name": "stdout",
     "output_type": "stream",
     "text": [
      "811 ms ± 25.7 ms per loop (mean ± std. dev. of 7 runs, 1 loop each)\n"
     ]
    }
   ],
   "source": [
    "df = pd.read_csv(\"https://web.stanford.edu/class/archive/cs/cs109/cs109.1166/stuff/titanic.csv\")\n",
    "\n",
    "df = df[df.Age < df.Age.quantile(0.99)]\n",
    "\n",
    "df.Sex.replace({\"female\": 1, \"male\": 2}, inplace=True)\n",
    "\n",
    "df.Age = pd.cut(\n",
    "    df.Age, \n",
    "    bins=[df.Age.min(), 18, 30, 55, df.Age.max()],\n",
    "    labels=[\"child\", \"young adult\", \"adult\", \"senior\"]\n",
    ")\n",
    "\n",
    "df = df.pivot_table(values=\"Sex\", columns=\"Pclass\", index=\"Age\", aggfunc=\"mean\")\n",
    "df = df.rename_axis(\"\", axis=\"columns\")\n",
    "df = df.rename(\"Class {}\".format, axis=\"columns\")\n",
    "df.style.format(\"{:.2%}\")"
   ]
  },
  {
   "cell_type": "markdown",
   "id": "1cc28958-5c2f-4eea-b879-0b3bb81788b6",
   "metadata": {},
   "source": [
    "### Idiomatic - Method Chaining\n",
    "- Pandas maintainer [says method chaining is the preferred way](https://youtu.be/hK6o_TDXXN8?t=371)"
   ]
  },
  {
   "cell_type": "code",
   "execution_count": 19,
   "id": "ef31ad3a-050e-4f4a-80d6-8dc623be3691",
   "metadata": {},
   "outputs": [
    {
     "name": "stdout",
     "output_type": "stream",
     "text": [
      "805 ms ± 26.8 ms per loop (mean ± std. dev. of 7 runs, 1 loop each)\n"
     ]
    }
   ],
   "source": [
    "df = (\n",
    "    pd.read_csv(\"https://web.stanford.edu/class/archive/cs/cs109/cs109.1166/stuff/titanic.csv\")\n",
    "    .query(\"Age < Age.quantile(0.99)\")\n",
    "    .assign(\n",
    "        Sex=lambda df: df.Sex.replace({\"female\": 1, \"male\": 0}),\n",
    "        Age=lambda df: pd.cut(\n",
    "            df.Age, \n",
    "            bins=[df.Age.min(), 18, 30, 55, df.Age.max()],\n",
    "            labels=[\"child\", \"young adult\", \"adult\", \"senior\"]\n",
    "        )\n",
    "    )\n",
    "    .pivot_table(values=\"Sex\", columns=\"Pclass\", index=\"Age\", aggfunc=\"mean\")\n",
    "    .rename_axis(\"\", axis=\"columns\")\n",
    "    .rename(\"Class {}\".format, axis=\"columns\")\n",
    "    .style.format(\"{:.2%}\")\n",
    ")"
   ]
  },
  {
   "cell_type": "markdown",
   "id": "75980c57-b00d-4d75-b9b5-91e569326d46",
   "metadata": {},
   "source": [
    "Arguments against:\n",
    "- harder to read.  This is subjective but unless you've given a good faith effort to try using method chaining, you haven't really used it.  Method chaining is as close to R's dplyr piping as we can get.\n",
    "- debugging is harder\n",
    "  - can use `.pipe(lambda df: (df, pdb.set_trace())[0])` to set a trace in the middle of a chain\n",
    "- only works for some functions.  This argument has largely become obsolete with the addition of `.query()` and `.pipe()` where the latter can be pass just about any function pointer that accepts a dataframe.\n",
    "\n",
    "Arguments for:\n",
    "- easier to read\n",
    "  - less keystrokes\n",
    "  - reads like a pipeline of commands or a recipe\n",
    "- eliminates intermediate variables\n",
    "  - intermediate variables are code smell.  \n",
    "  - avoids `SettingWithCopy` warning\n",
    "- improved performance\n",
    "  - intermediate variables use more memory"
   ]
  }
 ],
 "metadata": {
  "kernelspec": {
   "display_name": "Python 3 (ipykernel)",
   "language": "python",
   "name": "python3"
  },
  "language_info": {
   "codemirror_mode": {
    "name": "ipython",
    "version": 3
   },
   "file_extension": ".py",
   "mimetype": "text/x-python",
   "name": "python",
   "nbconvert_exporter": "python",
   "pygments_lexer": "ipython3",
   "version": "3.11.4"
  }
 },
 "nbformat": 4,
 "nbformat_minor": 5
}
