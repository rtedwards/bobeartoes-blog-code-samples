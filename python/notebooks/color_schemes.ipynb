{
 "cells": [
  {
   "cell_type": "markdown",
   "id": "4438f92e-2ee5-4f10-be47-806dbd538592",
   "metadata": {},
   "source": [
    "# ColorSchemes"
   ]
  },
  {
   "cell_type": "code",
   "execution_count": 22,
   "id": "4ad83d14-295c-4e3b-bb1b-c9ba588f3c2f",
   "metadata": {},
   "outputs": [],
   "source": [
    "using Colors\n",
    "using ColorSchemes\n",
    "using ColorSchemeTools\n",
    "using Pipe"
   ]
  },
  {
   "cell_type": "code",
   "execution_count": 68,
   "id": "2300448e-6b6e-44e5-b516-2abefdefab3d",
   "metadata": {},
   "outputs": [
    {
     "data": {
      "image/svg+xml": [
       "<?xml version=\"1.0\" encoding=\"UTF-8\"?>\n",
       "<!DOCTYPE svg PUBLIC \"-//W3C//DTD SVG 1.1//EN\"\n",
       " \"http://www.w3.org/Graphics/SVG/1.1/DTD/svg11.dtd\">\n",
       "<svg xmlns=\"http://www.w3.org/2000/svg\" version=\"1.1\"\n",
       "     width=\"150mm\" height=\"25mm\"\n",
       "     viewBox=\"0 0 6 1\" preserveAspectRatio=\"none\"\n",
       "     shape-rendering=\"crispEdges\" stroke=\"none\">\n",
       "<rect width=\".96\" height=\".96\" x=\"0\" y=\"0\" fill=\"#368BC1\" />\n",
       "<rect width=\".96\" height=\".96\" x=\"1\" y=\"0\" fill=\"#DDA90D\" />\n",
       "<rect width=\".96\" height=\".96\" x=\"2\" y=\"0\" fill=\"#BB4430\" />\n",
       "<rect width=\".96\" height=\".96\" x=\"3\" y=\"0\" fill=\"#8A9A67\" />\n",
       "<rect width=\".96\" height=\".96\" x=\"4\" y=\"0\" fill=\"#CC771F\" />\n",
       "<rect width=\".96\" height=\".96\" x=\"5\" y=\"0\" fill=\"#8B5260\" />\n",
       "</svg>"
      ],
      "text/plain": [
       "ColorScheme{Vector{Color}, String, String}(Color[RGB{Float64}(0.21176470588235294,0.5450980392156862,0.7568627450980392), RGB{Float64}(0.8666666666666667,0.6627450980392157,0.050980392156862744), RGB{Float64}(0.7333333333333333,0.26666666666666666,0.18823529411764706), RGB{Float64}(0.5411764705882353,0.6039215686274509,0.403921568627451), RGB{Float64}(0.8,0.4666666666666667,0.12156862745098039), RGB{Float64}(0.5450980392156862,0.3215686274509804,0.3764705882352941)], \"interpolated gradient\", \"6\")"
      ]
     },
     "execution_count": 68,
     "metadata": {},
     "output_type": "execute_result"
    }
   ],
   "source": [
    "cols = Any[\n",
    "    colorant\"#368BC1\",\n",
    "    colorant\"#DDA90D\",\n",
    "    colorant\"#BB4430\",\n",
    "    colorant\"#8A9A67\",\n",
    "    colorant\"#CC771F\",\n",
    "    colorant\"#8B5260\",\n",
    "    # colorant\"#0B4A6C\",\n",
    "    # colorant\"#63474E\",\n",
    "]\n",
    "scheme = make_colorscheme(cols, 6)"
   ]
  },
  {
   "cell_type": "code",
   "execution_count": 69,
   "id": "10b31d7b-3673-44ea-810b-f6df599e4f37",
   "metadata": {},
   "outputs": [
    {
     "data": {
      "image/svg+xml": [
       "<?xml version=\"1.0\" encoding=\"UTF-8\"?>\n",
       "<!DOCTYPE svg PUBLIC \"-//W3C//DTD SVG 1.1//EN\"\n",
       " \"http://www.w3.org/Graphics/SVG/1.1/DTD/svg11.dtd\">\n",
       "<svg xmlns=\"http://www.w3.org/2000/svg\" version=\"1.1\"\n",
       "     width=\"150mm\" height=\"25mm\"\n",
       "     viewBox=\"0 0 6 1\" preserveAspectRatio=\"none\"\n",
       "     shape-rendering=\"crispEdges\" stroke=\"none\">\n",
       "<rect width=\".96\" height=\".96\" x=\"0\" y=\"0\" fill=\"#368BC1\" />\n",
       "<rect width=\".96\" height=\".96\" x=\"1\" y=\"0\" fill=\"#DDA90D\" />\n",
       "<rect width=\".96\" height=\".96\" x=\"2\" y=\"0\" fill=\"#BB4430\" />\n",
       "<rect width=\".96\" height=\".96\" x=\"3\" y=\"0\" fill=\"#72A138\" />\n",
       "<rect width=\".96\" height=\".96\" x=\"4\" y=\"0\" fill=\"#CC771F\" />\n",
       "<rect width=\".96\" height=\".96\" x=\"5\" y=\"0\" fill=\"#8B5260\" />\n",
       "</svg>"
      ],
      "text/plain": [
       "ColorScheme{Vector{Color}, String, String}(Color[RGB{Float64}(0.21176470588235294,0.5450980392156862,0.7568627450980392), RGB{Float64}(0.8666666666666667,0.6627450980392157,0.050980392156862744), RGB{Float64}(0.7333333333333333,0.26666666666666666,0.18823529411764706), RGB{Float64}(0.4470588235294118,0.6313725490196078,0.2196078431372549), RGB{Float64}(0.8,0.4666666666666667,0.12156862745098039), RGB{Float64}(0.5450980392156862,0.3215686274509804,0.3764705882352941)], \"interpolated gradient\", \"6\")"
      ]
     },
     "execution_count": 69,
     "metadata": {},
     "output_type": "execute_result"
    }
   ],
   "source": [
    "cols = Any[\n",
    "    colorant\"#368BC1\",\n",
    "    colorant\"#DDA90D\",\n",
    "    colorant\"#BB4430\",\n",
    "    colorant\"#72a138\",\n",
    "    colorant\"#CC771F\",\n",
    "    colorant\"#8B5260\",\n",
    "    # colorant\"#0B4A6C\",\n",
    "    # colorant\"#63474E\",\n",
    "]\n",
    "scheme = make_colorscheme(cols, 6)"
   ]
  },
  {
   "cell_type": "code",
   "execution_count": 53,
   "id": "e7d7483d-9bdd-4c95-8cf8-5e702ea4fad9",
   "metadata": {},
   "outputs": [
    {
     "data": {
      "text/plain": [
       "to_hex_list (generic function with 1 method)"
      ]
     },
     "execution_count": 53,
     "metadata": {},
     "output_type": "execute_result"
    }
   ],
   "source": [
    "function to_hex_list(scheme ::ColorScheme)\n",
    "    to_hex(color) = @pipe color |> hex |> \"#\" * _\n",
    "    @pipe scheme |>\n",
    "        map(to_hex, _)\n",
    "end"
   ]
  },
  {
   "cell_type": "code",
   "execution_count": 54,
   "id": "2d4b5f65-7f53-40fa-82ae-3abfa04e7c39",
   "metadata": {},
   "outputs": [
    {
     "name": "stdout",
     "output_type": "stream",
     "text": [
      "[\"#368BC1\", \"#DDA90D\", \"#BB4430\", \"#8A9A67\", \"#CC771F\", \"#8B5260\"]\n"
     ]
    }
   ],
   "source": [
    "println(to_list(scheme))"
   ]
  },
  {
   "cell_type": "code",
   "execution_count": 64,
   "id": "af2170c3-d162-4cd9-bdfb-7e9e11f1878f",
   "metadata": {},
   "outputs": [
    {
     "data": {
      "text/latex": [
       "\\begin{verbatim}\n",
       "getinverse(cscheme::ColorScheme, c, range=(0.0, 1.0))\n",
       "\\end{verbatim}\n",
       "Computes where the provided Color \\texttt{c} would fit in \\texttt{cscheme}.\n",
       "\n",
       "This is the inverse of \\texttt{get()} — it returns the value \\texttt{x} in the provided \\texttt{range} for which \\texttt{get(scheme, x)} would most closely match the provided Color \\texttt{c}.\n",
       "\n",
       "\\section{Examples}\n",
       "The first example asks: \"where in the \\texttt{leonardo} colorscheme will I find the nearest color to red?\":\n",
       "\n",
       "\\begin{verbatim}\n",
       "julia> getinverse(colorschemes[:leonardo], RGB(1, 0, 0))\n",
       "0.6248997995654847\n",
       "\n",
       "julia> getinverse(ColorScheme([Colors.RGB(0,0,0), Colors.RGB(1,1,1)]),  Colors.RGB(.5,.5,.5))\n",
       "0.5432555858022048\n",
       "\n",
       "julia> cs = ColorScheme(range(Colors.RGB(0,0,0), stop=Colors.RGB(1,1,1), length=5))\n",
       "\n",
       "julia> getinverse(cs, cs[3])\n",
       "0.5\n",
       "\\end{verbatim}\n"
      ],
      "text/markdown": [
       "```\n",
       "getinverse(cscheme::ColorScheme, c, range=(0.0, 1.0))\n",
       "```\n",
       "\n",
       "Computes where the provided Color `c` would fit in `cscheme`.\n",
       "\n",
       "This is the inverse of `get()` — it returns the value `x` in the provided `range` for which `get(scheme, x)` would most closely match the provided Color `c`.\n",
       "\n",
       "# Examples\n",
       "\n",
       "The first example asks: \"where in the `leonardo` colorscheme will I find the nearest color to red?\":\n",
       "\n",
       "```julia\n",
       "julia> getinverse(colorschemes[:leonardo], RGB(1, 0, 0))\n",
       "0.6248997995654847\n",
       "\n",
       "julia> getinverse(ColorScheme([Colors.RGB(0,0,0), Colors.RGB(1,1,1)]),  Colors.RGB(.5,.5,.5))\n",
       "0.5432555858022048\n",
       "\n",
       "julia> cs = ColorScheme(range(Colors.RGB(0,0,0), stop=Colors.RGB(1,1,1), length=5))\n",
       "\n",
       "julia> getinverse(cs, cs[3])\n",
       "0.5\n",
       "```\n"
      ],
      "text/plain": [
       "\u001b[36m  getinverse(cscheme::ColorScheme, c, range=(0.0, 1.0))\u001b[39m\n",
       "\n",
       "  Computes where the provided Color \u001b[36mc\u001b[39m would fit in \u001b[36mcscheme\u001b[39m.\n",
       "\n",
       "  This is the inverse of \u001b[36mget()\u001b[39m — it returns the value \u001b[36mx\u001b[39m in the provided \u001b[36mrange\u001b[39m\n",
       "  for which \u001b[36mget(scheme, x)\u001b[39m would most closely match the provided Color \u001b[36mc\u001b[39m.\n",
       "\n",
       "\u001b[1m  Examples\u001b[22m\n",
       "\u001b[1m  ≡≡≡≡≡≡≡≡≡≡\u001b[22m\n",
       "\n",
       "  The first example asks: \"where in the \u001b[36mleonardo\u001b[39m colorscheme will I find the\n",
       "  nearest color to red?\":\n",
       "\n",
       "\u001b[36m  julia> getinverse(colorschemes[:leonardo], RGB(1, 0, 0))\u001b[39m\n",
       "\u001b[36m  0.6248997995654847\u001b[39m\n",
       "\u001b[36m  \u001b[39m\n",
       "\u001b[36m  julia> getinverse(ColorScheme([Colors.RGB(0,0,0), Colors.RGB(1,1,1)]),  Colors.RGB(.5,.5,.5))\u001b[39m\n",
       "\u001b[36m  0.5432555858022048\u001b[39m\n",
       "\u001b[36m  \u001b[39m\n",
       "\u001b[36m  julia> cs = ColorScheme(range(Colors.RGB(0,0,0), stop=Colors.RGB(1,1,1), length=5))\u001b[39m\n",
       "\u001b[36m  \u001b[39m\n",
       "\u001b[36m  julia> getinverse(cs, cs[3])\u001b[39m\n",
       "\u001b[36m  0.5\u001b[39m"
      ]
     },
     "execution_count": 64,
     "metadata": {},
     "output_type": "execute_result"
    }
   ],
   "source": [
    "?ColorSchemes.getinverse()"
   ]
  },
  {
   "cell_type": "code",
   "execution_count": 65,
   "id": "12af6972-6e39-4641-8078-72aae5ce2d77",
   "metadata": {},
   "outputs": [
    {
     "data": {
      "image/svg+xml": [
       "<?xml version=\"1.0\" encoding=\"UTF-8\"?>\n",
       "<!DOCTYPE svg PUBLIC \"-//W3C//DTD SVG 1.1//EN\"\n",
       " \"http://www.w3.org/Graphics/SVG/1.1/DTD/svg11.dtd\">\n",
       "<svg xmlns=\"http://www.w3.org/2000/svg\" version=\"1.1\"\n",
       "     width=\"25mm\" height=\"25mm\" viewBox=\"0 0 1 1\">\n",
       "    <rect width=\"1\" height=\"1\" fill=\"#DFDEDB\" stroke=\"none\"/>\n",
       "</svg>\n"
      ],
      "text/plain": [
       "RGB{N0f8}(0.875,0.871,0.859)"
      ]
     },
     "execution_count": 65,
     "metadata": {},
     "output_type": "execute_result"
    }
   ],
   "source": [
    "colorant\"#dfdedb\"\n"
   ]
  },
  {
   "cell_type": "code",
   "execution_count": null,
   "id": "64b8bae4-dafc-408e-8b38-d0a04483553d",
   "metadata": {},
   "outputs": [],
   "source": []
  }
 ],
 "metadata": {
  "kernelspec": {
   "display_name": "Julia julia 1.9.2",
   "language": "julia",
   "name": "julia-julia-1.9"
  },
  "language_info": {
   "file_extension": ".jl",
   "mimetype": "application/julia",
   "name": "julia",
   "version": "1.9.2"
  }
 },
 "nbformat": 4,
 "nbformat_minor": 5
}
