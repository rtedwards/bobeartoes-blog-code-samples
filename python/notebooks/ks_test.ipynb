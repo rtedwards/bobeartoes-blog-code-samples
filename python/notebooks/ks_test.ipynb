{
 "cells": [
  {
   "cell_type": "code",
   "execution_count": 1,
   "id": "ec0c09fb-349d-47d7-b64d-d24946533c16",
   "metadata": {},
   "outputs": [],
   "source": [
    "# !pip install scipy\n",
    "import scipy.stats as stats\n",
    "import numpy as np"
   ]
  },
  {
   "cell_type": "code",
   "execution_count": 16,
   "id": "c0950469-1e44-4a33-b5e8-2daa57145622",
   "metadata": {},
   "outputs": [],
   "source": [
    "data = stats.gumbel_r(1,2).rvs(size=1000)\n",
    "data = stats.norm(0,1).rvs(size=1000)"
   ]
  },
  {
   "cell_type": "code",
   "execution_count": 17,
   "id": "c00964d7-4912-47a2-9d78-8c70b7523ae5",
   "metadata": {},
   "outputs": [],
   "source": [
    "stat, p_val = stats.kstest(data, 'norm')"
   ]
  },
  {
   "cell_type": "code",
   "execution_count": 18,
   "id": "3513ac58-13cc-43e3-9477-a82ed19b266e",
   "metadata": {},
   "outputs": [
    {
     "data": {
      "text/plain": [
       "0.02055258323772724"
      ]
     },
     "execution_count": 18,
     "metadata": {},
     "output_type": "execute_result"
    }
   ],
   "source": [
    "stat"
   ]
  },
  {
   "cell_type": "code",
   "execution_count": 19,
   "id": "9936c9cb-6e1f-4051-85bf-6975efad34e3",
   "metadata": {},
   "outputs": [
    {
     "data": {
      "text/plain": [
       "0.7840595711261582"
      ]
     },
     "execution_count": 19,
     "metadata": {},
     "output_type": "execute_result"
    }
   ],
   "source": [
    "p_val"
   ]
  },
  {
   "cell_type": "code",
   "execution_count": null,
   "id": "aa2fcc00-0b69-4d82-bce5-eba4fa294624",
   "metadata": {},
   "outputs": [],
   "source": []
  }
 ],
 "metadata": {
  "kernelspec": {
   "display_name": "Python 3 (ipykernel)",
   "language": "python",
   "name": "python3"
  },
  "language_info": {
   "codemirror_mode": {
    "name": "ipython",
    "version": 3
   },
   "file_extension": ".py",
   "mimetype": "text/x-python",
   "name": "python",
   "nbconvert_exporter": "python",
   "pygments_lexer": "ipython3",
   "version": "3.11.4"
  }
 },
 "nbformat": 4,
 "nbformat_minor": 5
}
